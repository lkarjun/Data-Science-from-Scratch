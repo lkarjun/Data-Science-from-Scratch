{
 "cells": [
  {
   "cell_type": "markdown",
   "metadata": {
    "colab_type": "text",
    "id": "view-in-github"
   },
   "source": [
    "<a href=\"https://colab.research.google.com/github/lkarjun/Data-Science-from-Scratch/blob/master/17%20Decision%20Tree/decisionTree.ipynb\" target=\"_parent\"><img src=\"https://colab.research.google.com/assets/colab-badge.svg\" alt=\"Open In Colab\"/></a>"
   ]
  },
  {
   "cell_type": "markdown",
   "metadata": {
    "id": "m_XmN4E0Gdnx"
   },
   "source": [
    "# Decision Tree"
   ]
  },
  {
   "cell_type": "markdown",
   "metadata": {
    "id": "SHFXibjoL55c"
   },
   "source": [
    "## Entropy"
   ]
  },
  {
   "cell_type": "code",
   "execution_count": 2,
   "metadata": {
    "id": "9X8wtqOTGdn1"
   },
   "outputs": [],
   "source": [
    "from typing import List\n",
    "import math"
   ]
  },
  {
   "cell_type": "code",
   "execution_count": 3,
   "metadata": {
    "id": "dnmXpHvpGdoC"
   },
   "outputs": [],
   "source": [
    "def entropy(class_probabilities: List[float]) -> float:\n",
    "    '''given a list of class probabilities, compute the entropy'''\n",
    "    return sum(-p * math.log(p, 2)\n",
    "                for p in class_probabilities\n",
    "                if p > 0)"
   ]
  },
  {
   "cell_type": "code",
   "execution_count": 4,
   "metadata": {
    "id": "L-Z3pYbsGdoM"
   },
   "outputs": [],
   "source": [
    "assert entropy([0.5, 0.5]) == 1"
   ]
  },
  {
   "cell_type": "code",
   "execution_count": 5,
   "metadata": {
    "id": "jEmIB9VZGdoW"
   },
   "outputs": [],
   "source": [
    "from typing import Any\n",
    "from collections import Counter"
   ]
  },
  {
   "cell_type": "code",
   "execution_count": 6,
   "metadata": {
    "id": "9hCKOh3QGdoh"
   },
   "outputs": [],
   "source": [
    "def class_probabilities(labels: List[Any]) -> List[float]:\n",
    "    total_count = len(labels)\n",
    "    return [count / total_count\n",
    "            for count in Counter(labels).values()]\n",
    "\n",
    "def data_entropy(labels: List[Any]) -> float:\n",
    "    return entropy(class_probabilities(labels))    "
   ]
  },
  {
   "cell_type": "code",
   "execution_count": null,
   "metadata": {
    "id": "sHAd3LZKGdoo"
   },
   "outputs": [],
   "source": [
    "assert data_entropy(['a']) == 0\n",
    "assert data_entropy([True, True]) == 0.0\n",
    "assert data_entropy(['yes', 'yes', 'no', 'no']) == 1"
   ]
  },
  {
   "cell_type": "markdown",
   "metadata": {
    "id": "iq1C5VK3MK-W"
   },
   "source": [
    "## The Entropy of a Partition"
   ]
  },
  {
   "cell_type": "code",
   "execution_count": 24,
   "metadata": {
    "id": "bEsJPHQfNG8F"
   },
   "outputs": [],
   "source": [
    "def partion_entropy(subsets: List[List[Any]]) -> float:\n",
    "    '''return the entropy from partition of data into subsets'''\n",
    "    total_count = sum(len(subset) for subset in subsets)\n",
    "    return sum(data_entropy(subset) * len(subset) / total_count\n",
    "              for subset in subsets)"
   ]
  },
  {
   "cell_type": "markdown",
   "metadata": {},
   "source": [
    "## Creating a Decision Tree"
   ]
  },
  {
   "cell_type": "code",
   "execution_count": 25,
   "metadata": {},
   "outputs": [],
   "source": [
    "from typing import NamedTuple, Optional"
   ]
  },
  {
   "cell_type": "code",
   "execution_count": 26,
   "metadata": {},
   "outputs": [],
   "source": [
    "class Candidate(NamedTuple):\n",
    "    level: str\n",
    "    lang: str\n",
    "    tweets: bool\n",
    "    phd: bool\n",
    "    did_well: Optional[bool] = None"
   ]
  },
  {
   "cell_type": "code",
   "execution_count": 27,
   "metadata": {},
   "outputs": [],
   "source": [
    "input = [Candidate('Senior', 'Java', False, False, False),\n",
    "         Candidate('Senior', 'Java', False, True, False),\n",
    "         Candidate('Mid', 'Python', False, False, True),\n",
    "         Candidate('Junior', 'Python', False, False, True),\n",
    "         Candidate('Junior', 'R', True, False, True),\n",
    "         Candidate('Junior', 'R', True, True, False),\n",
    "         Candidate('Mid', 'R', True, True, True),\n",
    "         Candidate('Senior', 'Python', False, False, False),\n",
    "         Candidate('Senior', 'R', True, False, True),\n",
    "         Candidate('Junior', 'Python', True, False, True),\n",
    "         Candidate('Senior', 'Python', True, True, True),\n",
    "         Candidate('Mid', 'Python', False, True, True),\n",
    "         Candidate('Mid', 'Java', True, False, True),\n",
    "         Candidate('Junior', 'Python', False, True, False)]"
   ]
  },
  {
   "cell_type": "code",
   "execution_count": null,
   "metadata": {},
   "outputs": [],
   "source": [
    "\n"
   ]
  }
 ],
 "metadata": {
  "colab": {
   "include_colab_link": true,
   "name": "decisionTree.ipynb",
   "provenance": []
  },
  "kernelspec": {
   "display_name": "Python 3.8.5 32-bit ('data-science': pipenv)",
   "language": "python",
   "name": "python38532bitdatasciencepipenv068ffcbeb4194e50aa43c9cde15e24a3"
  },
  "language_info": {
   "codemirror_mode": {
    "name": "ipython",
    "version": 3
   },
   "file_extension": ".py",
   "mimetype": "text/x-python",
   "name": "python",
   "nbconvert_exporter": "python",
   "pygments_lexer": "ipython3",
   "version": "3.8.5"
  }
 },
 "nbformat": 4,
 "nbformat_minor": 4
}
