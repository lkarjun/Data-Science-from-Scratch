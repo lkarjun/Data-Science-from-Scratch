{
  "nbformat": 4,
  "nbformat_minor": 0,
  "metadata": {
    "kernelspec": {
      "display_name": "Python 3.8.5 32-bit ('data-science': pipenv)",
      "language": "python",
      "name": "python38532bitdatasciencepipenv068ffcbeb4194e50aa43c9cde15e24a3"
    },
    "language_info": {
      "codemirror_mode": {
        "name": "ipython",
        "version": 3
      },
      "file_extension": ".py",
      "mimetype": "text/x-python",
      "name": "python",
      "nbconvert_exporter": "python",
      "pygments_lexer": "ipython3",
      "version": "3.8.5"
    },
    "colab": {
      "name": "decisionTree.ipynb",
      "provenance": [],
      "include_colab_link": true
    }
  },
  "cells": [
    {
      "cell_type": "markdown",
      "metadata": {
        "id": "view-in-github",
        "colab_type": "text"
      },
      "source": [
        "<a href=\"https://colab.research.google.com/github/lkarjun/Data-Science-from-Scratch/blob/master/17%20Decision%20Tree/decisionTree.ipynb\" target=\"_parent\"><img src=\"https://colab.research.google.com/assets/colab-badge.svg\" alt=\"Open In Colab\"/></a>"
      ]
    },
    {
      "cell_type": "markdown",
      "metadata": {
        "id": "m_XmN4E0Gdnx"
      },
      "source": [
        "# Decision Tree"
      ]
    },
    {
      "cell_type": "markdown",
      "metadata": {
        "id": "SHFXibjoL55c"
      },
      "source": [
        "## Entropy"
      ]
    },
    {
      "cell_type": "code",
      "metadata": {
        "id": "9X8wtqOTGdn1"
      },
      "source": [
        "from typing import List\n",
        "import math"
      ],
      "execution_count": 2,
      "outputs": []
    },
    {
      "cell_type": "code",
      "metadata": {
        "id": "dnmXpHvpGdoC"
      },
      "source": [
        "def entropy(class_probabilities: List[float]) -> float:\n",
        "    '''given a list of class probabilities, compute the entropy'''\n",
        "    return sum(-p * math.log(p, 2)\n",
        "                for p in class_probabilities\n",
        "                if p > 0)"
      ],
      "execution_count": 3,
      "outputs": []
    },
    {
      "cell_type": "code",
      "metadata": {
        "id": "L-Z3pYbsGdoM"
      },
      "source": [
        "assert entropy([0.5, 0.5]) == 1"
      ],
      "execution_count": 4,
      "outputs": []
    },
    {
      "cell_type": "code",
      "metadata": {
        "id": "jEmIB9VZGdoW"
      },
      "source": [
        "from typing import Any\n",
        "from collections import Counter"
      ],
      "execution_count": 5,
      "outputs": []
    },
    {
      "cell_type": "code",
      "metadata": {
        "id": "9hCKOh3QGdoh"
      },
      "source": [
        "def class_probabilities(labels: List[Any]) -> List[float]:\n",
        "    total_count = len(labels)\n",
        "    return [count / total_count\n",
        "            for count in Counter(labels).values()]\n",
        "\n",
        "def data_entropy(labels: List[Any]) -> float:\n",
        "    return entropy(class_probabilities(labels))    "
      ],
      "execution_count": 6,
      "outputs": []
    },
    {
      "cell_type": "code",
      "metadata": {
        "id": "sHAd3LZKGdoo"
      },
      "source": [
        "assert data_entropy(['a']) == 0\n",
        "assert data_entropy([True, True]) == 0.0\n",
        "assert data_entropy(['yes', 'yes', 'no', 'no']) == 1"
      ],
      "execution_count": null,
      "outputs": []
    },
    {
      "cell_type": "markdown",
      "metadata": {
        "id": "iq1C5VK3MK-W"
      },
      "source": [
        "## The Entropy of a Partition"
      ]
    },
    {
      "cell_type": "code",
      "metadata": {
        "id": "C_nzrazjMPJ2"
      },
      "source": [
        "def partition_entropy(subsets: List[List[Any]]) -> float:\n",
        "  '''return the entropy from this partition of data into subsets'''\n",
        "  total_count = sum(len(subset) for subset in subsets)\n",
        "  return sum(data_entropy(subset) * len(subset) / total_count\n",
        "             for subset in subsets)"
      ],
      "execution_count": 8,
      "outputs": []
    },
    {
      "cell_type": "code",
      "metadata": {
        "id": "bEsJPHQfNG8F"
      },
      "source": [
        ""
      ],
      "execution_count": null,
      "outputs": []
    }
  ]
}