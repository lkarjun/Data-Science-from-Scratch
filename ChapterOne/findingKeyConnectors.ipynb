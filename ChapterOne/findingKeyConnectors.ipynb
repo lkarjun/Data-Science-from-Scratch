{
 "cells": [
  {
   "cell_type": "code",
   "execution_count": 27,
   "metadata": {
    "colab": {},
    "colab_type": "code",
    "id": "02zJvIAPceHw"
   },
   "outputs": [],
   "source": [
    "users = [\n",
    "    {'id': 0, 'name': 'lalkrishna'},\n",
    "    {'id': 1, 'name': 'arjun'},\n",
    "    {'id': 2, 'name': 'sachu'},\n",
    "    {'id': 3, 'name': 'hari'}, \n",
    "    {'id': 4, 'name': 'appu'},\n",
    "    {'id': 5, 'name': 'sayand'},\n",
    "    {'id': 6, 'name': 'amar'},\n",
    "    {'id': 7, 'name': 'lal'},\n",
    "    {'id': 8, 'name': 'niyas'},\n",
    "    {'id': 9, 'name': 'kichu'}\n",
    "]\n",
    "\n",
    "friendship_pairs = [(0,1), (0,2), (1,2), (1,3), (2,3), (3,4), \n",
    "                    (4,5),(5,6), (5,7), (6,8), (7,8), (8,9)]"
   ]
  },
  {
   "cell_type": "code",
   "execution_count": 28,
   "metadata": {
    "colab": {},
    "colab_type": "code",
    "id": "eEKbSHWZceIC"
   },
   "outputs": [],
   "source": [
    "friendships = {user['id']: [] for user in users}"
   ]
  },
  {
   "cell_type": "code",
   "execution_count": 29,
   "metadata": {
    "colab": {},
    "colab_type": "code",
    "id": "ct5LpH94ceIK"
   },
   "outputs": [
    {
     "name": "stdout",
     "output_type": "stream",
     "text": [
      "{0: [1, 2], 1: [0, 2, 3], 2: [0, 1, 3], 3: [1, 2, 4], 4: [3, 5], 5: [4, 6, 7], 6: [5, 8], 7: [5, 8], 8: [6, 7, 9], 9: [8]}\n"
     ]
    }
   ],
   "source": [
    "for i, j in friendship_pairs:\n",
    "    friendships[i].append(j)\n",
    "    friendships[j].append(i)\n",
    "\n",
    "print(friendships)"
   ]
  },
  {
   "cell_type": "code",
   "execution_count": 30,
   "metadata": {
    "colab": {},
    "colab_type": "code",
    "id": "A7OGxB-IceIR"
   },
   "outputs": [],
   "source": [
    "def number_of_friends(user):\n",
    "    user_id = user['id']\n",
    "    friend_ids = friendships[user_id]\n",
    "    print(friend_ids)\n",
    "    return len(friend_ids)"
   ]
  },
  {
   "cell_type": "code",
   "execution_count": 31,
   "metadata": {
    "colab": {},
    "colab_type": "code",
    "id": "7XI2xbv9ceIY",
    "outputId": "3c4c92ca-fddf-4f3c-ba91-82557a94645e"
   },
   "outputs": [
    {
     "name": "stdout",
     "output_type": "stream",
     "text": [
      "[1, 2]\n",
      "[0, 2, 3]\n",
      "[0, 1, 3]\n",
      "[1, 2, 4]\n",
      "[3, 5]\n",
      "[4, 6, 7]\n",
      "[5, 8]\n",
      "[5, 8]\n",
      "[6, 7, 9]\n",
      "[8]\n"
     ]
    }
   ],
   "source": [
    "total_connections = sum(number_of_friends(user)\n",
    "                        for user in users)\n",
    "num_users = len(users)\n",
    "avg_connections = total_connections / num_users"
   ]
  },
  {
   "cell_type": "code",
   "execution_count": 32,
   "metadata": {
    "colab": {},
    "colab_type": "code",
    "id": "RbxonmOxceIk"
   },
   "outputs": [
    {
     "name": "stdout",
     "output_type": "stream",
     "text": [
      "[1, 2]\n",
      "[0, 2, 3]\n",
      "[0, 1, 3]\n",
      "[1, 2, 4]\n",
      "[3, 5]\n",
      "[4, 6, 7]\n",
      "[5, 8]\n",
      "[5, 8]\n",
      "[6, 7, 9]\n",
      "[8]\n"
     ]
    }
   ],
   "source": [
    "num_friends_by_id = [(user['id'], number_of_friends(user))\n",
    "                    for user in users]\n",
    "\n",
    "num_friends_by_id.sort(\n",
    "        key=lambda id_and_friends: id_and_friends[1],\n",
    "        reverse=True\n",
    ")"
   ]
  },
  {
   "cell_type": "code",
   "execution_count": 33,
   "metadata": {
    "colab": {},
    "colab_type": "code",
    "id": "rmt_sPnvceIq"
   },
   "outputs": [
    {
     "name": "stdout",
     "output_type": "stream",
     "text": [
      "Counter({0: 2, 5: 1})\n"
     ]
    }
   ],
   "source": [
    "def foaf_ids_bad(user):\n",
    "    return[\n",
    "        foaf_id\n",
    "        for friend_id in friendships[user['id']]\n",
    "        for foaf_id in friendships[friend_id]\n",
    "    ]\n",
    "\n",
    "from collections import Counter\n",
    "\n",
    "def friends_of_friends(user):\n",
    "    user_id = user['id']\n",
    "    return Counter(\n",
    "        foaf_id\n",
    "        for friend_id in friendships[user_id]\n",
    "        for foaf_id in friendships[friend_id]\n",
    "        if foaf_id != user_id\n",
    "        and foaf_id not in friendships[user_id]\n",
    "        )\n",
    "\n",
    "print(friends_of_friends(users[3]))"
   ]
  },
  {
   "cell_type": "code",
   "execution_count": 34,
   "metadata": {},
   "outputs": [],
   "source": [
    "interests = [(0, \"Hadoop\"), (0, \"Big Data\"), (0, \"HBase\"), (0, \"Java\"),\n",
    "             (0, \"Spark\"), (0, \"Storm\"), (0, \"Cassandra\"), (1, \"NoSQL\"), \n",
    "             (1, \"MongoDB\"), (1, \"Cassandra\"), (1, \"HBase\"),(1, \"Postgres\"), \n",
    "             (2, \"Python\"), (2, \"scikit-learn\"),(2, \"scipy\"),(2, \"numpy\"), \n",
    "             (2, \"statsmodels\"),(2, \"pandas\"), (3, \"R\"), (3, \"Python\"),\n",
    "             (3, \"statistics\"), (3, \"regression\"), (3, \"probability\"),\n",
    "             (4, \"machine learning\"), (4, \"regression\"), (4, \"decision trees\"),\n",
    "             (4, \"libsvm\"), (5, \"Python\"), (5, \"R\"), (5, \"Java\"), (5, \"C++\"),\n",
    "             (5, \"Haskell\"), (5, \"programming languages\"), (6, \"statistics\"),\n",
    "             (6, \"probability\"), (6, \"mathematics\"), (6, \"theory\"),\n",
    "             (7, \"machine learning\"), (7, \"scikit-learn\"), (7, \"Mahout\"),\n",
    "             (7, \"neural networks\"), (8, \"neural networks\"), (8, \"deep learning\"), \n",
    "             (8, \"Big Data\"), (8, \"artificial intelligence\"), (9, \"Hadoop\"),\n",
    "             (9, \"Java\"), (9, \"MapReduce\"), (9, \"Big Data\") ]\n",
    "\n"
   ]
  },
  {
   "cell_type": "code",
   "execution_count": 35,
   "metadata": {},
   "outputs": [],
   "source": [
    "from collections import defaultdict"
   ]
  },
  {
   "cell_type": "code",
   "execution_count": 36,
   "metadata": {},
   "outputs": [],
   "source": [
    "user_ids_by_interest = defaultdict(list)\n",
    "\n",
    "for user_id, interest in interests:\n",
    "    user_ids_by_interest[interest].append(user_id)\n",
    "    \n",
    "interests_by_user_id = defaultdict(list)\n",
    "\n",
    "for user_id, interest in  interests:\n",
    "    interests_by_user_id[user_id].append(interest)"
   ]
  },
  {
   "cell_type": "code",
   "execution_count": 37,
   "metadata": {},
   "outputs": [],
   "source": [
    "def most_common_interests_with(user):\n",
    "    return Counter(\n",
    "            interested_user_id\n",
    "            for interest in interests_by_user_id[user['id']]\n",
    "            for interested_user_id in user_ids_by_interest[interest]\n",
    "            if interested_user_id != user['id']\n",
    "    )"
   ]
  },
  {
   "cell_type": "code",
   "execution_count": 40,
   "metadata": {},
   "outputs": [],
   "source": [
    "most_common = [most_common_interests_with(user)\n",
    "              for user in users  \n",
    "              ]"
   ]
  },
  {
   "cell_type": "code",
   "execution_count": 42,
   "metadata": {},
   "outputs": [
    {
     "data": {
      "text/plain": [
       "[Counter({9: 3, 8: 1, 1: 2, 5: 1}),\n",
       " Counter({0: 2}),\n",
       " Counter({3: 1, 5: 1, 7: 1}),\n",
       " Counter({5: 2, 2: 1, 6: 2, 4: 1}),\n",
       " Counter({7: 1, 3: 1}),\n",
       " Counter({2: 1, 3: 2, 0: 1, 9: 1}),\n",
       " Counter({3: 2}),\n",
       " Counter({4: 1, 2: 1, 8: 1}),\n",
       " Counter({7: 1, 0: 1, 9: 1}),\n",
       " Counter({0: 3, 5: 1, 8: 1})]"
      ]
     },
     "execution_count": 42,
     "metadata": {},
     "output_type": "execute_result"
    }
   ],
   "source": [
    "most_common"
   ]
  },
  {
   "cell_type": "code",
   "execution_count": 44,
   "metadata": {},
   "outputs": [],
   "source": [
    "salaries_and_tenures = [(83000, 8.7), (88000, 8.1),(48000, 0.7), (76000, 6), (69000, 6.5), (76000, 7.5),\n",
    "                        (60000, 2.5), (83000, 10), (48000, 1.9), (63000, 4.2)]\n"
   ]
  },
  {
   "cell_type": "code",
   "execution_count": 46,
   "metadata": {},
   "outputs": [],
   "source": [
    "salary_by_tenure = defaultdict(list)"
   ]
  },
  {
   "cell_type": "code",
   "execution_count": 48,
   "metadata": {},
   "outputs": [],
   "source": [
    "for salary, tenure in salaries_and_tenures:\n",
    "    salary_by_tenure[tenure].append(salary)"
   ]
  },
  {
   "cell_type": "code",
   "execution_count": 53,
   "metadata": {},
   "outputs": [
    {
     "data": {
      "text/plain": [
       "defaultdict(list,\n",
       "            {8.7: [83000, 83000],\n",
       "             8.1: [88000, 88000],\n",
       "             0.7: [48000, 48000],\n",
       "             6: [76000, 76000],\n",
       "             6.5: [69000, 69000],\n",
       "             7.5: [76000, 76000],\n",
       "             2.5: [60000, 60000],\n",
       "             10: [83000, 83000],\n",
       "             1.9: [48000, 48000],\n",
       "             4.2: [63000, 63000]})"
      ]
     },
     "execution_count": 53,
     "metadata": {},
     "output_type": "execute_result"
    }
   ],
   "source": [
    "salary_by_tenure"
   ]
  },
  {
   "cell_type": "code",
   "execution_count": 56,
   "metadata": {},
   "outputs": [],
   "source": [
    "average_salary_by_tenure = {\n",
    "    tenure: sum(salaries) / len(salaries)\n",
    "    for tenure, salaries in salary_by_tenure.items()\n",
    "}"
   ]
  },
  {
   "cell_type": "code",
   "execution_count": 57,
   "metadata": {},
   "outputs": [
    {
     "data": {
      "text/plain": [
       "{8.7: 83000.0,\n",
       " 8.1: 88000.0,\n",
       " 0.7: 48000.0,\n",
       " 6: 76000.0,\n",
       " 6.5: 69000.0,\n",
       " 7.5: 76000.0,\n",
       " 2.5: 60000.0,\n",
       " 10: 83000.0,\n",
       " 1.9: 48000.0,\n",
       " 4.2: 63000.0}"
      ]
     },
     "execution_count": 57,
     "metadata": {},
     "output_type": "execute_result"
    }
   ],
   "source": [
    "average_salary_by_tenure"
   ]
  },
  {
   "cell_type": "code",
   "execution_count": 60,
   "metadata": {},
   "outputs": [],
   "source": [
    "def tenure_bucket(tenure):\n",
    "    if tenure < 2:\n",
    "        return \"less than two\"\n",
    "    elif tenure < 5:\n",
    "        return \"between two and five\"\n",
    "    else:\n",
    "        return \"more than five\"\n"
   ]
  },
  {
   "cell_type": "code",
   "execution_count": 63,
   "metadata": {},
   "outputs": [],
   "source": [
    "salary_by_tenure_bucket = defaultdict(list)\n",
    "\n",
    "for salary, tenure in salaries_and_tenures:\n",
    "    bucket = tenure_bucket(tenure)\n",
    "    salary_by_tenure_bucket[bucket].append(salary)\n",
    "    \n",
    "\n",
    "average_salary_by_bucket = {\n",
    "    tenure_bucket: sum(salaries) / len(salaries)\n",
    "    for tenure_bucket, salaries in salary_by_tenure_bucket.items()\n",
    "}"
   ]
  },
  {
   "cell_type": "code",
   "execution_count": 64,
   "metadata": {},
   "outputs": [
    {
     "data": {
      "text/plain": [
       "{'more than five': 79166.66666666667,\n",
       " 'less than two': 48000.0,\n",
       " 'between two and five': 61500.0}"
      ]
     },
     "execution_count": 64,
     "metadata": {},
     "output_type": "execute_result"
    }
   ],
   "source": [
    "average_salary_by_bucket\n"
   ]
  },
  {
   "cell_type": "code",
   "execution_count": 65,
   "metadata": {},
   "outputs": [
    {
     "data": {
      "text/plain": [
       "[(0, 'Hadoop'),\n",
       " (0, 'Big Data'),\n",
       " (0, 'HBase'),\n",
       " (0, 'Java'),\n",
       " (0, 'Spark'),\n",
       " (0, 'Storm'),\n",
       " (0, 'Cassandra'),\n",
       " (1, 'NoSQL'),\n",
       " (1, 'MongoDB'),\n",
       " (1, 'Cassandra'),\n",
       " (1, 'HBase'),\n",
       " (1, 'Postgres'),\n",
       " (2, 'Python'),\n",
       " (2, 'scikit-learn'),\n",
       " (2, 'scipy'),\n",
       " (2, 'numpy'),\n",
       " (2, 'statsmodels'),\n",
       " (2, 'pandas'),\n",
       " (3, 'R'),\n",
       " (3, 'Python'),\n",
       " (3, 'statistics'),\n",
       " (3, 'regression'),\n",
       " (3, 'probability'),\n",
       " (4, 'machine learning'),\n",
       " (4, 'regression'),\n",
       " (4, 'decision trees'),\n",
       " (4, 'libsvm'),\n",
       " (5, 'Python'),\n",
       " (5, 'R'),\n",
       " (5, 'Java'),\n",
       " (5, 'C++'),\n",
       " (5, 'Haskell'),\n",
       " (5, 'programming languages'),\n",
       " (6, 'statistics'),\n",
       " (6, 'probability'),\n",
       " (6, 'mathematics'),\n",
       " (6, 'theory'),\n",
       " (7, 'machine learning'),\n",
       " (7, 'scikit-learn'),\n",
       " (7, 'Mahout'),\n",
       " (7, 'neural networks'),\n",
       " (8, 'neural networks'),\n",
       " (8, 'deep learning'),\n",
       " (8, 'Big Data'),\n",
       " (8, 'artificial intelligence'),\n",
       " (9, 'Hadoop'),\n",
       " (9, 'Java'),\n",
       " (9, 'MapReduce'),\n",
       " (9, 'Big Data')]"
      ]
     },
     "execution_count": 65,
     "metadata": {},
     "output_type": "execute_result"
    }
   ],
   "source": [
    "interests\n"
   ]
  },
  {
   "cell_type": "code",
   "execution_count": 67,
   "metadata": {},
   "outputs": [],
   "source": [
    "words_and_counts = Counter(word\n",
    "                          for user, interest in interests\n",
    "                          for word in interest.lower().split()\n",
    "                          )"
   ]
  },
  {
   "cell_type": "code",
   "execution_count": 69,
   "metadata": {},
   "outputs": [
    {
     "name": "stdout",
     "output_type": "stream",
     "text": [
      "big 3\n",
      "data 3\n",
      "java 3\n",
      "python 3\n",
      "learning 3\n",
      "hadoop 2\n",
      "hbase 2\n",
      "cassandra 2\n",
      "scikit-learn 2\n",
      "r 2\n",
      "statistics 2\n",
      "regression 2\n",
      "probability 2\n",
      "machine 2\n",
      "neural 2\n",
      "networks 2\n"
     ]
    }
   ],
   "source": [
    "for word, count in words_and_counts.most_common():\n",
    "    if count > 1:\n",
    "        print(word, count)"
   ]
  }
 ],
 "metadata": {
  "colab": {
   "name": "findingKeyConnectors.ipynb",
   "provenance": []
  },
  "kernelspec": {
   "display_name": "Python 3",
   "language": "python",
   "name": "python3"
  },
  "language_info": {
   "codemirror_mode": {
    "name": "ipython",
    "version": 3
   },
   "file_extension": ".py",
   "mimetype": "text/x-python",
   "name": "python",
   "nbconvert_exporter": "python",
   "pygments_lexer": "ipython3",
   "version": "3.8.2"
  },
  "toc": {
   "base_numbering": 1,
   "nav_menu": {},
   "number_sections": true,
   "sideBar": true,
   "skip_h1_title": false,
   "title_cell": "Table of Contents",
   "title_sidebar": "Contents",
   "toc_cell": false,
   "toc_position": {},
   "toc_section_display": true,
   "toc_window_display": false
  }
 },
 "nbformat": 4,
 "nbformat_minor": 1
}
