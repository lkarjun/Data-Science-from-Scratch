{
  "nbformat": 4,
  "nbformat_minor": 0,
  "metadata": {
    "kernelspec": {
      "display_name": "Python 3",
      "language": "python",
      "name": "python3"
    },
    "language_info": {
      "codemirror_mode": {
        "name": "ipython",
        "version": 3
      },
      "file_extension": ".py",
      "mimetype": "text/x-python",
      "name": "python",
      "nbconvert_exporter": "python",
      "pygments_lexer": "ipython3",
      "version": "3.8.2"
    },
    "toc": {
      "base_numbering": 1,
      "nav_menu": {},
      "number_sections": true,
      "sideBar": true,
      "skip_h1_title": false,
      "title_cell": "Table of Contents",
      "title_sidebar": "Contents",
      "toc_cell": false,
      "toc_position": {},
      "toc_section_display": true,
      "toc_window_display": false
    },
    "colab": {
      "name": "findingKeyConnectors.ipynb",
      "provenance": []
    }
  },
  "cells": [
    {
      "cell_type": "code",
      "metadata": {
        "id": "02zJvIAPceHw",
        "colab_type": "code",
        "colab": {}
      },
      "source": [
        "users = [\n",
        "    {'id': 0, 'name': 'lalkrishna'},\n",
        "    {'id': 1, 'name': 'arjun'},\n",
        "    {'id': 2, 'name': 'sachu'},\n",
        "    {'id': 3, 'name': 'hari'}, \n",
        "    {'id': 4, 'name': 'appu'},\n",
        "    {'id': 5, 'name': 'sayand'},\n",
        "    {'id': 6, 'name': 'amar'},\n",
        "    {'id': 7, 'name': 'lal'},\n",
        "    {'id': 8, 'name': 'niyas'},\n",
        "    {'id': 9, 'name': 'kichu'}\n",
        "]\n",
        "\n",
        "friendship_pairs = [(0,1), (0,2), (1,2), (1,3), (2,3), (3,4), \n",
        "                    (4,5),(5,6), (5,7), (6,8), (7,8), (8,9)]"
      ],
      "execution_count": 0,
      "outputs": []
    },
    {
      "cell_type": "code",
      "metadata": {
        "id": "eEKbSHWZceIC",
        "colab_type": "code",
        "colab": {}
      },
      "source": [
        "friendships = {user['id']: [] for user in users}"
      ],
      "execution_count": 0,
      "outputs": []
    },
    {
      "cell_type": "code",
      "metadata": {
        "id": "ct5LpH94ceIK",
        "colab_type": "code",
        "colab": {}
      },
      "source": [
        "for i, j in friendship_pairs:\n",
        "    friendships[i].append(j)\n",
        "    friendships[j].append(i)\n",
        "\n",
        "print(friendships)"
      ],
      "execution_count": 0,
      "outputs": []
    },
    {
      "cell_type": "code",
      "metadata": {
        "id": "A7OGxB-IceIR",
        "colab_type": "code",
        "colab": {}
      },
      "source": [
        "def number_of_friends(user):\n",
        "    user_id = user['id']\n",
        "    friend_ids = friendships[user_id]\n",
        "    print(friend_ids)\n",
        "    return len(friend_ids)"
      ],
      "execution_count": 0,
      "outputs": []
    },
    {
      "cell_type": "code",
      "metadata": {
        "collapsed": true,
        "id": "7XI2xbv9ceIY",
        "colab_type": "code",
        "colab": {},
        "outputId": "3c4c92ca-fddf-4f3c-ba91-82557a94645e"
      },
      "source": [
        "total_connections = sum(number_of_friends(user)\n",
        "                        for user in users)\n",
        "num_users = len(users)\n",
        "avg_connections = total_connections / num_users"
      ],
      "execution_count": 0,
      "outputs": [
        {
          "output_type": "stream",
          "text": [
            "[1, 2]\n",
            "[0, 2, 3]\n",
            "[0, 1, 3]\n",
            "[1, 2, 4]\n",
            "[3, 5]\n",
            "[4, 6, 7]\n",
            "[5, 8]\n",
            "[5, 8]\n",
            "[6, 7, 9]\n",
            "[8]\n"
          ],
          "name": "stdout"
        }
      ]
    },
    {
      "cell_type": "code",
      "metadata": {
        "id": "RbxonmOxceIk",
        "colab_type": "code",
        "colab": {}
      },
      "source": [
        "num_friends_by_id = [(user['id'], number_of_friends(user))\n",
        "                    for user in users]\n",
        "\n",
        "num_friends_by_id.sort(\n",
        "        key=lambda id_and_friends: id_and_friends[1],\n",
        "        reverse=True\n",
        ")"
      ],
      "execution_count": 0,
      "outputs": []
    },
    {
      "cell_type": "code",
      "metadata": {
        "id": "rmt_sPnvceIq",
        "colab_type": "code",
        "colab": {}
      },
      "source": [
        "def foaf_ids_bad(user):\n",
        "    return[\n",
        "        foaf_id\n",
        "        for friend_id in friendships[user['id']]\n",
        "        for foaf_id in friendships[friend_id]\n",
        "    ]\n",
        "\n",
        "from collections import Counter\n",
        "\n",
        "def friends_of_friends(user):\n",
        "    user_id = user['id']\n",
        "return Counter(\n",
        "        foaf_id\n",
        "        for friend_id in friendships[user_id]\n",
        "        for foaf_id in friendships[friend_id]\n",
        "        if foaf_id != user_id\n",
        "        and foaf_id not in friendships[user_id]\n",
        "        )\n",
        "\n",
        "print(friends_of_friends(users[3]))"
      ],
      "execution_count": 0,
      "outputs": []
    }
  ]
}