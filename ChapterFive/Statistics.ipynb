{
 "cells": [
  {
   "cell_type": "code",
   "execution_count": 64,
   "metadata": {},
   "outputs": [],
   "source": [
    "import random\n",
    "from collections import Counter\n",
    "import matplotlib.pyplot as plt\n",
    "from typing import List\n",
    "import pandas as pd\n",
    "import numpy as np"
   ]
  },
  {
   "cell_type": "code",
   "execution_count": 7,
   "metadata": {},
   "outputs": [],
   "source": [
    "#random numbers\n",
    "num_friends = [\n",
    "    random.choice(range(10)) for _ in range(204)\n",
    "]"
   ]
  },
  {
   "cell_type": "code",
   "execution_count": 8,
   "metadata": {},
   "outputs": [],
   "source": [
    "num_points = len(num_friends)"
   ]
  },
  {
   "cell_type": "code",
   "execution_count": 9,
   "metadata": {},
   "outputs": [
    {
     "data": {
      "text/plain": [
       "204"
      ]
     },
     "execution_count": 9,
     "metadata": {},
     "output_type": "execute_result"
    }
   ],
   "source": [
    "num_points"
   ]
  },
  {
   "cell_type": "code",
   "execution_count": 10,
   "metadata": {},
   "outputs": [],
   "source": [
    "friend_count = Counter(num_friends)"
   ]
  },
  {
   "cell_type": "code",
   "execution_count": 11,
   "metadata": {},
   "outputs": [],
   "source": [
    "xs = range(101)"
   ]
  },
  {
   "cell_type": "code",
   "execution_count": 12,
   "metadata": {},
   "outputs": [],
   "source": [
    "ys = [friend_count[x] for x in xs]"
   ]
  },
  {
   "cell_type": "code",
   "execution_count": 13,
   "metadata": {},
   "outputs": [
    {
     "data": {
      "text/plain": [
       "Text(0, 0.5, '# of people')"
      ]
     },
     "execution_count": 13,
     "metadata": {},
     "output_type": "execute_result"
    },
    {
     "data": {
      "image/png": "[encoded data removed]",
      "text/plain": [
       "<Figure size 432x288 with 1 Axes>"
      ]
     },
     "metadata": {
      "needs_background": "light"
     },
     "output_type": "display_data"
    }
   ],
   "source": [
    "plt.bar(xs, ys)\n",
    "plt.axis([0,50, 0, 30])\n",
    "plt.title('Friends counts')\n",
    "plt.xlabel('# of people')\n",
    "plt.ylabel('# of people')"
   ]
  },
  {
   "cell_type": "code",
   "execution_count": 14,
   "metadata": {},
   "outputs": [],
   "source": [
    "#number of points\n",
    "num_points = len(num_friends)"
   ]
  },
  {
   "cell_type": "code",
   "execution_count": 15,
   "metadata": {},
   "outputs": [],
   "source": [
    "largest_value = max(num_friends)\n",
    "smallest_value = min(num_friends)"
   ]
  },
  {
   "cell_type": "code",
   "execution_count": 16,
   "metadata": {},
   "outputs": [],
   "source": [
    "sorted_value = sorted(num_friends)\n",
    "smallestValue = sorted_value[0]\n",
    "second_smallest_value = sorted_value[1]\n",
    "second_largest_value = sorted_value[-2]"
   ]
  },
  {
   "cell_type": "code",
   "execution_count": 17,
   "metadata": {},
   "outputs": [],
   "source": [
    "#central tendencies\n",
    "#mean (average)\n",
    "def mean(xs: List[float]) -> float:\n",
    "    return sum(xs)/len(xs)"
   ]
  },
  {
   "cell_type": "code",
   "execution_count": 18,
   "metadata": {},
   "outputs": [
    {
     "data": {
      "text/plain": [
       "4.348039215686274"
      ]
     },
     "execution_count": 18,
     "metadata": {},
     "output_type": "execute_result"
    }
   ],
   "source": [
    "mean(num_friends)"
   ]
  },
  {
   "cell_type": "code",
   "execution_count": 19,
   "metadata": {
    "tags": []
   },
   "outputs": [
    {
     "name": "stdout",
     "output_type": "stream",
     "text": [
      "Success: no issues found in 1 source file\n",
      "\n"
     ]
    }
   ],
   "source": [
    "%%typecheck\n",
    "\n",
    "from typing import List\n",
    "#median for odd and even\n",
    "def _median_odd(xs: List[float]):\n",
    "    return sorted(xs)[len(xs)//2]\n",
    "\n",
    "def _median_even(xs: List[float]) -> float:\n",
    "    sorted_xs = sorted(xs)\n",
    "    hi_midpoint = len(xs) // 2\n",
    "    return (sorted_xs[hi_midpoint -1]+ sorted_xs[hi_midpoint])/2\n",
    "\n",
    "def median(v: List[float]) -> float:\n",
    "    return _median_even(v) if len(v) % 2 == 0 else _median_odd(v)"
   ]
  },
  {
   "cell_type": "code",
   "execution_count": 20,
   "metadata": {
    "tags": []
   },
   "outputs": [
    {
     "name": "stdout",
     "output_type": "stream",
     "text": [
      "median is:\n",
      " 4.0\n",
      "mean is:\n",
      " 4.348039215686274\n"
     ]
    }
   ],
   "source": [
    "assert median([1,10,2,9,5]) == 5\n",
    "assert median ([1,9,2,10]) == (2 + 9) / 2\n",
    "\n",
    "print('median is:\\n',median(num_friends))\n",
    "print('mean is:\\n', mean(num_friends))"
   ]
  },
  {
   "cell_type": "code",
   "execution_count": 21,
   "metadata": {},
   "outputs": [
    {
     "name": "stdout",
     "output_type": "stream",
     "text": [
      "False\n",
      "True\n",
      "True\n"
     ]
    }
   ],
   "source": [
    "#quantile \n",
    "\n",
    "def quantile(xs: List[float], p: float) -> float:\n",
    "    p_index = int(p * len(xs))\n",
    "    return sorted(xs)[p_index]\n",
    "\n",
    "print(quantile(num_friends, 0.10) == 1)\n",
    "print(quantile(num_friends, 0.25) == 2)\n",
    "print(quantile(num_friends, 0.75) == 7)"
   ]
  },
  {
   "cell_type": "code",
   "execution_count": 22,
   "metadata": {},
   "outputs": [],
   "source": [
    "#mode most common values \n",
    "\n",
    "def mode(x: List[float]) -> List[float]:\n",
    "    counts = Counter(x)\n",
    "    max_count = max(counts.values())\n",
    "    print(max_count)\n",
    "    return [x_i\n",
    "            for x_i, count in counts.items()\n",
    "            if count == max_count\n",
    "           ]"
   ]
  },
  {
   "cell_type": "code",
   "execution_count": 23,
   "metadata": {
    "tags": []
   },
   "outputs": [
    {
     "name": "stdout",
     "output_type": "stream",
     "text": [
      "26\n",
      "{0}\n"
     ]
    }
   ],
   "source": [
    "print(set(mode(num_friends)))"
   ]
  },
  {
   "cell_type": "markdown",
   "metadata": {},
   "source": [
    "#Dispersion"
   ]
  },
  {
   "cell_type": "code",
   "execution_count": 24,
   "metadata": {
    "tags": []
   },
   "outputs": [
    {
     "name": "stdout",
     "output_type": "stream",
     "text": [
      "Range is\n",
      "41\n"
     ]
    }
   ],
   "source": [
    "def data_range(xs: List[float]) -> float:\n",
    "    return max(xs) - min(xs)\n",
    "    \n",
    "print('Range is')\n",
    "print(data_range([33,45,6,4]))"
   ]
  },
  {
   "cell_type": "code",
   "execution_count": 25,
   "metadata": {
    "tags": []
   },
   "outputs": [],
   "source": [
    "Vector = List[float]\n",
    "\n",
    "def dot(v: Vector, w: Vector) -> float:\n",
    "    assert len(v) == len(w), 'len of vectors dont match'\n",
    "    return sum(v_i * w_i for v_i, w_i in zip(v,w))\n",
    "    \n",
    "def sum_of_squares(v: Vector) -> float:\n",
    "    return dot(v,v)"
   ]
  },
  {
   "cell_type": "code",
   "execution_count": 26,
   "metadata": {},
   "outputs": [
    {
     "data": {
      "text/plain": [
       "8.996498599439773"
      ]
     },
     "execution_count": 26,
     "metadata": {},
     "output_type": "execute_result"
    }
   ],
   "source": [
    "#variance \n",
    "def de_mean(xs: List[float]) -> List[float]:\n",
    "    x_bar = mean(xs)\n",
    "    return [x - x_bar for x in xs]\n",
    "\n",
    "def variance(xs: List[float]) -> float:\n",
    "    assert len(xs) >= 2, 'variance requires at least two elements'\n",
    "    n = len(xs)\n",
    "    deviations = de_mean(xs)\n",
    "    return sum_of_squares(deviations) / (n-1)\n",
    "\n",
    "variance(num_friends)"
   ]
  },
  {
   "cell_type": "code",
   "execution_count": 27,
   "metadata": {},
   "outputs": [
    {
     "data": {
      "text/plain": [
       "2.9994163764705584"
      ]
     },
     "execution_count": 27,
     "metadata": {},
     "output_type": "execute_result"
    }
   ],
   "source": [
    "import math\n",
    "\n",
    "def standard_deviation(xs: List[float]) -> float:\n",
    "    return math.sqrt(variance(xs))\n",
    "\n",
    "standard_deviation(num_friends)"
   ]
  },
  {
   "cell_type": "code",
   "execution_count": 28,
   "metadata": {},
   "outputs": [
    {
     "data": {
      "text/plain": [
       "5"
      ]
     },
     "execution_count": 28,
     "metadata": {},
     "output_type": "execute_result"
    }
   ],
   "source": [
    "#iqr\n",
    "def iqr(xs: List[float]) -> float:\n",
    "    return quantile(xs, 0.75) - quantile(xs, 0.25)\n",
    "\n",
    "iqr(num_friends)"
   ]
  },
  {
   "cell_type": "markdown",
   "metadata": {},
   "source": [
    "#Correlation"
   ]
  },
  {
   "cell_type": "code",
   "execution_count": 29,
   "metadata": {},
   "outputs": [],
   "source": [
    "def covariance(xs: List[float], ys: List[float]) -> float:\n",
    "    assert len(xs) == len(ys)\n",
    "    return dot(de_mean(xs), de_mean(ys))/(len(xs)-1)\n",
    "\n",
    "def correlation(xs: List[float], ys: List[float]) -> float:\n",
    "    stdev_x = standard_deviation(xs)\n",
    "    stdev_y = standard_deviation(ys)\n",
    "    if stdev_x > 0 and stdev_y > 0:\n",
    "        return covariance(xs, ys)/ stdev_x/stdev_y\n",
    "    else:\n",
    "        return 0\n",
    "        \n"
   ]
  },
  {
   "cell_type": "code",
   "execution_count": 30,
   "metadata": {
    "tags": []
   },
   "outputs": [
    {
     "data": {
      "image/png": "[encoded data removed]",
      "text/plain": [
       "<Figure size 432x288 with 1 Axes>"
      ]
     },
     "metadata": {
      "needs_background": "light"
     },
     "output_type": "display_data"
    },
    {
     "name": "stdout",
     "output_type": "stream",
     "text": [
      "mean value 10.0\n",
      "mean value2 10.0\n",
      "range value 40\n",
      "range value2 4\n"
     ]
    }
   ],
   "source": [
    "#Creations\n",
    "\n",
    "from matplotlib import pyplot as plt\n",
    "\n",
    "value = [-10, 0, 10, 20, 30]\n",
    "value2 = [8, 9, 10, 11, 12]\n",
    "\n",
    "plt.plot(value, value2, marker='o')\n",
    "plt.show()\n",
    "\n",
    "print('mean value', mean(value))\n",
    "print('mean value2', mean(value2))\n",
    "print('range value', data_range(value))\n",
    "print('range value2', data_range(value2))"
   ]
  },
  {
   "cell_type": "code",
   "execution_count": 31,
   "metadata": {
    "tags": []
   },
   "outputs": [
    {
     "name": "stdout",
     "output_type": "stream",
     "text": [
      "variance 250.0\n",
      "variance 2.5\n",
      "std 15.811388300841896\n",
      "std 1.5811388300841898\n"
     ]
    }
   ],
   "source": [
    "print('variance',variance(value))\n",
    "print('variance', variance(value2))\n",
    "print('std', standard_deviation(value))\n",
    "print('std', standard_deviation(value2))"
   ]
  },
  {
   "cell_type": "code",
   "execution_count": 32,
   "metadata": {
    "tags": []
   },
   "outputs": [
    {
     "data": {
      "image/png": "[encoded data removed]",
      "text/plain": [
       "<Figure size 432x288 with 1 Axes>"
      ]
     },
     "metadata": {
      "needs_background": "light"
     },
     "output_type": "display_data"
    },
    {
     "name": "stdout",
     "output_type": "stream",
     "text": [
      "3.5\n",
      "3.0\n",
      "2.1213203435596424\n",
      "4.5\n"
     ]
    }
   ],
   "source": [
    "a = [1,2,3,5,6,7,5,3,2,1]\n",
    "plt.bar(range(len(a)), a)\n",
    "plt.show()\n",
    "print(mean(a))\n",
    "print(median(a))\n",
    "print(standard_deviation(a))\n",
    "print(variance(a))"
   ]
  },
  {
   "cell_type": "code",
   "execution_count": 33,
   "metadata": {
    "tags": []
   },
   "outputs": [
    {
     "name": "stdout",
     "output_type": "stream",
     "text": [
      "----------------1 std 68 percent data lies:------------\n",
      "5.621\n",
      "1.379\n",
      "----------------2 std: 95 percent data lies------------\n",
      "7.742\n",
      "-0.742\n"
     ]
    }
   ],
   "source": [
    "print('----------------1 std 68 percent data lies:------------')\n",
    "print(3.5+2.121)\n",
    "print(3.5-2.121)\n",
    "print('----------------2 std: 95 percent data lies------------')\n",
    "print(3.5 + 4.242)\n",
    "print(3.5 - 4.242)"
   ]
  },
  {
   "cell_type": "code",
   "execution_count": 34,
   "metadata": {
    "tags": []
   },
   "outputs": [
    {
     "name": "stdout",
     "output_type": "stream",
     "text": [
      "0.9814954576223639\n"
     ]
    },
    {
     "data": {
      "text/plain": [
       "Text(0, 0.5, 'b values')"
      ]
     },
     "execution_count": 34,
     "metadata": {},
     "output_type": "execute_result"
    },
    {
     "data": {
      "image/png": "[encoded data removed]",
      "text/plain": [
       "<Figure size 432x288 with 1 Axes>"
      ]
     },
     "metadata": {
      "needs_background": "light"
     },
     "output_type": "display_data"
    }
   ],
   "source": [
    "#checking any relation ship between a and b variables\n",
    "a = [2,4,5,6,8,9,9]\n",
    "b = [1,2,3,4,5,6,7]\n",
    "\n",
    "print(correlation(a,b))\n",
    "plt.scatter(a,b)\n",
    "plt.title('Checking Relation between a, b')\n",
    "plt.xlabel('a values')\n",
    "plt.ylabel('b values')"
   ]
  },
  {
   "cell_type": "code",
   "execution_count": 35,
   "metadata": {
    "tags": []
   },
   "outputs": [],
   "source": [
    "fileName = \"forestfires.csv\"\n",
    "names = ['x', 'y', 'month', 'day', 'FFMC', 'DMC'\n",
    "        'DC', 'ISI', 'temp', 'RH', 'wind', 'rain', 'area'\n",
    "        ]\n",
    "data = pd.read_csv(fileName, names=names)\n"
   ]
  },
  {
   "cell_type": "code",
   "execution_count": 36,
   "metadata": {},
   "outputs": [
    {
     "data": {
      "text/html": [
       "<div>\n",
       "<style scoped>\n",
       "    .dataframe tbody tr th:only-of-type {\n",
       "        vertical-align: middle;\n",
       "    }\n",
       "\n",
       "    .dataframe tbody tr th {\n",
       "        vertical-align: top;\n",
       "    }\n",
       "\n",
       "    .dataframe thead th {\n",
       "        text-align: right;\n",
       "    }\n",
       "</style>\n",
       "<table border=\"1\" class=\"dataframe\">\n",
       "  <thead>\n",
       "    <tr style=\"text-align: right;\">\n",
       "      <th></th>\n",
       "      <th>x</th>\n",
       "      <th>y</th>\n",
       "      <th>month</th>\n",
       "      <th>day</th>\n",
       "      <th>FFMC</th>\n",
       "      <th>DMCDC</th>\n",
       "      <th>ISI</th>\n",
       "      <th>temp</th>\n",
       "      <th>RH</th>\n",
       "      <th>wind</th>\n",
       "      <th>rain</th>\n",
       "      <th>area</th>\n",
       "    </tr>\n",
       "  </thead>\n",
       "  <tbody>\n",
       "    <tr>\n",
       "      <th>7</th>\n",
       "      <td>5</td>\n",
       "      <td>mar</td>\n",
       "      <td>fri</td>\n",
       "      <td>86.2</td>\n",
       "      <td>26.2</td>\n",
       "      <td>94.3</td>\n",
       "      <td>5.1</td>\n",
       "      <td>8.2</td>\n",
       "      <td>51</td>\n",
       "      <td>6.7</td>\n",
       "      <td>0.0</td>\n",
       "      <td>0.0</td>\n",
       "    </tr>\n",
       "    <tr>\n",
       "      <th>7</th>\n",
       "      <td>4</td>\n",
       "      <td>oct</td>\n",
       "      <td>tue</td>\n",
       "      <td>90.6</td>\n",
       "      <td>35.4</td>\n",
       "      <td>669.1</td>\n",
       "      <td>6.7</td>\n",
       "      <td>18.0</td>\n",
       "      <td>33</td>\n",
       "      <td>0.9</td>\n",
       "      <td>0.0</td>\n",
       "      <td>0.0</td>\n",
       "    </tr>\n",
       "    <tr>\n",
       "      <th>7</th>\n",
       "      <td>4</td>\n",
       "      <td>oct</td>\n",
       "      <td>sat</td>\n",
       "      <td>90.6</td>\n",
       "      <td>43.7</td>\n",
       "      <td>686.9</td>\n",
       "      <td>6.7</td>\n",
       "      <td>14.6</td>\n",
       "      <td>33</td>\n",
       "      <td>1.3</td>\n",
       "      <td>0.0</td>\n",
       "      <td>0.0</td>\n",
       "    </tr>\n",
       "    <tr>\n",
       "      <th>8</th>\n",
       "      <td>6</td>\n",
       "      <td>mar</td>\n",
       "      <td>fri</td>\n",
       "      <td>91.7</td>\n",
       "      <td>33.3</td>\n",
       "      <td>77.5</td>\n",
       "      <td>9.0</td>\n",
       "      <td>8.3</td>\n",
       "      <td>97</td>\n",
       "      <td>4.0</td>\n",
       "      <td>0.2</td>\n",
       "      <td>0.0</td>\n",
       "    </tr>\n",
       "    <tr>\n",
       "      <th>8</th>\n",
       "      <td>6</td>\n",
       "      <td>mar</td>\n",
       "      <td>sun</td>\n",
       "      <td>89.3</td>\n",
       "      <td>51.3</td>\n",
       "      <td>102.2</td>\n",
       "      <td>9.6</td>\n",
       "      <td>11.4</td>\n",
       "      <td>99</td>\n",
       "      <td>1.8</td>\n",
       "      <td>0.0</td>\n",
       "      <td>0.0</td>\n",
       "    </tr>\n",
       "  </tbody>\n",
       "</table>\n",
       "</div>"
      ],
      "text/plain": [
       "   x    y month   day  FFMC  DMCDC  ISI  temp  RH  wind  rain  area\n",
       "7  5  mar   fri  86.2  26.2   94.3  5.1   8.2  51   6.7   0.0   0.0\n",
       "7  4  oct   tue  90.6  35.4  669.1  6.7  18.0  33   0.9   0.0   0.0\n",
       "7  4  oct   sat  90.6  43.7  686.9  6.7  14.6  33   1.3   0.0   0.0\n",
       "8  6  mar   fri  91.7  33.3   77.5  9.0   8.3  97   4.0   0.2   0.0\n",
       "8  6  mar   sun  89.3  51.3  102.2  9.6  11.4  99   1.8   0.0   0.0"
      ]
     },
     "execution_count": 36,
     "metadata": {},
     "output_type": "execute_result"
    }
   ],
   "source": [
    "data.head()"
   ]
  },
  {
   "cell_type": "code",
   "execution_count": 37,
   "metadata": {
    "tags": []
   },
   "outputs": [
    {
     "name": "stdout",
     "output_type": "stream",
     "text": [
      "-----correlation------\n",
      "0.06949054662170358\n",
      "-----covarience-------\n",
      "0.1194211536443105\n"
     ]
    }
   ],
   "source": [
    "temp = data.temp\n",
    "rain = data.rain\n",
    "wind = data.wind\n",
    "print('-----correlation------')\n",
    "print(correlation(temp,rain))\n",
    "print('-----covarience-------')\n",
    "print(covariance(temp, rain))"
   ]
  },
  {
   "cell_type": "code",
   "execution_count": 38,
   "metadata": {},
   "outputs": [
    {
     "data": {
      "image/png": "[encoded data removed]",
      "text/plain": [
       "<Figure size 432x288 with 1 Axes>"
      ]
     },
     "metadata": {
      "needs_background": "light"
     },
     "output_type": "display_data"
    },
    {
     "data": {
      "image/png": "[encoded data removed]",
      "text/plain": [
       "<Figure size 432x288 with 1 Axes>"
      ]
     },
     "metadata": {
      "needs_background": "light"
     },
     "output_type": "display_data"
    }
   ],
   "source": [
    "plt.bar(range(len(temp)), temp)\n",
    "plt.show()\n",
    "plt.bar(range(len(rain)), rain)\n",
    "plt.show()"
   ]
  },
  {
   "cell_type": "code",
   "execution_count": 39,
   "metadata": {},
   "outputs": [
    {
     "data": {
      "image/png": "[encoded data removed]",
      "text/plain": [
       "<Figure size 432x288 with 1 Axes>"
      ]
     },
     "metadata": {
      "needs_background": "light"
     },
     "output_type": "display_data"
    }
   ],
   "source": [
    "plt.scatter(temp, rain)\n",
    "plt.title('Temp and rain')\n",
    "plt.xlabel('Temperature')\n",
    "plt.ylabel('rainfall')\n",
    "plt.show()"
   ]
  },
  {
   "cell_type": "code",
   "execution_count": 40,
   "metadata": {},
   "outputs": [
    {
     "data": {
      "image/png": "[encoded data removed]",
      "text/plain": [
       "<Figure size 432x288 with 1 Axes>"
      ]
     },
     "metadata": {
      "needs_background": "light"
     },
     "output_type": "display_data"
    },
    {
     "name": "stdout",
     "output_type": "stream",
     "text": [
      "-0.22711622037066953\n",
      "result is no correlation\n"
     ]
    }
   ],
   "source": [
    "plt.scatter(temp, wind)\n",
    "plt.xlabel('Temperature')\n",
    "plt.ylabel('wind')\n",
    "plt.show()\n",
    "print(correlation(temp, wind))\n",
    "print('result is no correlation')"
   ]
  },
  {
   "cell_type": "code",
   "execution_count": 41,
   "metadata": {
    "tags": []
   },
   "outputs": [
    {
     "name": "stdout",
     "output_type": "stream",
     "text": [
      "    x    y month   day   FFMC  DMCDC   ISI  temp  RH  wind  rain   area\n",
      "7   5  mar   fri  86.2   26.2   94.3   5.1   8.2  51   6.7   0.0   0.00\n",
      "7   4  oct   tue  90.6   35.4  669.1   6.7  18.0  33   0.9   0.0   0.00\n",
      "7   4  oct   sat  90.6   43.7  686.9   6.7  14.6  33   1.3   0.0   0.00\n",
      "8   6  mar   fri  91.7   33.3   77.5   9.0   8.3  97   4.0   0.2   0.00\n",
      "8   6  mar   sun  89.3   51.3  102.2   9.6  11.4  99   1.8   0.0   0.00\n",
      ".. ..  ...   ...   ...    ...    ...   ...   ...  ..   ...   ...    ...\n",
      "4   3  aug   sun  81.6   56.7  665.6   1.9  27.8  32   2.7   0.0   6.44\n",
      "2   4  aug   sun  81.6   56.7  665.6   1.9  21.9  71   5.8   0.0  54.29\n",
      "7   4  aug   sun  81.6   56.7  665.6   1.9  21.2  70   6.7   0.0  11.16\n",
      "1   4  aug   sat  94.4  146.0  614.7  11.3  25.6  42   4.0   0.0   0.00\n",
      "6   3  nov   tue  79.5    3.0  106.7   1.1  11.8  31   4.5   0.0   0.00\n",
      "\n",
      "[517 rows x 12 columns]\n"
     ]
    }
   ],
   "source": [
    "print(data)"
   ]
  },
  {
   "cell_type": "code",
   "execution_count": 42,
   "metadata": {
    "tags": []
   },
   "outputs": [
    {
     "data": {
      "text/plain": [
       "<matplotlib.axes._subplots.AxesSubplot at 0xe1604a8>"
      ]
     },
     "execution_count": 42,
     "metadata": {},
     "output_type": "execute_result"
    },
    {
     "data": {
      "image/png": "[encoded data removed]",
      "text/plain": [
       "<Figure size 864x648 with 1 Axes>"
      ]
     },
     "metadata": {
      "needs_background": "light"
     },
     "output_type": "display_data"
    }
   ],
   "source": [
    "data.boxplot(column=['rain','temp', 'wind'], figsize=(12,9))"
   ]
  },
  {
   "cell_type": "code",
   "execution_count": 43,
   "metadata": {},
   "outputs": [
    {
     "data": {
      "text/html": [
       "<div>\n",
       "<style scoped>\n",
       "    .dataframe tbody tr th:only-of-type {\n",
       "        vertical-align: middle;\n",
       "    }\n",
       "\n",
       "    .dataframe tbody tr th {\n",
       "        vertical-align: top;\n",
       "    }\n",
       "\n",
       "    .dataframe thead th {\n",
       "        text-align: right;\n",
       "    }\n",
       "</style>\n",
       "<table border=\"1\" class=\"dataframe\">\n",
       "  <thead>\n",
       "    <tr style=\"text-align: right;\">\n",
       "      <th></th>\n",
       "      <th>x</th>\n",
       "      <th>day</th>\n",
       "      <th>FFMC</th>\n",
       "      <th>DMCDC</th>\n",
       "      <th>ISI</th>\n",
       "      <th>temp</th>\n",
       "      <th>RH</th>\n",
       "      <th>wind</th>\n",
       "      <th>rain</th>\n",
       "      <th>area</th>\n",
       "    </tr>\n",
       "  </thead>\n",
       "  <tbody>\n",
       "    <tr>\n",
       "      <th>count</th>\n",
       "      <td>517.000000</td>\n",
       "      <td>517.000000</td>\n",
       "      <td>517.000000</td>\n",
       "      <td>517.000000</td>\n",
       "      <td>517.000000</td>\n",
       "      <td>517.000000</td>\n",
       "      <td>517.000000</td>\n",
       "      <td>517.000000</td>\n",
       "      <td>517.000000</td>\n",
       "      <td>517.000000</td>\n",
       "    </tr>\n",
       "    <tr>\n",
       "      <th>mean</th>\n",
       "      <td>4.299807</td>\n",
       "      <td>90.644681</td>\n",
       "      <td>110.872340</td>\n",
       "      <td>547.940039</td>\n",
       "      <td>9.021663</td>\n",
       "      <td>18.889168</td>\n",
       "      <td>44.288201</td>\n",
       "      <td>4.017602</td>\n",
       "      <td>0.021663</td>\n",
       "      <td>12.847292</td>\n",
       "    </tr>\n",
       "    <tr>\n",
       "      <th>std</th>\n",
       "      <td>1.229900</td>\n",
       "      <td>5.520111</td>\n",
       "      <td>64.046482</td>\n",
       "      <td>248.066192</td>\n",
       "      <td>4.559477</td>\n",
       "      <td>5.806625</td>\n",
       "      <td>16.317469</td>\n",
       "      <td>1.791653</td>\n",
       "      <td>0.295959</td>\n",
       "      <td>63.655818</td>\n",
       "    </tr>\n",
       "    <tr>\n",
       "      <th>min</th>\n",
       "      <td>2.000000</td>\n",
       "      <td>18.700000</td>\n",
       "      <td>1.100000</td>\n",
       "      <td>7.900000</td>\n",
       "      <td>0.000000</td>\n",
       "      <td>2.200000</td>\n",
       "      <td>15.000000</td>\n",
       "      <td>0.400000</td>\n",
       "      <td>0.000000</td>\n",
       "      <td>0.000000</td>\n",
       "    </tr>\n",
       "    <tr>\n",
       "      <th>25%</th>\n",
       "      <td>4.000000</td>\n",
       "      <td>90.200000</td>\n",
       "      <td>68.600000</td>\n",
       "      <td>437.700000</td>\n",
       "      <td>6.500000</td>\n",
       "      <td>15.500000</td>\n",
       "      <td>33.000000</td>\n",
       "      <td>2.700000</td>\n",
       "      <td>0.000000</td>\n",
       "      <td>0.000000</td>\n",
       "    </tr>\n",
       "    <tr>\n",
       "      <th>50%</th>\n",
       "      <td>4.000000</td>\n",
       "      <td>91.600000</td>\n",
       "      <td>108.300000</td>\n",
       "      <td>664.200000</td>\n",
       "      <td>8.400000</td>\n",
       "      <td>19.300000</td>\n",
       "      <td>42.000000</td>\n",
       "      <td>4.000000</td>\n",
       "      <td>0.000000</td>\n",
       "      <td>0.520000</td>\n",
       "    </tr>\n",
       "    <tr>\n",
       "      <th>75%</th>\n",
       "      <td>5.000000</td>\n",
       "      <td>92.900000</td>\n",
       "      <td>142.400000</td>\n",
       "      <td>713.900000</td>\n",
       "      <td>10.800000</td>\n",
       "      <td>22.800000</td>\n",
       "      <td>53.000000</td>\n",
       "      <td>4.900000</td>\n",
       "      <td>0.000000</td>\n",
       "      <td>6.570000</td>\n",
       "    </tr>\n",
       "    <tr>\n",
       "      <th>max</th>\n",
       "      <td>9.000000</td>\n",
       "      <td>96.200000</td>\n",
       "      <td>291.300000</td>\n",
       "      <td>860.600000</td>\n",
       "      <td>56.100000</td>\n",
       "      <td>33.300000</td>\n",
       "      <td>100.000000</td>\n",
       "      <td>9.400000</td>\n",
       "      <td>6.400000</td>\n",
       "      <td>1090.840000</td>\n",
       "    </tr>\n",
       "  </tbody>\n",
       "</table>\n",
       "</div>"
      ],
      "text/plain": [
       "                x         day        FFMC       DMCDC         ISI        temp  \\\n",
       "count  517.000000  517.000000  517.000000  517.000000  517.000000  517.000000   \n",
       "mean     4.299807   90.644681  110.872340  547.940039    9.021663   18.889168   \n",
       "std      1.229900    5.520111   64.046482  248.066192    4.559477    5.806625   \n",
       "min      2.000000   18.700000    1.100000    7.900000    0.000000    2.200000   \n",
       "25%      4.000000   90.200000   68.600000  437.700000    6.500000   15.500000   \n",
       "50%      4.000000   91.600000  108.300000  664.200000    8.400000   19.300000   \n",
       "75%      5.000000   92.900000  142.400000  713.900000   10.800000   22.800000   \n",
       "max      9.000000   96.200000  291.300000  860.600000   56.100000   33.300000   \n",
       "\n",
       "               RH        wind        rain         area  \n",
       "count  517.000000  517.000000  517.000000   517.000000  \n",
       "mean    44.288201    4.017602    0.021663    12.847292  \n",
       "std     16.317469    1.791653    0.295959    63.655818  \n",
       "min     15.000000    0.400000    0.000000     0.000000  \n",
       "25%     33.000000    2.700000    0.000000     0.000000  \n",
       "50%     42.000000    4.000000    0.000000     0.520000  \n",
       "75%     53.000000    4.900000    0.000000     6.570000  \n",
       "max    100.000000    9.400000    6.400000  1090.840000  "
      ]
     },
     "execution_count": 43,
     "metadata": {},
     "output_type": "execute_result"
    }
   ],
   "source": [
    "data.describe()"
   ]
  },
  {
   "cell_type": "code",
   "execution_count": 79,
   "metadata": {},
   "outputs": [
    {
     "name": "stdout",
     "output_type": "stream",
     "text": [
      "(4.549999999999999, 33.75)\n",
      "\n",
      "outliers in rain\n",
      "(0.0, 0.0)\n",
      "\n",
      "outliers in wind\n",
      "(-0.6000000000000001, 8.200000000000001)\n"
     ]
    }
   ],
   "source": [
    "from typing import List, Tuple\n",
    "\n",
    "def checkoutlier(xs: List[float]) -> Tuple:\n",
    "    iqr1 = 1.5* (iqr(xs))\n",
    "    q1 = (quantile(xs, 0.25)) - iqr1\n",
    "    q2 = (quantile(xs, 0.75)) + iqr1\n",
    "    return q1,q2\n",
    "\n",
    "\n",
    "print(checkoutlier(temp));print()\n",
    "print('outliers in rain')\n",
    "print(checkoutlier(rain));print()\n",
    "print('outliers in wind')\n",
    "print(checkoutlier(wind))"
   ]
  },
  {
   "cell_type": "code",
   "execution_count": 118,
   "metadata": {},
   "outputs": [],
   "source": [
    "wind_fixed = list(wind)\n",
    "good_wind = [value for value in wind_fixed\n",
    "        if (value < 8.20) & (value > -0.60)\n",
    "        ]\n",
    "temp_fixed = list(temp)\n",
    "good_temp = [value1 for value1 in wind_fixed\n",
    "             if (value1 > 4.54) & (value1 < 8.200000000000001)]"
   ]
  },
  {
   "cell_type": "code",
   "execution_count": 119,
   "metadata": {},
   "outputs": [
    {
     "data": {
      "image/png": "[encoded data removed]",
      "text/plain": [
       "<Figure size 432x288 with 1 Axes>"
      ]
     },
     "metadata": {
      "needs_background": "light"
     },
     "output_type": "display_data"
    },
    {
     "data": {
      "image/png": "[encoded data removed]",
      "text/plain": [
       "<Figure size 432x288 with 1 Axes>"
      ]
     },
     "metadata": {
      "needs_background": "light"
     },
     "output_type": "display_data"
    },
    {
     "name": "stdout",
     "output_type": "stream",
     "text": [
      "163 504\n"
     ]
    }
   ],
   "source": [
    "plt.boxplot(good_wind)\n",
    "plt.show()\n",
    "plt.boxplot(good_temp)\n",
    "plt.show()\n",
    "print(len(good_temp), len(good_wind))"
   ]
  },
  {
   "cell_type": "code",
   "execution_count": 59,
   "metadata": {},
   "outputs": [
    {
     "data": {
      "text/plain": [
       "<matplotlib.axes._subplots.AxesSubplot at 0xe2cf1a8>"
      ]
     },
     "execution_count": 59,
     "metadata": {},
     "output_type": "execute_result"
    },
    {
     "data": {
      "image/png": "[encoded data removed]",
      "text/plain": [
       "<Figure size 864x648 with 1 Axes>"
      ]
     },
     "metadata": {
      "needs_background": "light"
     },
     "output_type": "display_data"
    }
   ],
   "source": [
    "data.boxplot(column=['rain','temp', 'wind'], figsize=(12,9))"
   ]
  },
  {
   "cell_type": "code",
   "execution_count": 46,
   "metadata": {},
   "outputs": [
    {
     "name": "stdout",
     "output_type": "stream",
     "text": [
      "-0.04748418702402552\n"
     ]
    },
    {
     "data": {
      "image/png": "[encoded data removed]",
      "text/plain": [
       "<Figure size 432x288 with 1 Axes>"
      ]
     },
     "metadata": {
      "needs_background": "light"
     },
     "output_type": "display_data"
    },
    {
     "data": {
      "image/png": "[encoded data removed]",
      "text/plain": [
       "<Figure size 432x288 with 1 Axes>"
      ]
     },
     "metadata": {
      "needs_background": "light"
     },
     "output_type": "display_data"
    },
    {
     "data": {
      "image/png": "[encoded data removed]",
      "text/plain": [
       "<Figure size 432x288 with 1 Axes>"
      ]
     },
     "metadata": {
      "needs_background": "light"
     },
     "output_type": "display_data"
    }
   ],
   "source": [
    "value = [30,40,35,45,23,44,50, 90]\n",
    "value2 = [20,45,55,32,43,231,32,32]\n",
    "print(correlation(value, value2))\n",
    "plt.scatter(value2, value)\n",
    "plt.xlabel(\"value2\")\n",
    "plt.ylabel(\"value\")\n",
    "plt.show()\n",
    "\n",
    "plt.boxplot(value2)\n",
    "plt.show()\n",
    "\n",
    "plt.boxplot(value)\n",
    "plt.show()"
   ]
  },
  {
   "cell_type": "code",
   "execution_count": 47,
   "metadata": {},
   "outputs": [],
   "source": [
    "outlier = value.index(90)\n",
    "outlier1 = value2.index(231)\n",
    "\n",
    "num_value_good = [x for i, x in enumerate(value)\n",
    "                    if i!=outlier]\n",
    "num_value2_good = [x for i, x in enumerate(value2)\n",
    "                     if i!=outlier1]"
   ]
  },
  {
   "cell_type": "code",
   "execution_count": 48,
   "metadata": {},
   "outputs": [
    {
     "name": "stdout",
     "output_type": "stream",
     "text": [
      "-0.1808980645631524\n"
     ]
    },
    {
     "data": {
      "image/png": "[encoded data removed]",
      "text/plain": [
       "<Figure size 432x288 with 1 Axes>"
      ]
     },
     "metadata": {
      "needs_background": "light"
     },
     "output_type": "display_data"
    },
    {
     "data": {
      "image/png": "[encoded data removed]",
      "text/plain": [
       "<Figure size 432x288 with 1 Axes>"
      ]
     },
     "metadata": {
      "needs_background": "light"
     },
     "output_type": "display_data"
    },
    {
     "data": {
      "text/plain": [
       "(7.5, 67.5)"
      ]
     },
     "execution_count": 48,
     "metadata": {},
     "output_type": "execute_result"
    }
   ],
   "source": [
    "print(correlation(num_value_good, num_value2_good))\n",
    "plt.boxplot(num_value2_good)\n",
    "plt.show()\n",
    "plt.boxplot(num_value_good)\n",
    "plt.show()\n",
    "\n",
    "checkoutlier(num_value_good)"
   ]
  },
  {
   "cell_type": "markdown",
   "metadata": {},
   "source": [
    "#"
   ]
  }
 ],
 "metadata": {
  "kernelspec": {
   "display_name": "Python 3.8.3 32-bit ('Data-science': pipenv)",
   "language": "python",
   "name": "python38332bitdatasciencepipenveaa5f30ae77d477fb1a61fa641f548c1"
  },
  "language_info": {
   "codemirror_mode": {
    "name": "ipython",
    "version": 3
   },
   "file_extension": ".py",
   "mimetype": "text/x-python",
   "name": "python",
   "nbconvert_exporter": "python",
   "pygments_lexer": "ipython3",
   "version": "3.8.3"
  },
  "toc": {
   "base_numbering": 1,
   "nav_menu": {},
   "number_sections": true,
   "sideBar": true,
   "skip_h1_title": false,
   "title_cell": "Table of Contents",
   "title_sidebar": "Contents",
   "toc_cell": false,
   "toc_position": {},
   "toc_section_display": true,
   "toc_window_display": false
  }
 },
 "nbformat": 4,
 "nbformat_minor": 4
}
