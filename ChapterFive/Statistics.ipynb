{
  "nbformat": 4,
  "nbformat_minor": 0,
  "metadata": {
    "kernelspec": {
      "display_name": "Python 3.8.3 32-bit ('Data-science': pipenv)",
      "language": "python",
      "name": "python38332bitdatasciencepipenveaa5f30ae77d477fb1a61fa641f548c1"
    },
    "language_info": {
      "codemirror_mode": {
        "name": "ipython",
        "version": 3
      },
      "file_extension": ".py",
      "mimetype": "text/x-python",
      "name": "python",
      "nbconvert_exporter": "python",
      "pygments_lexer": "ipython3",
      "version": "3.8.3"
    },
    "toc": {
      "base_numbering": 1,
      "nav_menu": {},
      "number_sections": true,
      "sideBar": true,
      "skip_h1_title": false,
      "title_cell": "Table of Contents",
      "title_sidebar": "Contents",
      "toc_cell": false,
      "toc_position": {},
      "toc_section_display": true,
      "toc_window_display": false
    },
    "colab": {
      "name": "Statistics.ipynb",
      "provenance": [],
      "include_colab_link": true
    }
  },
  "cells": [
    {
      "cell_type": "markdown",
      "metadata": {
        "id": "view-in-github",
        "colab_type": "text"
      },
      "source": [
        "<a href=\"https://colab.research.google.com/github/lkarjun/Data-Science-from-Scratch/blob/master/ChapterFive/Statistics.ipynb\" target=\"_parent\"><img src=\"https://colab.research.google.com/assets/colab-badge.svg\" alt=\"Open In Colab\"/></a>"
      ]
    },
    {
      "cell_type": "code",
      "metadata": {
        "id": "MSj7viRySXRf",
        "colab_type": "code",
        "colab": {}
      },
      "source": [
        "import random\n",
        "from collections import Counter\n",
        "import matplotlib.pyplot as plt\n",
        "from typing import List\n",
        "import pandas as pd\n",
        "import numpy as np"
      ],
      "execution_count": 66,
      "outputs": []
    },
    {
      "cell_type": "code",
      "metadata": {
        "id": "zIGPh_oDSXRr",
        "colab_type": "code",
        "colab": {}
      },
      "source": [
        "#random numbers\n",
        "num_friends = [\n",
        "    random.choice(range(10)) for _ in range(204)\n",
        "]"
      ],
      "execution_count": 67,
      "outputs": []
    },
    {
      "cell_type": "code",
      "metadata": {
        "id": "JC_35zY4SXR0",
        "colab_type": "code",
        "colab": {}
      },
      "source": [
        "num_points = len(num_friends)"
      ],
      "execution_count": 68,
      "outputs": []
    },
    {
      "cell_type": "code",
      "metadata": {
        "id": "dr3VYWNWSXR5",
        "colab_type": "code",
        "colab": {
          "base_uri": "https://localhost:8080/",
          "height": 33
        },
        "outputId": "e377c080-8276-43b8-d86b-aae62c07345e"
      },
      "source": [
        "num_points"
      ],
      "execution_count": 69,
      "outputs": [
        {
          "output_type": "execute_result",
          "data": {
            "text/plain": [
              "204"
            ]
          },
          "metadata": {
            "tags": []
          },
          "execution_count": 69
        }
      ]
    },
    {
      "cell_type": "code",
      "metadata": {
        "id": "1Bb_a8ZkSXR_",
        "colab_type": "code",
        "colab": {}
      },
      "source": [
        "friend_count = Counter(num_friends)"
      ],
      "execution_count": 70,
      "outputs": []
    },
    {
      "cell_type": "code",
      "metadata": {
        "id": "0MgBZpeCSXSD",
        "colab_type": "code",
        "colab": {}
      },
      "source": [
        "xs = range(101)"
      ],
      "execution_count": 71,
      "outputs": []
    },
    {
      "cell_type": "code",
      "metadata": {
        "id": "0QrbtdLdSXSH",
        "colab_type": "code",
        "colab": {}
      },
      "source": [
        "ys = [friend_count[x] for x in xs]"
      ],
      "execution_count": 72,
      "outputs": []
    },
    {
      "cell_type": "code",
      "metadata": {
        "id": "-fsurhtDSXSM",
        "colab_type": "code",
        "colab": {
          "base_uri": "https://localhost:8080/",
          "height": 312
        },
        "outputId": "4be2d10d-a76c-409c-8bc4-8c31cf33e811"
      },
      "source": [
        "plt.bar(xs, ys)\n",
        "plt.axis([0,50, 0, 30])\n",
        "plt.title('Friends counts')\n",
        "plt.xlabel('# of people')\n",
        "plt.ylabel('# of people')"
      ],
      "execution_count": 73,
      "outputs": [
        {
          "output_type": "execute_result",
          "data": {
            "text/plain": [
              "Text(0, 0.5, '# of people')"
            ]
          },
          "metadata": {
            "tags": []
          },
          "execution_count": 73
        },
        {
          "output_type": "display_data",
          "data": {
            "image/png": "[encoded data removed]",
            "text/plain": [
              "<Figure size 432x288 with 1 Axes>"
            ]
          },
          "metadata": {
            "tags": [],
            "needs_background": "light"
          }
        }
      ]
    },
    {
      "cell_type": "code",
      "metadata": {
        "id": "61Qcjc-RSXSU",
        "colab_type": "code",
        "colab": {}
      },
      "source": [
        "#number of points\n",
        "num_points = len(num_friends)"
      ],
      "execution_count": 74,
      "outputs": []
    },
    {
      "cell_type": "code",
      "metadata": {
        "id": "nPN30yzfSXSX",
        "colab_type": "code",
        "colab": {}
      },
      "source": [
        "largest_value = max(num_friends)\n",
        "smallest_value = min(num_friends)"
      ],
      "execution_count": 75,
      "outputs": []
    },
    {
      "cell_type": "code",
      "metadata": {
        "id": "6244zmTASXSb",
        "colab_type": "code",
        "colab": {}
      },
      "source": [
        "sorted_value = sorted(num_friends)\n",
        "smallestValue = sorted_value[0]\n",
        "second_smallest_value = sorted_value[1]\n",
        "second_largest_value = sorted_value[-2]"
      ],
      "execution_count": 76,
      "outputs": []
    },
    {
      "cell_type": "code",
      "metadata": {
        "id": "JbJC10iHSXSg",
        "colab_type": "code",
        "colab": {}
      },
      "source": [
        "#central tendencies\n",
        "#mean (average)\n",
        "def mean(xs: List[float]) -> float:\n",
        "    return sum(xs)/len(xs)"
      ],
      "execution_count": 77,
      "outputs": []
    },
    {
      "cell_type": "code",
      "metadata": {
        "id": "Dofgu8jxSXSj",
        "colab_type": "code",
        "colab": {
          "base_uri": "https://localhost:8080/",
          "height": 33
        },
        "outputId": "2e719a3b-c403-485a-844d-bbafae6c3095"
      },
      "source": [
        "mean(num_friends)"
      ],
      "execution_count": 78,
      "outputs": [
        {
          "output_type": "execute_result",
          "data": {
            "text/plain": [
              "4.357843137254902"
            ]
          },
          "metadata": {
            "tags": []
          },
          "execution_count": 78
        }
      ]
    },
    {
      "cell_type": "code",
      "metadata": {
        "tags": [],
        "id": "06QD2xrFSXSn",
        "colab_type": "code",
        "colab": {}
      },
      "source": [
        "from typing import List\n",
        "#median for odd and even\n",
        "def _median_odd(xs: List[float]):\n",
        "    return sorted(xs)[len(xs)//2]\n",
        "\n",
        "def _median_even(xs: List[float]) -> float:\n",
        "    sorted_xs = sorted(xs)\n",
        "    hi_midpoint = len(xs) // 2\n",
        "    return (sorted_xs[hi_midpoint -1]+ sorted_xs[hi_midpoint])/2\n",
        "\n",
        "def median(v: List[float]) -> float:\n",
        "    return _median_even(v) if len(v) % 2 == 0 else _median_odd(v)"
      ],
      "execution_count": 79,
      "outputs": []
    },
    {
      "cell_type": "code",
      "metadata": {
        "tags": [],
        "id": "FxHED1QrSXSr",
        "colab_type": "code",
        "colab": {
          "base_uri": "https://localhost:8080/",
          "height": 83
        },
        "outputId": "2da58a25-3fbe-4dd3-d577-aa31f55061c4"
      },
      "source": [
        "assert median([1,10,2,9,5]) == 5\n",
        "assert median ([1,9,2,10]) == (2 + 9) / 2\n",
        "\n",
        "print('median is:\\n',median(num_friends))\n",
        "print('mean is:\\n', mean(num_friends))"
      ],
      "execution_count": 80,
      "outputs": [
        {
          "output_type": "stream",
          "text": [
            "median is:\n",
            " 4.0\n",
            "mean is:\n",
            " 4.357843137254902\n"
          ],
          "name": "stdout"
        }
      ]
    },
    {
      "cell_type": "code",
      "metadata": {
        "id": "N86ZzKKiSXSv",
        "colab_type": "code",
        "colab": {
          "base_uri": "https://localhost:8080/",
          "height": 67
        },
        "outputId": "a0585402-3795-41b4-c1e8-18a04def5275"
      },
      "source": [
        "#quantile \n",
        "\n",
        "def quantile(xs: List[float], p: float) -> float:\n",
        "    p_index = int(p * len(xs))\n",
        "    return sorted(xs)[p_index]\n",
        "\n",
        "print(quantile(num_friends, 0.10) == 1)\n",
        "print(quantile(num_friends, 0.25) == 2)\n",
        "print(quantile(num_friends, 0.75) == 7)"
      ],
      "execution_count": 81,
      "outputs": [
        {
          "output_type": "stream",
          "text": [
            "True\n",
            "True\n",
            "True\n"
          ],
          "name": "stdout"
        }
      ]
    },
    {
      "cell_type": "code",
      "metadata": {
        "id": "_Kbj-9zUSXSy",
        "colab_type": "code",
        "colab": {}
      },
      "source": [
        "#mode most common values \n",
        "\n",
        "def mode(x: List[float]) -> List[float]:\n",
        "    counts = Counter(x)\n",
        "    max_count = max(counts.values())\n",
        "    print(max_count)\n",
        "    return [x_i\n",
        "            for x_i, count in counts.items()\n",
        "            if count == max_count\n",
        "           ]"
      ],
      "execution_count": 82,
      "outputs": []
    },
    {
      "cell_type": "code",
      "metadata": {
        "tags": [],
        "id": "4phIALrYSXS2",
        "colab_type": "code",
        "colab": {
          "base_uri": "https://localhost:8080/",
          "height": 50
        },
        "outputId": "cff2cacb-f07f-4c8e-dfec-59aa01f27753"
      },
      "source": [
        "print(set(mode(num_friends)))"
      ],
      "execution_count": 83,
      "outputs": [
        {
          "output_type": "stream",
          "text": [
            "31\n",
            "{3}\n"
          ],
          "name": "stdout"
        }
      ]
    },
    {
      "cell_type": "markdown",
      "metadata": {
        "id": "M0kqOVGdSXS9",
        "colab_type": "text"
      },
      "source": [
        "#Dispersion"
      ]
    },
    {
      "cell_type": "code",
      "metadata": {
        "tags": [],
        "id": "wPAfFkzGSXS9",
        "colab_type": "code",
        "colab": {
          "base_uri": "https://localhost:8080/",
          "height": 0
        },
        "outputId": "72f35755-81bd-4689-ef31-b52fc97c34be"
      },
      "source": [
        "def data_range(xs: List[float]) -> float:\n",
        "    return max(xs) - min(xs)\n",
        "    \n",
        "print('Range is')\n",
        "print(data_range([33,45,6,4]))"
      ],
      "execution_count": 84,
      "outputs": [
        {
          "output_type": "stream",
          "text": [
            "Range is\n",
            "41\n"
          ],
          "name": "stdout"
        }
      ]
    },
    {
      "cell_type": "code",
      "metadata": {
        "tags": [],
        "id": "cAF0D9bmSXTB",
        "colab_type": "code",
        "colab": {}
      },
      "source": [
        "Vector = List[float]\n",
        "\n",
        "def dot(v: Vector, w: Vector) -> float:\n",
        "    assert len(v) == len(w), 'len of vectors dont match'\n",
        "    return sum(v_i * w_i for v_i, w_i in zip(v,w))\n",
        "    \n",
        "def sum_of_squares(v: Vector) -> float:\n",
        "    return dot(v,v)"
      ],
      "execution_count": 85,
      "outputs": []
    },
    {
      "cell_type": "code",
      "metadata": {
        "id": "hWsUxlDLSXTE",
        "colab_type": "code",
        "colab": {
          "base_uri": "https://localhost:8080/",
          "height": 0
        },
        "outputId": "9ee74638-85c5-4730-c1b0-8907dec08756"
      },
      "source": [
        "#variance \n",
        "def de_mean(xs: List[float]) -> List[float]:\n",
        "    x_bar = mean(xs)\n",
        "    return [x - x_bar for x in xs]\n",
        "\n",
        "def variance(xs: List[float]) -> float:\n",
        "    assert len(xs) >= 2, 'variance requires at least two elements'\n",
        "    n = len(xs)\n",
        "    deviations = de_mean(xs)\n",
        "    return sum_of_squares(deviations) / (n-1)\n",
        "\n",
        "variance(num_friends)"
      ],
      "execution_count": 86,
      "outputs": [
        {
          "output_type": "execute_result",
          "data": {
            "text/plain": [
              "7.216145078721141"
            ]
          },
          "metadata": {
            "tags": []
          },
          "execution_count": 86
        }
      ]
    },
    {
      "cell_type": "code",
      "metadata": {
        "id": "7SlVh1nbSXTI",
        "colab_type": "code",
        "colab": {
          "base_uri": "https://localhost:8080/",
          "height": 0
        },
        "outputId": "195036fd-ab52-4a3c-b5b5-3fc3b939e86b"
      },
      "source": [
        "import math\n",
        "\n",
        "def standard_deviation(xs: List[float]) -> float:\n",
        "    return math.sqrt(variance(xs))\n",
        "\n",
        "standard_deviation(num_friends)"
      ],
      "execution_count": 87,
      "outputs": [
        {
          "output_type": "execute_result",
          "data": {
            "text/plain": [
              "2.6862883461611378"
            ]
          },
          "metadata": {
            "tags": []
          },
          "execution_count": 87
        }
      ]
    },
    {
      "cell_type": "code",
      "metadata": {
        "id": "El3SPwIuSXTL",
        "colab_type": "code",
        "colab": {
          "base_uri": "https://localhost:8080/",
          "height": 0
        },
        "outputId": "bd5ee6c9-616e-4184-a3be-1701ddf37198"
      },
      "source": [
        "#iqr\n",
        "def iqr(xs: List[float]) -> float:\n",
        "    return quantile(xs, 0.75) - quantile(xs, 0.25)\n",
        "\n",
        "iqr(num_friends)"
      ],
      "execution_count": 88,
      "outputs": [
        {
          "output_type": "execute_result",
          "data": {
            "text/plain": [
              "5"
            ]
          },
          "metadata": {
            "tags": []
          },
          "execution_count": 88
        }
      ]
    },
    {
      "cell_type": "markdown",
      "metadata": {
        "heading_collapsed": true,
        "id": "sq16Cy7wSXTP",
        "colab_type": "text"
      },
      "source": [
        "# Correlation"
      ]
    },
    {
      "cell_type": "code",
      "metadata": {
        "hidden": true,
        "id": "ourVijN2SXTQ",
        "colab_type": "code",
        "colab": {}
      },
      "source": [
        "def covariance(xs: List[float], ys: List[float]) -> float:\n",
        "    assert len(xs) == len(ys)\n",
        "    return dot(de_mean(xs), de_mean(ys))/(len(xs)-1)\n",
        "\n",
        "def correlation(xs: List[float], ys: List[float]) -> float:\n",
        "    stdev_x = standard_deviation(xs)\n",
        "    stdev_y = standard_deviation(ys)\n",
        "    if stdev_x > 0 and stdev_y > 0:\n",
        "        return covariance(xs, ys)/ stdev_x/stdev_y\n",
        "    else:\n",
        "        return 0\n",
        "        \n"
      ],
      "execution_count": 89,
      "outputs": []
    },
    {
      "cell_type": "code",
      "metadata": {
        "hidden": true,
        "tags": [],
        "id": "9Hu1SMIQSXTT",
        "colab_type": "code",
        "colab": {
          "base_uri": "https://localhost:8080/",
          "height": 332
        },
        "outputId": "f6cd032e-31c9-4053-b24d-4692e5c1cfbd"
      },
      "source": [
        "#Creations\n",
        "\n",
        "from matplotlib import pyplot as plt\n",
        "\n",
        "value = [-10, 0, 10, 20, 30]\n",
        "value2 = [8, 9, 10, 11, 12]\n",
        "\n",
        "plt.plot(value, value2, marker='o')\n",
        "plt.show()\n",
        "\n",
        "print('mean value', mean(value))\n",
        "print('mean value2', mean(value2))\n",
        "print('range value', data_range(value))\n",
        "print('range value2', data_range(value2))"
      ],
      "execution_count": 90,
      "outputs": [
        {
          "output_type": "display_data",
          "data": {
            "image/png": "[encoded data removed]",
            "text/plain": [
              "<Figure size 432x288 with 1 Axes>"
            ]
          },
          "metadata": {
            "tags": [],
            "needs_background": "light"
          }
        },
        {
          "output_type": "stream",
          "text": [
            "mean value 10.0\n",
            "mean value2 10.0\n",
            "range value 40\n",
            "range value2 4\n"
          ],
          "name": "stdout"
        }
      ]
    },
    {
      "cell_type": "code",
      "metadata": {
        "hidden": true,
        "tags": [],
        "id": "VobC9AISSXTW",
        "colab_type": "code",
        "colab": {
          "base_uri": "https://localhost:8080/",
          "height": 83
        },
        "outputId": "68cb27e7-cad4-4476-f81c-641054baa1bd"
      },
      "source": [
        "print('variance',variance(value))\n",
        "print('variance', variance(value2))\n",
        "print('std', standard_deviation(value))\n",
        "print('std', standard_deviation(value2))"
      ],
      "execution_count": 91,
      "outputs": [
        {
          "output_type": "stream",
          "text": [
            "variance 250.0\n",
            "variance 2.5\n",
            "std 15.811388300841896\n",
            "std 1.5811388300841898\n"
          ],
          "name": "stdout"
        }
      ]
    },
    {
      "cell_type": "code",
      "metadata": {
        "hidden": true,
        "tags": [],
        "id": "_Zxu0XpISXTa",
        "colab_type": "code",
        "colab": {
          "base_uri": "https://localhost:8080/",
          "height": 332
        },
        "outputId": "e1e9b86e-7dba-40cd-8b90-3fc3b3e39e79"
      },
      "source": [
        "a = [1,2,3,5,6,7,5,3,2,1]\n",
        "plt.bar(range(len(a)), a)\n",
        "plt.show()\n",
        "print(mean(a))\n",
        "print(median(a))\n",
        "print(standard_deviation(a))\n",
        "print(variance(a))"
      ],
      "execution_count": 92,
      "outputs": [
        {
          "output_type": "display_data",
          "data": {
            "image/png": "[encoded data removed]",
            "text/plain": [
              "<Figure size 432x288 with 1 Axes>"
            ]
          },
          "metadata": {
            "tags": [],
            "needs_background": "light"
          }
        },
        {
          "output_type": "stream",
          "text": [
            "3.5\n",
            "3.0\n",
            "2.1213203435596424\n",
            "4.5\n"
          ],
          "name": "stdout"
        }
      ]
    },
    {
      "cell_type": "code",
      "metadata": {
        "hidden": true,
        "tags": [],
        "id": "dGimHuC_SXTg",
        "colab_type": "code",
        "colab": {
          "base_uri": "https://localhost:8080/",
          "height": 117
        },
        "outputId": "86ddd00c-7490-4628-990e-c972761d339a"
      },
      "source": [
        "print('----------------1 std 68 percent data lies:------------')\n",
        "print(3.5+2.121)\n",
        "print(3.5-2.121)\n",
        "print('----------------2 std: 95 percent data lies------------')\n",
        "print(3.5 + 4.242)\n",
        "print(3.5 - 4.242)"
      ],
      "execution_count": 93,
      "outputs": [
        {
          "output_type": "stream",
          "text": [
            "----------------1 std 68 percent data lies:------------\n",
            "5.621\n",
            "1.379\n",
            "----------------2 std: 95 percent data lies------------\n",
            "7.742\n",
            "-0.742\n"
          ],
          "name": "stdout"
        }
      ]
    },
    {
      "cell_type": "code",
      "metadata": {
        "hidden": true,
        "tags": [],
        "id": "CqAttrqqSXTk",
        "colab_type": "code",
        "colab": {
          "base_uri": "https://localhost:8080/",
          "height": 328
        },
        "outputId": "fa982c29-ffea-41cd-a3ee-c771dbb18456"
      },
      "source": [
        "#checking any relation ship between a and b variables\n",
        "a = [2,4,5,6,8,9,9]\n",
        "b = [1,2,3,4,5,6,7]\n",
        "\n",
        "print(correlation(a,b))\n",
        "plt.scatter(a,b)\n",
        "plt.title('Checking Relation between a, b')\n",
        "plt.xlabel('a values')\n",
        "plt.ylabel('b values')"
      ],
      "execution_count": 94,
      "outputs": [
        {
          "output_type": "stream",
          "text": [
            "0.9814954576223639\n"
          ],
          "name": "stdout"
        },
        {
          "output_type": "execute_result",
          "data": {
            "text/plain": [
              "Text(0, 0.5, 'b values')"
            ]
          },
          "metadata": {
            "tags": []
          },
          "execution_count": 94
        },
        {
          "output_type": "display_data",
          "data": {
            "image/png": "[encoded data removed]",
            "text/plain": [
              "<Figure size 432x288 with 1 Axes>"
            ]
          },
          "metadata": {
            "tags": [],
            "needs_background": "light"
          }
        }
      ]
    },
    {
      "cell_type": "markdown",
      "metadata": {
        "id": "i3Cf_1nhSXTn",
        "colab_type": "text"
      },
      "source": [
        "# Realworld"
      ]
    },
    {
      "cell_type": "code",
      "metadata": {
        "tags": [],
        "id": "1C2YGzKjSXTn",
        "colab_type": "code",
        "colab": {}
      },
      "source": [
        "fileName = \"forestfires.csv\"\n",
        "data = pd.read_csv(fileName, delimiter=',')\n"
      ],
      "execution_count": 95,
      "outputs": []
    },
    {
      "cell_type": "code",
      "metadata": {
        "id": "r6IHn2pmSXTr",
        "colab_type": "code",
        "colab": {
          "base_uri": "https://localhost:8080/",
          "height": 197
        },
        "outputId": "4f06ce92-9b6a-4be9-b953-de817003c8c8"
      },
      "source": [
        "data.head()"
      ],
      "execution_count": 96,
      "outputs": [
        {
          "output_type": "execute_result",
          "data": {
            "text/html": [
              "<div>\n",
              "<style scoped>\n",
              "    .dataframe tbody tr th:only-of-type {\n",
              "        vertical-align: middle;\n",
              "    }\n",
              "\n",
              "    .dataframe tbody tr th {\n",
              "        vertical-align: top;\n",
              "    }\n",
              "\n",
              "    .dataframe thead th {\n",
              "        text-align: right;\n",
              "    }\n",
              "</style>\n",
              "<table border=\"1\" class=\"dataframe\">\n",
              "  <thead>\n",
              "    <tr style=\"text-align: right;\">\n",
              "      <th></th>\n",
              "      <th>X</th>\n",
              "      <th>Y</th>\n",
              "      <th>Month</th>\n",
              "      <th>Day</th>\n",
              "      <th>Ffmc</th>\n",
              "      <th>Dmc</th>\n",
              "      <th>Dc</th>\n",
              "      <th>Isi</th>\n",
              "      <th>Temp</th>\n",
              "      <th>Rh</th>\n",
              "      <th>Wind</th>\n",
              "      <th>Rain</th>\n",
              "      <th>Area</th>\n",
              "    </tr>\n",
              "  </thead>\n",
              "  <tbody>\n",
              "    <tr>\n",
              "      <th>0</th>\n",
              "      <td>7</td>\n",
              "      <td>5</td>\n",
              "      <td>mar</td>\n",
              "      <td>fri</td>\n",
              "      <td>86.2</td>\n",
              "      <td>26.2</td>\n",
              "      <td>94.3</td>\n",
              "      <td>5.1</td>\n",
              "      <td>8.2</td>\n",
              "      <td>51</td>\n",
              "      <td>6.7</td>\n",
              "      <td>0.0</td>\n",
              "      <td>0.0</td>\n",
              "    </tr>\n",
              "    <tr>\n",
              "      <th>1</th>\n",
              "      <td>7</td>\n",
              "      <td>4</td>\n",
              "      <td>oct</td>\n",
              "      <td>tue</td>\n",
              "      <td>90.6</td>\n",
              "      <td>35.4</td>\n",
              "      <td>669.1</td>\n",
              "      <td>6.7</td>\n",
              "      <td>18.0</td>\n",
              "      <td>33</td>\n",
              "      <td>0.9</td>\n",
              "      <td>0.0</td>\n",
              "      <td>0.0</td>\n",
              "    </tr>\n",
              "    <tr>\n",
              "      <th>2</th>\n",
              "      <td>7</td>\n",
              "      <td>4</td>\n",
              "      <td>oct</td>\n",
              "      <td>sat</td>\n",
              "      <td>90.6</td>\n",
              "      <td>43.7</td>\n",
              "      <td>686.9</td>\n",
              "      <td>6.7</td>\n",
              "      <td>14.6</td>\n",
              "      <td>33</td>\n",
              "      <td>1.3</td>\n",
              "      <td>0.0</td>\n",
              "      <td>0.0</td>\n",
              "    </tr>\n",
              "    <tr>\n",
              "      <th>3</th>\n",
              "      <td>8</td>\n",
              "      <td>6</td>\n",
              "      <td>mar</td>\n",
              "      <td>fri</td>\n",
              "      <td>91.7</td>\n",
              "      <td>33.3</td>\n",
              "      <td>77.5</td>\n",
              "      <td>9.0</td>\n",
              "      <td>8.3</td>\n",
              "      <td>97</td>\n",
              "      <td>4.0</td>\n",
              "      <td>0.2</td>\n",
              "      <td>0.0</td>\n",
              "    </tr>\n",
              "    <tr>\n",
              "      <th>4</th>\n",
              "      <td>8</td>\n",
              "      <td>6</td>\n",
              "      <td>mar</td>\n",
              "      <td>sun</td>\n",
              "      <td>89.3</td>\n",
              "      <td>51.3</td>\n",
              "      <td>102.2</td>\n",
              "      <td>9.6</td>\n",
              "      <td>11.4</td>\n",
              "      <td>99</td>\n",
              "      <td>1.8</td>\n",
              "      <td>0.0</td>\n",
              "      <td>0.0</td>\n",
              "    </tr>\n",
              "  </tbody>\n",
              "</table>\n",
              "</div>"
            ],
            "text/plain": [
              "   X  Y Month  Day  Ffmc   Dmc     Dc  Isi  Temp  Rh  Wind  Rain  Area\n",
              "0  7  5   mar  fri  86.2  26.2   94.3  5.1   8.2  51   6.7   0.0   0.0\n",
              "1  7  4   oct  tue  90.6  35.4  669.1  6.7  18.0  33   0.9   0.0   0.0\n",
              "2  7  4   oct  sat  90.6  43.7  686.9  6.7  14.6  33   1.3   0.0   0.0\n",
              "3  8  6   mar  fri  91.7  33.3   77.5  9.0   8.3  97   4.0   0.2   0.0\n",
              "4  8  6   mar  sun  89.3  51.3  102.2  9.6  11.4  99   1.8   0.0   0.0"
            ]
          },
          "metadata": {
            "tags": []
          },
          "execution_count": 96
        }
      ]
    },
    {
      "cell_type": "code",
      "metadata": {
        "tags": [],
        "id": "wLXDoLVXSXTw",
        "colab_type": "code",
        "colab": {
          "base_uri": "https://localhost:8080/",
          "height": 117
        },
        "outputId": "30684009-aacd-4fc1-f2fa-613322f6058f"
      },
      "source": [
        "temp = data.Temp.values\n",
        "rain = data.Rain.values\n",
        "wind = data.Wind.values\n",
        "print('-----correlation------')\n",
        "print(correlation(temp,rain))\n",
        "print('-----covarience-------')\n",
        "print(covariance(temp, rain))\n",
        "print('-----correlation------')\n",
        "print(correlation(temp, wind))"
      ],
      "execution_count": 125,
      "outputs": [
        {
          "output_type": "stream",
          "text": [
            "-----correlation------\n",
            "0.06949054662170358\n",
            "-----covarience-------\n",
            "0.1194211536443105\n",
            "-----correlation------\n",
            "-0.22711622037066953\n"
          ],
          "name": "stdout"
        }
      ]
    },
    {
      "cell_type": "code",
      "metadata": {
        "id": "tJ1BCRUsSXT0",
        "colab_type": "code",
        "colab": {
          "base_uri": "https://localhost:8080/",
          "height": 513
        },
        "outputId": "c09ec623-b11a-4899-a09b-3a455c94c941"
      },
      "source": [
        "plt.bar(range(len(temp)), temp)\n",
        "plt.show()\n",
        "plt.bar(range(len(rain)), rain)\n",
        "plt.show()"
      ],
      "execution_count": 124,
      "outputs": [
        {
          "output_type": "display_data",
          "data": {
            "image/png": "[encoded data removed]",
            "text/plain": [
              "<Figure size 432x288 with 1 Axes>"
            ]
          },
          "metadata": {
            "tags": [],
            "needs_background": "light"
          }
        },
        {
          "output_type": "display_data",
          "data": {
            "image/png": "[encoded data removed]",
            "text/plain": [
              "<Figure size 432x288 with 1 Axes>"
            ]
          },
          "metadata": {
            "tags": [],
            "needs_background": "light"
          }
        }
      ]
    },
    {
      "cell_type": "code",
      "metadata": {
        "id": "Doq0FFGLSXT4",
        "colab_type": "code",
        "colab": {
          "base_uri": "https://localhost:8080/",
          "height": 295
        },
        "outputId": "d2192731-f35c-4835-8a83-52388bcca1de"
      },
      "source": [
        "plt.scatter(temp, rain)\n",
        "plt.title('Temp and rain')\n",
        "plt.xlabel('Temperature')\n",
        "plt.ylabel('rainfall')\n",
        "plt.show()"
      ],
      "execution_count": 99,
      "outputs": [
        {
          "output_type": "display_data",
          "data": {
            "image/png": "[encoded data removed]",
            "text/plain": [
              "<Figure size 432x288 with 1 Axes>"
            ]
          },
          "metadata": {
            "tags": [],
            "needs_background": "light"
          }
        }
      ]
    },
    {
      "cell_type": "code",
      "metadata": {
        "id": "sIQkrctkSXT7",
        "colab_type": "code",
        "colab": {
          "base_uri": "https://localhost:8080/",
          "height": 312
        },
        "outputId": "159ecdd5-f134-4052-8385-a079d5bf79e0"
      },
      "source": [
        "plt.scatter(temp, wind)\n",
        "plt.xlabel('Temperature')\n",
        "plt.ylabel('wind')\n",
        "plt.show()\n",
        "print(correlation(temp, wind))\n",
        "print('result is no correlation')"
      ],
      "execution_count": 126,
      "outputs": [
        {
          "output_type": "display_data",
          "data": {
            "image/png": "[encoded data removed]",
            "text/plain": [
              "<Figure size 432x288 with 1 Axes>"
            ]
          },
          "metadata": {
            "tags": [],
            "needs_background": "light"
          }
        },
        {
          "output_type": "stream",
          "text": [
            "-0.22711622037066953\n",
            "result is no correlation\n"
          ],
          "name": "stdout"
        }
      ]
    },
    {
      "cell_type": "code",
      "metadata": {
        "tags": [],
        "id": "wt6edX9ASXT_",
        "colab_type": "code",
        "colab": {
          "base_uri": "https://localhost:8080/",
          "height": 250
        },
        "outputId": "c9e54215-9533-4cb5-859a-711a1a538519"
      },
      "source": [
        "print(data)"
      ],
      "execution_count": 101,
      "outputs": [
        {
          "output_type": "stream",
          "text": [
            "     X  Y Month  Day  Ffmc    Dmc     Dc   Isi  Temp  Rh  Wind  Rain   Area\n",
            "0    7  5   mar  fri  86.2   26.2   94.3   5.1   8.2  51   6.7   0.0   0.00\n",
            "1    7  4   oct  tue  90.6   35.4  669.1   6.7  18.0  33   0.9   0.0   0.00\n",
            "2    7  4   oct  sat  90.6   43.7  686.9   6.7  14.6  33   1.3   0.0   0.00\n",
            "3    8  6   mar  fri  91.7   33.3   77.5   9.0   8.3  97   4.0   0.2   0.00\n",
            "4    8  6   mar  sun  89.3   51.3  102.2   9.6  11.4  99   1.8   0.0   0.00\n",
            "..  .. ..   ...  ...   ...    ...    ...   ...   ...  ..   ...   ...    ...\n",
            "512  4  3   aug  sun  81.6   56.7  665.6   1.9  27.8  32   2.7   0.0   6.44\n",
            "513  2  4   aug  sun  81.6   56.7  665.6   1.9  21.9  71   5.8   0.0  54.29\n",
            "514  7  4   aug  sun  81.6   56.7  665.6   1.9  21.2  70   6.7   0.0  11.16\n",
            "515  1  4   aug  sat  94.4  146.0  614.7  11.3  25.6  42   4.0   0.0   0.00\n",
            "516  6  3   nov  tue  79.5    3.0  106.7   1.1  11.8  31   4.5   0.0   0.00\n",
            "\n",
            "[517 rows x 13 columns]\n"
          ],
          "name": "stdout"
        }
      ]
    },
    {
      "cell_type": "code",
      "metadata": {
        "tags": [],
        "id": "1CJZgaW6SXUE",
        "colab_type": "code",
        "colab": {
          "base_uri": "https://localhost:8080/",
          "height": 553
        },
        "outputId": "1c7c4d02-36d3-4a94-b098-f07120c17e8b"
      },
      "source": [
        "data.boxplot(column=['Rain','Temp', 'Wind'], figsize=(12,9))"
      ],
      "execution_count": 127,
      "outputs": [
        {
          "output_type": "execute_result",
          "data": {
            "text/plain": [
              "<matplotlib.axes._subplots.AxesSubplot at 0x7f65ecb7ac88>"
            ]
          },
          "metadata": {
            "tags": []
          },
          "execution_count": 127
        },
        {
          "output_type": "display_data",
          "data": {
            "image/png": "[encoded data removed]",
            "text/plain": [
              "<Figure size 864x648 with 1 Axes>"
            ]
          },
          "metadata": {
            "tags": [],
            "needs_background": "light"
          }
        }
      ]
    },
    {
      "cell_type": "code",
      "metadata": {
        "id": "6qRNncenSXUJ",
        "colab_type": "code",
        "colab": {
          "base_uri": "https://localhost:8080/",
          "height": 287
        },
        "outputId": "af03abe8-ef8f-4c3e-e82c-cdf8ca72435b"
      },
      "source": [
        "data.describe()"
      ],
      "execution_count": 103,
      "outputs": [
        {
          "output_type": "execute_result",
          "data": {
            "text/html": [
              "<div>\n",
              "<style scoped>\n",
              "    .dataframe tbody tr th:only-of-type {\n",
              "        vertical-align: middle;\n",
              "    }\n",
              "\n",
              "    .dataframe tbody tr th {\n",
              "        vertical-align: top;\n",
              "    }\n",
              "\n",
              "    .dataframe thead th {\n",
              "        text-align: right;\n",
              "    }\n",
              "</style>\n",
              "<table border=\"1\" class=\"dataframe\">\n",
              "  <thead>\n",
              "    <tr style=\"text-align: right;\">\n",
              "      <th></th>\n",
              "      <th>X</th>\n",
              "      <th>Y</th>\n",
              "      <th>Ffmc</th>\n",
              "      <th>Dmc</th>\n",
              "      <th>Dc</th>\n",
              "      <th>Isi</th>\n",
              "      <th>Temp</th>\n",
              "      <th>Rh</th>\n",
              "      <th>Wind</th>\n",
              "      <th>Rain</th>\n",
              "      <th>Area</th>\n",
              "    </tr>\n",
              "  </thead>\n",
              "  <tbody>\n",
              "    <tr>\n",
              "      <th>count</th>\n",
              "      <td>517.000000</td>\n",
              "      <td>517.000000</td>\n",
              "      <td>517.000000</td>\n",
              "      <td>517.000000</td>\n",
              "      <td>517.000000</td>\n",
              "      <td>517.000000</td>\n",
              "      <td>517.000000</td>\n",
              "      <td>517.000000</td>\n",
              "      <td>517.000000</td>\n",
              "      <td>517.000000</td>\n",
              "      <td>517.000000</td>\n",
              "    </tr>\n",
              "    <tr>\n",
              "      <th>mean</th>\n",
              "      <td>4.669246</td>\n",
              "      <td>4.299807</td>\n",
              "      <td>90.644681</td>\n",
              "      <td>110.872340</td>\n",
              "      <td>547.940039</td>\n",
              "      <td>9.021663</td>\n",
              "      <td>18.889168</td>\n",
              "      <td>44.288201</td>\n",
              "      <td>4.017602</td>\n",
              "      <td>0.021663</td>\n",
              "      <td>12.847292</td>\n",
              "    </tr>\n",
              "    <tr>\n",
              "      <th>std</th>\n",
              "      <td>2.313778</td>\n",
              "      <td>1.229900</td>\n",
              "      <td>5.520111</td>\n",
              "      <td>64.046482</td>\n",
              "      <td>248.066192</td>\n",
              "      <td>4.559477</td>\n",
              "      <td>5.806625</td>\n",
              "      <td>16.317469</td>\n",
              "      <td>1.791653</td>\n",
              "      <td>0.295959</td>\n",
              "      <td>63.655818</td>\n",
              "    </tr>\n",
              "    <tr>\n",
              "      <th>min</th>\n",
              "      <td>1.000000</td>\n",
              "      <td>2.000000</td>\n",
              "      <td>18.700000</td>\n",
              "      <td>1.100000</td>\n",
              "      <td>7.900000</td>\n",
              "      <td>0.000000</td>\n",
              "      <td>2.200000</td>\n",
              "      <td>15.000000</td>\n",
              "      <td>0.400000</td>\n",
              "      <td>0.000000</td>\n",
              "      <td>0.000000</td>\n",
              "    </tr>\n",
              "    <tr>\n",
              "      <th>25%</th>\n",
              "      <td>3.000000</td>\n",
              "      <td>4.000000</td>\n",
              "      <td>90.200000</td>\n",
              "      <td>68.600000</td>\n",
              "      <td>437.700000</td>\n",
              "      <td>6.500000</td>\n",
              "      <td>15.500000</td>\n",
              "      <td>33.000000</td>\n",
              "      <td>2.700000</td>\n",
              "      <td>0.000000</td>\n",
              "      <td>0.000000</td>\n",
              "    </tr>\n",
              "    <tr>\n",
              "      <th>50%</th>\n",
              "      <td>4.000000</td>\n",
              "      <td>4.000000</td>\n",
              "      <td>91.600000</td>\n",
              "      <td>108.300000</td>\n",
              "      <td>664.200000</td>\n",
              "      <td>8.400000</td>\n",
              "      <td>19.300000</td>\n",
              "      <td>42.000000</td>\n",
              "      <td>4.000000</td>\n",
              "      <td>0.000000</td>\n",
              "      <td>0.520000</td>\n",
              "    </tr>\n",
              "    <tr>\n",
              "      <th>75%</th>\n",
              "      <td>7.000000</td>\n",
              "      <td>5.000000</td>\n",
              "      <td>92.900000</td>\n",
              "      <td>142.400000</td>\n",
              "      <td>713.900000</td>\n",
              "      <td>10.800000</td>\n",
              "      <td>22.800000</td>\n",
              "      <td>53.000000</td>\n",
              "      <td>4.900000</td>\n",
              "      <td>0.000000</td>\n",
              "      <td>6.570000</td>\n",
              "    </tr>\n",
              "    <tr>\n",
              "      <th>max</th>\n",
              "      <td>9.000000</td>\n",
              "      <td>9.000000</td>\n",
              "      <td>96.200000</td>\n",
              "      <td>291.300000</td>\n",
              "      <td>860.600000</td>\n",
              "      <td>56.100000</td>\n",
              "      <td>33.300000</td>\n",
              "      <td>100.000000</td>\n",
              "      <td>9.400000</td>\n",
              "      <td>6.400000</td>\n",
              "      <td>1090.840000</td>\n",
              "    </tr>\n",
              "  </tbody>\n",
              "</table>\n",
              "</div>"
            ],
            "text/plain": [
              "                X           Y        Ffmc  ...        Wind        Rain         Area\n",
              "count  517.000000  517.000000  517.000000  ...  517.000000  517.000000   517.000000\n",
              "mean     4.669246    4.299807   90.644681  ...    4.017602    0.021663    12.847292\n",
              "std      2.313778    1.229900    5.520111  ...    1.791653    0.295959    63.655818\n",
              "min      1.000000    2.000000   18.700000  ...    0.400000    0.000000     0.000000\n",
              "25%      3.000000    4.000000   90.200000  ...    2.700000    0.000000     0.000000\n",
              "50%      4.000000    4.000000   91.600000  ...    4.000000    0.000000     0.520000\n",
              "75%      7.000000    5.000000   92.900000  ...    4.900000    0.000000     6.570000\n",
              "max      9.000000    9.000000   96.200000  ...    9.400000    6.400000  1090.840000\n",
              "\n",
              "[8 rows x 11 columns]"
            ]
          },
          "metadata": {
            "tags": []
          },
          "execution_count": 103
        }
      ]
    },
    {
      "cell_type": "code",
      "metadata": {
        "id": "umzuppd9SXUN",
        "colab_type": "code",
        "colab": {
          "base_uri": "https://localhost:8080/",
          "height": 150
        },
        "outputId": "04d292a1-cfb4-4b54-b8e3-a0724fb97fe7"
      },
      "source": [
        "from typing import List, Tuple\n",
        "\n",
        "def checkoutlier(xs: List[float]) -> Tuple:\n",
        "    iqr1 = 1.5* (iqr(xs))\n",
        "    q1 = (quantile(xs, 0.25)) - iqr1\n",
        "    q2 = (quantile(xs, 0.75)) + iqr1\n",
        "    return q1,q2\n",
        "\n",
        "\n",
        "print();print(checkoutlier(temp));print()\n",
        "print('outliers in rain')\n",
        "print(checkoutlier(rain));print()\n",
        "print('outliers in wind')\n",
        "print(checkoutlier(wind))"
      ],
      "execution_count": 128,
      "outputs": [
        {
          "output_type": "stream",
          "text": [
            "\n",
            "(4.549999999999999, 33.75)\n",
            "\n",
            "outliers in rain\n",
            "(0.0, 0.0)\n",
            "\n",
            "outliers in wind\n",
            "(-0.6000000000000001, 8.200000000000001)\n"
          ],
          "name": "stdout"
        }
      ]
    },
    {
      "cell_type": "code",
      "metadata": {
        "id": "Ex0NWekZSXUV",
        "colab_type": "code",
        "colab": {
          "base_uri": "https://localhost:8080/",
          "height": 67
        },
        "outputId": "bd1817d4-1eb4-40c9-c7ca-14c1d3420139"
      },
      "source": [
        "\n",
        "Outlier_temp_index = [i\n",
        "                      for i,tem in enumerate(temp)\n",
        "                      if (tem <= 6) or (tem >= 30)]\n",
        "print(Outlier_temp_index)\n",
        "\n",
        "Outlier_wind_index = [i\n",
        "                     for i, w in enumerate(wind)\n",
        "                     if (w >= 8.20) or (w <= -0.60)]\n",
        "\n",
        "print(Outlier_wind_index)\n",
        "\n",
        "\n",
        "temp_good = [x\n",
        "            for i,x in enumerate(temp)\n",
        "            if i not in Outlier_temp_index\n",
        "            if i not in Outlier_wind_index\n",
        "            ]\n",
        "\n",
        "wind_good = [x\n",
        "            for i, x in enumerate(wind)\n",
        "            if i not in Outlier_wind_index\n",
        "            if i not in Outlier_temp_index\n",
        "            ]\n",
        "\n",
        "rain_good = [x\n",
        "            for i, x in enumerate(rain)\n",
        "            if i not in Outlier_wind_index\n",
        "            if i not in Outlier_temp_index]\n",
        "\n",
        "print(checkoutlier(temp_good))"
      ],
      "execution_count": 155,
      "outputs": [
        {
          "output_type": "stream",
          "text": [
            "[28, 61, 104, 165, 176, 196, 211, 273, 274, 275, 276, 277, 278, 279, 280, 281, 282, 379, 394, 421, 463, 464, 465, 480, 481, 483, 484, 485, 491, 492, 494, 496, 497, 498]\n",
            "[142, 162, 168, 273, 276, 277, 278, 279, 281, 411, 469, 475, 506]\n",
            "(6.0500000000000025, 32.85)\n"
          ],
          "name": "stdout"
        }
      ]
    },
    {
      "cell_type": "code",
      "metadata": {
        "id": "s6-TJVOeU9N2",
        "colab_type": "code",
        "colab": {
          "base_uri": "https://localhost:8080/",
          "height": 265
        },
        "outputId": "bd6b8451-4439-4fb1-e910-6e32b4dd1821"
      },
      "source": [
        "plt.boxplot(temp_good)\n",
        "plt.show()"
      ],
      "execution_count": 153,
      "outputs": [
        {
          "output_type": "display_data",
          "data": {
            "image/png": "[encoded data removed]",
            "text/plain": [
              "<Figure size 432x288 with 1 Axes>"
            ]
          },
          "metadata": {
            "tags": [],
            "needs_background": "light"
          }
        }
      ]
    },
    {
      "cell_type": "code",
      "metadata": {
        "id": "FtWIPnnlSXUc",
        "colab_type": "code",
        "colab": {
          "base_uri": "https://localhost:8080/",
          "height": 282
        },
        "outputId": "84913d46-7dcb-4484-eb95-0fa4715d480b"
      },
      "source": [
        "plt.scatter(temp_good, wind_good)\n",
        "plt.show()\n",
        "print(correlation(temp_good, wind_good));"
      ],
      "execution_count": 154,
      "outputs": [
        {
          "output_type": "display_data",
          "data": {
            "image/png": "[encoded data removed]",
            "text/plain": [
              "<Figure size 432x288 with 1 Axes>"
            ]
          },
          "metadata": {
            "tags": [],
            "needs_background": "light"
          }
        },
        {
          "output_type": "stream",
          "text": [
            "-0.15176738001400267\n"
          ],
          "name": "stdout"
        }
      ]
    },
    {
      "cell_type": "code",
      "metadata": {
        "id": "6Y0V0qmZX6Ug",
        "colab_type": "code",
        "colab": {
          "base_uri": "https://localhost:8080/",
          "height": 298
        },
        "outputId": "31fd7a1e-0a16-48ea-a9a3-41d731f90fc3"
      },
      "source": [
        "print('correlation bW temp and rain')\n",
        "print(correlation(temp_good, rain_good))\n",
        "\n",
        "plt.scatter(rain_good, temp_good)\n",
        "plt.show()"
      ],
      "execution_count": 161,
      "outputs": [
        {
          "output_type": "stream",
          "text": [
            "correlation bW temp and rain\n",
            "0.08272767005068021\n"
          ],
          "name": "stdout"
        },
        {
          "output_type": "display_data",
          "data": {
            "image/png": "[encoded data removed]",
            "text/plain": [
              "<Figure size 432x288 with 1 Axes>"
            ]
          },
          "metadata": {
            "tags": [],
            "needs_background": "light"
          }
        }
      ]
    },
    {
      "cell_type": "markdown",
      "metadata": {
        "heading_collapsed": true,
        "id": "bdfgZPMISXUl",
        "colab_type": "text"
      },
      "source": [
        "#  "
      ]
    },
    {
      "cell_type": "code",
      "metadata": {
        "hidden": true,
        "id": "uU5_HBzcSXUm",
        "colab_type": "code",
        "colab": {
          "base_uri": "https://localhost:8080/",
          "height": 892
        },
        "outputId": "08140d18-5dff-4ab5-b8cc-5a0636ae295e"
      },
      "source": [
        "value = [30,40,35,45,23,44,50, 90]\n",
        "value2 = [20,45,55,32,43,231,32,32]\n",
        "print(correlation(value, value2));print()\n",
        "print('mean of value', mean(value))\n",
        "print('mean of value2', mean(value2))\n",
        "print('median of value', median(value))\n",
        "print('median of value2', median(value2));print()\n",
        "plt.scatter(value2, value)\n",
        "plt.xlabel(\"value2\")\n",
        "plt.ylabel(\"value\")\n",
        "plt.show()\n",
        "\n",
        "plt.boxplot(value2)\n",
        "plt.show()\n",
        "\n",
        "plt.boxplot(value)\n",
        "plt.show()"
      ],
      "execution_count": 109,
      "outputs": [
        {
          "output_type": "stream",
          "text": [
            "-0.04748418702402552\n",
            "\n",
            "mean of value 44.625\n",
            "mean of value2 61.25\n",
            "median of value 42.0\n",
            "median of value2 37.5\n",
            "\n"
          ],
          "name": "stdout"
        },
        {
          "output_type": "display_data",
          "data": {
            "image/png": "[encoded data removed]",
            "text/plain": [
              "<Figure size 432x288 with 1 Axes>"
            ]
          },
          "metadata": {
            "tags": [],
            "needs_background": "light"
          }
        },
        {
          "output_type": "display_data",
          "data": {
            "image/png": "[encoded data removed]",
            "text/plain": [
              "<Figure size 432x288 with 1 Axes>"
            ]
          },
          "metadata": {
            "tags": [],
            "needs_background": "light"
          }
        },
        {
          "output_type": "display_data",
          "data": {
            "image/png": "[encoded data removed]",
            "text/plain": [
              "<Figure size 432x288 with 1 Axes>"
            ]
          },
          "metadata": {
            "tags": [],
            "needs_background": "light"
          }
        }
      ]
    },
    {
      "cell_type": "code",
      "metadata": {
        "hidden": true,
        "id": "r1vBZHoTSXUp",
        "colab_type": "code",
        "colab": {}
      },
      "source": [
        "outlier = value.index(90)\n",
        "outlier1 = value2.index(231)\n",
        "\n",
        "num_value_good = [x for i, x in enumerate(value)\n",
        "                    if i!=outlier]\n",
        "num_value2_good = [x for i, x in enumerate(value2)\n",
        "                     if i!=outlier1]"
      ],
      "execution_count": 110,
      "outputs": []
    },
    {
      "cell_type": "code",
      "metadata": {
        "hidden": true,
        "id": "Bf0TimwNSXUu",
        "colab_type": "code",
        "colab": {
          "base_uri": "https://localhost:8080/",
          "height": 630
        },
        "outputId": "8e300823-9f5f-4f97-a4e2-7dbb1ed7ca38"
      },
      "source": [
        "print('mean num_value_good', mean(num_value_good))\n",
        "print('mean num_value2_good', mean(num_value2_good))\n",
        "print('median num_value_good', median(num_value_good))\n",
        "print('medain num_value2_good', median(num_value2_good));print()\n",
        "print(correlation(num_value_good, num_value2_good))\n",
        "plt.boxplot(num_value2_good)\n",
        "plt.show()\n",
        "plt.boxplot(num_value_good)\n",
        "plt.show()\n",
        "\n",
        "checkoutlier(num_value_good)"
      ],
      "execution_count": 111,
      "outputs": [
        {
          "output_type": "stream",
          "text": [
            "mean num_value_good 38.142857142857146\n",
            "mean num_value2_good 37.0\n",
            "median num_value_good 40\n",
            "medain num_value2_good 32\n",
            "\n",
            "-0.1808980645631524\n"
          ],
          "name": "stdout"
        },
        {
          "output_type": "display_data",
          "data": {
            "image/png": "[encoded data removed]",
            "text/plain": [
              "<Figure size 432x288 with 1 Axes>"
            ]
          },
          "metadata": {
            "tags": [],
            "needs_background": "light"
          }
        },
        {
          "output_type": "display_data",
          "data": {
            "image/png": "[encoded data removed]",
            "text/plain": [
              "<Figure size 432x288 with 1 Axes>"
            ]
          },
          "metadata": {
            "tags": [],
            "needs_background": "light"
          }
        },
        {
          "output_type": "execute_result",
          "data": {
            "text/plain": [
              "(7.5, 67.5)"
            ]
          },
          "metadata": {
            "tags": []
          },
          "execution_count": 111
        }
      ]
    },
    {
      "cell_type": "markdown",
      "metadata": {
        "hidden": true,
        "id": "k8Cho07ASXU1",
        "colab_type": "text"
      },
      "source": [
        ""
      ]
    }
  ]
}