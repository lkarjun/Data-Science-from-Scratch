{
  "nbformat": 4,
  "nbformat_minor": 0,
  "metadata": {
    "kernelspec": {
      "display_name": "Python 3.8.3 32-bit ('Data-science': pipenv)",
      "language": "python",
      "name": "python38332bitdatasciencepipenveaa5f30ae77d477fb1a61fa641f548c1"
    },
    "language_info": {
      "codemirror_mode": {
        "name": "ipython",
        "version": 3
      },
      "file_extension": ".py",
      "mimetype": "text/x-python",
      "name": "python",
      "nbconvert_exporter": "python",
      "pygments_lexer": "ipython3",
      "version": "3.8.3"
    },
    "toc": {
      "base_numbering": 1,
      "nav_menu": {},
      "number_sections": true,
      "sideBar": true,
      "skip_h1_title": false,
      "title_cell": "Table of Contents",
      "title_sidebar": "Contents",
      "toc_cell": false,
      "toc_position": {},
      "toc_section_display": true,
      "toc_window_display": false
    },
    "colab": {
      "name": "playground.ipynb",
      "provenance": [],
      "toc_visible": true,
      "include_colab_link": true
    }
  },
  "cells": [
    {
      "cell_type": "markdown",
      "metadata": {
        "id": "view-in-github",
        "colab_type": "text"
      },
      "source": [
        "<a href=\"https://colab.research.google.com/github/lkarjun/Data-Science-from-Scratch/blob/master/ChapterFive/playground.ipynb\" target=\"_parent\"><img src=\"https://colab.research.google.com/assets/colab-badge.svg\" alt=\"Open In Colab\"/></a>"
      ]
    },
    {
      "cell_type": "code",
      "metadata": {
        "id": "_0iAu7kgGIF4",
        "colab_type": "code",
        "colab": {}
      },
      "source": [
        "import pandas as pd\n",
        "import matplotlib.pyplot as plt\n",
        "from typing import List, Tuple\n",
        "import math"
      ],
      "execution_count": 1,
      "outputs": []
    },
    {
      "cell_type": "code",
      "metadata": {
        "id": "b8NXPtJbGIGM",
        "colab_type": "code",
        "colab": {}
      },
      "source": [
        "data = pd.read_csv('Absenties.csv', delimiter=';')\n",
        "data.head()\n",
        "distance = list(data.distance_work)\n",
        "transport_exp = list(data.transportation_exp)"
      ],
      "execution_count": 12,
      "outputs": []
    },
    {
      "cell_type": "markdown",
      "metadata": {
        "id": "yRN3ZfPxG2b1",
        "colab_type": "text"
      },
      "source": [
        "# Fuctions"
      ]
    },
    {
      "cell_type": "code",
      "metadata": {
        "id": "xEdycLlyGIGn",
        "colab_type": "code",
        "colab": {}
      },
      "source": [
        "Vector = List[float]\n",
        "\n",
        "def dot(v: Vector, w: Vector) -> float:\n",
        "    assert len(v) == len(w), 'len of vectors dont match'\n",
        "    return sum(v_i * w_i for v_i, w_i in zip(v,w))\n",
        "    \n",
        "def sum_of_squares(v: Vector) -> float:\n",
        "    return dot(v,v)\n",
        "\n",
        "def mean(xs: List[float]) -> float:\n",
        "    return sum(xs)/len(xs)\n",
        "\n",
        "def _median_odd(xs: List[float]):\n",
        "    return sorted(xs)[len(xs)//2]\n",
        "\n",
        "def _median_even(xs: List[float]) -> float:\n",
        "    sorted_xs = sorted(xs)\n",
        "    hi_midpoint = len(xs) // 2\n",
        "    return (sorted_xs[hi_midpoint -1]+ sorted_xs[hi_midpoint])/2\n",
        "\n",
        "def median(v: List[float]) -> float:\n",
        "    return _median_even(v) if len(v) % 2 == 0 else _median_odd(v)\n",
        "\n",
        "def de_mean(xs: List[float]) -> List[float]:\n",
        "    x_bar = mean(xs)\n",
        "    return [x - x_bar for x in xs]\n",
        "\n",
        "def variance(xs: List[float]) -> float:\n",
        "    assert len(xs) >= 2, 'variance requires at least two elements'\n",
        "    n = len(xs)\n",
        "    deviations = de_mean(xs)\n",
        "    return sum_of_squares(deviations) / (n-1)\n",
        "\n",
        "\n",
        "def standard_deviation(xs: List[float]) -> float:\n",
        "    return math.sqrt(variance(xs))\n",
        "\n",
        "def covariance(xs: List[float], ys: List[float]) -> float:\n",
        "    assert len(xs) == len(ys)\n",
        "    return dot(de_mean(xs), de_mean(ys))/(len(xs)-1)\n",
        "\n",
        "def correlation(xs: List[float], ys: List[float]) -> float:\n",
        "    stdev_x = standard_deviation(xs)\n",
        "    stdev_y = standard_deviation(ys)\n",
        "    if stdev_x > 0 and stdev_y > 0:\n",
        "        return covariance(xs, ys)/ stdev_x/stdev_y\n",
        "    else:\n",
        "        return 0\n",
        "        \n",
        "def quantile(xs: List[float], p: float) -> float:\n",
        "    p_index = int(p * len(xs))\n",
        "    return sorted(xs)[p_index]\n",
        "\n",
        "def iqr(xs: List[float]) -> float:\n",
        "    return quantile(xs, 0.75) - quantile(xs, 0.25)\n",
        "\n",
        "\n",
        "def checkoutlier(xs: List[float]) -> Tuple:\n",
        "    iqr1 = 1.5* (iqr(xs))\n",
        "    q1 = (quantile(xs, 0.25)) - iqr1\n",
        "    q2 = (quantile(xs, 0.75)) + iqr1\n",
        "    return q1,q2\n"
      ],
      "execution_count": 4,
      "outputs": []
    },
    {
      "cell_type": "markdown",
      "metadata": {
        "id": "TujVfUAiG8y1",
        "colab_type": "text"
      },
      "source": [
        "# Absentees"
      ]
    },
    {
      "cell_type": "code",
      "metadata": {
        "id": "9n14pvsRGIHA",
        "colab_type": "code",
        "colab": {
          "base_uri": "https://localhost:8080/",
          "height": 150
        },
        "outputId": "7712bc28-6b61-4f1d-d3a3-346f91578530"
      },
      "source": [
        "print(\"Correlation between distance and transport exp\");print()\n",
        "print(correlation(distance, transport_exp));print()\n",
        "\n",
        "print(checkoutlier(distance));print()\n",
        "print(checkoutlier(transport_exp));print()"
      ],
      "execution_count": 13,
      "outputs": [
        {
          "output_type": "stream",
          "text": [
            "Correlation between distance and transport exp\n",
            "\n",
            "0.26218311063190686\n",
            "\n",
            "(-35.0, 101.0)\n",
            "\n",
            "(57.5, 381.5)\n",
            "\n"
          ],
          "name": "stdout"
        }
      ]
    },
    {
      "cell_type": "code",
      "metadata": {
        "id": "AQwaoOhjGIHc",
        "colab_type": "code",
        "colab": {},
        "outputId": "2b29f569-87c4-44e7-cd45-cdf00fe8b0fe"
      },
      "source": [
        "data.describe()"
      ],
      "execution_count": null,
      "outputs": [
        {
          "output_type": "execute_result",
          "data": {
            "text/html": [
              "<div>\n",
              "<style scoped>\n",
              "    .dataframe tbody tr th:only-of-type {\n",
              "        vertical-align: middle;\n",
              "    }\n",
              "\n",
              "    .dataframe tbody tr th {\n",
              "        vertical-align: top;\n",
              "    }\n",
              "\n",
              "    .dataframe thead th {\n",
              "        text-align: right;\n",
              "    }\n",
              "</style>\n",
              "<table border=\"1\" class=\"dataframe\">\n",
              "  <thead>\n",
              "    <tr style=\"text-align: right;\">\n",
              "      <th></th>\n",
              "      <th>ID</th>\n",
              "      <th>Reason for absence</th>\n",
              "      <th>Month of absence</th>\n",
              "      <th>Day of the week</th>\n",
              "      <th>Seasons</th>\n",
              "      <th>transportation_exp</th>\n",
              "      <th>distance_work</th>\n",
              "      <th>Service time</th>\n",
              "      <th>Age</th>\n",
              "      <th>Work load Average/day</th>\n",
              "      <th>...</th>\n",
              "      <th>Disciplinary failure</th>\n",
              "      <th>Education</th>\n",
              "      <th>Son</th>\n",
              "      <th>Social drinker</th>\n",
              "      <th>Social smoker</th>\n",
              "      <th>Pet</th>\n",
              "      <th>Weight</th>\n",
              "      <th>Height</th>\n",
              "      <th>Body mass index</th>\n",
              "      <th>Absenteeism time in hours</th>\n",
              "    </tr>\n",
              "  </thead>\n",
              "  <tbody>\n",
              "    <tr>\n",
              "      <th>count</th>\n",
              "      <td>740.000000</td>\n",
              "      <td>740.000000</td>\n",
              "      <td>740.000000</td>\n",
              "      <td>740.000000</td>\n",
              "      <td>740.000000</td>\n",
              "      <td>740.000000</td>\n",
              "      <td>740.000000</td>\n",
              "      <td>740.000000</td>\n",
              "      <td>740.000000</td>\n",
              "      <td>740.000000</td>\n",
              "      <td>...</td>\n",
              "      <td>740.000000</td>\n",
              "      <td>740.000000</td>\n",
              "      <td>740.000000</td>\n",
              "      <td>740.000000</td>\n",
              "      <td>740.000000</td>\n",
              "      <td>740.000000</td>\n",
              "      <td>740.000000</td>\n",
              "      <td>740.000000</td>\n",
              "      <td>740.000000</td>\n",
              "      <td>740.000000</td>\n",
              "    </tr>\n",
              "    <tr>\n",
              "      <th>mean</th>\n",
              "      <td>18.017568</td>\n",
              "      <td>19.216216</td>\n",
              "      <td>6.324324</td>\n",
              "      <td>3.914865</td>\n",
              "      <td>2.544595</td>\n",
              "      <td>221.329730</td>\n",
              "      <td>29.631081</td>\n",
              "      <td>12.554054</td>\n",
              "      <td>36.450000</td>\n",
              "      <td>271.490235</td>\n",
              "      <td>...</td>\n",
              "      <td>0.054054</td>\n",
              "      <td>1.291892</td>\n",
              "      <td>1.018919</td>\n",
              "      <td>0.567568</td>\n",
              "      <td>0.072973</td>\n",
              "      <td>0.745946</td>\n",
              "      <td>79.035135</td>\n",
              "      <td>172.114865</td>\n",
              "      <td>26.677027</td>\n",
              "      <td>6.924324</td>\n",
              "    </tr>\n",
              "    <tr>\n",
              "      <th>std</th>\n",
              "      <td>11.021247</td>\n",
              "      <td>8.433406</td>\n",
              "      <td>3.436287</td>\n",
              "      <td>1.421675</td>\n",
              "      <td>1.111831</td>\n",
              "      <td>66.952223</td>\n",
              "      <td>14.836788</td>\n",
              "      <td>4.384873</td>\n",
              "      <td>6.478772</td>\n",
              "      <td>39.058116</td>\n",
              "      <td>...</td>\n",
              "      <td>0.226277</td>\n",
              "      <td>0.673238</td>\n",
              "      <td>1.098489</td>\n",
              "      <td>0.495749</td>\n",
              "      <td>0.260268</td>\n",
              "      <td>1.318258</td>\n",
              "      <td>12.883211</td>\n",
              "      <td>6.034995</td>\n",
              "      <td>4.285452</td>\n",
              "      <td>13.330998</td>\n",
              "    </tr>\n",
              "    <tr>\n",
              "      <th>min</th>\n",
              "      <td>1.000000</td>\n",
              "      <td>0.000000</td>\n",
              "      <td>0.000000</td>\n",
              "      <td>2.000000</td>\n",
              "      <td>1.000000</td>\n",
              "      <td>118.000000</td>\n",
              "      <td>5.000000</td>\n",
              "      <td>1.000000</td>\n",
              "      <td>27.000000</td>\n",
              "      <td>205.917000</td>\n",
              "      <td>...</td>\n",
              "      <td>0.000000</td>\n",
              "      <td>1.000000</td>\n",
              "      <td>0.000000</td>\n",
              "      <td>0.000000</td>\n",
              "      <td>0.000000</td>\n",
              "      <td>0.000000</td>\n",
              "      <td>56.000000</td>\n",
              "      <td>163.000000</td>\n",
              "      <td>19.000000</td>\n",
              "      <td>0.000000</td>\n",
              "    </tr>\n",
              "    <tr>\n",
              "      <th>25%</th>\n",
              "      <td>9.000000</td>\n",
              "      <td>13.000000</td>\n",
              "      <td>3.000000</td>\n",
              "      <td>3.000000</td>\n",
              "      <td>2.000000</td>\n",
              "      <td>179.000000</td>\n",
              "      <td>16.000000</td>\n",
              "      <td>9.000000</td>\n",
              "      <td>31.000000</td>\n",
              "      <td>244.387000</td>\n",
              "      <td>...</td>\n",
              "      <td>0.000000</td>\n",
              "      <td>1.000000</td>\n",
              "      <td>0.000000</td>\n",
              "      <td>0.000000</td>\n",
              "      <td>0.000000</td>\n",
              "      <td>0.000000</td>\n",
              "      <td>69.000000</td>\n",
              "      <td>169.000000</td>\n",
              "      <td>24.000000</td>\n",
              "      <td>2.000000</td>\n",
              "    </tr>\n",
              "    <tr>\n",
              "      <th>50%</th>\n",
              "      <td>18.000000</td>\n",
              "      <td>23.000000</td>\n",
              "      <td>6.000000</td>\n",
              "      <td>4.000000</td>\n",
              "      <td>3.000000</td>\n",
              "      <td>225.000000</td>\n",
              "      <td>26.000000</td>\n",
              "      <td>13.000000</td>\n",
              "      <td>37.000000</td>\n",
              "      <td>264.249000</td>\n",
              "      <td>...</td>\n",
              "      <td>0.000000</td>\n",
              "      <td>1.000000</td>\n",
              "      <td>1.000000</td>\n",
              "      <td>1.000000</td>\n",
              "      <td>0.000000</td>\n",
              "      <td>0.000000</td>\n",
              "      <td>83.000000</td>\n",
              "      <td>170.000000</td>\n",
              "      <td>25.000000</td>\n",
              "      <td>3.000000</td>\n",
              "    </tr>\n",
              "    <tr>\n",
              "      <th>75%</th>\n",
              "      <td>28.000000</td>\n",
              "      <td>26.000000</td>\n",
              "      <td>9.000000</td>\n",
              "      <td>5.000000</td>\n",
              "      <td>4.000000</td>\n",
              "      <td>260.000000</td>\n",
              "      <td>50.000000</td>\n",
              "      <td>16.000000</td>\n",
              "      <td>40.000000</td>\n",
              "      <td>294.217000</td>\n",
              "      <td>...</td>\n",
              "      <td>0.000000</td>\n",
              "      <td>1.000000</td>\n",
              "      <td>2.000000</td>\n",
              "      <td>1.000000</td>\n",
              "      <td>0.000000</td>\n",
              "      <td>1.000000</td>\n",
              "      <td>89.000000</td>\n",
              "      <td>172.000000</td>\n",
              "      <td>31.000000</td>\n",
              "      <td>8.000000</td>\n",
              "    </tr>\n",
              "    <tr>\n",
              "      <th>max</th>\n",
              "      <td>36.000000</td>\n",
              "      <td>28.000000</td>\n",
              "      <td>12.000000</td>\n",
              "      <td>6.000000</td>\n",
              "      <td>4.000000</td>\n",
              "      <td>388.000000</td>\n",
              "      <td>52.000000</td>\n",
              "      <td>29.000000</td>\n",
              "      <td>58.000000</td>\n",
              "      <td>378.884000</td>\n",
              "      <td>...</td>\n",
              "      <td>1.000000</td>\n",
              "      <td>4.000000</td>\n",
              "      <td>4.000000</td>\n",
              "      <td>1.000000</td>\n",
              "      <td>1.000000</td>\n",
              "      <td>8.000000</td>\n",
              "      <td>108.000000</td>\n",
              "      <td>196.000000</td>\n",
              "      <td>38.000000</td>\n",
              "      <td>120.000000</td>\n",
              "    </tr>\n",
              "  </tbody>\n",
              "</table>\n",
              "<p>8 rows × 21 columns</p>\n",
              "</div>"
            ],
            "text/plain": [
              "               ID  Reason for absence  Month of absence  Day of the week  \\\n",
              "count  740.000000          740.000000        740.000000       740.000000   \n",
              "mean    18.017568           19.216216          6.324324         3.914865   \n",
              "std     11.021247            8.433406          3.436287         1.421675   \n",
              "min      1.000000            0.000000          0.000000         2.000000   \n",
              "25%      9.000000           13.000000          3.000000         3.000000   \n",
              "50%     18.000000           23.000000          6.000000         4.000000   \n",
              "75%     28.000000           26.000000          9.000000         5.000000   \n",
              "max     36.000000           28.000000         12.000000         6.000000   \n",
              "\n",
              "          Seasons  transportation_exp  distance_work  Service time  \\\n",
              "count  740.000000          740.000000     740.000000    740.000000   \n",
              "mean     2.544595          221.329730      29.631081     12.554054   \n",
              "std      1.111831           66.952223      14.836788      4.384873   \n",
              "min      1.000000          118.000000       5.000000      1.000000   \n",
              "25%      2.000000          179.000000      16.000000      9.000000   \n",
              "50%      3.000000          225.000000      26.000000     13.000000   \n",
              "75%      4.000000          260.000000      50.000000     16.000000   \n",
              "max      4.000000          388.000000      52.000000     29.000000   \n",
              "\n",
              "              Age  Work load Average/day   ...  Disciplinary failure  \\\n",
              "count  740.000000              740.000000  ...            740.000000   \n",
              "mean    36.450000              271.490235  ...              0.054054   \n",
              "std      6.478772               39.058116  ...              0.226277   \n",
              "min     27.000000              205.917000  ...              0.000000   \n",
              "25%     31.000000              244.387000  ...              0.000000   \n",
              "50%     37.000000              264.249000  ...              0.000000   \n",
              "75%     40.000000              294.217000  ...              0.000000   \n",
              "max     58.000000              378.884000  ...              1.000000   \n",
              "\n",
              "        Education         Son  Social drinker  Social smoker         Pet  \\\n",
              "count  740.000000  740.000000      740.000000     740.000000  740.000000   \n",
              "mean     1.291892    1.018919        0.567568       0.072973    0.745946   \n",
              "std      0.673238    1.098489        0.495749       0.260268    1.318258   \n",
              "min      1.000000    0.000000        0.000000       0.000000    0.000000   \n",
              "25%      1.000000    0.000000        0.000000       0.000000    0.000000   \n",
              "50%      1.000000    1.000000        1.000000       0.000000    0.000000   \n",
              "75%      1.000000    2.000000        1.000000       0.000000    1.000000   \n",
              "max      4.000000    4.000000        1.000000       1.000000    8.000000   \n",
              "\n",
              "           Weight      Height  Body mass index  Absenteeism time in hours  \n",
              "count  740.000000  740.000000       740.000000                 740.000000  \n",
              "mean    79.035135  172.114865        26.677027                   6.924324  \n",
              "std     12.883211    6.034995         4.285452                  13.330998  \n",
              "min     56.000000  163.000000        19.000000                   0.000000  \n",
              "25%     69.000000  169.000000        24.000000                   2.000000  \n",
              "50%     83.000000  170.000000        25.000000                   3.000000  \n",
              "75%     89.000000  172.000000        31.000000                   8.000000  \n",
              "max    108.000000  196.000000        38.000000                 120.000000  \n",
              "\n",
              "[8 rows x 21 columns]"
            ]
          },
          "metadata": {
            "tags": []
          },
          "execution_count": 182
        }
      ]
    },
    {
      "cell_type": "code",
      "metadata": {
        "id": "m__Z9hIVGIIF",
        "colab_type": "code",
        "colab": {
          "base_uri": "https://localhost:8080/",
          "height": 285
        },
        "outputId": "b544c52f-62ff-4dca-965b-90d45a0314fd"
      },
      "source": [
        "plt.scatter(distance, transport_exp)"
      ],
      "execution_count": 14,
      "outputs": [
        {
          "output_type": "execute_result",
          "data": {
            "text/plain": [
              "<matplotlib.collections.PathCollection at 0x7f19e8ffab00>"
            ]
          },
          "metadata": {
            "tags": []
          },
          "execution_count": 14
        },
        {
          "output_type": "display_data",
          "data": {
            "image/png": "[encoded data removed]",
            "text/plain": [
              "<Figure size 432x288 with 1 Axes>"
            ]
          },
          "metadata": {
            "tags": [],
            "needs_background": "light"
          }
        }
      ]
    },
    {
      "cell_type": "code",
      "metadata": {
        "id": "P2gyYyhpGIIR",
        "colab_type": "code",
        "colab": {
          "base_uri": "https://localhost:8080/",
          "height": 67
        },
        "outputId": "dcd99ca9-85ad-417a-8f74-bde5bb92bc2d"
      },
      "source": [
        "#outliers index\n",
        "\n",
        "out_tranExp = [i\n",
        "               for i, a in enumerate(transport_exp)\n",
        "               if a > 380\n",
        "               ]\n",
        "\n",
        "print(out_tranExp)\n",
        "\n",
        "assert out_tranExp == [144, 145, 216]\n",
        "\n",
        "good_dis = [dis\n",
        "           for i, dis in enumerate(distance)\n",
        "           if i not in out_tranExp]\n",
        "\n",
        "good_trans_exp = [trans\n",
        "            for i, trans in enumerate(transport_exp)\n",
        "            if i not in out_tranExp]\n",
        "\n",
        "print(len(transport_exp))\n",
        "print(len(good_trans_exp))\n",
        "assert (len(good_dis)==len(good_trans_exp))"
      ],
      "execution_count": 56,
      "outputs": [
        {
          "output_type": "stream",
          "text": [
            "[144, 145, 216]\n",
            "740\n",
            "737\n"
          ],
          "name": "stdout"
        }
      ]
    },
    {
      "cell_type": "code",
      "metadata": {
        "id": "82uKhinkGIIX",
        "colab_type": "code",
        "colab": {
          "base_uri": "https://localhost:8080/",
          "height": 265
        },
        "outputId": "36625351-4dd9-444a-f31b-b1354b6de0b4"
      },
      "source": [
        "plt.boxplot([good_trans_exp, good_dis])\n",
        "plt.show()"
      ],
      "execution_count": 47,
      "outputs": [
        {
          "output_type": "display_data",
          "data": {
            "image/png": "[encoded data removed]",
            "text/plain": [
              "<Figure size 432x288 with 1 Axes>"
            ]
          },
          "metadata": {
            "tags": [],
            "needs_background": "light"
          }
        }
      ]
    },
    {
      "cell_type": "code",
      "metadata": {
        "id": "vsfEzjvsLiwy",
        "colab_type": "code",
        "colab": {
          "base_uri": "https://localhost:8080/",
          "height": 282
        },
        "outputId": "d50475e2-108f-4842-b44a-01bedf893480"
      },
      "source": [
        "print(correlation(good_trans_exp, good_dis))\n",
        "plt.scatter(good_trans_exp, good_dis)\n",
        "plt.show()"
      ],
      "execution_count": 44,
      "outputs": [
        {
          "output_type": "stream",
          "text": [
            "0.2762416074684498\n"
          ],
          "name": "stdout"
        },
        {
          "output_type": "display_data",
          "data": {
            "image/png": "[encoded data removed]",
            "text/plain": [
              "<Figure size 432x288 with 1 Axes>"
            ]
          },
          "metadata": {
            "tags": [],
            "needs_background": "light"
          }
        }
      ]
    },
    {
      "cell_type": "code",
      "metadata": {
        "id": "XitUH6SnNaHM",
        "colab_type": "code",
        "colab": {}
      },
      "source": [
        ""
      ],
      "execution_count": null,
      "outputs": []
    }
  ]
}