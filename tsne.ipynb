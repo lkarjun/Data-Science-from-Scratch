{
 "metadata": {
  "language_info": {
   "codemirror_mode": {
    "name": "ipython",
    "version": 3
   },
   "file_extension": ".py",
   "mimetype": "text/x-python",
   "name": "python",
   "nbconvert_exporter": "python",
   "pygments_lexer": "ipython3",
   "version": "3.8.5-final"
  },
  "orig_nbformat": 2,
  "kernelspec": {
   "name": "python3",
   "display_name": "Python 3.8.5 32-bit",
   "metadata": {
    "interpreter": {
     "hash": "4af90f45c7792a747df031fcfb3e75fbadd5ecde1f96328d33556550aaa66aac"
    }
   }
  }
 },
 "nbformat": 4,
 "nbformat_minor": 2,
 "cells": [
  {
   "source": [
    "## t-SNE with mnist dataset"
   ],
   "cell_type": "markdown",
   "metadata": {}
  },
  {
   "cell_type": "code",
   "execution_count": 41,
   "metadata": {},
   "outputs": [],
   "source": [
    "from sklearn.manifold import TSNE\n",
    "from sklearn.datasets import load_digits\n",
    "\n",
    "import matplotlib.pyplot as plt\n",
    "import numpy as np\n",
    "import pandas as pd"
   ]
  },
  {
   "cell_type": "code",
   "execution_count": 13,
   "metadata": {},
   "outputs": [],
   "source": [
    "data = load_digits()"
   ]
  },
  {
   "cell_type": "code",
   "execution_count": 50,
   "metadata": {},
   "outputs": [
    {
     "output_type": "execute_result",
     "data": {
      "text/plain": [
       "array([ 0.,  0.,  0.,  4., 15., 12.,  0.,  0.,  0.,  0.,  3., 16., 15.,\n",
       "       14.,  0.,  0.,  0.,  0.,  8., 13.,  8., 16.,  0.,  0.,  0.,  0.,\n",
       "        1.,  6., 15., 11.,  0.,  0.,  0.,  1.,  8., 13., 15.,  1.,  0.,\n",
       "        0.,  0.,  9., 16., 16.,  5.,  0.,  0.,  0.,  0.,  3., 13., 16.,\n",
       "       16., 11.,  5.,  0.,  0.,  0.,  0.,  3., 11., 16.,  9.,  0.])"
      ]
     },
     "metadata": {},
     "execution_count": 50
    }
   ],
   "source": [
    "data_1000 = data.data[:1000, :]\n",
    "label_1000 = data.target[:1000]\n",
    "data_1000[2]"
   ]
  },
  {
   "cell_type": "code",
   "execution_count": 51,
   "metadata": {},
   "outputs": [],
   "source": [
    "model = TSNE()\n",
    "tsne_data = model.fit_transform(data_1000)"
   ]
  },
  {
   "cell_type": "code",
   "execution_count": 83,
   "metadata": {},
   "outputs": [
    {
     "output_type": "execute_result",
     "data": {
      "text/plain": [
       "        Dim1       Dim2\n",
       "0 -30.142420  39.010490\n",
       "1  -6.515481  -9.835927\n",
       "2  12.332305 -11.270389"
      ],
      "text/html": "<div>\n<style scoped>\n    .dataframe tbody tr th:only-of-type {\n        vertical-align: middle;\n    }\n\n    .dataframe tbody tr th {\n        vertical-align: top;\n    }\n\n    .dataframe thead th {\n        text-align: right;\n    }\n</style>\n<table border=\"1\" class=\"dataframe\">\n  <thead>\n    <tr style=\"text-align: right;\">\n      <th></th>\n      <th>Dim1</th>\n      <th>Dim2</th>\n    </tr>\n  </thead>\n  <tbody>\n    <tr>\n      <th>0</th>\n      <td>-30.142420</td>\n      <td>39.010490</td>\n    </tr>\n    <tr>\n      <th>1</th>\n      <td>-6.515481</td>\n      <td>-9.835927</td>\n    </tr>\n    <tr>\n      <th>2</th>\n      <td>12.332305</td>\n      <td>-11.270389</td>\n    </tr>\n  </tbody>\n</table>\n</div>"
     },
     "metadata": {},
     "execution_count": 83
    }
   ],
   "source": [
    "df = pd.DataFrame(data=tsne_data, columns=('Dim1', 'Dim2'))\n",
    "df.head(3)"
   ]
  },
  {
   "cell_type": "code",
   "execution_count": 86,
   "metadata": {},
   "outputs": [],
   "source": [
    "df['label'] = label_1000.T"
   ]
  },
  {
   "cell_type": "code",
   "execution_count": 92,
   "metadata": {},
   "outputs": [
    {
     "output_type": "execute_result",
     "data": {
      "text/plain": [
       "          Dim1       Dim2  label\n",
       "669  35.430779  10.305792      3\n",
       "550 -37.273506   3.450357      6\n",
       "507 -22.179764 -22.389647      4\n",
       "646 -31.751205  37.674759      0\n",
       "849  22.423552  17.942823      9\n",
       "872  20.272526  -0.658026      8\n",
       "946 -21.439157 -27.752415      4\n",
       "57   12.223080 -11.499736      2"
      ],
      "text/html": "<div>\n<style scoped>\n    .dataframe tbody tr th:only-of-type {\n        vertical-align: middle;\n    }\n\n    .dataframe tbody tr th {\n        vertical-align: top;\n    }\n\n    .dataframe thead th {\n        text-align: right;\n    }\n</style>\n<table border=\"1\" class=\"dataframe\">\n  <thead>\n    <tr style=\"text-align: right;\">\n      <th></th>\n      <th>Dim1</th>\n      <th>Dim2</th>\n      <th>label</th>\n    </tr>\n  </thead>\n  <tbody>\n    <tr>\n      <th>669</th>\n      <td>35.430779</td>\n      <td>10.305792</td>\n      <td>3</td>\n    </tr>\n    <tr>\n      <th>550</th>\n      <td>-37.273506</td>\n      <td>3.450357</td>\n      <td>6</td>\n    </tr>\n    <tr>\n      <th>507</th>\n      <td>-22.179764</td>\n      <td>-22.389647</td>\n      <td>4</td>\n    </tr>\n    <tr>\n      <th>646</th>\n      <td>-31.751205</td>\n      <td>37.674759</td>\n      <td>0</td>\n    </tr>\n    <tr>\n      <th>849</th>\n      <td>22.423552</td>\n      <td>17.942823</td>\n      <td>9</td>\n    </tr>\n    <tr>\n      <th>872</th>\n      <td>20.272526</td>\n      <td>-0.658026</td>\n      <td>8</td>\n    </tr>\n    <tr>\n      <th>946</th>\n      <td>-21.439157</td>\n      <td>-27.752415</td>\n      <td>4</td>\n    </tr>\n    <tr>\n      <th>57</th>\n      <td>12.223080</td>\n      <td>-11.499736</td>\n      <td>2</td>\n    </tr>\n  </tbody>\n</table>\n</div>"
     },
     "metadata": {},
     "execution_count": 92
    }
   ],
   "source": [
    "df.sample(8)"
   ]
  },
  {
   "cell_type": "code",
   "execution_count": null,
   "metadata": {},
   "outputs": [],
   "source": []
  }
 ]
}