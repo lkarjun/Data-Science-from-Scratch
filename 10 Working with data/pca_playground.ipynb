{
 "cells": [
  {
   "cell_type": "markdown",
   "metadata": {},
   "source": [
    "# PCA"
   ]
  },
  {
   "cell_type": "code",
   "execution_count": 1,
   "metadata": {},
   "outputs": [],
   "source": [
    "import pandas as pd\n",
    "import numpy as np\n",
    "import random as rd\n",
    "from sklearn.decomposition import PCA\n",
    "from sklearn import preprocessing\n",
    "import matplotlib.pyplot as plt"
   ]
  },
  {
   "cell_type": "code",
   "execution_count": 3,
   "metadata": {},
   "outputs": [],
   "source": [
    "genes = ['gene'+str(i) for i in range(1,101)]"
   ]
  },
  {
   "cell_type": "code",
   "execution_count": 4,
   "metadata": {},
   "outputs": [],
   "source": [
    "wt = ['wt'+str(i) for i in range(1,6)]\n",
    "ko = ['ko'+str(i) for i in range(1,6)]\n"
   ]
  },
  {
   "cell_type": "code",
   "execution_count": 5,
   "metadata": {},
   "outputs": [],
   "source": [
    "data = pd.DataFrame(columns=[*wt, *ko], index=genes)"
   ]
  },
  {
   "cell_type": "code",
   "execution_count": 6,
   "metadata": {},
   "outputs": [],
   "source": [
    "for gene in data.index:\n",
    "    data.loc[gene, 'wt1':'wt5'] = np.random.poisson(lam=rd.randrange(10100), size=5)\n",
    "    data.loc[gene, 'ko1':'ko5'] = np.random.poisson(lam=rd.randrange(10100), size=5)\n",
    "    "
   ]
  },
  {
   "cell_type": "code",
   "execution_count": 7,
   "metadata": {},
   "outputs": [
    {
     "data": {
      "text/html": [
       "<div>\n",
       "<style scoped>\n",
       "    .dataframe tbody tr th:only-of-type {\n",
       "        vertical-align: middle;\n",
       "    }\n",
       "\n",
       "    .dataframe tbody tr th {\n",
       "        vertical-align: top;\n",
       "    }\n",
       "\n",
       "    .dataframe thead th {\n",
       "        text-align: right;\n",
       "    }\n",
       "</style>\n",
       "<table border=\"1\" class=\"dataframe\">\n",
       "  <thead>\n",
       "    <tr style=\"text-align: right;\">\n",
       "      <th></th>\n",
       "      <th>wt1</th>\n",
       "      <th>wt2</th>\n",
       "      <th>wt3</th>\n",
       "      <th>wt4</th>\n",
       "      <th>wt5</th>\n",
       "      <th>ko1</th>\n",
       "      <th>ko2</th>\n",
       "      <th>ko3</th>\n",
       "      <th>ko4</th>\n",
       "      <th>ko5</th>\n",
       "    </tr>\n",
       "  </thead>\n",
       "  <tbody>\n",
       "    <tr>\n",
       "      <th>gene1</th>\n",
       "      <td>8340</td>\n",
       "      <td>8392</td>\n",
       "      <td>8472</td>\n",
       "      <td>8241</td>\n",
       "      <td>8448</td>\n",
       "      <td>3123</td>\n",
       "      <td>3090</td>\n",
       "      <td>3057</td>\n",
       "      <td>3037</td>\n",
       "      <td>3000</td>\n",
       "    </tr>\n",
       "    <tr>\n",
       "      <th>gene2</th>\n",
       "      <td>7637</td>\n",
       "      <td>7685</td>\n",
       "      <td>7696</td>\n",
       "      <td>7710</td>\n",
       "      <td>7510</td>\n",
       "      <td>5254</td>\n",
       "      <td>5399</td>\n",
       "      <td>5303</td>\n",
       "      <td>5385</td>\n",
       "      <td>5393</td>\n",
       "    </tr>\n",
       "    <tr>\n",
       "      <th>gene3</th>\n",
       "      <td>4428</td>\n",
       "      <td>4435</td>\n",
       "      <td>4319</td>\n",
       "      <td>4391</td>\n",
       "      <td>4307</td>\n",
       "      <td>6456</td>\n",
       "      <td>6289</td>\n",
       "      <td>6221</td>\n",
       "      <td>6415</td>\n",
       "      <td>6152</td>\n",
       "    </tr>\n",
       "    <tr>\n",
       "      <th>gene4</th>\n",
       "      <td>4424</td>\n",
       "      <td>4432</td>\n",
       "      <td>4419</td>\n",
       "      <td>4308</td>\n",
       "      <td>4456</td>\n",
       "      <td>9826</td>\n",
       "      <td>9936</td>\n",
       "      <td>9858</td>\n",
       "      <td>9998</td>\n",
       "      <td>10097</td>\n",
       "    </tr>\n",
       "    <tr>\n",
       "      <th>gene5</th>\n",
       "      <td>1617</td>\n",
       "      <td>1596</td>\n",
       "      <td>1644</td>\n",
       "      <td>1557</td>\n",
       "      <td>1622</td>\n",
       "      <td>1641</td>\n",
       "      <td>1595</td>\n",
       "      <td>1643</td>\n",
       "      <td>1572</td>\n",
       "      <td>1623</td>\n",
       "    </tr>\n",
       "  </tbody>\n",
       "</table>\n",
       "</div>"
      ],
      "text/plain": [
       "        wt1   wt2   wt3   wt4   wt5   ko1   ko2   ko3   ko4    ko5\n",
       "gene1  8340  8392  8472  8241  8448  3123  3090  3057  3037   3000\n",
       "gene2  7637  7685  7696  7710  7510  5254  5399  5303  5385   5393\n",
       "gene3  4428  4435  4319  4391  4307  6456  6289  6221  6415   6152\n",
       "gene4  4424  4432  4419  4308  4456  9826  9936  9858  9998  10097\n",
       "gene5  1617  1596  1644  1557  1622  1641  1595  1643  1572   1623"
      ]
     },
     "execution_count": 7,
     "metadata": {},
     "output_type": "execute_result"
    }
   ],
   "source": [
    "data.head()"
   ]
  },
  {
   "cell_type": "code",
   "execution_count": 10,
   "metadata": {},
   "outputs": [
    {
     "data": {
      "text/plain": [
       "(100, 10)"
      ]
     },
     "execution_count": 10,
     "metadata": {},
     "output_type": "execute_result"
    }
   ],
   "source": [
    "data.shape"
   ]
  },
  {
   "cell_type": "code",
   "execution_count": 11,
   "metadata": {},
   "outputs": [],
   "source": [
    "scaled_data = preprocessing.scale(data.T)"
   ]
  },
  {
   "cell_type": "code",
   "execution_count": 83,
   "metadata": {},
   "outputs": [],
   "source": [
    "pca = PCA()"
   ]
  },
  {
   "cell_type": "code",
   "execution_count": 84,
   "metadata": {},
   "outputs": [
    {
     "data": {
      "text/plain": [
       "PCA()"
      ]
     },
     "execution_count": 84,
     "metadata": {},
     "output_type": "execute_result"
    }
   ],
   "source": [
    "pca.fit(scaled_data)"
   ]
  },
  {
   "cell_type": "code",
   "execution_count": 85,
   "metadata": {},
   "outputs": [],
   "source": [
    "pca_data = pca.transform(scaled_data)"
   ]
  },
  {
   "cell_type": "code",
   "execution_count": 89,
   "metadata": {},
   "outputs": [],
   "source": [
    "per_var = np.round(pca.explained_variance_ratio_*100, decimals=1)\n",
    "labels = ['PC'+str(x) for x in range(1, len(per_var)+1)]"
   ]
  },
  {
   "cell_type": "code",
   "execution_count": 90,
   "metadata": {},
   "outputs": [
    {
     "data": {
      "image/png": "[encoded data removed]",
      "text/plain": [
       "<Figure size 432x288 with 1 Axes>"
      ]
     },
     "metadata": {
      "needs_background": "light"
     },
     "output_type": "display_data"
    }
   ],
   "source": [
    "plt.bar(x=range(1,len(per_var)+1), height=per_var, tick_label=labels)\n",
    "plt.ylabel(\"Percentage of Explained Variance\")\n",
    "plt.xlabel(\"principal Component\")\n",
    "plt.title(\"Screen Plot\")\n",
    "plt.show()"
   ]
  },
  {
   "cell_type": "code",
   "execution_count": 92,
   "metadata": {},
   "outputs": [],
   "source": [
    "pca_df = pd.DataFrame(pca_data, index=[*wt, *ko], columns=labels)"
   ]
  },
  {
   "cell_type": "code",
   "execution_count": 100,
   "metadata": {},
   "outputs": [
    {
     "data": {
      "image/png": "[encoded data removed]",
      "text/plain": [
       "<Figure size 432x288 with 1 Axes>"
      ]
     },
     "metadata": {
      "needs_background": "light"
     },
     "output_type": "display_data"
    }
   ],
   "source": [
    "plt.scatter(pca_df.PC1, pca_df.PC2)\n",
    "plt.title(\"MY PCA Graph\")\n",
    "plt.xlabel(f\"PCA 1 - {per_var[0]}%\")\n",
    "plt.ylabel(f\"PCA 2 - {per_var[1]}%\")\n",
    "\n",
    "for sample in pca_df.index:\n",
    "    plt.annotate(sample, (pca_df.PC1.loc[sample], pca_df.PC2.loc[sample]))\n",
    "\n",
    "plt.show()"
   ]
  },
  {
   "cell_type": "markdown",
   "metadata": {},
   "source": [
    "# With out Transposing data"
   ]
  },
  {
   "cell_type": "code",
   "execution_count": 15,
   "metadata": {},
   "outputs": [],
   "source": [
    "scaled_data = preprocessing.scale(data)"
   ]
  },
  {
   "cell_type": "code",
   "execution_count": 16,
   "metadata": {},
   "outputs": [
    {
     "data": {
      "image/png": "[encoded data removed]",
      "text/plain": [
       "<Figure size 432x288 with 1 Axes>"
      ]
     },
     "metadata": {
      "needs_background": "light"
     },
     "output_type": "display_data"
    }
   ],
   "source": [
    "pca = PCA()\n",
    "pca.fit(scaled_data)\n",
    "pca_data = pca.transform(scaled_data)\n",
    "per_var = np.round(pca.explained_variance_ratio_*100, decimals=1)\n",
    "labels = ['PC'+str(x) for x in range(1, len(per_var)+1)]\n",
    "plt.bar(x=range(1,len(per_var)+1), height=per_var, tick_label=labels)\n",
    "plt.ylabel(\"Percentage of Explained Variance\")\n",
    "plt.xlabel(\"principal Component\")\n",
    "plt.title(\"Screen Plot\")\n",
    "plt.show()"
   ]
  },
  {
   "cell_type": "code",
   "execution_count": null,
   "metadata": {},
   "outputs": [],
   "source": []
  }
 ],
 "metadata": {
  "kernelspec": {
   "display_name": "Python 3.8.5 32-bit ('data-science': pipenv)",
   "language": "python",
   "name": "python38532bitdatasciencepipenv068ffcbeb4194e50aa43c9cde15e24a3"
  },
  "language_info": {
   "codemirror_mode": {
    "name": "ipython",
    "version": 3
   },
   "file_extension": ".py",
   "mimetype": "text/x-python",
   "name": "python",
   "nbconvert_exporter": "python",
   "pygments_lexer": "ipython3",
   "version": "3.8.5"
  }
 },
 "nbformat": 4,
 "nbformat_minor": 4
}
