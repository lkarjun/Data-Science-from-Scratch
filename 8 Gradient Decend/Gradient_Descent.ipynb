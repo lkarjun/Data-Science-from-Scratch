{
  "nbformat": 4,
  "nbformat_minor": 0,
  "metadata": {
    "colab": {
      "name": "Gradient_Descent.ipynb",
      "provenance": [],
      "collapsed_sections": [],
      "authorship_tag": "ABX9TyOv4TeM/uTEdmRo2ct1lxRr",
      "include_colab_link": true
    },
    "kernelspec": {
      "name": "python3",
      "display_name": "Python 3"
    }
  },
  "cells": [
    {
      "cell_type": "markdown",
      "metadata": {
        "id": "view-in-github",
        "colab_type": "text"
      },
      "source": [
        "<a href=\"https://colab.research.google.com/github/lkarjun/Data-Science-from-Scratch/blob/master/8%20Gradient%20Decend/Gradient_Descent.ipynb\" target=\"_parent\"><img src=\"https://colab.research.google.com/assets/colab-badge.svg\" alt=\"Open In Colab\"/></a>"
      ]
    },
    {
      "cell_type": "code",
      "metadata": {
        "id": "EcKHbhFnZDSU",
        "colab_type": "code",
        "colab": {}
      },
      "source": [
        "from typing import List, Callable"
      ],
      "execution_count": 1,
      "outputs": []
    },
    {
      "cell_type": "code",
      "metadata": {
        "id": "4bZezJj3ZM8G",
        "colab_type": "code",
        "colab": {}
      },
      "source": [
        "def difference_quotient(f: Callable[[float], float],\n",
        "                        x: float,\n",
        "                        h: float) -> float:\n",
        "                        return (f(x+h) - f(x) / h)\n",
        "\n",
        "def square(x: float) -> float:\n",
        "  return x * x\n",
        "\n",
        "def derivative(x: float) -> float:\n",
        "  return 2 * x             "
      ],
      "execution_count": 3,
      "outputs": []
    },
    {
      "cell_type": "code",
      "metadata": {
        "id": "gotx4pqIZgUN",
        "colab_type": "code",
        "colab": {}
      },
      "source": [
        "xs = range(-10, 11)\n",
        "actuals = [derivative(x) for x in xs]\n",
        "estimates = [difference_quotient(square, x, h = 0.001) for x in xs]"
      ],
      "execution_count": 4,
      "outputs": []
    }
  ]
}