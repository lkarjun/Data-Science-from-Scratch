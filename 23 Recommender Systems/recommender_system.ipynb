{
  "nbformat": 4,
  "nbformat_minor": 0,
  "metadata": {
    "orig_nbformat": 2,
    "colab": {
      "name": "recommender_system.ipynb",
      "provenance": [],
      "include_colab_link": true
    },
    "kernelspec": {
      "name": "python3",
      "display_name": "Python 3"
    }
  },
  "cells": [
    {
      "cell_type": "markdown",
      "metadata": {
        "id": "view-in-github",
        "colab_type": "text"
      },
      "source": [
        "<a href=\"https://colab.research.google.com/github/lkarjun/Data-Science-from-Scratch/blob/master/23%20Recommender%20Systems/recommender_system.ipynb\" target=\"_parent\"><img src=\"https://colab.research.google.com/assets/colab-badge.svg\" alt=\"Open In Colab\"/></a>"
      ]
    },
    {
      "cell_type": "markdown",
      "metadata": {
        "id": "krRgz3CuBtht"
      },
      "source": [
        "## Recommending system"
      ]
    },
    {
      "cell_type": "code",
      "metadata": {
        "id": "hMX1ecrvBthx"
      },
      "source": [
        "users_interests = [[\"Hadoop\", \"Big Data\", \"HBase\", \"Java\", \"Spark\",\"Storm\", \"Cassandra\"],\n",
        "                   [\"NoSQL\", \"MongoDB\", \"Cassandra\", \"HBase\",\"Postgres\"],\n",
        "                   [\"Python\", \"scikit-learn\", \"scipy\", \"numpy\", \"statsmodels\", \"pandas\"],\n",
        "                   [\"R\", \"Python\", \"statistics\", \"regression\", \"probability\"],\n",
        "                   [\"machine learning\", \"regression\", \"decision trees\", \"libsvm\"],\n",
        "                   [\"Python\", \"R\", \"Java\", \"C++\", \"Haskell\", \"programming languages\"],\n",
        "                   [\"statistics\", \"probability\", \"mathematics\", \"theory\"],\n",
        "                   [\"machine learning\", \"scikit-learn\", \"Mahout\", \"neural networks\"],\n",
        "                   [\"neural networks\", \"deep learning\", \"Big Data\", \"artificial intelligence\"],\n",
        "                   [\"Hadoop\", \"Java\", \"MapReduce\", \"Big Data\"],\n",
        "                   [\"statistics\", \"R\", \"statsmodels\"],\n",
        "                   [\"C++\", \"deep learning\", \"artificial intelligence\", \"probability\"],\n",
        "                   [\"pandas\", \"R\", \"Python\"],\n",
        "                   [\"databases\", \"HBase\", \"Postgres\", \"MySQL\", \"MongoDB\"],\n",
        "                   [\"libsvm\", \"regression\", \"support vector machines\"]]"
      ],
      "execution_count": 1,
      "outputs": []
    },
    {
      "cell_type": "markdown",
      "metadata": {
        "id": "IrdTDPBvBz0a"
      },
      "source": [
        "### Recommending what's popular"
      ]
    },
    {
      "cell_type": "code",
      "metadata": {
        "id": "jpRxAOs-Bthz"
      },
      "source": [
        "from collections import Counter"
      ],
      "execution_count": 2,
      "outputs": []
    },
    {
      "cell_type": "code",
      "metadata": {
        "id": "0BDinON_B6kD"
      },
      "source": [
        "popular_interests = Counter(interest\r\n",
        "                            for user_interests in users_interests\r\n",
        "                            for interest in user_interests)"
      ],
      "execution_count": 3,
      "outputs": []
    },
    {
      "cell_type": "code",
      "metadata": {
        "id": "GN40fWR8CQkT"
      },
      "source": [
        "from typing import List, Tuple"
      ],
      "execution_count": 4,
      "outputs": []
    },
    {
      "cell_type": "code",
      "metadata": {
        "id": "gGswFHV3CY5B"
      },
      "source": [
        "def most_popular_new_interests(\r\n",
        "                user_interests: List[str],\r\n",
        "                max_results: int = 5) -> List[Tuple[str, int]]:\r\n",
        "\r\n",
        "                suggestions = [(interest, frequency)\r\n",
        "                                for interest, frequency in popular_interests.most_common()\r\n",
        "                                if interest not in user_interests]\r\n",
        "\r\n",
        "                return suggestions[:max_results]\r\n"
      ],
      "execution_count": 5,
      "outputs": []
    },
    {
      "cell_type": "code",
      "metadata": {
        "id": "DYCALa37DKo6",
        "colab": {
          "base_uri": "https://localhost:8080/"
        },
        "outputId": "747a4038-131b-4a32-8b48-814158cf1c04"
      },
      "source": [
        "most_popular_new_interests(users_interests[1])"
      ],
      "execution_count": 6,
      "outputs": [
        {
          "output_type": "execute_result",
          "data": {
            "text/plain": [
              "[('Python', 4), ('R', 4), ('Big Data', 3), ('Java', 3), ('statistics', 3)]"
            ]
          },
          "metadata": {
            "tags": []
          },
          "execution_count": 6
        }
      ]
    },
    {
      "cell_type": "markdown",
      "metadata": {
        "id": "9gieTdF_DsOp"
      },
      "source": [
        "### User-Based Collabrative Filtering"
      ]
    },
    {
      "cell_type": "code",
      "metadata": {
        "id": "SLAIMDf3DyUm"
      },
      "source": [
        "unique_interests = sorted({interest for user_interests in users_interests\r\n",
        "                           for interest in user_interests})"
      ],
      "execution_count": 7,
      "outputs": []
    },
    {
      "cell_type": "code",
      "metadata": {
        "id": "DpoBBMYEXy_f",
        "outputId": "898be82d-a4dd-4a41-d26c-d1f181eab7ed",
        "colab": {
          "base_uri": "https://localhost:8080/"
        }
      },
      "source": [
        "unique_interests[:4]"
      ],
      "execution_count": 8,
      "outputs": [
        {
          "output_type": "execute_result",
          "data": {
            "text/plain": [
              "['Big Data', 'C++', 'Cassandra', 'HBase']"
            ]
          },
          "metadata": {
            "tags": []
          },
          "execution_count": 8
        }
      ]
    },
    {
      "cell_type": "code",
      "metadata": {
        "id": "rIZGg7XqX1am"
      },
      "source": [
        "def make_user_interest_vector(user_interests: List[str]) -> List[int]:\r\n",
        "  '''given a list of interests, produce a vector whose ith element is 1\r\n",
        "     if unique_interests[i] is in the list, 0 otherwise'''\r\n",
        "  return [1 if interest in user_interests else 0\r\n",
        "             for interest in unique_interests]"
      ],
      "execution_count": 15,
      "outputs": []
    }
  ]
}