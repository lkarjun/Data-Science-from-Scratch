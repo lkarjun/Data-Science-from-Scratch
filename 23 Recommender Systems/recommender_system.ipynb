{
  "nbformat": 4,
  "nbformat_minor": 0,
  "metadata": {
    "orig_nbformat": 2,
    "colab": {
      "name": "recommender_system.ipynb",
      "provenance": [],
      "include_colab_link": true
    },
    "kernelspec": {
      "name": "python3",
      "display_name": "Python 3",
      "language": "python"
    }
  },
  "cells": [
    {
      "cell_type": "markdown",
      "metadata": {
        "id": "view-in-github",
        "colab_type": "text"
      },
      "source": [
        "<a href=\"https://colab.research.google.com/github/lkarjun/Data-Science-from-Scratch/blob/master/23%20Recommender%20Systems/recommender_system.ipynb\" target=\"_parent\"><img src=\"https://colab.research.google.com/assets/colab-badge.svg\" alt=\"Open In Colab\"/></a>"
      ]
    },
    {
      "cell_type": "markdown",
      "metadata": {
        "id": "krRgz3CuBtht"
      },
      "source": [
        "## Recommending system"
      ]
    },
    {
      "cell_type": "code",
      "metadata": {
        "id": "hMX1ecrvBthx"
      },
      "source": [
        "users_interests = [[\"Hadoop\", \"Big Data\", \"HBase\", \"Java\", \"Spark\",\"Storm\", \"Cassandra\"],\n",
        "                   [\"NoSQL\", \"MongoDB\", \"Cassandra\", \"HBase\",\"Postgres\"],\n",
        "                   [\"Python\", \"scikit-learn\", \"scipy\", \"numpy\", \"statsmodels\", \"pandas\"],\n",
        "                   [\"R\", \"Python\", \"statistics\", \"regression\", \"probability\"],\n",
        "                   [\"machine learning\", \"regression\", \"decision trees\", \"libsvm\"],\n",
        "                   [\"Python\", \"R\", \"Java\", \"C++\", \"Haskell\", \"programming languages\"],\n",
        "                   [\"statistics\", \"probability\", \"mathematics\", \"theory\"],\n",
        "                   [\"machine learning\", \"scikit-learn\", \"Mahout\", \"neural networks\"],\n",
        "                   [\"neural networks\", \"deep learning\", \"Big Data\", \"artificial intelligence\"],\n",
        "                   [\"Hadoop\", \"Java\", \"MapReduce\", \"Big Data\"],\n",
        "                   [\"statistics\", \"R\", \"statsmodels\"],\n",
        "                   [\"C++\", \"deep learning\", \"artificial intelligence\", \"probability\"],\n",
        "                   [\"pandas\", \"R\", \"Python\"],\n",
        "                   [\"databases\", \"HBase\", \"Postgres\", \"MySQL\", \"MongoDB\"],\n",
        "                   [\"libsvm\", \"regression\", \"support vector machines\"]]"
      ],
      "execution_count": 15,
      "outputs": []
    },
    {
      "cell_type": "markdown",
      "metadata": {
        "id": "IrdTDPBvBz0a"
      },
      "source": [
        "### Recommending what's popular"
      ]
    },
    {
      "cell_type": "code",
      "metadata": {
        "id": "jpRxAOs-Bthz"
      },
      "source": [
        "from collections import Counter"
      ],
      "execution_count": 3,
      "outputs": []
    },
    {
      "cell_type": "code",
      "metadata": {
        "id": "0BDinON_B6kD"
      },
      "source": [
        "popular_interests = Counter(interest\r\n",
        "                            for user_interests in users_interests\r\n",
        "                            for interest in user_interests)"
      ],
      "execution_count": 4,
      "outputs": []
    },
    {
      "cell_type": "code",
      "metadata": {
        "id": "GN40fWR8CQkT"
      },
      "source": [
        "from typing import List, Tuple"
      ],
      "execution_count": 5,
      "outputs": []
    },
    {
      "cell_type": "code",
      "metadata": {
        "id": "gGswFHV3CY5B"
      },
      "source": [
        "def most_popular_new_interests(\r\n",
        "                user_interests: List[str],\r\n",
        "                max_results: int = 5) -> List[Tuple[str, int]]:\r\n",
        "\r\n",
        "                suggestions = [(interest, frequency)\r\n",
        "                                for interest, frequency in popular_interests.most_common()\r\n",
        "                                if interest not in user_interests]\r\n",
        "\r\n",
        "                return suggestions[:max_results]\r\n"
      ],
      "execution_count": 6,
      "outputs": []
    },
    {
      "cell_type": "code",
      "metadata": {
        "id": "DYCALa37DKo6",
        "colab": {
          "base_uri": "https://localhost:8080/"
        },
        "outputId": "747a4038-131b-4a32-8b48-814158cf1c04"
      },
      "source": [
        "most_popular_new_interests(users_interests[1])"
      ],
      "execution_count": 7,
      "outputs": [
        {
          "output_type": "execute_result",
          "data": {
            "text/plain": [
              "[('Python', 4), ('R', 4), ('Big Data', 3), ('Java', 3), ('statistics', 3)]"
            ]
          },
          "metadata": {},
          "execution_count": 7
        }
      ]
    },
    {
      "cell_type": "markdown",
      "metadata": {
        "id": "9gieTdF_DsOp"
      },
      "source": [
        "### User-Based Collabrative Filtering"
      ]
    },
    {
      "cell_type": "code",
      "metadata": {
        "id": "SLAIMDf3DyUm"
      },
      "source": [
        "unique_interests = sorted({interest for user_interests in users_interests\r\n",
        "                           for interest in user_interests})"
      ],
      "execution_count": 8,
      "outputs": []
    },
    {
      "cell_type": "code",
      "metadata": {
        "id": "DpoBBMYEXy_f",
        "outputId": "898be82d-a4dd-4a41-d26c-d1f181eab7ed",
        "colab": {
          "base_uri": "https://localhost:8080/"
        }
      },
      "source": [
        "unique_interests[:4]"
      ],
      "execution_count": 9,
      "outputs": [
        {
          "output_type": "execute_result",
          "data": {
            "text/plain": [
              "['Big Data', 'C++', 'Cassandra', 'HBase']"
            ]
          },
          "metadata": {},
          "execution_count": 9
        }
      ]
    },
    {
      "cell_type": "code",
      "metadata": {
        "id": "rIZGg7XqX1am"
      },
      "source": [
        "def make_user_interest_vector(user_interests: List[str]) -> List[int]:\r\n",
        "  '''given a list of interests, produce a vector whose ith element is 1\r\n",
        "     if unique_interests[i] is in the list, 0 otherwise'''\r\n",
        "  return [1 if interest in user_interests else 0\r\n",
        "             for interest in unique_interests]"
      ],
      "execution_count": 10,
      "outputs": []
    },
    {
      "cell_type": "code",
      "execution_count": 17,
      "metadata": {},
      "outputs": [],
      "source": [
        "user_interest_vectors = [make_user_interest_vector(user_interests)\n",
        "                         for user_interests in users_interests]"
      ]
    },
    {
      "cell_type": "code",
      "execution_count": 20,
      "metadata": {},
      "outputs": [],
      "source": [
        "from linearalgebra import dot\n",
        "import math\n",
        "\n",
        "def cosine_similarity(v1, v2) -> float:\n",
        "    return dot(v1, v2) / math.sqrt(dot(v1, v1) * dot(v2, v2))\n",
        "\n",
        "\n",
        "user_similarities = [[cosine_similarity(interest_vector_i,                                                      interest_vector_j)\n",
        "                      for interest_vector_j in user_interest_vectors]\n",
        "                      for interest_vector_i in user_interest_vectors]"
      ]
    },
    {
      "cell_type": "code",
      "execution_count": 21,
      "metadata": {},
      "outputs": [],
      "source": [
        "def most_similar_users_to(user_id: int) -> List[Tuple[int, float]]:\n",
        "    pairs = [(other_user_id, similarity)\n",
        "            for other_user_id, similarity in enumerate(user_similarities[user_id])\n",
        "            if user_id != other_user_id and similarity > 0]\n",
        "\n",
        "    return sorted(pairs, key=lambda pair: pair[1], reverse=True)"
      ]
    },
    {
      "cell_type": "code",
      "execution_count": 22,
      "metadata": {},
      "outputs": [
        {
          "output_type": "execute_result",
          "data": {
            "text/plain": [
              "[(9, 0.5669467095138409),\n",
              " (1, 0.3380617018914066),\n",
              " (8, 0.1889822365046136),\n",
              " (13, 0.1690308509457033),\n",
              " (5, 0.1543033499620919)]"
            ]
          },
          "metadata": {},
          "execution_count": 22
        }
      ],
      "source": [
        "most_similar_users_to(0)"
      ]
    },
    {
      "cell_type": "code",
      "execution_count": 23,
      "metadata": {},
      "outputs": [],
      "source": [
        "from collections import defaultdict"
      ]
    },
    {
      "cell_type": "code",
      "execution_count": 26,
      "metadata": {},
      "outputs": [],
      "source": [
        "def user_based_suggestions(user_id: int, include_current_interests: bool = False):\n",
        "    suggestions: Dict[str, float] = defaultdict(float)\n",
        "    \n",
        "    for other_user_id, similarity in most_similar_users_to(user_id):\n",
        "        for interest in users_interests[other_user_id]:\n",
        "            suggestions[interest] += similarity\n",
        "    \n",
        "    suggestions = sorted(suggestions.items(), \n",
        "                         key=lambda pairs: pairs[-1], reverse=True)\n",
        "    \n",
        "    if include_current_interests:\n",
        "        return suggestions\n",
        "    else:\n",
        "        return [(suggestions, weight)\n",
        "                for suggestions, weight in suggestions\n",
        "                if suggestions not in users_interests[user_id]]"
      ]
    },
    {
      "cell_type": "code",
      "execution_count": 27,
      "metadata": {},
      "outputs": [
        {
          "output_type": "execute_result",
          "data": {
            "text/plain": [
              "[('MapReduce', 0.5669467095138409),\n",
              " ('MongoDB', 0.50709255283711),\n",
              " ('Postgres', 0.50709255283711),\n",
              " ('NoSQL', 0.3380617018914066),\n",
              " ('neural networks', 0.1889822365046136),\n",
              " ('deep learning', 0.1889822365046136),\n",
              " ('artificial intelligence', 0.1889822365046136),\n",
              " ('databases', 0.1690308509457033),\n",
              " ('MySQL', 0.1690308509457033),\n",
              " ('Python', 0.1543033499620919),\n",
              " ('R', 0.1543033499620919),\n",
              " ('C++', 0.1543033499620919),\n",
              " ('Haskell', 0.1543033499620919),\n",
              " ('programming languages', 0.1543033499620919)]"
            ]
          },
          "metadata": {},
          "execution_count": 27
        }
      ],
      "source": [
        "user_based_suggestions(0)"
      ]
    },
    {
      "cell_type": "code",
      "execution_count": null,
      "metadata": {},
      "outputs": [],
      "source": []
    }
  ]
}