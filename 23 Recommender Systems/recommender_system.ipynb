{
 "metadata": {
  "language_info": {
   "codemirror_mode": {
    "name": "ipython",
    "version": 3
   },
   "file_extension": ".py",
   "mimetype": "text/x-python",
   "name": "python",
   "nbconvert_exporter": "python",
   "pygments_lexer": "ipython3",
   "version": 3
  },
  "orig_nbformat": 2
 },
 "nbformat": 4,
 "nbformat_minor": 2,
 "cells": [
  {
   "source": [
    "## Recommending system"
   ],
   "cell_type": "markdown",
   "metadata": {}
  },
  {
   "cell_type": "code",
   "execution_count": null,
   "metadata": {},
   "outputs": [],
   "source": [
    "users_interests = [[\"Hadoop\", \"Big Data\", \"HBase\", \"Java\", \"Spark\",\"Storm\", \"Cassandra\"],\n",
    "                   [\"NoSQL\", \"MongoDB\", \"Cassandra\", \"HBase\",\"Postgres\"],\n",
    "                   [\"Python\", \"scikit-learn\", \"scipy\", \"numpy\", \"statsmodels\", \"pandas\"],\n",
    "                   [\"R\", \"Python\", \"statistics\", \"regression\", \"probability\"],\n",
    "                   [\"machine learning\", \"regression\", \"decision trees\", \"libsvm\"],\n",
    "                   [\"Python\", \"R\", \"Java\", \"C++\", \"Haskell\", \"programming languages\"],\n",
    "                   [\"statistics\", \"probability\", \"mathematics\", \"theory\"],\n",
    "                   [\"machine learning\", \"scikit-learn\", \"Mahout\", \"neural networks\"],\n",
    "                   [\"neural networks\", \"deep learning\", \"Big Data\", \"artificial intelligence\"],\n",
    "                   [\"Hadoop\", \"Java\", \"MapReduce\", \"Big Data\"],\n",
    "                   [\"statistics\", \"R\", \"statsmodels\"],\n",
    "                   [\"C++\", \"deep learning\", \"artificial intelligence\", \"probability\"],\n",
    "                   [\"pandas\", \"R\", \"Python\"],\n",
    "                   [\"databases\", \"HBase\", \"Postgres\", \"MySQL\", \"MongoDB\"],\n",
    "                   [\"libsvm\", \"regression\", \"support vector machines\"]]"
   ]
  },
  {
   "cell_type": "code",
   "execution_count": null,
   "metadata": {},
   "outputs": [],
   "source": []
  }
 ]
}