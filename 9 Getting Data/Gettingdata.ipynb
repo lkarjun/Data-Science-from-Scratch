{
 "cells": [
  {
   "cell_type": "markdown",
   "metadata": {
    "colab_type": "text",
    "id": "view-in-github"
   },
   "source": [
    "<a href=\"https://colab.research.google.com/github/lkarjun/Data-Science-from-Scratch/blob/master/9%20Getting%20Data/Gettingdata.ipynb\" target=\"_parent\"><img src=\"https://colab.research.google.com/assets/colab-badge.svg\" alt=\"Open In Colab\"/></a>"
   ]
  },
  "cells": [
    {
      "cell_type": "markdown",
      "metadata": {
        "id": "view-in-github",
        "colab_type": "text"
      },
      "source": [
        "<a href=\"https://colab.research.google.com/github/lkarjun/Data-Science-from-Scratch/blob/master/9%20Getting%20Data/Gettingdata.ipynb\" target=\"_parent\"><img src=\"https://colab.research.google.com/assets/colab-badge.svg\" alt=\"Open In Colab\"/></a>"
      ]
    },
    {
      "cell_type": "markdown",
      "metadata": {
        "id": "_0nwKrszx662",
        "colab_type": "text"
      },
      "source": [
        "# Getting data"
      ]
    },
    {
      "cell_type": "code",
      "metadata": {
        "id": "UCW1uUl3xxZ1",
        "colab_type": "code",
        "colab": {}
      },
      "source": [
        "def get_domain(email_ad: str) -> str:\n",
        "    return email_ad.lower().split('@')[-1]"
      ],
      "execution_count": null,
      "outputs": []
    },
    {
      "cell_type": "code",
      "metadata": {
        "id": "1Fnp7v25xxaD",
        "colab_type": "code",
        "colab": {}
      },
      "source": [
        "assert get_domain('lk.arjun@hotmail.com') == 'hotmail.com'\n",
        "assert get_so"
      ],
      "execution_count": null,
      "outputs": []
    },
    {
      "cell_type": "markdown",
      "metadata": {
        "id": "pTPTS96Ex3kF",
        "colab_type": "text"
      },
      "source": [
        "# scraping the web"
      ]
    },
    {
      "cell_type": "code",
      "metadata": {
        "id": "3i1SZPnJxxaL",
        "colab_type": "code",
        "colab": {}
      },
      "source": [
        "from bs4 import BeautifulSoup as bs\n",
        "import requests"
      ],
      "execution_count": 8,
      "outputs": []
    },
    {
      "cell_type": "code",
      "metadata": {
        "id": "1u-LRQaJ0Abw",
        "colab_type": "code",
        "colab": {}
      },
      "source": [
        "url = (\"https://news.google.com/\") "
      ],
      "execution_count": 5,
      "outputs": []
    },
    {
      "cell_type": "code",
      "metadata": {
        "id": "j1Q1gpwK3PqL",
        "colab_type": "code",
        "colab": {}
      },
      "source": [
        "url = (\"https://raw.githubusercontent.com/\"\n",
        "       \"joelgrus/data/master/getting-data.html\")"
      ],
      "execution_count": 15,
      "outputs": []
    },
    {
      "cell_type": "code",
      "metadata": {
        "id": "yR-qfTCy0Oc9",
        "colab_type": "code",
        "colab": {}
      },
      "source": [
        "html = requests.get(url).text\n",
        "soup = bs(html, 'html5lib')"
      ],
      "execution_count": 16,
      "outputs": []
    },
    {
      "cell_type": "code",
      "metadata": {
        "id": "7jW_68nj1MAZ",
        "colab_type": "code",
        "colab": {}
      },
      "source": [
        "first_paragraph = soup.find('p')"
      ],
      "execution_count": 17,
      "outputs": []
    },
    {
      "cell_type": "code",
      "metadata": {
        "id": "nNXE4Zca1Xh6",
        "colab_type": "code",
        "colab": {
          "base_uri": "https://localhost:8080/",
          "height": 35
        },
        "outputId": "b6cbac2b-fac7-4423-bd09-8372fec7d979"
      },
      "source": [
        "first_paragraph_text = soup.p.text\n",
        "first_paragraph_text"
      ],
      "execution_count": 21,
      "outputs": [
        {
          "output_type": "execute_result",
          "data": {
            "application/vnd.google.colaboratory.intrinsic+json": {
              "type": "string"
            },
            "text/plain": [
              "'This is the first paragraph.'"
            ]
          },
          "metadata": {
            "tags": []
          },
          "execution_count": 21
        }
      ]
    },
    {
      "cell_type": "code",
      "metadata": {
        "id": "9HRJ13H81c3r",
        "colab_type": "code",
        "colab": {
          "base_uri": "https://localhost:8080/",
          "height": 33
        },
        "outputId": "2a785cae-be37-4226-ce7c-337cf990086c"
      },
      "source": [
        "first_paragraph_words = soup.p.text.split()\n",
        "first_paragraph_words"
      ],
      "execution_count": 22,
      "outputs": [
        {
          "output_type": "execute_result",
          "data": {
            "text/plain": [
              "['This', 'is', 'the', 'first', 'paragraph.']"
            ]
          },
          "metadata": {
            "tags": []
          },
          "execution_count": 22
        }
      ]
    },
    {
      "cell_type": "code",
      "metadata": {
        "id": "9GxQ6EKr3f1R",
        "colab_type": "code",
        "colab": {
          "base_uri": "https://localhost:8080/",
          "height": 35
        },
        "outputId": "2bb6cd8f-6e5d-427e-bfc9-c3e891743d3d"
      },
      "source": [
        "first_paragraph_id = soup.p['id']\n",
        "first_paragraph_id"
      ],
      "execution_count": 25,
      "outputs": [
        {
          "output_type": "execute_result",
          "data": {
            "application/vnd.google.colaboratory.intrinsic+json": {
              "type": "string"
            },
            "text/plain": [
              "'p1'"
            ]
          },
          "metadata": {
            "tags": []
          },
          "execution_count": 25
        }
      ]
    },
    "colab_type": "code",
    "id": "nNXE4Zca1Xh6",
    "outputId": "b6cbac2b-fac7-4423-bd09-8372fec7d979"
   },
   "outputs": [
    {
      "cell_type": "code",
      "metadata": {
        "id": "_4nPZ6lC3bpr",
        "colab_type": "code",
        "colab": {
          "base_uri": "https://localhost:8080/",
          "height": 35
        },
        "outputId": "252acdef-c984-4085-fb7a-59981a9013b4"
      },
      "source": [
        "first_paragraph_id2 = soup.p.get('id')\n",
        "first_paragraph_id2"
      ],
      "execution_count": 26,
      "outputs": [
        {
          "output_type": "execute_result",
          "data": {
            "application/vnd.google.colaboratory.intrinsic+json": {
              "type": "string"
            },
            "text/plain": [
              "'p1'"
            ]
          },
          "metadata": {
            "tags": []
          },
          "execution_count": 26
        }
      ]
    },
    {
      "cell_type": "code",
      "metadata": {
        "id": "Cdn-UP554CiY",
        "colab_type": "code",
        "colab": {}
      },
      "source": [
        "all_paragraph = soup.find_all('p')"
      ],
      "execution_count": 33,
      "outputs": []
    },
    {
      "cell_type": "code",
      "metadata": {
        "id": "dJ_Kyo5D5H_V",
        "colab_type": "code",
        "colab": {
          "base_uri": "https://localhost:8080/",
          "height": 33
        },
        "outputId": "0e1cd7aa-739b-4626-cdd9-2c4e07087a23"
      },
      "source": [
        "paragraph_with_id = [p for p in soup('p') if p.get('id')]\n",
        "paragraph_with_id"
      ],
      "execution_count": 35,
      "outputs": [
        {
          "output_type": "execute_result",
          "data": {
            "text/plain": [
              "[<p id=\"p1\">This is the first paragraph.</p>]"
            ]
          },
          "metadata": {
            "tags": []
          },
          "execution_count": 35
        }
      ]
     },
     "execution_count": 22,
     "metadata": {
      "tags": []
     },
     "output_type": "execute_result"
    }
   ],
   "source": [
    "first_paragraph_words = soup.p.text.split()\n",
    "first_paragraph_words"
   ]
  },
  {
   "cell_type": "code",
   "execution_count": 25,
   "metadata": {
    "colab": {
     "base_uri": "https://localhost:8080/",
     "height": 35
    },
    "colab_type": "code",
    "id": "9GxQ6EKr3f1R",
    "outputId": "2bb6cd8f-6e5d-427e-bfc9-c3e891743d3d"
   },
   "outputs": [
    {
      "cell_type": "code",
      "metadata": {
        "id": "cwX4BMSL5Sn3",
        "colab_type": "code",
        "colab": {}
      },
      "source": [
        "import_para = soup('p', {'class': 'important'})\n",
        "import_para2 = soup('p', 'important')\n",
        "import_para3 = [p for p in soup('p')\n",
        "                if 'important' in p.get('class', [])]"
      ],
      "execution_count": 36,
      "outputs": []
    },
    {
      "cell_type": "code",
      "metadata": {
        "id": "Et1X0fgw5cov",
        "colab_type": "code",
        "colab": {
          "base_uri": "https://localhost:8080/",
          "height": 33
        },
        "outputId": "55825085-7bd2-4eb0-d722-de6aa611d462"
      },
      "source": [
        "import_para3"
      ],
      "execution_count": 37,
      "outputs": [
        {
          "output_type": "execute_result",
          "data": {
            "text/plain": [
              "[<p class=\"important\">This is the second paragraph.</p>]"
            ]
          },
          "metadata": {
            "tags": []
          },
          "execution_count": 37
        }
      ]
     },
     "execution_count": 25,
     "metadata": {
      "tags": []
     },
     "output_type": "execute_result"
    }
   ],
   "source": [
    "first_paragraph_id = soup.p['id']\n",
    "first_paragraph_id"
   ]
  },
  {
   "cell_type": "code",
   "execution_count": 26,
   "metadata": {
    "colab": {
     "base_uri": "https://localhost:8080/",
     "height": 35
    },
    "colab_type": "code",
    "id": "_4nPZ6lC3bpr",
    "outputId": "252acdef-c984-4085-fb7a-59981a9013b4"
   },
   "outputs": [
    {
      "cell_type": "code",
      "metadata": {
        "id": "u6zLyJPY559U",
        "colab_type": "code",
        "colab": {}
      },
      "source": [
        "spanss = [span\n",
        "          for div in soup('div')\n",
        "          for span in div('span')]"
      ],
      "execution_count": 38,
      "outputs": []
    },
    {
      "cell_type": "code",
      "metadata": {
        "id": "myHRgQMX6bBZ",
        "colab_type": "code",
        "colab": {
          "base_uri": "https://localhost:8080/",
          "height": 67
        },
        "outputId": "1d4c4ef8-0c68-4f3f-bc05-606c839b6cc4"
      },
      "source": [
        "spanss"
      ],
      "execution_count": 39,
      "outputs": [
        {
          "output_type": "execute_result",
          "data": {
            "text/plain": [
              "[<span id=\"name\">Joel</span>,\n",
              " <span id=\"twitter\">@joelgrus</span>,\n",
              " <span id=\"email\">joelgrus-at-gmail</span>]"
            ]
          },
          "metadata": {
            "tags": []
          },
          "execution_count": 39
        }
      ]
    },
    {
      "cell_type": "code",
      "metadata": {
        "id": "L8QX0SHE6cG9",
        "colab_type": "code",
        "colab": {
          "base_uri": "https://localhost:8080/",
          "height": 217
        },
        "outputId": "4094e2cb-245c-43a9-99cd-e2cc84859354"
      },
      "source": [
        "body = [div\n",
        "        for body in soup('body')\n",
        "        for div in body('div')]\n",
        "body"
      ],
      "execution_count": 44,
      "outputs": [
        {
          "output_type": "execute_result",
          "data": {
            "text/plain": [
              "[<div class=\"explanation\">\n",
              "         This is an explanation.\n",
              "     </div>, <div class=\"comment\">\n",
              "         This is a comment.\n",
              "     </div>, <div class=\"content\">\n",
              "         <p id=\"p1\">This is the first paragraph.</p>\n",
              "         <p class=\"important\">This is the second paragraph.</p>\n",
              "     </div>, <div class=\"signature\">\n",
              "         <span id=\"name\">Joel</span>\n",
              "         <span id=\"twitter\">@joelgrus</span>\n",
              "         <span id=\"email\">joelgrus-at-gmail</span>\n",
              "     </div>]"
            ]
          },
          "metadata": {
            "tags": []
          },
          "execution_count": 44
        }
      ]
    },
    {
      "cell_type": "code",
      "metadata": {
        "id": "dGwRKPNt6mui",
        "colab_type": "code",
        "colab": {}
      },
      "source": [
        ""
      ],
      "execution_count": 44,
      "outputs": []
    },
    {
      "cell_type": "code",
      "metadata": {
        "id": "JiBczboc7Xud",
        "colab_type": "code",
        "colab": {}
      },
      "source": [
        "url = ('https://www.house.gov/representatives')\n",
        "text = requests.get(url).text\n",
        "soup = bs(text, \"html5lib\")"
      ],
      "execution_count": 47,
      "outputs": []
    },
    {
      "cell_type": "code",
      "metadata": {
        "id": "ebI6Q14G7go_",
        "colab_type": "code",
        "colab": {
          "base_uri": "https://localhost:8080/",
          "height": 33
        },
        "outputId": "cf9f9114-7149-48dc-c4e0-922c73647d40"
      },
      "source": [
        "all_urls = [a['href']\n",
        "            for a in soup('a')\n",
        "            if a.has_attr('href')]\n",
        "        \n",
        "print(len(all_urls))"
      ],
      "execution_count": 49,
      "outputs": [
        {
          "output_type": "stream",
          "text": [
            "966\n"
          ],
          "name": "stdout"
        }
      ]
    },
    {
      "cell_type": "code",
      "metadata": {
        "id": "xc7HT3jN8Hvb",
        "colab_type": "code",
        "colab": {}
      },
      "source": [
        "import re\n",
        "\n",
        "reg = r\"^https?://.*\\.house\\.gov/?$\""
      ],
      "execution_count": 50,
      "outputs": []
    },
    {
      "cell_type": "code",
      "metadata": {
        "id": "WaqJ0jAe8ef9",
        "colab_type": "code",
        "colab": {
          "base_uri": "https://localhost:8080/",
          "height": 100
        },
        "outputId": "a9386701-530f-4e96-cd1a-e7c322758338"
      },
      "source": [
        "for i in all_urls[50:55]:\n",
        "  print(re.findall(reg, i))"
      ],
      "execution_count": 56,
      "outputs": [
        {
          "output_type": "stream",
          "text": [
            "['https://byrne.house.gov/']\n",
            "['https://roby.house.gov/']\n",
            "['https://mikerogers.house.gov/']\n",
            "['https://aderholt.house.gov/']\n",
            "['https://brooks.house.gov/']\n"
          ],
          "name": "stdout"
        }
      ]
    },
    {
      "cell_type": "code",
      "metadata": {
        "id": "JF9WbOSl8lZ0",
        "colab_type": "code",
        "colab": {}
      },
      "source": [
        "good_urls = [url for url in all_urls\n",
        "            if re.match(reg, url)]"
      ],
      "execution_count": 57,
      "outputs": []
    },
    {
      "cell_type": "code",
      "metadata": {
        "id": "Hcq_vfoQ9IN3",
        "colab_type": "code",
        "colab": {}
      },
      "source": [
        "good_urls"
      ],
      "execution_count": null,
      "outputs": []
    },
    {
      "cell_type": "code",
      "metadata": {
        "id": "Hao03TnX9JoH",
        "colab_type": "code",
        "colab": {}
      },
      "source": [
        "html = requests.get('https://roby.house.gov').text\n",
        "soup = bs(html, 'html5lib')"
      ],
      "execution_count": 59,
      "outputs": []
    },
    {
      "cell_type": "code",
      "metadata": {
        "id": "xlpd4mXp9hyI",
        "colab_type": "code",
        "colab": {}
      },
      "source": [
        "links = {a['href'] for a in soup('a') if 'press releases' in a.text.lower()}"
      ],
      "execution_count": 60,
      "outputs": []
    },
    {
      "cell_type": "code",
      "metadata": {
        "id": "PWPknVVe9v5a",
        "colab_type": "code",
        "colab": {
          "base_uri": "https://localhost:8080/",
          "height": 33
        },
        "outputId": "ee3bb1c6-4c35-4366-e762-588f27ad4ed9"
      },
      "source": [
        "print(links)"
      ],
      "execution_count": 62,
      "outputs": [
        {
          "output_type": "stream",
          "text": [
            "{'/newsroom/press-releases'}\n"
          ],
          "name": "stdout"
        }
      ]
     },
     "execution_count": 44,
     "metadata": {
      "tags": []
     },
     "output_type": "execute_result"
    }
   ],
   "source": [
    "body = [div\n",
    "        for body in soup('body')\n",
    "        for div in body('div')]\n",
    "body"
   ]
  },
  {
   "cell_type": "code",
   "execution_count": 44,
   "metadata": {
    "colab": {},
    "colab_type": "code",
    "id": "dGwRKPNt6mui"
   },
   "outputs": [],
   "source": []
  },
  {
   "cell_type": "code",
   "execution_count": 47,
   "metadata": {
    "colab": {},
    "colab_type": "code",
    "id": "JiBczboc7Xud"
   },
   "outputs": [],
   "source": [
    "url = ('https://www.house.gov/representatives')\n",
    "text = requests.get(url).text\n",
    "soup = bs(text, \"html5lib\")"
   ]
  },
  {
   "cell_type": "code",
   "execution_count": 49,
   "metadata": {
    "colab": {
     "base_uri": "https://localhost:8080/",
     "height": 33
    },
    "colab_type": "code",
    "id": "ebI6Q14G7go_",
    "outputId": "cf9f9114-7149-48dc-c4e0-922c73647d40"
   },
   "outputs": [
    {
     "name": "stdout",
     "output_type": "stream",
     "text": [
      "966\n"
     ]
    }
   ],
   "source": [
    "all_urls = [a['href']\n",
    "            for a in soup('a')\n",
    "            if a.has_attr('href')]\n",
    "        \n",
    "print(len(all_urls))"
   ]
  },
  {
   "cell_type": "code",
   "execution_count": 50,
   "metadata": {
    "colab": {},
    "colab_type": "code",
    "id": "xc7HT3jN8Hvb"
   },
   "outputs": [],
   "source": [
    "import re\n",
    "\n",
    "reg = r\"^https?://.*\\.house\\.gov/?$\""
   ]
  },
  {
   "cell_type": "code",
   "execution_count": 56,
   "metadata": {
    "colab": {
     "base_uri": "https://localhost:8080/",
     "height": 100
    },
    "colab_type": "code",
    "id": "WaqJ0jAe8ef9",
    "outputId": "a9386701-530f-4e96-cd1a-e7c322758338"
   },
   "outputs": [
    {
     "name": "stdout",
     "output_type": "stream",
     "text": [
      "['https://byrne.house.gov/']\n",
      "['https://roby.house.gov/']\n",
      "['https://mikerogers.house.gov/']\n",
      "['https://aderholt.house.gov/']\n",
      "['https://brooks.house.gov/']\n"
     ]
    }
   ],
   "source": [
    "for i in all_urls[50:55]:\n",
    "  print(re.findall(reg, i))"
   ]
  },
  {
   "cell_type": "code",
   "execution_count": 57,
   "metadata": {
    "colab": {},
    "colab_type": "code",
    "id": "JF9WbOSl8lZ0"
   },
   "outputs": [],
   "source": [
    "good_urls = [url for url in all_urls\n",
    "            if re.match(reg, url)]"
   ]
  },
  {
   "cell_type": "code",
   "execution_count": null,
   "metadata": {
    "colab": {},
    "colab_type": "code",
    "id": "Hcq_vfoQ9IN3"
   },
   "outputs": [],
   "source": [
    "good_urls"
   ]
  },
  {
   "cell_type": "code",
   "execution_count": 59,
   "metadata": {
    "colab": {},
    "colab_type": "code",
    "id": "Hao03TnX9JoH"
   },
   "outputs": [],
   "source": [
    "html = requests.get('https://roby.house.gov').text\n",
    "soup = bs(html, 'html5lib')"
   ]
  },
  {
   "cell_type": "code",
   "execution_count": 60,
   "metadata": {
    "colab": {},
    "colab_type": "code",
    "id": "xlpd4mXp9hyI"
   },
   "outputs": [],
   "source": [
    "links = {a['href'] for a in soup('a') if 'press releases' in a.text.lower()}"
   ]
  },
  {
   "cell_type": "code",
   "execution_count": 62,
   "metadata": {
    "colab": {
     "base_uri": "https://localhost:8080/",
     "height": 33
    },
    "colab_type": "code",
    "id": "PWPknVVe9v5a",
    "outputId": "ee3bb1c6-4c35-4366-e762-588f27ad4ed9"
   },
   "outputs": [
    {
     "name": "stdout",
     "output_type": "stream",
     "text": [
      "{'/newsroom/press-releases'}\n"
     ]
    }
   ],
   "source": [
    "print(links)"
   ]
  },
  {
   "cell_type": "code",
   "execution_count": 63,
   "metadata": {
    "colab": {
     "base_uri": "https://localhost:8080/",
     "height": 35
    },
    "colab_type": "code",
    "id": "GA-WQ4fh9x9C",
    "outputId": "401e807b-3ced-4505-a614-b673845e7306"
   },
   "outputs": [
    {
      "cell_type": "code",
      "metadata": {
        "id": "GA-WQ4fh9x9C",
        "colab_type": "code",
        "colab": {
          "base_uri": "https://localhost:8080/",
          "height": 35
        },
        "outputId": "401e807b-3ced-4505-a614-b673845e7306"
      },
      "source": [
        "\"\""
      ],
      "execution_count": 63,
      "outputs": [
        {
          "output_type": "execute_result",
          "data": {
            "application/vnd.google.colaboratory.intrinsic+json": {
              "type": "string"
            },
            "text/plain": [
              "''"
            ]
          },
          "metadata": {
            "tags": []
          },
          "execution_count": 63
        }
      ]
    },
    {
      "cell_type": "code",
      "metadata": {
        "id": "ydqJ1JQL9-Ne",
        "colab_type": "code",
        "colab": {}
      },
      "source": [
        "from typing import Dict, Set\n",
        "press_releases: Dict[str, Set[str]] = {}\n"
      ],
      "execution_count": 64,
      "outputs": []
    },
    {
      "cell_type": "code",
      "metadata": {
        "id": "HDpLvghu-F_t",
        "colab_type": "code",
        "colab": {}
      },
      "source": [
        "for house_url in good_urls:\n",
        "  html = requests.get(house_url).text\n",
        "  soup = bs(html, 'html5lib')\n",
        "  pr_links = {a['href'] for a in soup('a') if 'press releases' in a.text.lower()}"
      ],
      "execution_count": null,
      "outputs": []
    },
    {
      "cell_type": "code",
      "metadata": {
        "id": "3UnNl36p-j0k",
        "colab_type": "code",
        "colab": {}
      },
      "source": [
        ""
      ],
      "execution_count": null,
      "outputs": []
    }
  ]
}
