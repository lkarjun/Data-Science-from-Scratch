{
  "nbformat": 4,
  "nbformat_minor": 0,
  "metadata": {
    "kernelspec": {
      "display_name": "Python 3",
      "language": "python",
      "name": "python3"
    },
    "language_info": {
      "codemirror_mode": {
        "name": "ipython",
        "version": 3
      },
      "file_extension": ".py",
      "mimetype": "text/x-python",
      "name": "python",
      "nbconvert_exporter": "python",
      "pygments_lexer": "ipython3",
      "version": "3.8.5"
    },
    "colab": {
      "name": "Gettingdata.ipynb",
      "provenance": [],
      "include_colab_link": true
    }
  },
  "cells": [
    {
      "cell_type": "markdown",
      "metadata": {
        "id": "view-in-github",
        "colab_type": "text"
      },
      "source": [
        "<a href=\"https://colab.research.google.com/github/lkarjun/Data-Science-from-Scratch/blob/master/9%20Getting%20Data/Gettingdata.ipynb\" target=\"_parent\"><img src=\"https://colab.research.google.com/assets/colab-badge.svg\" alt=\"Open In Colab\"/></a>"
      ]
    },
    {
      "cell_type": "code",
      "metadata": {
        "id": "C_S3nDRviYT8",
        "colab_type": "code",
        "colab": {}
      },
      "source": [
        "from bs4 import BeautifulSoup\n",
        "from requests import get\n",
        "import re"
      ],
      "execution_count": 80,
      "outputs": []
    },
    {
      "cell_type": "code",
      "metadata": {
        "id": "SaeouKeFidlJ",
        "colab_type": "code",
        "colab": {}
      },
      "source": [
        "url = (\"https://raw.githubusercontent.com/joelgrus/data/master/getting-data.html\")"
      ],
      "execution_count": 9,
      "outputs": []
    },
    {
      "cell_type": "code",
      "metadata": {
        "id": "JSA8vmrbivR3",
        "colab_type": "code",
        "colab": {}
      },
      "source": [
        "html = get(url).text\n",
        "soup = BeautifulSoup(html, 'html5lib')"
      ],
      "execution_count": 10,
      "outputs": []
    },
    {
      "cell_type": "code",
      "metadata": {
        "id": "Uxps1cdhiy8P",
        "colab_type": "code",
        "colab": {
          "base_uri": "https://localhost:8080/",
          "height": 33
        },
        "outputId": "aa80176b-1cbd-45ec-d566-7c4979a025fd"
      },
      "source": [
        "soup.find('p')"
      ],
      "execution_count": 11,
      "outputs": [
        {
          "output_type": "execute_result",
          "data": {
            "text/plain": [
              "<p id=\"p1\">This is the first paragraph.</p>"
            ]
          },
          "metadata": {
            "tags": []
          },
          "execution_count": 11
        }
      ]
    },
    {
      "cell_type": "code",
      "metadata": {
        "id": "2N61iix9i-Py",
        "colab_type": "code",
        "colab": {
          "base_uri": "https://localhost:8080/",
          "height": 35
        },
        "outputId": "db573169-790a-49ff-d06a-ad092bb115e3"
      },
      "source": [
        "soup.p.text"
      ],
      "execution_count": 12,
      "outputs": [
        {
          "output_type": "execute_result",
          "data": {
            "application/vnd.google.colaboratory.intrinsic+json": {
              "type": "string"
            },
            "text/plain": [
              "'This is the first paragraph.'"
            ]
          },
          "metadata": {
            "tags": []
          },
          "execution_count": 12
        }
      ]
    },
    {
      "cell_type": "code",
      "metadata": {
        "id": "qnhzSZNjjAep",
        "colab_type": "code",
        "colab": {
          "base_uri": "https://localhost:8080/",
          "height": 33
        },
        "outputId": "8aac6bc4-ad56-4ba2-8a23-c693e379d57b"
      },
      "source": [
        "soup.p.text.split()"
      ],
      "execution_count": 13,
      "outputs": [
        {
          "output_type": "execute_result",
          "data": {
            "text/plain": [
              "['This', 'is', 'the', 'first', 'paragraph.']"
            ]
          },
          "metadata": {
            "tags": []
          },
          "execution_count": 13
        }
      ]
    },
    {
      "cell_type": "code",
      "metadata": {
        "id": "mZ3MBHvDjC2N",
        "colab_type": "code",
        "colab": {}
      },
      "source": [
        "soup.p['id']"
      ],
      "execution_count": null,
      "outputs": []
    },
    {
      "cell_type": "code",
      "metadata": {
        "id": "13odKptGjLSg",
        "colab_type": "code",
        "colab": {
          "base_uri": "https://localhost:8080/",
          "height": 35
        },
        "outputId": "9b7461ec-2e91-4eaf-ac6b-e4eb3b6b33bd"
      },
      "source": [
        "soup.p.get('id')"
      ],
      "execution_count": 18,
      "outputs": [
        {
          "output_type": "execute_result",
          "data": {
            "application/vnd.google.colaboratory.intrinsic+json": {
              "type": "string"
            },
            "text/plain": [
              "'p1'"
            ]
          },
          "metadata": {
            "tags": []
          },
          "execution_count": 18
        }
      ]
    },
    {
      "cell_type": "code",
      "metadata": {
        "id": "hQMLwXkqkG3B",
        "colab_type": "code",
        "colab": {
          "base_uri": "https://localhost:8080/",
          "height": 33
        },
        "outputId": "0f19942d-9e62-437b-8163-0a523beadcce"
      },
      "source": [
        "all_paragraph = soup.find_all('p')\n",
        "for p in soup('p'):\n",
        "  if p.get('id'):\n",
        "    print(p)"
      ],
      "execution_count": 15,
      "outputs": [
        {
          "output_type": "stream",
          "text": [
            "<p id=\"p1\">This is the first paragraph.</p>\n"
          ],
          "name": "stdout"
        }
      ]
    },
    {
      "cell_type": "code",
      "metadata": {
        "id": "tl_nqEXGkmNW",
        "colab_type": "code",
        "colab": {
          "base_uri": "https://localhost:8080/",
          "height": 33
        },
        "outputId": "671510a4-7efa-44fe-a537-f814e43d8a3d"
      },
      "source": [
        "soup('p', {'class': 'important'})"
      ],
      "execution_count": 16,
      "outputs": [
        {
          "output_type": "execute_result",
          "data": {
            "text/plain": [
              "[<p class=\"important\">This is the second paragraph.</p>]"
            ]
          },
          "metadata": {
            "tags": []
          },
          "execution_count": 16
        }
      ]
    },
    {
      "cell_type": "code",
      "metadata": {
        "id": "-bT22jyuk9DS",
        "colab_type": "code",
        "colab": {
          "base_uri": "https://localhost:8080/",
          "height": 33
        },
        "outputId": "4b8010af-3e9e-4207-d12e-752afbd759d7"
      },
      "source": [
        "soup('p', 'important')"
      ],
      "execution_count": 17,
      "outputs": [
        {
          "output_type": "execute_result",
          "data": {
            "text/plain": [
              "[<p class=\"important\">This is the second paragraph.</p>]"
            ]
          },
          "metadata": {
            "tags": []
          },
          "execution_count": 17
        }
      ]
    },
    {
      "cell_type": "code",
      "metadata": {
        "id": "9YUs-u75mMMf",
        "colab_type": "code",
        "colab": {
          "base_uri": "https://localhost:8080/",
          "height": 67
        },
        "outputId": "a0064371-f16f-4a6c-9a99-0ac725ed95de"
      },
      "source": [
        "span_in_div = [span\n",
        "               for div in soup('div')\n",
        "               for span in div('span')]\n",
        "span_in_div"
      ],
      "execution_count": 18,
      "outputs": [
        {
          "output_type": "execute_result",
          "data": {
            "text/plain": [
              "[<span id=\"name\">Joel</span>,\n",
              " <span id=\"twitter\">@joelgrus</span>,\n",
              " <span id=\"email\">joelgrus-at-gmail</span>]"
            ]
          },
          "metadata": {
            "tags": []
          },
          "execution_count": 18
        }
      ]
    },
    {
      "cell_type": "code",
      "metadata": {
        "id": "3bIoaBCfGoFI",
        "colab_type": "code",
        "colab": {
          "base_uri": "https://localhost:8080/",
          "height": 67
        },
        "outputId": "041210b9-0147-469d-b111-b827cb0a33f4"
      },
      "source": [
        "for div in soup('div'):\n",
        "  for span in div('span'):\n",
        "    print(span.text)"
      ],
      "execution_count": 21,
      "outputs": [
        {
          "output_type": "stream",
          "text": [
            "Joel\n",
            "@joelgrus\n",
            "joelgrus-at-gmail\n"
          ],
          "name": "stdout"
        }
      ]
    },
    {
      "cell_type": "code",
      "metadata": {
        "id": "AY0ry2XJG_sA",
        "colab_type": "code",
        "colab": {
          "base_uri": "https://localhost:8080/",
          "height": 33
        },
        "outputId": "be97e6fb-89ca-473f-e42c-6e273f231f8f"
      },
      "source": [
        "soup('p', 'important')"
      ],
      "execution_count": 47,
      "outputs": [
        {
          "output_type": "execute_result",
          "data": {
            "text/plain": [
              "[<p class=\"important\">This is the second paragraph.</p>]"
            ]
          },
          "metadata": {
            "tags": []
          },
          "execution_count": 47
        }
      ]
    },
    {
      "cell_type": "code",
      "metadata": {
        "id": "d7H1MuhgU3DH",
        "colab_type": "code",
        "colab": {}
      },
      "source": [
        ""
      ],
      "execution_count": null,
      "outputs": []
    },
    {
      "cell_type": "code",
      "metadata": {
        "id": "eM1tF1c8VG8m",
        "colab_type": "code",
        "colab": {
          "base_uri": "https://localhost:8080/",
          "height": 33
        },
        "outputId": "f4e73c9b-67e4-4df5-c293-9fed0e710ad8"
      },
      "source": [
        "url = \"https://www.house.gov/representatives\"\n",
        "text = get(url).text\n",
        "souping = BeautifulSoup(text, 'html5lib')\n",
        "\n",
        "all_urls = [a['href']\n",
        "            for a in souping('a')\n",
        "            if a.has_attr('href')]\n",
        "\n",
        "len(all_urls)"
      ],
      "execution_count": 111,
      "outputs": [
        {
          "output_type": "execute_result",
          "data": {
            "text/plain": [
              "966"
            ]
          },
          "metadata": {
            "tags": []
          },
          "execution_count": 111
        }
      ]
    },
    {
      "cell_type": "code",
      "metadata": {
        "id": "IZAOHFreVhE7",
        "colab_type": "code",
        "colab": {}
      },
      "source": [
        "import re \n",
        "\n",
        "\n",
        "regrex = r\"^https?://.*\\.house\\.gov/?$\"\n",
        "assert re.match(regrex, 'http://joel.house.gov')"
      ],
      "execution_count": 112,
      "outputs": []
    },
    {
      "cell_type": "code",
      "metadata": {
        "id": "DgUq8UwrWBV4",
        "colab_type": "code",
        "colab": {
          "base_uri": "https://localhost:8080/",
          "height": 33
        },
        "outputId": "bdc1e868-accd-4887-d58c-f77367136f4a"
      },
      "source": [
        "good_urls = [url for url in all_urls\n",
        "             if re.match(regrex, url)]\n",
        "\n",
        "len(good_urls)"
      ],
      "execution_count": 114,
      "outputs": [
        {
          "output_type": "execute_result",
          "data": {
            "text/plain": [
              "872"
            ]
          },
          "metadata": {
            "tags": []
          },
          "execution_count": 114
        }
      ]
    },
    {
      "cell_type": "code",
      "metadata": {
        "id": "5_Ue4yotWcRI",
        "colab_type": "code",
        "colab": {
          "base_uri": "https://localhost:8080/",
          "height": 33
        },
        "outputId": "1c4f4dcf-c4f9-4d6b-b2d1-260c18003d19"
      },
      "source": [
        "# using set to remove duplicates\n",
        "good_urls = list(set(good_urls))\n",
        "len(good_urls)"
      ],
      "execution_count": 115,
      "outputs": [
        {
          "output_type": "execute_result",
          "data": {
            "text/plain": [
              "436"
            ]
          },
          "metadata": {
            "tags": []
          },
          "execution_count": 115
        }
      ]
    },
    {
      "cell_type": "code",
      "metadata": {
        "id": "UD5ItNHcWvfo",
        "colab_type": "code",
        "colab": {
          "base_uri": "https://localhost:8080/",
          "height": 33
        },
        "outputId": "1c649ecf-9a20-4a19-de5b-a8f5f86de082"
      },
      "source": [
        "html = get(\"https://jayapal.house.gov\").text\n",
        "soup = BeautifulSoup(html, 'html5lib')\n",
        "\n",
        "links = {a['href']\n",
        "         for a in soup('a')\n",
        "         if 'press releases' in a.text.lower()}\n",
        "print(links)"
      ],
      "execution_count": 117,
      "outputs": [
        {
          "output_type": "stream",
          "text": [
            "{'https://jayapal.house.gov/category/press-releases/'}\n"
          ],
          "name": "stdout"
        }
      ]
    },
    {
      "cell_type": "markdown",
      "metadata": {
        "id": "m6QAcnhYjNy_",
        "colab_type": "text"
      },
      "source": [
        "# playground"
      ]
    },
    {
      "cell_type": "code",
      "metadata": {
        "id": "nUvYblIjjQBR",
        "colab_type": "code",
        "colab": {}
      },
      "source": [
        "url = \"https://www.manoramaonline.com/sports/football.html\"\n",
        "r = get(url).text\n",
        "soupp = BeautifulSoup(r, 'html5lib')"
      ],
      "execution_count": 94,
      "outputs": []
    },
    {
      "cell_type": "code",
      "metadata": {
        "id": "L4vrMJqLOoF6",
        "colab_type": "code",
        "colab": {
          "base_uri": "https://localhost:8080/",
          "height": 33
        },
        "outputId": "9d5ec338-c551-4e53-9cc4-e48bfe77e0b9"
      },
      "source": [
        "soupp.find_all(class_ = 'sub-title-002 clr-sports')"
      ],
      "execution_count": 99,
      "outputs": [
        {
          "output_type": "execute_result",
          "data": {
            "text/plain": [
              "[<div class=\"sub-title-002 clr-sports\">FOOTBALL</div>]"
            ]
          },
          "metadata": {
            "tags": []
          },
          "execution_count": 99
        }
      ]
    },
    {
      "cell_type": "code",
      "metadata": {
        "id": "vFpy0wOwPEvR",
        "colab_type": "code",
        "colab": {
          "base_uri": "https://localhost:8080/",
          "height": 53
        },
        "outputId": "d72160f0-39e9-480b-994a-c84dc4a44a24"
      },
      "source": [
        "a = [li.get_text()\n",
        "     for g in soupp('div', 'section-top-story-listing')\n",
        "     for ul in g('ul')\n",
        "     for li in ul('li', 'story-list-02 articleList')\n",
        "     ]\n",
        "\n",
        "a"
      ],
      "execution_count": 109,
      "outputs": [
        {
          "output_type": "execute_result",
          "data": {
            "text/plain": [
              "['\\n\\t\\t\\t\\t\\t\\n\\t\\t\\t\\t\\t\\t \\n\\t\\t\\t\\t\\t\\t\\n\\t\\t\\t\\t\\t\\t\\n\\t\\t\\t\\t\\t\\t\\n\\t\\t\\t\\t\\t\\n\\t\\t\\t\\t\\t\\n\\t\\t\\t\\t\\t\\n\\t\\t\\t\\t\\t\\tà´¬à´¾àµ¼à´¸à´¿à´²àµ\\x8bà´¨à´¯àµ\\x81à´\\x9fàµ\\x86 à´ªà´°à´¿à´¶àµ\\x80à´²à´¨à´\\x82 à´¨à´¾à´³àµ\\x86 à´®àµ\\x81à´¤àµ½; à´®àµ\\x97à´¨à´\\x82 à´¤àµ\\x81à´\\x9fàµ¼à´¨àµ\\x8dà´¨àµ\\x8d à´²à´¯à´£àµ½ à´®àµ\\x86à´¸àµ\\x8dà´¸à´¿ \\n\\t\\t\\t\\t\\t\\t\\t    \\n\\t\\t\\t\\t\\t\\t\\t\\t\\n\\t\\t\\t\\t\\t\\t\\t\\t\\n\\t\\t\\t\\t\\t\\t\\t\\t\\n\\t\\t\\t\\t\\t\\t\\n\\t\\t\\t\\t\\t\\n\\t\\t\\t\\t\\t\\n\\t\\t\\t\\t\\t\\n\\t\\t\\t\\t\\t\\tAugust 29, 2020\\n\\t\\t\\t\\t\\t\\t\\n\\t\\t\\t\\t\\t\\n\\n\\t\\t\\t\\t\\t\\n\\t\\t\\t\\t']"
            ]
          },
          "metadata": {
            "tags": []
          },
          "execution_count": 109
        }
      ]
    },
    {
      "cell_type": "code",
      "metadata": {
        "id": "kCks2zmyPEro",
        "colab_type": "code",
        "colab": {}
      },
      "source": [
        ""
      ],
      "execution_count": null,
      "outputs": []
    },
    {
      "cell_type": "markdown",
      "metadata": {
        "id": "QQj0Xv9lPFqt",
        "colab_type": "text"
      },
      "source": [
        "# New Section"
      ]
    },
    {
      "cell_type": "code",
      "metadata": {
        "id": "Anu_ySu5jotO",
        "colab_type": "code",
        "colab": {
          "base_uri": "https://localhost:8080/",
          "height": 70
        },
        "outputId": "b83270ef-2681-4ada-f706-25e98a89e2c6"
      },
      "source": [
        "headline = [headline\n",
        "            for headline in soupp('h1')\n",
        "            if 'story-headline' in headline.get('class', [])]\n",
        "print(headline)\n",
        "print(soupp.h1.text)"
      ],
      "execution_count": 6,
      "outputs": [
        {
          "output_type": "stream",
          "text": [
            "[<h1 class=\"story-headline\">à´ªà´°àµà´àµà´·à´£à´ªàµà´ªà´±à´àµà´àµ½ à´µà´¿à´à´¯à´, à´¸àµà´µà´ªàµà´¨à´àµà´àµ¾à´àµà´àµ à´à´¿à´±à´àµà´à´¿ à´à´ªàµà´ªà´¾à´¨àµà´±àµ à´ªà´±à´àµà´àµà´ à´à´¾àµ¼</h1>]\n",
            "à´ªà´°àµà´àµà´·à´£à´ªàµà´ªà´±à´àµà´àµ½ à´µà´¿à´à´¯à´, à´¸àµà´µà´ªàµà´¨à´àµà´àµ¾à´àµà´àµ à´à´¿à´±à´àµà´à´¿ à´à´ªàµà´ªà´¾à´¨àµà´±àµ à´ªà´±à´àµà´àµà´ à´à´¾àµ¼\n"
          ],
          "name": "stdout"
        }
      ]
    },
    {
      "cell_type": "code",
      "metadata": {
        "id": "8zxSD3IMjz-V",
        "colab_type": "code",
        "colab": {}
      },
      "source": [
        "url = \"https://www.amazon.com/gp/product/B07G5D95GT?pf_rd_r=DR18A226KKA524VPHCMM&pf_rd_p=6fc81c8c-2a38-41c6-a68a-f78c79e7253f\"\n",
        "r = get(url).text\n",
        "s = BeautifulSoup(r, 'html5lib')"
      ],
      "execution_count": 87,
      "outputs": []
    },
    {
      "cell_type": "code",
      "metadata": {
        "id": "HV7xEwHWLiII",
        "colab_type": "code",
        "colab": {}
      },
      "source": [
        "print(s.prettify)"
      ],
      "execution_count": null,
      "outputs": []
    },
    {
      "cell_type": "code",
      "metadata": {
        "id": "qm4BO07cN_l1",
        "colab_type": "code",
        "colab": {}
      },
      "source": [
        "s.ul"
      ],
      "execution_count": 100,
      "outputs": []
    },
    {
      "cell_type": "code",
      "metadata": {
        "id": "_K9tBbagOQAf",
        "colab_type": "code",
        "colab": {}
      },
      "source": [
        ""
      ],
      "execution_count": null,
      "outputs": []
    }
  ]
}