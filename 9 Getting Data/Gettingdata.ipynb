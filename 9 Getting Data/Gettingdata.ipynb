{
 "cells": [
  {
   "cell_type": "markdown",
   "metadata": {
    "colab_type": "text",
    "id": "view-in-github"
   },
   "source": [
    "<a href=\"https://colab.research.google.com/github/lkarjun/Data-Science-from-Scratch/blob/master/9%20Getting%20Data/Gettingdata.ipynb\" target=\"_parent\"><img src=\"https://colab.research.google.com/assets/colab-badge.svg\" alt=\"Open In Colab\"/></a>"
   ]
  },
  {
   "cell_type": "markdown",
   "metadata": {
    "colab_type": "text",
    "id": "_0nwKrszx662"
   },
   "source": [
    "# Getting data"
   ]
  },
  {
   "cell_type": "code",
   "execution_count": null,
   "metadata": {
    "colab": {},
    "colab_type": "code",
    "id": "UCW1uUl3xxZ1"
   },
   "outputs": [],
   "source": [
    "def get_domain(email_ad: str) -> str:\n",
    "    return email_ad.lower().split('@')[-1]"
   ]
  },
  {
   "cell_type": "code",
   "execution_count": null,
   "metadata": {
    "colab": {},
    "colab_type": "code",
    "id": "1Fnp7v25xxaD"
   },
   "outputs": [],
   "source": [
    "assert get_domain('lk.arjun@hotmail.com') == 'hotmail.com'\n",
    "assert get_so"
   ]
  },
  {
   "cell_type": "markdown",
   "metadata": {
    "colab_type": "text",
    "id": "pTPTS96Ex3kF"
   },
   "source": [
    "# scraping the web"
   ]
  },
  {
   "cell_type": "code",
   "execution_count": 8,
   "metadata": {
    "colab": {},
    "colab_type": "code",
    "id": "3i1SZPnJxxaL"
   },
   "outputs": [],
   "source": [
    "from bs4 import BeautifulSoup as bs\n",
    "import requests"
   ]
  },
  {
   "cell_type": "code",
   "execution_count": 5,
   "metadata": {
    "colab": {},
    "colab_type": "code",
    "id": "1u-LRQaJ0Abw"
   },
   "outputs": [],
   "source": [
    "url = (\"https://news.google.com/\") "
   ]
  },
  {
   "cell_type": "code",
   "execution_count": 15,
   "metadata": {
    "colab": {},
    "colab_type": "code",
    "id": "j1Q1gpwK3PqL"
   },
   "outputs": [],
   "source": [
    "url = (\"https://raw.githubusercontent.com/\"\n",
    "       \"joelgrus/data/master/getting-data.html\")"
   ]
  },
  {
   "cell_type": "code",
   "execution_count": 16,
   "metadata": {
    "colab": {},
    "colab_type": "code",
    "id": "yR-qfTCy0Oc9"
   },
   "outputs": [],
   "source": [
    "html = requests.get(url).text\n",
    "soup = bs(html, 'html5lib')"
   ]
  },
  {
   "cell_type": "code",
   "execution_count": 17,
   "metadata": {
    "colab": {},
    "colab_type": "code",
    "id": "7jW_68nj1MAZ"
   },
   "outputs": [],
   "source": [
    "first_paragraph = soup.find('p')"
   ]
  },
  {
   "cell_type": "code",
   "execution_count": 21,
   "metadata": {
    "colab": {
     "base_uri": "https://localhost:8080/",
     "height": 35
    },
    "colab_type": "code",
    "id": "nNXE4Zca1Xh6",
    "outputId": "b6cbac2b-fac7-4423-bd09-8372fec7d979"
   },
   "outputs": [
    {
     "data": {
      "application/vnd.google.colaboratory.intrinsic+json": {
       "type": "string"
      },
      "text/plain": [
       "'This is the first paragraph.'"
      ]
     },
     "execution_count": 21,
     "metadata": {
      "tags": []
     },
     "output_type": "execute_result"
    }
   ],
   "source": [
    "first_paragraph_text = soup.p.text\n",
    "first_paragraph_text"
   ]
  },
  {
   "cell_type": "code",
   "execution_count": 22,
   "metadata": {
    "colab": {
     "base_uri": "https://localhost:8080/",
     "height": 33
    },
    "colab_type": "code",
    "id": "9HRJ13H81c3r",
    "outputId": "2a785cae-be37-4226-ce7c-337cf990086c"
   },
   "outputs": [
    {
     "data": {
      "text/plain": [
       "['This', 'is', 'the', 'first', 'paragraph.']"
      ]
     },
     "execution_count": 22,
     "metadata": {
      "tags": []
     },
     "output_type": "execute_result"
    }
   ],
   "source": [
    "first_paragraph_words = soup.p.text.split()\n",
    "first_paragraph_words"
   ]
  },
  {
   "cell_type": "code",
   "execution_count": 25,
   "metadata": {
    "colab": {
     "base_uri": "https://localhost:8080/",
     "height": 35
    },
    "colab_type": "code",
    "id": "9GxQ6EKr3f1R",
    "outputId": "2bb6cd8f-6e5d-427e-bfc9-c3e891743d3d"
   },
   "outputs": [
    {
     "data": {
      "application/vnd.google.colaboratory.intrinsic+json": {
       "type": "string"
      },
      "text/plain": [
       "'p1'"
      ]
     },
     "execution_count": 25,
     "metadata": {
      "tags": []
     },
     "output_type": "execute_result"
    }
   ],
   "source": [
    "first_paragraph_id = soup.p['id']\n",
    "first_paragraph_id"
   ]
  },
  {
   "cell_type": "code",
   "execution_count": 26,
   "metadata": {
    "colab": {
     "base_uri": "https://localhost:8080/",
     "height": 35
    },
    "colab_type": "code",
    "id": "_4nPZ6lC3bpr",
    "outputId": "252acdef-c984-4085-fb7a-59981a9013b4"
   },
   "outputs": [
    {
     "data": {
      "application/vnd.google.colaboratory.intrinsic+json": {
       "type": "string"
      },
      "text/plain": [
       "'p1'"
      ]
     },
     "execution_count": 26,
     "metadata": {
      "tags": []
     },
     "output_type": "execute_result"
    }
   ],
   "source": [
    "first_paragraph_id2 = soup.p.get('id')\n",
    "first_paragraph_id2"
   ]
  },
  {
   "cell_type": "code",
   "execution_count": 33,
   "metadata": {
    "colab": {},
    "colab_type": "code",
    "id": "Cdn-UP554CiY"
   },
   "outputs": [],
   "source": [
    "all_paragraph = soup.find_all('p')"
   ]
  },
  {
   "cell_type": "code",
   "execution_count": 35,
   "metadata": {
    "colab": {
     "base_uri": "https://localhost:8080/",
     "height": 33
    },
    "colab_type": "code",
    "id": "dJ_Kyo5D5H_V",
    "outputId": "0e1cd7aa-739b-4626-cdd9-2c4e07087a23"
   },
   "outputs": [
    {
     "data": {
      "text/plain": [
       "[<p id=\"p1\">This is the first paragraph.</p>]"
      ]
     },
     "execution_count": 35,
     "metadata": {
      "tags": []
     },
     "output_type": "execute_result"
    }
   ],
   "source": [
    "paragraph_with_id = [p for p in soup('p') if p.get('id')]\n",
    "paragraph_with_id"
   ]
  },
  {
   "cell_type": "code",
   "execution_count": 36,
   "metadata": {
    "colab": {},
    "colab_type": "code",
    "id": "cwX4BMSL5Sn3"
   },
   "outputs": [],
   "source": [
    "import_para = soup('p', {'class': 'important'})\n",
    "import_para2 = soup('p', 'important')\n",
    "import_para3 = [p for p in soup('p')\n",
    "                if 'important' in p.get('class', [])]"
   ]
  },
  {
   "cell_type": "code",
   "execution_count": 37,
   "metadata": {
    "colab": {
     "base_uri": "https://localhost:8080/",
     "height": 33
    },
    "colab_type": "code",
    "id": "Et1X0fgw5cov",
    "outputId": "55825085-7bd2-4eb0-d722-de6aa611d462"
   },
   "outputs": [
    {
     "data": {
      "text/plain": [
       "[<p class=\"important\">This is the second paragraph.</p>]"
      ]
     },
     "execution_count": 37,
     "metadata": {
      "tags": []
     },
     "output_type": "execute_result"
    }
   ],
   "source": [
    "import_para3"
   ]
  },
  {
   "cell_type": "code",
   "execution_count": 38,
   "metadata": {
    "colab": {},
    "colab_type": "code",
    "id": "u6zLyJPY559U"
   },
   "outputs": [],
   "source": [
    "spanss = [span\n",
    "          for div in soup('div')\n",
    "          for span in div('span')]"
   ]
  },
  {
   "cell_type": "code",
   "execution_count": 39,
   "metadata": {
    "colab": {
     "base_uri": "https://localhost:8080/",
     "height": 67
    },
    "colab_type": "code",
    "id": "myHRgQMX6bBZ",
    "outputId": "1d4c4ef8-0c68-4f3f-bc05-606c839b6cc4"
   },
   "outputs": [
    {
     "data": {
      "text/plain": [
       "[<span id=\"name\">Joel</span>,\n",
       " <span id=\"twitter\">@joelgrus</span>,\n",
       " <span id=\"email\">joelgrus-at-gmail</span>]"
      ]
     },
     "execution_count": 39,
     "metadata": {
      "tags": []
     },
     "output_type": "execute_result"
    }
   ],
   "source": [
    "spanss"
   ]
  },
  {
   "cell_type": "code",
   "execution_count": 44,
   "metadata": {
    "colab": {
     "base_uri": "https://localhost:8080/",
     "height": 217
    },
    "colab_type": "code",
    "id": "L8QX0SHE6cG9",
    "outputId": "4094e2cb-245c-43a9-99cd-e2cc84859354"
   },
   "outputs": [
    {
     "data": {
      "text/plain": [
       "[<div class=\"explanation\">\n",
       "         This is an explanation.\n",
       "     </div>, <div class=\"comment\">\n",
       "         This is a comment.\n",
       "     </div>, <div class=\"content\">\n",
       "         <p id=\"p1\">This is the first paragraph.</p>\n",
       "         <p class=\"important\">This is the second paragraph.</p>\n",
       "     </div>, <div class=\"signature\">\n",
       "         <span id=\"name\">Joel</span>\n",
       "         <span id=\"twitter\">@joelgrus</span>\n",
       "         <span id=\"email\">joelgrus-at-gmail</span>\n",
       "     </div>]"
      ]
     },
     "execution_count": 44,
     "metadata": {
      "tags": []
     },
     "output_type": "execute_result"
    }
   ],
   "source": [
    "body = [div\n",
    "        for body in soup('body')\n",
    "        for div in body('div')]\n",
    "body"
   ]
  },
  {
   "cell_type": "code",
   "execution_count": 44,
   "metadata": {
    "colab": {},
    "colab_type": "code",
    "id": "dGwRKPNt6mui"
   },
   "outputs": [],
   "source": []
  },
  {
   "cell_type": "code",
   "execution_count": 47,
   "metadata": {
    "colab": {},
    "colab_type": "code",
    "id": "JiBczboc7Xud"
   },
   "outputs": [],
   "source": [
    "url = ('https://www.house.gov/representatives')\n",
    "text = requests.get(url).text\n",
    "soup = bs(text, \"html5lib\")"
   ]
  },
  {
   "cell_type": "code",
   "execution_count": 49,
   "metadata": {
    "colab": {
     "base_uri": "https://localhost:8080/",
     "height": 33
    },
    "colab_type": "code",
    "id": "ebI6Q14G7go_",
    "outputId": "cf9f9114-7149-48dc-c4e0-922c73647d40"
   },
   "outputs": [
    {
     "name": "stdout",
     "output_type": "stream",
     "text": [
      "966\n"
     ]
    }
   ],
   "source": [
    "all_urls = [a['href']\n",
    "            for a in soup('a')\n",
    "            if a.has_attr('href')]\n",
    "        \n",
    "print(len(all_urls))"
   ]
  },
  {
   "cell_type": "code",
   "execution_count": 50,
   "metadata": {
    "colab": {},
    "colab_type": "code",
    "id": "xc7HT3jN8Hvb"
   },
   "outputs": [],
   "source": [
    "import re\n",
    "\n",
    "reg = r\"^https?://.*\\.house\\.gov/?$\""
   ]
  },
  {
   "cell_type": "code",
   "execution_count": 56,
   "metadata": {
    "colab": {
     "base_uri": "https://localhost:8080/",
     "height": 100
    },
    "colab_type": "code",
    "id": "WaqJ0jAe8ef9",
    "outputId": "a9386701-530f-4e96-cd1a-e7c322758338"
   },
   "outputs": [
    {
     "name": "stdout",
     "output_type": "stream",
     "text": [
      "['https://byrne.house.gov/']\n",
      "['https://roby.house.gov/']\n",
      "['https://mikerogers.house.gov/']\n",
      "['https://aderholt.house.gov/']\n",
      "['https://brooks.house.gov/']\n"
     ]
    }
   ],
   "source": [
    "for i in all_urls[50:55]:\n",
    "  print(re.findall(reg, i))"
   ]
  },
  {
   "cell_type": "code",
   "execution_count": 57,
   "metadata": {
    "colab": {},
    "colab_type": "code",
    "id": "JF9WbOSl8lZ0"
   },
   "outputs": [],
   "source": [
    "good_urls = [url for url in all_urls\n",
    "            if re.match(reg, url)]"
   ]
  },
  {
   "cell_type": "code",
   "execution_count": null,
   "metadata": {
    "colab": {},
    "colab_type": "code",
    "id": "Hcq_vfoQ9IN3"
   },
   "outputs": [],
   "source": [
    "good_urls"
   ]
  },
  {
   "cell_type": "code",
   "execution_count": 59,
   "metadata": {
    "colab": {},
    "colab_type": "code",
    "id": "Hao03TnX9JoH"
   },
   "outputs": [],
   "source": [
    "html = requests.get('https://roby.house.gov').text\n",
    "soup = bs(html, 'html5lib')"
   ]
  },
  {
   "cell_type": "code",
   "execution_count": 60,
   "metadata": {
    "colab": {},
    "colab_type": "code",
    "id": "xlpd4mXp9hyI"
   },
   "outputs": [],
   "source": [
    "links = {a['href'] for a in soup('a') if 'press releases' in a.text.lower()}"
   ]
  },
  {
   "cell_type": "code",
   "execution_count": 62,
   "metadata": {
    "colab": {
     "base_uri": "https://localhost:8080/",
     "height": 33
    },
    "colab_type": "code",
    "id": "PWPknVVe9v5a",
    "outputId": "ee3bb1c6-4c35-4366-e762-588f27ad4ed9"
   },
   "outputs": [
    {
     "name": "stdout",
     "output_type": "stream",
     "text": [
      "{'/newsroom/press-releases'}\n"
     ]
    }
   ],
   "source": [
    "print(links)"
   ]
  },
  {
   "cell_type": "code",
   "execution_count": 63,
   "metadata": {
    "colab": {
     "base_uri": "https://localhost:8080/",
     "height": 35
    },
    "colab_type": "code",
    "id": "GA-WQ4fh9x9C",
    "outputId": "401e807b-3ced-4505-a614-b673845e7306"
   },
   "outputs": [
    {
     "data": {
      "application/vnd.google.colaboratory.intrinsic+json": {
       "type": "string"
      },
      "text/plain": [
       "''"
      ]
     },
     "execution_count": 63,
     "metadata": {
      "tags": []
     },
     "output_type": "execute_result"
    }
   ],
   "source": [
    "\"\""
   ]
  },
  {
   "cell_type": "code",
   "execution_count": 64,
   "metadata": {
    "colab": {},
    "colab_type": "code",
    "id": "ydqJ1JQL9-Ne"
   },
   "outputs": [],
   "source": [
    "from typing import Dict, Set\n",
    "press_releases: Dict[str, Set[str]] = {}\n"
   ]
  },
  {
   "cell_type": "code",
   "execution_count": null,
   "metadata": {
    "colab": {},
    "colab_type": "code",
    "id": "HDpLvghu-F_t"
   },
   "outputs": [],
   "source": [
    "for house_url in good_urls:\n",
    "  html = requests.get(house_url).text\n",
    "  soup = bs(html, 'html5lib')\n",
    "  pr_links = {a['href'] for a in soup('a') if 'press releases' in a.text.lower()}"
   ]
  },
  {
   "cell_type": "code",
   "execution_count": null,
   "metadata": {
    "colab": {},
    "colab_type": "code",
    "id": "3UnNl36p-j0k"
   },
   "outputs": [],
   "source": []
  }
 ],
 "metadata": {
  "colab": {
   "include_colab_link": true,
   "name": "Gettingdata.ipynb",
   "provenance": []
  },
  "kernelspec": {
   "display_name": "Python 3",
   "language": "python",
   "name": "python3"
  },
  "language_info": {
   "codemirror_mode": {
    "name": "ipython",
    "version": 3
   },
   "file_extension": ".py",
   "mimetype": "text/x-python",
   "name": "python",
   "nbconvert_exporter": "python",
   "pygments_lexer": "ipython3",
   "version": "3.8.5"
  }
 },
 "nbformat": 4,
 "nbformat_minor": 4
}
