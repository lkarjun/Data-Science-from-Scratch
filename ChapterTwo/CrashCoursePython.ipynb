{
 "cells": [
  {
   "cell_type": "markdown",
   "metadata": {
    "colab_type": "text",
    "id": "LnuzcMIHd0Iy"
   },
   "source": [
    "# List"
   ]
  },
  {
   "cell_type": "code",
   "execution_count": 16,
   "metadata": {
    "colab": {
     "base_uri": "https://localhost:8080/",
     "height": 33
    },
    "colab_type": "code",
    "id": "M9LLghuLd0I2",
    "outputId": "322d1bb7-b4d1-4d87-8b2e-d5e0c6cacf99"
   },
   "outputs": [
    {
     "name": "stdout",
     "output_type": "stream",
     "text": [
      "[0, 1, 2, 3, 4, 5, 6, 7, 8, 9]\n"
     ]
    }
   ],
   "source": [
    "x = [0, 1, 2, 3, 4, 5, 6, 7, 8, 9]\n",
    "\n",
    "print(x)"
   ]
  },
  {
   "cell_type": "code",
   "execution_count": 17,
   "metadata": {
    "colab": {
     "base_uri": "https://localhost:8080/",
     "height": 33
    },
    "colab_type": "code",
    "id": "AWAv67Csd0I9",
    "outputId": "b5221aa5-26e6-43ec-f3c1-c188a09e8c86"
   },
   "outputs": [
    {
     "data": {
      "text/plain": [
       "[0, 1, 2]"
      ]
     },
     "execution_count": 17,
     "metadata": {},
     "output_type": "execute_result"
    }
   ],
   "source": [
    "x[:3]"
   ]
  },
  {
   "cell_type": "code",
   "execution_count": 18,
   "metadata": {
    "colab": {
     "base_uri": "https://localhost:8080/",
     "height": 33
    },
    "colab_type": "code",
    "id": "sAHS5Qi3d0JF",
    "outputId": "3a6908ca-cab8-4928-e128-31d2bf55a385"
   },
   "outputs": [
    {
     "data": {
      "text/plain": [
       "[]"
      ]
     },
     "execution_count": 18,
     "metadata": {},
     "output_type": "execute_result"
    }
   ],
   "source": [
    "x[:0]"
   ]
  },
  {
   "cell_type": "code",
   "execution_count": 19,
   "metadata": {
    "colab": {
     "base_uri": "https://localhost:8080/",
     "height": 33
    },
    "colab_type": "code",
    "id": "zZPVD3_dd0JQ",
    "outputId": "3d1917f3-3cca-4c53-e006-93a3010fc88d"
   },
   "outputs": [
    {
     "data": {
      "text/plain": [
       "[0, 1, 2, 3, 4, 5, 6, 7, 8]"
      ]
     },
     "execution_count": 19,
     "metadata": {},
     "output_type": "execute_result"
    }
   ],
   "source": [
    "x[:-1]"
   ]
  },
  {
   "cell_type": "code",
   "execution_count": 20,
   "metadata": {
    "colab": {
     "base_uri": "https://localhost:8080/",
     "height": 33
    },
    "colab_type": "code",
    "id": "K5c0jeodd0Jb",
    "outputId": "d78698ac-cd45-45b4-fb52-0f81ad136095"
   },
   "outputs": [
    {
     "data": {
      "text/plain": [
       "[0, 1, 2]"
      ]
     },
     "execution_count": 20,
     "metadata": {},
     "output_type": "execute_result"
    }
   ],
   "source": [
    "x[:3:1]"
   ]
  },
  {
   "cell_type": "code",
   "execution_count": 21,
   "metadata": {
    "colab": {
     "base_uri": "https://localhost:8080/",
     "height": 33
    },
    "colab_type": "code",
    "id": "OPZt3FIvd0Jl",
    "outputId": "5ea81db0-ea95-4042-9c1e-1fb6e7a5c978"
   },
   "outputs": [
    {
     "data": {
      "text/plain": [
       "[9, 8, 7, 6, 5, 4]"
      ]
     },
     "execution_count": 21,
     "metadata": {},
     "output_type": "execute_result"
    }
   ],
   "source": [
    "x[:3:-1]"
   ]
  },
  {
   "cell_type": "code",
   "execution_count": 22,
   "metadata": {
    "colab": {
     "base_uri": "https://localhost:8080/",
     "height": 33
    },
    "colab_type": "code",
    "id": "Ji4fEL_Md0Jw",
    "outputId": "85bd7d55-13ee-42b5-b660-31f1ff866b26"
   },
   "outputs": [
    {
     "data": {
      "text/plain": [
       "[9, 8, 7, 6, 5, 4]"
      ]
     },
     "execution_count": 22,
     "metadata": {},
     "output_type": "execute_result"
    }
   ],
   "source": [
    "x[:3:-1]"
   ]
  },
  {
   "cell_type": "code",
   "execution_count": 23,
   "metadata": {
    "colab": {
     "base_uri": "https://localhost:8080/",
     "height": 33
    },
    "colab_type": "code",
    "id": "CWEwF3oCd0J7",
    "outputId": "d2a12de9-d790-48af-d162-8c6ee8afa7ee"
   },
   "outputs": [
    {
     "data": {
      "text/plain": [
       "[0, 1, 2]"
      ]
     },
     "execution_count": 23,
     "metadata": {},
     "output_type": "execute_result"
    }
   ],
   "source": [
    "x[:3:1]"
   ]
  },
  {
   "cell_type": "code",
   "execution_count": 24,
   "metadata": {
    "colab": {
     "base_uri": "https://localhost:8080/",
     "height": 33
    },
    "colab_type": "code",
    "id": "mXpabvLtd0KD",
    "outputId": "d101c8c9-319a-46d9-ee65-c3efef43b2f8"
   },
   "outputs": [
    {
     "data": {
      "text/plain": [
       "[0, 2, 4, 6, 8]"
      ]
     },
     "execution_count": 24,
     "metadata": {},
     "output_type": "execute_result"
    }
   ],
   "source": [
    "x[::2]"
   ]
  },
  {
   "cell_type": "code",
   "execution_count": 25,
   "metadata": {
    "colab": {
     "base_uri": "https://localhost:8080/",
     "height": 33
    },
    "colab_type": "code",
    "id": "NmNtcsUYd0KK",
    "outputId": "6345e12e-6ab0-4cf6-9424-42f8eaa6cc1d"
   },
   "outputs": [
    {
     "data": {
      "text/plain": [
       "[9, 7, 5, 3, 1]"
      ]
     },
     "execution_count": 25,
     "metadata": {},
     "output_type": "execute_result"
    }
   ],
   "source": [
    "x[::-2]"
   ]
  },
  {
   "cell_type": "code",
   "execution_count": 26,
   "metadata": {
    "colab": {
     "base_uri": "https://localhost:8080/",
     "height": 33
    },
    "colab_type": "code",
    "id": "xp5NM3AEd0KR",
    "outputId": "ed574d48-6afb-4218-b929-e4af96008715"
   },
   "outputs": [
    {
     "data": {
      "text/plain": [
       "[0, 1, 2, 3, 4, 5, 6, 7, 8, 9]"
      ]
     },
     "execution_count": 26,
     "metadata": {},
     "output_type": "execute_result"
    }
   ],
   "source": [
    "x[:]"
   ]
  },
  {
   "cell_type": "code",
   "execution_count": 27,
   "metadata": {
    "colab": {
     "base_uri": "https://localhost:8080/",
     "height": 33
    },
    "colab_type": "code",
    "id": "ez2mEWM4d0Kb",
    "outputId": "344cb16b-9f5f-4390-f844-79f89e10a4f6"
   },
   "outputs": [
    {
     "data": {
      "text/plain": [
       "[2, 0]"
      ]
     },
     "execution_count": 27,
     "metadata": {},
     "output_type": "execute_result"
    }
   ],
   "source": [
    "x[2::-2]"
   ]
  },
  {
   "cell_type": "code",
   "execution_count": 28,
   "metadata": {
    "colab": {},
    "colab_type": "code",
    "id": "IKfPltVvd0Kp"
   },
   "outputs": [],
   "source": [
    "a = [1,2,3]\n",
    "x.extend(a)"
   ]
  },
  {
   "cell_type": "code",
   "execution_count": 29,
   "metadata": {
    "colab": {
     "base_uri": "https://localhost:8080/",
     "height": 33
    },
    "colab_type": "code",
    "id": "fj_Oaxksd0Kw",
    "outputId": "df65d984-625e-470e-8085-3e4fac790c99"
   },
   "outputs": [
    {
     "data": {
      "text/plain": [
       "[0, 1, 2, 3, 4, 5, 6, 7, 8, 9, 1, 2, 3]"
      ]
     },
     "execution_count": 29,
     "metadata": {},
     "output_type": "execute_result"
    }
   ],
   "source": [
    "x"
   ]
  },
  {
   "cell_type": "code",
   "execution_count": 30,
   "metadata": {
    "colab": {},
    "colab_type": "code",
    "id": "ICBXUG1_d0K2"
   },
   "outputs": [],
   "source": [
    "g= [i \n",
    "    for i in x\n",
    "    if i%2==0\n",
    "   ]"
   ]
  },
  {
   "cell_type": "code",
   "execution_count": 31,
   "metadata": {
    "colab": {},
    "colab_type": "code",
    "id": "bx9u2Z1Xd0K_"
   },
   "outputs": [],
   "source": [
    "x, y = [1, 2]"
   ]
  },
  {
   "cell_type": "markdown",
   "metadata": {
    "colab_type": "text",
    "id": "nLmyv7Q5d0LH"
   },
   "source": [
    "# Tuples"
   ]
  },
  {
   "cell_type": "code",
   "execution_count": 32,
   "metadata": {
    "colab": {},
    "colab_type": "code",
    "id": "dA5ldQOId0LI"
   },
   "outputs": [],
   "source": [
    "def sum_and_product(x, y):\n",
    "    return (x+y), (x*y)"
   ]
  },
  {
   "cell_type": "code",
   "execution_count": 33,
   "metadata": {
    "colab": {
     "base_uri": "https://localhost:8080/"
    },
    "colab_type": "code",
    "id": "efySbAJud0LR",
    "outputId": "63e577c3-99a2-4c9e-c1c7-89d4b8427edc"
   },
   "outputs": [
    {
     "name": "stdout",
     "output_type": "stream",
     "text": [
      "(9, 20)\n",
      "s is : 9 p is : 20\n"
     ]
    }
   ],
   "source": [
    "sp = sum_and_product(4,5)\n",
    "print(sp)\n",
    "s, p = sum_and_product(4,5)\n",
    "print(f's is : {s} p is : {p}')"
   ]
  },
  {
   "cell_type": "markdown",
   "metadata": {
    "colab_type": "text",
    "id": "yTUpShq0d0LY"
   },
   "source": [
    "\n",
    "# Dictionaries\n"
   ]
  },
  {
   "cell_type": "code",
   "execution_count": 34,
   "metadata": {
    "colab": {
     "base_uri": "https://localhost:8080/"
    },
    "colab_type": "code",
    "id": "TKWE15YOd0LZ",
    "outputId": "7f8d3a79-fee4-419c-f2aa-af80e0b746d3"
   },
   "outputs": [
    {
     "data": {
      "text/plain": [
       "80"
      ]
     },
     "execution_count": 34,
     "metadata": {},
     "output_type": "execute_result"
    }
   ],
   "source": [
    "grades = {\"Joel\": 80, \"Tim\": 95}\n",
    "grades['Joel']"
   ]
  },
  {
   "cell_type": "code",
   "execution_count": 35,
   "metadata": {
    "colab": {
     "base_uri": "https://localhost:8080/"
    },
    "colab_type": "code",
    "id": "06dyCvccd0Le",
    "outputId": "5711971d-041f-4eac-ff6e-0b06156f6a0e"
   },
   "outputs": [
    {
     "data": {
      "text/plain": [
       "False"
      ]
     },
     "execution_count": 35,
     "metadata": {},
     "output_type": "execute_result"
    }
   ],
   "source": [
    "\"joel\" in grades"
   ]
  },
  {
   "cell_type": "code",
   "execution_count": 36,
   "metadata": {
    "colab": {
     "base_uri": "https://localhost:8080/"
    },
    "colab_type": "code",
    "id": "ZfXTHdUad0Ln",
    "outputId": "9c96abe5-2d85-4306-d06a-ea7661160ce7"
   },
   "outputs": [
    {
     "data": {
      "text/plain": [
       "True"
      ]
     },
     "execution_count": 36,
     "metadata": {},
     "output_type": "execute_result"
    }
   ],
   "source": [
    "\"Joel\" in grades"
   ]
  },
  {
   "cell_type": "code",
   "execution_count": 37,
   "metadata": {
    "colab": {
     "base_uri": "https://localhost:8080/"
    },
    "colab_type": "code",
    "id": "5VkctoXud0Lv",
    "outputId": "d740612d-968f-4b5b-dbb9-cf4737e369e1"
   },
   "outputs": [
    {
     "data": {
      "text/plain": [
       "80"
      ]
     },
     "execution_count": 37,
     "metadata": {},
     "output_type": "execute_result"
    }
   ],
   "source": [
    "grades.get(\"Joel\", 0)"
   ]
  },
  {
   "cell_type": "code",
   "execution_count": 38,
   "metadata": {
    "colab": {},
    "colab_type": "code",
    "id": "W8e0U_Xcd0L4"
   },
   "outputs": [],
   "source": [
    "grades[\"Tim\"] = 99"
   ]
  },
  {
   "cell_type": "code",
   "execution_count": 39,
   "metadata": {
    "colab": {},
    "colab_type": "code",
    "id": "wwda3lC_d0MC"
   },
   "outputs": [],
   "source": [
    "grades[\"Kate\"] = 100"
   ]
  },
  {
   "cell_type": "markdown",
   "metadata": {
    "colab_type": "raw",
    "id": "bho8Sbegd0ML"
   },
   "source": [
    "len(grades)"
   ]
  },
  {
   "cell_type": "code",
   "execution_count": 40,
   "metadata": {
    "colab": {
     "base_uri": "https://localhost:8080/"
    },
    "colab_type": "code",
    "id": "USqV6FXed0MO",
    "outputId": "635bda5f-6e86-4f78-9d61-86986e761d2e"
   },
   "outputs": [
    {
     "data": {
      "text/plain": [
       "{'Joel': 80, 'Tim': 99, 'Kate': 100}"
      ]
     },
     "execution_count": 40,
     "metadata": {},
     "output_type": "execute_result"
    }
   ],
   "source": [
    "grades"
   ]
  },
  {
   "cell_type": "code",
   "execution_count": 41,
   "metadata": {
    "colab": {},
    "colab_type": "code",
    "id": "AN8VLvApd0MU"
   },
   "outputs": [],
   "source": [
    "tweet = {\"user\" : \"joelgrus\",\n",
    "         \"text\" : \"Data Science is Awesome\",\n",
    "         \"retweet_count\" : 100,\n",
    "         \"hashtags\" : [\"#data\", \"#science\", \"#datascience\", \"#awesome\", \"#yolo\"] }"
   ]
  },
  {
   "cell_type": "code",
   "execution_count": 42,
   "metadata": {
    "colab": {},
    "colab_type": "code",
    "id": "PZkdj9znd0Md"
   },
   "outputs": [],
   "source": [
    "tweet_keys = tweet.keys()\n",
    "tweet_values = tweet.values()\n",
    "tweet_items = tweet.items()"
   ]
  },
  {
   "cell_type": "code",
   "execution_count": 43,
   "metadata": {
    "colab": {
     "base_uri": "https://localhost:8080/"
    },
    "colab_type": "code",
    "id": "Q4B26Z2od0Mk",
    "outputId": "0000d32c-1d2d-41b3-b15e-d28359fd6760"
   },
   "outputs": [
    {
     "data": {
      "text/plain": [
       "True"
      ]
     },
     "execution_count": 43,
     "metadata": {},
     "output_type": "execute_result"
    }
   ],
   "source": [
    "\"user\" in tweet_keys\n",
    "100 in tweet_values"
   ]
  },
  {
   "cell_type": "code",
   "execution_count": 44,
   "metadata": {
    "colab": {},
    "colab_type": "code",
    "id": "tYMPrNq4d0Mt"
   },
   "outputs": [],
   "source": [
    "documents = \"As with strings and lists, there are several built-in methods that can be invoked on dictionaries. In fact, in some cases, the list and dictionary methods share the same name. In the discussion on object-oriented programming, you will see that it is perfectly acceptable for different types to have methods with the same name.\""
   ]
  },
  {
   "cell_type": "code",
   "execution_count": 45,
   "metadata": {
    "colab": {},
    "colab_type": "code",
    "id": "3LncHQMYd0M1"
   },
   "outputs": [],
   "source": [
    "words_count = {}\n",
    "for word in documents.split():\n",
    "    if word in words_count:\n",
    "        words_count[word] += 1\n",
    "    else:\n",
    "        words_count[word] = 1"
   ]
  },
  {
   "cell_type": "code",
   "execution_count": 46,
   "metadata": {
    "colab": {
     "base_uri": "https://localhost:8080/"
    },
    "colab_type": "code",
    "id": "fTNptXxsd0NB",
    "outputId": "4f71be44-c964-4103-dc64-8c6c7195988f"
   },
   "outputs": [
    {
     "data": {
      "text/plain": [
       "{'As': 1,\n",
       " 'with': 2,\n",
       " 'strings': 1,\n",
       " 'and': 2,\n",
       " 'lists,': 1,\n",
       " 'there': 1,\n",
       " 'are': 1,\n",
       " 'several': 1,\n",
       " 'built-in': 1,\n",
       " 'methods': 3,\n",
       " 'that': 2,\n",
       " 'can': 1,\n",
       " 'be': 1,\n",
       " 'invoked': 1,\n",
       " 'on': 2,\n",
       " 'dictionaries.': 1,\n",
       " 'In': 2,\n",
       " 'fact,': 1,\n",
       " 'in': 1,\n",
       " 'some': 1,\n",
       " 'cases,': 1,\n",
       " 'the': 4,\n",
       " 'list': 1,\n",
       " 'dictionary': 1,\n",
       " 'share': 1,\n",
       " 'same': 2,\n",
       " 'name.': 2,\n",
       " 'discussion': 1,\n",
       " 'object-oriented': 1,\n",
       " 'programming,': 1,\n",
       " 'you': 1,\n",
       " 'will': 1,\n",
       " 'see': 1,\n",
       " 'it': 1,\n",
       " 'is': 1,\n",
       " 'perfectly': 1,\n",
       " 'acceptable': 1,\n",
       " 'for': 1,\n",
       " 'different': 1,\n",
       " 'types': 1,\n",
       " 'to': 1,\n",
       " 'have': 1}"
      ]
     },
     "execution_count": 46,
     "metadata": {},
     "output_type": "execute_result"
    }
   ],
   "source": [
    "words_count"
   ]
  },
  {
   "cell_type": "code",
   "execution_count": 47,
   "metadata": {
    "colab": {},
    "colab_type": "code",
    "id": "toR4bvz6d0NJ"
   },
   "outputs": [],
   "source": [
    "words = {} \n",
    "for word in documents.split():\n",
    "    try:\n",
    "        words[word] += 1\n",
    "    except KeyError:\n",
    "        words[word] = 1\n"
   ]
  },
  {
   "cell_type": "code",
   "execution_count": 48,
   "metadata": {
    "colab": {
     "base_uri": "https://localhost:8080/"
    },
    "colab_type": "code",
    "id": "NEpWkTgLd0NN",
    "outputId": "885aefb8-696a-4ed2-8e41-676606d10bd9"
   },
   "outputs": [
    {
     "data": {
      "text/plain": [
       "{'As': 1,\n",
       " 'with': 2,\n",
       " 'strings': 1,\n",
       " 'and': 2,\n",
       " 'lists,': 1,\n",
       " 'there': 1,\n",
       " 'are': 1,\n",
       " 'several': 1,\n",
       " 'built-in': 1,\n",
       " 'methods': 3,\n",
       " 'that': 2,\n",
       " 'can': 1,\n",
       " 'be': 1,\n",
       " 'invoked': 1,\n",
       " 'on': 2,\n",
       " 'dictionaries.': 1,\n",
       " 'In': 2,\n",
       " 'fact,': 1,\n",
       " 'in': 1,\n",
       " 'some': 1,\n",
       " 'cases,': 1,\n",
       " 'the': 4,\n",
       " 'list': 1,\n",
       " 'dictionary': 1,\n",
       " 'share': 1,\n",
       " 'same': 2,\n",
       " 'name.': 2,\n",
       " 'discussion': 1,\n",
       " 'object-oriented': 1,\n",
       " 'programming,': 1,\n",
       " 'you': 1,\n",
       " 'will': 1,\n",
       " 'see': 1,\n",
       " 'it': 1,\n",
       " 'is': 1,\n",
       " 'perfectly': 1,\n",
       " 'acceptable': 1,\n",
       " 'for': 1,\n",
       " 'different': 1,\n",
       " 'types': 1,\n",
       " 'to': 1,\n",
       " 'have': 1}"
      ]
     },
     "execution_count": 48,
     "metadata": {},
     "output_type": "execute_result"
    }
   ],
   "source": [
    "words"
   ]
  },
  {
   "cell_type": "code",
   "execution_count": 49,
   "metadata": {
    "colab": {
     "base_uri": "https://localhost:8080/"
    },
    "colab_type": "code",
    "id": "zmQxeebcd0NT",
    "outputId": "e74ebc96-9d3c-4181-b71a-378cc3dd3244"
   },
   "outputs": [
    {
     "name": "stdout",
     "output_type": "stream",
     "text": [
      "0\n",
      "0\n",
      "0\n",
      "0\n",
      "0\n",
      "0\n",
      "0\n",
      "0\n",
      "0\n",
      "0\n",
      "0\n",
      "0\n",
      "0\n",
      "0\n",
      "0\n",
      "0\n",
      "0\n",
      "0\n",
      "0\n",
      "0\n",
      "0\n",
      "0\n",
      "0\n",
      "1\n",
      "0\n",
      "1\n",
      "0\n",
      "1\n",
      "0\n",
      "0\n",
      "1\n",
      "2\n",
      "0\n",
      "1\n",
      "0\n",
      "0\n",
      "0\n",
      "0\n",
      "0\n",
      "1\n",
      "0\n",
      "0\n",
      "0\n",
      "0\n",
      "0\n",
      "0\n",
      "0\n",
      "0\n",
      "0\n",
      "2\n",
      "1\n",
      "3\n",
      "1\n",
      "1\n"
     ]
    }
   ],
   "source": [
    "wordsss = {}\n",
    "for word in documents.split():\n",
    "    previous_count = wordsss.get(word, 0)\n",
    "    print(previous_count)\n",
    "    wordsss[word] = previous_count + 1\n"
   ]
  },
  {
   "cell_type": "code",
   "execution_count": 50,
   "metadata": {
    "colab": {
     "base_uri": "https://localhost:8080/"
    },
    "colab_type": "code",
    "id": "XjNQk25cd0Na",
    "outputId": "aec06010-f118-4643-eb48-36d6ce28a111"
   },
   "outputs": [
    {
     "data": {
      "text/plain": [
       "{'As': 1,\n",
       " 'with': 2,\n",
       " 'strings': 1,\n",
       " 'and': 2,\n",
       " 'lists,': 1,\n",
       " 'there': 1,\n",
       " 'are': 1,\n",
       " 'several': 1,\n",
       " 'built-in': 1,\n",
       " 'methods': 3,\n",
       " 'that': 2,\n",
       " 'can': 1,\n",
       " 'be': 1,\n",
       " 'invoked': 1,\n",
       " 'on': 2,\n",
       " 'dictionaries.': 1,\n",
       " 'In': 2,\n",
       " 'fact,': 1,\n",
       " 'in': 1,\n",
       " 'some': 1,\n",
       " 'cases,': 1,\n",
       " 'the': 4,\n",
       " 'list': 1,\n",
       " 'dictionary': 1,\n",
       " 'share': 1,\n",
       " 'same': 2,\n",
       " 'name.': 2,\n",
       " 'discussion': 1,\n",
       " 'object-oriented': 1,\n",
       " 'programming,': 1,\n",
       " 'you': 1,\n",
       " 'will': 1,\n",
       " 'see': 1,\n",
       " 'it': 1,\n",
       " 'is': 1,\n",
       " 'perfectly': 1,\n",
       " 'acceptable': 1,\n",
       " 'for': 1,\n",
       " 'different': 1,\n",
       " 'types': 1,\n",
       " 'to': 1,\n",
       " 'have': 1}"
      ]
     },
     "execution_count": 50,
     "metadata": {},
     "output_type": "execute_result"
    }
   ],
   "source": [
    "wordsss"
   ]
  },
  {
   "cell_type": "markdown",
   "metadata": {
    "colab_type": "text",
    "id": "V1ruj-kGd0Ng"
   },
   "source": [
    "# Defaultdict"
   ]
  },
  {
   "cell_type": "code",
   "execution_count": 51,
   "metadata": {
    "colab": {},
    "colab_type": "code",
    "id": "0Bmn2ZOYd0Nh"
   },
   "outputs": [],
   "source": [
    "from collections import defaultdict"
   ]
  },
  {
   "cell_type": "code",
   "execution_count": 52,
   "metadata": {
    "colab": {},
    "colab_type": "code",
    "id": "zQK3eDhrd0Np"
   },
   "outputs": [],
   "source": [
    "word_counts = defaultdict(int)\n",
    "for word in documents.split():\n",
    "    word_counts[word] += 1"
   ]
  },
  {
   "cell_type": "code",
   "execution_count": 53,
   "metadata": {
    "colab": {
     "base_uri": "https://localhost:8080/"
    },
    "colab_type": "code",
    "id": "RlEFGOb2d0Nu",
    "outputId": "57016e62-a734-46a2-b2e6-a5d248aa3150"
   },
   "outputs": [
    {
     "data": {
      "text/plain": [
       "defaultdict(int,\n",
       "            {'As': 1,\n",
       "             'with': 2,\n",
       "             'strings': 1,\n",
       "             'and': 2,\n",
       "             'lists,': 1,\n",
       "             'there': 1,\n",
       "             'are': 1,\n",
       "             'several': 1,\n",
       "             'built-in': 1,\n",
       "             'methods': 3,\n",
       "             'that': 2,\n",
       "             'can': 1,\n",
       "             'be': 1,\n",
       "             'invoked': 1,\n",
       "             'on': 2,\n",
       "             'dictionaries.': 1,\n",
       "             'In': 2,\n",
       "             'fact,': 1,\n",
       "             'in': 1,\n",
       "             'some': 1,\n",
       "             'cases,': 1,\n",
       "             'the': 4,\n",
       "             'list': 1,\n",
       "             'dictionary': 1,\n",
       "             'share': 1,\n",
       "             'same': 2,\n",
       "             'name.': 2,\n",
       "             'discussion': 1,\n",
       "             'object-oriented': 1,\n",
       "             'programming,': 1,\n",
       "             'you': 1,\n",
       "             'will': 1,\n",
       "             'see': 1,\n",
       "             'it': 1,\n",
       "             'is': 1,\n",
       "             'perfectly': 1,\n",
       "             'acceptable': 1,\n",
       "             'for': 1,\n",
       "             'different': 1,\n",
       "             'types': 1,\n",
       "             'to': 1,\n",
       "             'have': 1})"
      ]
     },
     "execution_count": 53,
     "metadata": {},
     "output_type": "execute_result"
    }
   ],
   "source": [
    "word_counts"
   ]
  },
  {
   "cell_type": "code",
   "execution_count": 54,
   "metadata": {
    "colab": {},
    "colab_type": "code",
    "id": "Z8zSRZbld0N3"
   },
   "outputs": [],
   "source": [
    "dd_list = defaultdict(list)"
   ]
  },
  {
   "cell_type": "code",
   "execution_count": 55,
   "metadata": {
    "colab": {},
    "colab_type": "code",
    "id": "XG9hBfpmd0OA"
   },
   "outputs": [],
   "source": [
    "dd_list[1].append(2)"
   ]
  },
  {
   "cell_type": "code",
   "execution_count": 56,
   "metadata": {
    "colab": {
     "base_uri": "https://localhost:8080/"
    },
    "colab_type": "code",
    "id": "zQ5MxlH6d0OO",
    "outputId": "cb77bf16-6a56-4d8c-cc9b-541bd415b69c"
   },
   "outputs": [
    {
     "data": {
      "text/plain": [
       "defaultdict(list, {1: [2]})"
      ]
     },
     "execution_count": 56,
     "metadata": {},
     "output_type": "execute_result"
    }
   ],
   "source": [
    "dd_list"
   ]
  },
  {
   "cell_type": "code",
   "execution_count": 57,
   "metadata": {
    "colab": {},
    "colab_type": "code",
    "id": "NB_NxWGEd0OT"
   },
   "outputs": [],
   "source": [
    "dd_dict = defaultdict(dict)"
   ]
  },
  {
   "cell_type": "code",
   "execution_count": 58,
   "metadata": {
    "colab": {},
    "colab_type": "code",
    "id": "bdkhdKSgd0OZ"
   },
   "outputs": [],
   "source": [
    "dd_dict[\"Lalkrishns\"][\"place\"] = \"Kozhikode\""
   ]
  },
  {
   "cell_type": "code",
   "execution_count": 59,
   "metadata": {
    "colab": {
     "base_uri": "https://localhost:8080/"
    },
    "colab_type": "code",
    "id": "GXyPL_QKd0Oi",
    "outputId": "faa21419-fbb3-4079-bf81-83839e745e3b"
   },
   "outputs": [
    {
     "data": {
      "text/plain": [
       "defaultdict(dict, {'Lalkrishns': {'place': 'Kozhikode'}})"
      ]
     },
     "execution_count": 59,
     "metadata": {},
     "output_type": "execute_result"
    }
   ],
   "source": [
    "dd_dict"
   ]
  },
  {
   "cell_type": "code",
   "execution_count": 60,
   "metadata": {
    "colab": {},
    "colab_type": "code",
    "id": "7phMJAYkd0Oq"
   },
   "outputs": [],
   "source": [
    "word = defaultdict(int)"
   ]
  },
  {
   "cell_type": "code",
   "execution_count": 61,
   "metadata": {
    "colab": {},
    "colab_type": "code",
    "id": "fvOab6kzd0O1"
   },
   "outputs": [],
   "source": [
    "word[1] = 3"
   ]
  },
  {
   "cell_type": "code",
   "execution_count": 62,
   "metadata": {
    "colab": {
     "base_uri": "https://localhost:8080/"
    },
    "colab_type": "code",
    "id": "GDgXtwf7d0O9",
    "outputId": "b48ae417-23d2-4c5c-82df-4e95cef0c8a4"
   },
   "outputs": [
    {
     "data": {
      "text/plain": [
       "defaultdict(int, {1: 3})"
      ]
     },
     "execution_count": 62,
     "metadata": {},
     "output_type": "execute_result"
    }
   ],
   "source": [
    "word"
   ]
  },
  {
   "cell_type": "code",
   "execution_count": 63,
   "metadata": {
    "colab": {},
    "colab_type": "code",
    "id": "5a5rtUV2d0PE"
   },
   "outputs": [],
   "source": [
    "dd_pair = defaultdict(lambda: [0,0,0,0])"
   ]
  },
  {
   "cell_type": "code",
   "execution_count": 64,
   "metadata": {
    "colab": {},
    "colab_type": "code",
    "id": "WE0jHwKPd0PL"
   },
   "outputs": [],
   "source": [
    "dd_pair[2][1] = 5"
   ]
  },
  {
   "cell_type": "code",
   "execution_count": 65,
   "metadata": {
    "colab": {
     "base_uri": "https://localhost:8080/"
    },
    "colab_type": "code",
    "id": "T1QpH7Ncd0PR",
    "outputId": "69f6e524-f262-4ffc-8ca0-62f480b9d4e4"
   },
   "outputs": [
    {
     "data": {
      "text/plain": [
       "defaultdict(<function __main__.<lambda>()>, {2: [0, 5, 0, 0]})"
      ]
     },
     "execution_count": 65,
     "metadata": {},
     "output_type": "execute_result"
    }
   ],
   "source": [
    "dd_pair"
   ]
  },
  {
   "cell_type": "markdown",
   "metadata": {},
   "source": [
    "# SETDEFAULT DICT"
   ]
  },
  {
   "cell_type": "code",
   "execution_count": 128,
   "metadata": {},
   "outputs": [
    {
     "name": "stdout",
     "output_type": "stream",
     "text": [
      "Lalkrishna\n"
     ]
    },
    {
     "data": {
      "text/plain": [
       "{'Name': 'Lalkrishna', 'Class': '12+', 'age': None}"
      ]
     },
     "execution_count": 128,
     "metadata": {},
     "output_type": "execute_result"
    }
   ],
   "source": [
    "dict = {'Name': 'Lalkrishna', 'Class': '12+'}\n",
    "dict.setdefault('age',None)\n",
    "print(dict.setdefault('Name'))\n",
    "dict"
   ]
  },
  {
   "cell_type": "code",
   "execution_count": 132,
   "metadata": {},
   "outputs": [
    {
     "name": "stdout",
     "output_type": "stream",
     "text": [
      "-1\n"
     ]
    }
   ],
   "source": [
    "print(dict.get('ages',-1))"
   ]
  },
  {
   "cell_type": "markdown",
   "metadata": {
    "colab_type": "text",
    "id": "1JKVFU0Pd0PX"
   },
   "source": [
    "# COUNTERs"
   ]
  },
  {
   "cell_type": "code",
   "execution_count": 66,
   "metadata": {
    "colab": {},
    "colab_type": "code",
    "id": "6Os2AEFSd0PZ"
   },
   "outputs": [],
   "source": [
    "from collections import Counter"
   ]
  },
  {
   "cell_type": "code",
   "execution_count": 67,
   "metadata": {
    "colab": {},
    "colab_type": "code",
    "id": "Q1Ye7D_Sd0Pl"
   },
   "outputs": [],
   "source": [
    "a = Counter([1,2,3,45,5,3,2,4,1])"
   ]
  },
  {
   "cell_type": "code",
   "execution_count": 68,
   "metadata": {
    "colab": {
     "base_uri": "https://localhost:8080/"
    },
    "colab_type": "code",
    "id": "MWafhB2Id0Pw",
    "outputId": "edf990d4-5ef5-422f-fa5e-dc798f228adb"
   },
   "outputs": [
    {
     "data": {
      "text/plain": [
       "Counter({1: 2, 2: 2, 3: 2, 45: 1, 5: 1, 4: 1})"
      ]
     },
     "execution_count": 68,
     "metadata": {},
     "output_type": "execute_result"
    }
   ],
   "source": [
    "a"
   ]
  },
  {
   "cell_type": "code",
   "execution_count": 69,
   "metadata": {
    "colab": {},
    "colab_type": "code",
    "id": "mww8Z83cd0P3"
   },
   "outputs": [],
   "source": [
    "words_counts_ = Counter(documents.split())"
   ]
  },
  {
   "cell_type": "code",
   "execution_count": 70,
   "metadata": {
    "colab": {
     "base_uri": "https://localhost:8080/"
    },
    "colab_type": "code",
    "id": "lmpi7n-Yd0P9",
    "outputId": "512f0e73-19b8-4769-c086-54c3686c35e9"
   },
   "outputs": [
    {
     "data": {
      "text/plain": [
       "Counter({'As': 1,\n",
       "         'with': 2,\n",
       "         'strings': 1,\n",
       "         'and': 2,\n",
       "         'lists,': 1,\n",
       "         'there': 1,\n",
       "         'are': 1,\n",
       "         'several': 1,\n",
       "         'built-in': 1,\n",
       "         'methods': 3,\n",
       "         'that': 2,\n",
       "         'can': 1,\n",
       "         'be': 1,\n",
       "         'invoked': 1,\n",
       "         'on': 2,\n",
       "         'dictionaries.': 1,\n",
       "         'In': 2,\n",
       "         'fact,': 1,\n",
       "         'in': 1,\n",
       "         'some': 1,\n",
       "         'cases,': 1,\n",
       "         'the': 4,\n",
       "         'list': 1,\n",
       "         'dictionary': 1,\n",
       "         'share': 1,\n",
       "         'same': 2,\n",
       "         'name.': 2,\n",
       "         'discussion': 1,\n",
       "         'object-oriented': 1,\n",
       "         'programming,': 1,\n",
       "         'you': 1,\n",
       "         'will': 1,\n",
       "         'see': 1,\n",
       "         'it': 1,\n",
       "         'is': 1,\n",
       "         'perfectly': 1,\n",
       "         'acceptable': 1,\n",
       "         'for': 1,\n",
       "         'different': 1,\n",
       "         'types': 1,\n",
       "         'to': 1,\n",
       "         'have': 1})"
      ]
     },
     "execution_count": 70,
     "metadata": {},
     "output_type": "execute_result"
    }
   ],
   "source": [
    "words_counts_"
   ]
  },
  {
   "cell_type": "code",
   "execution_count": 71,
   "metadata": {
    "colab": {
     "base_uri": "https://localhost:8080/"
    },
    "colab_type": "code",
    "id": "q0eunlxAd0QE",
    "outputId": "f39d158d-fbe9-4170-c1cb-99bd287278ee"
   },
   "outputs": [
    {
     "name": "stdout",
     "output_type": "stream",
     "text": [
      "the 4\n",
      "methods 3\n",
      "with 2\n",
      "and 2\n",
      "that 2\n",
      "on 2\n",
      "In 2\n",
      "same 2\n",
      "name. 2\n",
      "As 1\n"
     ]
    }
   ],
   "source": [
    "for word, count in words_counts_.most_common(10):\n",
    "    print(word, count)"
   ]
  },
  {
   "cell_type": "code",
   "execution_count": 72,
   "metadata": {
    "colab": {},
    "colab_type": "code",
    "id": "awzTm-KLd0QJ"
   },
   "outputs": [],
   "source": [
    "stop = documents.split()\n",
    "s = set(stop)"
   ]
  },
  {
   "cell_type": "code",
   "execution_count": 73,
   "metadata": {
    "colab": {
     "base_uri": "https://localhost:8080/"
    },
    "colab_type": "code",
    "id": "iXCPmRaPd0QP",
    "outputId": "6a836b65-9517-46c3-8ffd-e9c4787dc03f"
   },
   "outputs": [
    {
     "data": {
      "text/plain": [
       "True"
      ]
     },
     "execution_count": 73,
     "metadata": {},
     "output_type": "execute_result"
    }
   ],
   "source": [
    "'the' in s"
   ]
  },
  {
   "cell_type": "code",
   "execution_count": 74,
   "metadata": {
    "colab": {
     "base_uri": "https://localhost:8080/"
    },
    "colab_type": "code",
    "id": "hLos2peFd0QU",
    "outputId": "6837505e-0cb1-4cfe-aec1-486bb56d5ce6"
   },
   "outputs": [
    {
     "data": {
      "text/plain": [
       "10"
      ]
     },
     "execution_count": 74,
     "metadata": {},
     "output_type": "execute_result"
    }
   ],
   "source": [
    "item_list = [1,2,3,4,1,3,4,2,2,1,]\n",
    "len(item_list)"
   ]
  },
  {
   "cell_type": "code",
   "execution_count": 75,
   "metadata": {
    "colab": {},
    "colab_type": "code",
    "id": "KV8sMzSHd0Qg"
   },
   "outputs": [],
   "source": [
    "a = set(item_list)"
   ]
  },
  {
   "cell_type": "code",
   "execution_count": 76,
   "metadata": {
    "colab": {
     "base_uri": "https://localhost:8080/"
    },
    "colab_type": "code",
    "id": "jv7oLbuad0Qm",
    "outputId": "0807e8e1-e031-405a-d913-e33a21f12f0e"
   },
   "outputs": [
    {
     "data": {
      "text/plain": [
       "4"
      ]
     },
     "execution_count": 76,
     "metadata": {},
     "output_type": "execute_result"
    }
   ],
   "source": [
    "len(a)"
   ]
  },
  {
   "cell_type": "code",
   "execution_count": 77,
   "metadata": {
    "colab": {
     "base_uri": "https://localhost:8080/"
    },
    "colab_type": "code",
    "id": "GJdH86jMd0Qu",
    "outputId": "afe607bb-322b-4df5-c5a8-33bdd8fbc10d"
   },
   "outputs": [
    {
     "data": {
      "text/plain": [
       "'even'"
      ]
     },
     "execution_count": 77,
     "metadata": {},
     "output_type": "execute_result"
    }
   ],
   "source": [
    "parity = 'even' if 4 % 2 == 0 else \"odd\"\n",
    "parity"
   ]
  },
  {
   "cell_type": "markdown",
   "metadata": {
    "colab_type": "text",
    "id": "sxUwQHLbd0Q0"
   },
   "source": [
    "# Control flow"
   ]
  },
  {
   "cell_type": "code",
   "execution_count": 78,
   "metadata": {
    "colab": {
     "base_uri": "https://localhost:8080/"
    },
    "colab_type": "code",
    "id": "4d6voZbWd0Q1",
    "outputId": "df330ffe-5c8f-4d37-9662-13fd74fecacb"
   },
   "outputs": [
    {
     "name": "stdout",
     "output_type": "stream",
     "text": [
      "0\n",
      "1\n",
      "2\n",
      "4\n"
     ]
    }
   ],
   "source": [
    "for x in range(10):\n",
    "    if x == 3:\n",
    "        continue\n",
    "    if x == 5:\n",
    "        break\n",
    "    print(x)"
   ]
  },
  {
   "cell_type": "code",
   "execution_count": 79,
   "metadata": {
    "colab": {
     "base_uri": "https://localhost:8080/"
    },
    "colab_type": "code",
    "id": "OaZ8YTted0Q6",
    "outputId": "89f7bd6b-5d4b-4a65-c356-54597aa06cd2"
   },
   "outputs": [
    {
     "data": {
      "text/plain": [
       "False"
      ]
     },
     "execution_count": 79,
     "metadata": {},
     "output_type": "execute_result"
    }
   ],
   "source": [
    "set() is None"
   ]
  },
  {
   "cell_type": "code",
   "execution_count": 80,
   "metadata": {
    "colab": {
     "base_uri": "https://localhost:8080/"
    },
    "colab_type": "code",
    "id": "6GZGuUF4d0RA",
    "outputId": "0984ab08-d18e-492b-c0c8-bf1ab0e318ca"
   },
   "outputs": [
    {
     "name": "stdout",
     "output_type": "stream",
     "text": [
      "l\n"
     ]
    }
   ],
   "source": [
    "s = \"lalkrishna\"\n",
    "if s:\n",
    "    first_char = s[0]\n",
    "    print(first_char)\n",
    "else:\n",
    "    first_char = \"\"\n",
    "    print(first_char)"
   ]
  },
  {
   "cell_type": "code",
   "execution_count": 81,
   "metadata": {
    "colab": {
     "base_uri": "https://localhost:8080/"
    },
    "colab_type": "code",
    "id": "VEAkNjRQd0RF",
    "outputId": "7d7ff522-b44a-44ef-d677-d0cd024edd1e"
   },
   "outputs": [
    {
     "name": "stdout",
     "output_type": "stream",
     "text": [
      "because of False\n"
     ]
    }
   ],
   "source": [
    "z = False\n",
    "if z:\n",
    "    print(\"because of True\")\n",
    "else:\n",
    "    print(\"because of False\")"
   ]
  },
  {
   "cell_type": "code",
   "execution_count": 82,
   "metadata": {
    "colab": {},
    "colab_type": "code",
    "id": "j2kDlsoad0RL"
   },
   "outputs": [],
   "source": [
    "first_char = s and s[0]"
   ]
  },
  {
   "cell_type": "code",
   "execution_count": 83,
   "metadata": {
    "colab": {
     "base_uri": "https://localhost:8080/"
    },
    "colab_type": "code",
    "id": "jJvrGdM3d0RP",
    "outputId": "7f162a9c-1d9e-4e97-d33e-2133eb1a80db"
   },
   "outputs": [
    {
     "name": "stdout",
     "output_type": "stream",
     "text": [
      "l\n"
     ]
    }
   ],
   "source": [
    "print(first_char)"
   ]
  },
  {
   "cell_type": "code",
   "execution_count": 84,
   "metadata": {
    "colab": {
     "base_uri": "https://localhost:8080/"
    },
    "colab_type": "code",
    "id": "KNY3ECOMd0RU",
    "outputId": "7f91065e-e27d-4f57-b5bc-7d8f405f5767"
   },
   "outputs": [
    {
     "name": "stdout",
     "output_type": "stream",
     "text": [
      "False\n"
     ]
    }
   ],
   "source": [
    "a = z and False\n",
    "print(a)"
   ]
  },
  {
   "cell_type": "code",
   "execution_count": 85,
   "metadata": {
    "colab": {
     "base_uri": "https://localhost:8080/"
    },
    "colab_type": "code",
    "id": "1ZzOMw3Rd0Rf",
    "outputId": "e103b033-c6fa-43e6-ec37-8a15e5d881ea"
   },
   "outputs": [
    {
     "name": "stdout",
     "output_type": "stream",
     "text": [
      "5\n"
     ]
    }
   ],
   "source": [
    "safe_x = x or 2\n",
    "print(safe_x)"
   ]
  },
  {
   "cell_type": "code",
   "execution_count": 86,
   "metadata": {
    "colab": {
     "base_uri": "https://localhost:8080/"
    },
    "colab_type": "code",
    "id": "AOt5JKM6d0Rk",
    "outputId": "57973f67-e73a-49eb-c9f3-f3ca038b07ad"
   },
   "outputs": [
    {
     "data": {
      "text/plain": [
       "'okay'"
      ]
     },
     "execution_count": 86,
     "metadata": {},
     "output_type": "execute_result"
    }
   ],
   "source": [
    "2%2==1 or \"okay\""
   ]
  },
  {
   "cell_type": "code",
   "execution_count": 87,
   "metadata": {
    "colab": {
     "base_uri": "https://localhost:8080/"
    },
    "colab_type": "code",
    "id": "4avEoZqBd0Rq",
    "outputId": "01910b4a-4d50-4761-d5cf-84a4b2f0d4ea"
   },
   "outputs": [
    {
     "data": {
      "text/plain": [
       "False"
      ]
     },
     "execution_count": 87,
     "metadata": {},
     "output_type": "execute_result"
    }
   ],
   "source": [
    "all([\"\", 4, 2, [3,3,5,2]])"
   ]
  },
  {
   "cell_type": "code",
   "execution_count": 88,
   "metadata": {
    "colab": {
     "base_uri": "https://localhost:8080/"
    },
    "colab_type": "code",
    "id": "iSCXOy0cd0Rv",
    "outputId": "2903523c-79eb-4d85-a26a-da89d530593a"
   },
   "outputs": [
    {
     "data": {
      "text/plain": [
       "True"
      ]
     },
     "execution_count": 88,
     "metadata": {},
     "output_type": "execute_result"
    }
   ],
   "source": [
    "all([])"
   ]
  },
  {
   "cell_type": "code",
   "execution_count": 89,
   "metadata": {
    "colab": {
     "base_uri": "https://localhost:8080/"
    },
    "colab_type": "code",
    "id": "m6Q17Ot9d0R0",
    "outputId": "2f30d0ac-977b-4f4b-f264-082765d3ff11"
   },
   "outputs": [
    {
     "data": {
      "text/plain": [
       "False"
      ]
     },
     "execution_count": 89,
     "metadata": {},
     "output_type": "execute_result"
    }
   ],
   "source": [
    "any([])"
   ]
  },
  {
   "cell_type": "code",
   "execution_count": 90,
   "metadata": {
    "colab": {
     "base_uri": "https://localhost:8080/"
    },
    "colab_type": "code",
    "id": "nzyg50WTd0R5",
    "outputId": "52ca72ef-a5a0-4a9b-8d28-af88c6d682dd"
   },
   "outputs": [
    {
     "data": {
      "text/plain": [
       "False"
      ]
     },
     "execution_count": 90,
     "metadata": {},
     "output_type": "execute_result"
    }
   ],
   "source": [
    "a = []\n",
    "a is True"
   ]
  },
  {
   "cell_type": "markdown",
   "metadata": {
    "colab_type": "text",
    "id": "oEmRTu6rd0SC"
   },
   "source": [
    "# Sorting"
   ]
  },
  {
   "cell_type": "code",
   "execution_count": 91,
   "metadata": {
    "colab": {
     "base_uri": "https://localhost:8080/"
    },
    "colab_type": "code",
    "id": "XOJeEfoVd0SD",
    "outputId": "977717dd-da6e-47e6-f3fc-81419638ff65"
   },
   "outputs": [
    {
     "data": {
      "text/plain": [
       "['lalkrishna', 'cc', 'dd', 'ff', 'hi', 'arjun']"
      ]
     },
     "execution_count": 91,
     "metadata": {},
     "output_type": "execute_result"
    }
   ],
   "source": [
    "x = [5,6,2,1,5,8,1]\n",
    "a = ['lalkrishna', 'arjun', 'hi', 'cc', 'dd', 'ff']\n",
    "sorted(a, key=lambda a: a[1])"
   ]
  },
  {
   "cell_type": "code",
   "execution_count": 92,
   "metadata": {
    "colab": {
     "base_uri": "https://localhost:8080/"
    },
    "colab_type": "code",
    "id": "rydRXQYud0SJ",
    "outputId": "b89e9ace-0d55-43c7-cc6a-526824e2d0e7"
   },
   "outputs": [
    {
     "data": {
      "text/plain": [
       "[7, 9, 2, 4, 6]"
      ]
     },
     "execution_count": 92,
     "metadata": {},
     "output_type": "execute_result"
    }
   ],
   "source": [
    "g = [2, 4, 6, 7, 9]\n",
    "sorted(g, key=lambda g: g%2==0)"
   ]
  },
  {
   "cell_type": "markdown",
   "metadata": {
    "colab_type": "text",
    "id": "AwnqPic2eLfd"
   },
   "source": [
    "# List Comprehensions\n"
   ]
  },
  {
   "cell_type": "code",
   "execution_count": 93,
   "metadata": {
    "colab": {
     "base_uri": "https://localhost:8080/",
     "height": 33
    },
    "colab_type": "code",
    "id": "6SGnKIRQecl8",
    "outputId": "0c181b22-f04f-476e-ee1a-c5fb46028b0b"
   },
   "outputs": [
    {
     "name": "stdout",
     "output_type": "stream",
     "text": [
      "[0, 1, 4, 9, 16]\n"
     ]
    }
   ],
   "source": [
    "squares = [\n",
    "           x*x\n",
    "           for x in range(5)\n",
    "]\n",
    "print(squares)"
   ]
  },
  {
   "cell_type": "code",
   "execution_count": 94,
   "metadata": {
    "colab": {
     "base_uri": "https://localhost:8080/",
     "height": 33
    },
    "colab_type": "code",
    "id": "4rtN1tzJeShn",
    "outputId": "933eff8b-5458-49ce-b718-67d996705682"
   },
   "outputs": [
    {
     "name": "stdout",
     "output_type": "stream",
     "text": [
      "[0, 2, 4]\n"
     ]
    }
   ],
   "source": [
    "even_number = [\n",
    "               x\n",
    "               for x in range(5)\n",
    "               if x % 2 == 0\n",
    "]\n",
    "print(even_number)"
   ]
  },
  {
   "cell_type": "code",
   "execution_count": 95,
   "metadata": {
    "colab": {},
    "colab_type": "code",
    "id": "A-HglDFvesoE"
   },
   "outputs": [],
   "source": [
    "even_squares = [\n",
    "                x*x\n",
    "                for x in even_number\n",
    "]"
   ]
  },
  {
   "cell_type": "code",
   "execution_count": 96,
   "metadata": {
    "colab": {
     "base_uri": "https://localhost:8080/",
     "height": 33
    },
    "colab_type": "code",
    "id": "bbunvh57e10y",
    "outputId": "6e88b100-95f0-4065-b2b5-ad8d32dff0b5"
   },
   "outputs": [
    {
     "data": {
      "text/plain": [
       "[0, 4, 16]"
      ]
     },
     "execution_count": 96,
     "metadata": {},
     "output_type": "execute_result"
    }
   ],
   "source": [
    "even_squares"
   ]
  },
  {
   "cell_type": "code",
   "execution_count": 97,
   "metadata": {
    "colab": {
     "base_uri": "https://localhost:8080/",
     "height": 33
    },
    "colab_type": "code",
    "id": "r7p9m4Tce3Nn",
    "outputId": "909a0a2f-8afc-439b-83bb-fe01b347decd"
   },
   "outputs": [
    {
     "name": "stdout",
     "output_type": "stream",
     "text": [
      "{0: 0, 1: 1, 2: 4, 3: 9, 4: 16}\n"
     ]
    }
   ],
   "source": [
    "square_dict = {\n",
    "    x: x*x\n",
    "    for x in range(5)\n",
    "}\n",
    "print(square_dict)"
   ]
  },
  {
   "cell_type": "code",
   "execution_count": 98,
   "metadata": {
    "colab": {},
    "colab_type": "code",
    "id": "iOI_8P0jfICr"
   },
   "outputs": [],
   "source": [
    "square_set = {\n",
    "    x*x\n",
    "    for x in [1, -1]\n",
    "}"
   ]
  },
  {
   "cell_type": "code",
   "execution_count": 99,
   "metadata": {
    "colab": {
     "base_uri": "https://localhost:8080/",
     "height": 33
    },
    "colab_type": "code",
    "id": "sgTq5Gg1fSO6",
    "outputId": "bab81c52-3ce0-45dd-c6c0-1c9e3d46400b"
   },
   "outputs": [
    {
     "name": "stdout",
     "output_type": "stream",
     "text": [
      "{1}\n"
     ]
    }
   ],
   "source": [
    "print(square_set)"
   ]
  },
  {
   "cell_type": "code",
   "execution_count": 100,
   "metadata": {
    "colab": {},
    "colab_type": "code",
    "id": "KZKOySjjfUcu"
   },
   "outputs": [],
   "source": [
    "zeros = [0 for _ in range(5)]"
   ]
  },
  {
   "cell_type": "code",
   "execution_count": 101,
   "metadata": {
    "colab": {
     "base_uri": "https://localhost:8080/",
     "height": 33
    },
    "colab_type": "code",
    "id": "vY5v9SzffkQ2",
    "outputId": "2ef6045d-767f-4d4b-dd35-4fe3b30f8525"
   },
   "outputs": [
    {
     "name": "stdout",
     "output_type": "stream",
     "text": [
      "[0, 0, 0, 0, 0]\n"
     ]
    }
   ],
   "source": [
    "print(zeros)"
   ]
  },
  {
   "cell_type": "code",
   "execution_count": 102,
   "metadata": {
    "colab": {
     "base_uri": "https://localhost:8080/",
     "height": 53
    },
    "colab_type": "code",
    "id": "HE3AWYsiflXO",
    "outputId": "0a0a1b37-d69b-438b-c77d-b746f936afa0"
   },
   "outputs": [
    {
     "name": "stdout",
     "output_type": "stream",
     "text": [
      "[(0, 0), (0, 1), (0, 2), (0, 3), (0, 4), (0, 5), (0, 6), (0, 7), (0, 8), (0, 9), (1, 0), (1, 1), (1, 2), (1, 3), (1, 4), (1, 5), (1, 6), (1, 7), (1, 8), (1, 9), (2, 0), (2, 1), (2, 2), (2, 3), (2, 4), (2, 5), (2, 6), (2, 7), (2, 8), (2, 9), (3, 0), (3, 1), (3, 2), (3, 3), (3, 4), (3, 5), (3, 6), (3, 7), (3, 8), (3, 9), (4, 0), (4, 1), (4, 2), (4, 3), (4, 4), (4, 5), (4, 6), (4, 7), (4, 8), (4, 9), (5, 0), (5, 1), (5, 2), (5, 3), (5, 4), (5, 5), (5, 6), (5, 7), (5, 8), (5, 9), (6, 0), (6, 1), (6, 2), (6, 3), (6, 4), (6, 5), (6, 6), (6, 7), (6, 8), (6, 9), (7, 0), (7, 1), (7, 2), (7, 3), (7, 4), (7, 5), (7, 6), (7, 7), (7, 8), (7, 9), (8, 0), (8, 1), (8, 2), (8, 3), (8, 4), (8, 5), (8, 6), (8, 7), (8, 8), (8, 9), (9, 0), (9, 1), (9, 2), (9, 3), (9, 4), (9, 5), (9, 6), (9, 7), (9, 8), (9, 9)]\n"
     ]
    }
   ],
   "source": [
    "pairs = [\n",
    "         (x,y)\n",
    "         for x in range(10)\n",
    "         for y in range(10)\n",
    "]\n",
    "print(pairs)"
   ]
  },
  {
   "cell_type": "code",
   "execution_count": 103,
   "metadata": {
    "colab": {
     "base_uri": "https://localhost:8080/",
     "height": 53
    },
    "colab_type": "code",
    "id": "-dveyCwGf3Sl",
    "outputId": "b6e703e2-1efd-4d70-d7a3-8f7c49c2395f"
   },
   "outputs": [
    {
     "name": "stdout",
     "output_type": "stream",
     "text": [
      "[(0, 1), (0, 2), (0, 3), (0, 4), (0, 5), (0, 6), (0, 7), (0, 8), (0, 9), (1, 2), (1, 3), (1, 4), (1, 5), (1, 6), (1, 7), (1, 8), (1, 9), (2, 3), (2, 4), (2, 5), (2, 6), (2, 7), (2, 8), (2, 9), (3, 4), (3, 5), (3, 6), (3, 7), (3, 8), (3, 9), (4, 5), (4, 6), (4, 7), (4, 8), (4, 9), (5, 6), (5, 7), (5, 8), (5, 9), (6, 7), (6, 8), (6, 9), (7, 8), (7, 9), (8, 9)]\n"
     ]
    }
   ],
   "source": [
    "increasing_pairs = [\n",
    "                    (x, y)\n",
    "                    for x in range(10)\n",
    "                    for y in range(x+1, 10)\n",
    "]\n",
    "print(increasing_pairs)"
   ]
  },
  {
   "cell_type": "code",
   "execution_count": 104,
   "metadata": {
    "colab": {
     "base_uri": "https://localhost:8080/",
     "height": 33
    },
    "colab_type": "code",
    "id": "uHKF-JjIgKzM",
    "outputId": "0d6c69a3-606b-42be-d2a4-56dd32234235"
   },
   "outputs": [
    {
     "name": "stdout",
     "output_type": "stream",
     "text": [
      "Counter({6: 2, 7: 2, 1: 1, 2: 1, 3: 1, 4: 1, 5: 1})\n"
     ]
    }
   ],
   "source": [
    "num_list = [1,2,3,4,5,6,6,7,7]\n",
    "e = Counter(num_list)\n",
    "print(e)"
   ]
  },
  {
   "cell_type": "code",
   "execution_count": 105,
   "metadata": {
    "colab": {
     "base_uri": "https://localhost:8080/",
     "height": 33
    },
    "colab_type": "code",
    "id": "CXoM5y7yhmMb",
    "outputId": "2382bdf4-6b85-402c-c7a3-d647fd5a125d"
   },
   "outputs": [
    {
     "name": "stdout",
     "output_type": "stream",
     "text": [
      "defaultdict(<class 'int'>, {1: 1, 2: 1, 3: 1, 4: 1, 5: 1, 6: 2, 7: 2})\n"
     ]
    }
   ],
   "source": [
    "ee = defaultdict(int)\n",
    "for n in num_list:\n",
    "  ee[n] += 1\n",
    "\n",
    "print(ee)"
   ]
  },
  {
   "cell_type": "markdown",
   "metadata": {
    "colab_type": "text",
    "id": "H99-QGkgBHdj"
   },
   "source": [
    "# Automated testing and assert"
   ]
  },
  {
   "cell_type": "code",
   "execution_count": 106,
   "metadata": {
    "colab": {
     "base_uri": "https://localhost:8080/",
     "height": 333
    },
    "colab_type": "code",
    "id": "gYaoEO69Bcfk",
    "outputId": "a91a5f2f-d741-47fb-8f51-8f1d2eb05616"
   },
   "outputs": [
    {
     "ename": "AssertionError",
     "evalue": "",
     "output_type": "error",
     "traceback": [
      "\u001b[1;31m---------------------------------------------------------------------------\u001b[0m",
      "\u001b[1;31mAssertionError\u001b[0m                            Traceback (most recent call last)",
      "\u001b[1;32m<ipython-input-106-8ed59e0b1468>\u001b[0m in \u001b[0;36m<module>\u001b[1;34m\u001b[0m\n\u001b[0;32m      2\u001b[0m   \u001b[1;32mreturn\u001b[0m \u001b[0mmin\u001b[0m\u001b[1;33m(\u001b[0m\u001b[0mxs\u001b[0m\u001b[1;33m)\u001b[0m\u001b[1;33m\u001b[0m\u001b[1;33m\u001b[0m\u001b[0m\n\u001b[0;32m      3\u001b[0m \u001b[1;33m\u001b[0m\u001b[0m\n\u001b[1;32m----> 4\u001b[1;33m \u001b[1;32massert\u001b[0m \u001b[0msmall_items\u001b[0m\u001b[1;33m(\u001b[0m\u001b[1;33m[\u001b[0m\u001b[1;36m10\u001b[0m\u001b[1;33m,\u001b[0m\u001b[1;36m20\u001b[0m\u001b[1;33m,\u001b[0m\u001b[1;36m30\u001b[0m\u001b[1;33m,\u001b[0m\u001b[1;36m40\u001b[0m\u001b[1;33m,\u001b[0m\u001b[1;36m50\u001b[0m\u001b[1;33m]\u001b[0m\u001b[1;33m)\u001b[0m \u001b[1;33m==\u001b[0m \u001b[1;33m-\u001b[0m\u001b[1;36m1\u001b[0m\u001b[1;33m\u001b[0m\u001b[1;33m\u001b[0m\u001b[0m\n\u001b[0m",
      "\u001b[1;31mAssertionError\u001b[0m: "
     ]
    }
   ],
   "source": [
    "def small_items(xs):\n",
    "  return min(xs)\n",
    "\n",
    "assert small_items([10,20,30,40,50]) == -1"
   ]
  },
  {
   "cell_type": "code",
   "execution_count": null,
   "metadata": {
    "colab": {
     "base_uri": "https://localhost:8080/",
     "height": 496
    },
    "colab_type": "code",
    "id": "rf9SWvadC_W_",
    "outputId": "91384730-213b-41e7-b062-da68db836c40"
   },
   "outputs": [],
   "source": [
    "def smallest_item(xs):\n",
    "  assert xs, \"empty list\"\n",
    "  return min(xs)\n",
    "\n",
    "smallest_item([])"
   ]
  },
  {
   "cell_type": "markdown",
   "metadata": {},
   "source": [
    "# Object-Oriented Programming\n"
   ]
  },
  {
   "cell_type": "code",
   "execution_count": null,
   "metadata": {},
   "outputs": [],
   "source": [
    "class CountingClicker:\n",
    "    def __init__(self, count=0):\n",
    "        self.count = count\n",
    "    \n",
    "    \n",
    "    def __repr__(self):\n",
    "        return \n",
    "        f\"CountingClicker (count={self.count})\"\n",
    "        \n",
    "        \n",
    "    def click(self, num_times = 1):\n",
    "        self.count += num_times\n",
    "\n",
    "    \n",
    "    def read(self):\n",
    "        return self.count\n",
    "    \n",
    "    \n",
    "    def reset(self):\n",
    "        self.count=0\n",
    "        \n"
   ]
  },
  {
   "cell_type": "code",
   "execution_count": null,
   "metadata": {},
   "outputs": [],
   "source": [
    "clicker = CountingClicker()\n",
    "assert clicker.read() == 0, \"clicker should start with count 0\"\n",
    "clicker.click()\n",
    "clicker.click()\n",
    "assert clicker.read() == 2, \"after two clicks, clicker should have count 2\"\n",
    "clicker.reset()\n",
    "assert clicker.read() == 0, \"after reset, clicker should be back to 0\""
   ]
  },
  {
   "cell_type": "code",
   "execution_count": null,
   "metadata": {},
   "outputs": [],
   "source": [
    "class NoRestClicker(CountingClicker):\n",
    "    def reset(self):\n",
    "        pass\n",
    "    \n",
    "clicker2 = NoRestClicker() \n",
    "assert clicker2.read() == 0\n",
    "clicker2.click()== 1\n",
    "assert clicker2.read() == 1\n",
    "clicker2.reset()\n",
    "assert clicker2.read() ==  1, \"Reset shouldnt do anything\""
   ]
  },
  {
   "cell_type": "markdown",
   "metadata": {},
   "source": [
    "# Iterable and Generators"
   ]
  },
  {
   "cell_type": "code",
   "execution_count": 3,
   "metadata": {},
   "outputs": [
    {
     "name": "stdout",
     "output_type": "stream",
     "text": [
      "0\n",
      "1\n",
      "2\n",
      "3\n",
      "4\n",
      "5\n",
      "6\n",
      "7\n",
      "8\n",
      "9\n"
     ]
    }
   ],
   "source": [
    "def generate_range(n):\n",
    "    i = 0 \n",
    "    while i < n:\n",
    "            yield i\n",
    "            i += 1\n",
    "for i in generate_range(10):\n",
    "    print(i)"
   ]
  },
  {
   "cell_type": "code",
   "execution_count": 4,
   "metadata": {},
   "outputs": [],
   "source": [
    "def natural_number():\n",
    "    n = 1\n",
    "    while True:\n",
    "        yield n \n",
    "        n += 1"
   ]
  },
  {
   "cell_type": "code",
   "execution_count": 5,
   "metadata": {},
   "outputs": [],
   "source": [
    "evens_below_20 = (i for i in generate_range(20) if i % 2 == 0)"
   ]
  },
  {
   "cell_type": "code",
   "execution_count": 9,
   "metadata": {},
   "outputs": [
    {
     "data": {
      "text/plain": [
       "4"
      ]
     },
     "execution_count": 9,
     "metadata": {},
     "output_type": "execute_result"
    }
   ],
   "source": [
    "next(evens_below_20)"
   ]
  },
  {
   "cell_type": "code",
   "execution_count": 6,
   "metadata": {},
   "outputs": [
    {
     "data": {
      "text/plain": [
       "9"
      ]
     },
     "execution_count": 6,
     "metadata": {},
     "output_type": "execute_result"
    }
   ],
   "source": [
    "i"
   ]
  },
  {
   "cell_type": "code",
   "execution_count": 58,
   "metadata": {},
   "outputs": [],
   "source": [
    "data = natural_number()\n",
    "evens = (x for x in data if x % 2 == 0)"
   ]
  },
  {
   "cell_type": "code",
   "execution_count": 59,
   "metadata": {},
   "outputs": [
    {
     "data": {
      "text/plain": [
       "2"
      ]
     },
     "execution_count": 59,
     "metadata": {},
     "output_type": "execute_result"
    }
   ],
   "source": [
    "next(evens)"
   ]
  },
  {
   "cell_type": "code",
   "execution_count": 60,
   "metadata": {},
   "outputs": [],
   "source": [
    "even_squares = (x ** 2 for x in evens)"
   ]
  },
  {
   "cell_type": "code",
   "execution_count": 67,
   "metadata": {},
   "outputs": [
    {
     "data": {
      "text/plain": [
       "5184"
      ]
     },
     "execution_count": 67,
     "metadata": {},
     "output_type": "execute_result"
    }
   ],
   "source": [
    "next(even_squares)"
   ]
  },
  {
   "cell_type": "code",
   "execution_count": 68,
   "metadata": {},
   "outputs": [],
   "source": [
    "even_squares_ending_in_six = (\n",
    "        x for x in even_squares\n",
    "        if x % 10 == 6\n",
    ")"
   ]
  },
  {
   "cell_type": "code",
   "execution_count": 70,
   "metadata": {},
   "outputs": [
    {
     "data": {
      "text/plain": [
       "5476"
      ]
     },
     "execution_count": 70,
     "metadata": {},
     "output_type": "execute_result"
    }
   ],
   "source": [
    "next(even_squares_ending_in_six)"
   ]
  },
  {
   "cell_type": "code",
   "execution_count": 80,
   "metadata": {},
   "outputs": [
    {
     "name": "stdout",
     "output_type": "stream",
     "text": [
      "246866\n"
     ]
    }
   ],
   "source": [
    "for x in evens:\n",
    "    print(x)\n",
    "    if x >= 50:\n",
    "        break"
   ]
  },
  {
   "cell_type": "code",
   "execution_count": 81,
   "metadata": {},
   "outputs": [],
   "source": [
    "names = ['Lalkrishna', 'Niyas', 'Hari', 'Sayand']"
   ]
  },
  {
   "cell_type": "code",
   "execution_count": 84,
   "metadata": {},
   "outputs": [
    {
     "name": "stdout",
     "output_type": "stream",
     "text": [
      "name 0 is Lalkrishna\n",
      "name 1 is Niyas\n",
      "name 2 is Hari\n",
      "name 3 is Sayand\n"
     ]
    }
   ],
   "source": [
    "# not a pythonic way\n",
    "for i in range(len(names)):\n",
    "    print(f\"name {i} is {names[i]}\")"
   ]
  },
  {
   "cell_type": "code",
   "execution_count": 85,
   "metadata": {},
   "outputs": [
    {
     "name": "stdout",
     "output_type": "stream",
     "text": [
      "Name 0 is Lalkrishna\n",
      "Name 1 is Niyas\n",
      "Name 2 is Hari\n",
      "Name 3 is Sayand\n"
     ]
    }
   ],
   "source": [
    "# pythonic way is this\n",
    "for i, name in enumerate(names):\n",
    "    print(f'Name {i} is {name}')"
   ]
  },
  {
   "cell_type": "code",
   "execution_count": 86,
   "metadata": {},
   "outputs": [
    {
     "name": "stdout",
     "output_type": "stream",
     "text": [
      "0 0\n",
      "1 1\n",
      "2 2\n",
      "3 3\n",
      "4 4\n",
      "5 5\n",
      "6 6\n",
      "7 7\n",
      "8 8\n",
      "9 9\n"
     ]
    }
   ],
   "source": [
    "for num1, num2 in enumerate(range(10)):\n",
    "    print(num1, num2)"
   ]
  },
  {
   "cell_type": "code",
   "execution_count": 89,
   "metadata": {},
   "outputs": [
    {
     "data": {
      "text/plain": [
       "'Return an enumerate object.\\n\\n  iterable\\n    an object supporting iteration\\n\\nThe enumerate object yields pairs containing a count (from start, which\\ndefaults to zero) and a value yielded by the iterable argument.\\n\\nenumerate is useful for obtaining an indexed list:\\n    (0, seq[0]), (1, seq[1]), (2, seq[2]), ...'"
      ]
     },
     "execution_count": 89,
     "metadata": {},
     "output_type": "execute_result"
    }
   ],
   "source": [
    "enumerate.__doc__"
   ]
  },
  {
   "cell_type": "code",
   "execution_count": 90,
   "metadata": {},
   "outputs": [],
   "source": [
    "def multi_yield():\n",
    "    ss = \"This will print first.\"\n",
    "    yield ss\n",
    "    ss = \"This will print second.\"\n",
    "    yield ss\n",
    "\n",
    "multi = multi_yield()"
   ]
  },
  {
   "cell_type": "code",
   "execution_count": 91,
   "metadata": {},
   "outputs": [
    {
     "name": "stdout",
     "output_type": "stream",
     "text": [
      "This will print first.\n"
     ]
    }
   ],
   "source": [
    "print(next(multi))"
   ]
  },
  {
   "cell_type": "code",
   "execution_count": 92,
   "metadata": {},
   "outputs": [
    {
     "name": "stdout",
     "output_type": "stream",
     "text": [
      "This will print second.\n"
     ]
    }
   ],
   "source": [
    "print(next(multi))"
   ]
  },
  {
   "cell_type": "code",
   "execution_count": 93,
   "metadata": {},
   "outputs": [
    {
     "ename": "StopIteration",
     "evalue": "",
     "output_type": "error",
     "traceback": [
      "\u001b[1;31m---------------------------------------------------------------------------\u001b[0m",
      "\u001b[1;31mStopIteration\u001b[0m                             Traceback (most recent call last)",
      "\u001b[1;32m<ipython-input-93-eb62dce447a3>\u001b[0m in \u001b[0;36m<module>\u001b[1;34m\u001b[0m\n\u001b[1;32m----> 1\u001b[1;33m \u001b[0mprint\u001b[0m\u001b[1;33m(\u001b[0m\u001b[0mnext\u001b[0m\u001b[1;33m(\u001b[0m\u001b[0mmulti\u001b[0m\u001b[1;33m)\u001b[0m\u001b[1;33m)\u001b[0m\u001b[1;33m\u001b[0m\u001b[1;33m\u001b[0m\u001b[0m\n\u001b[0m",
      "\u001b[1;31mStopIteration\u001b[0m: "
     ]
    }
   ],
   "source": [
    "print(next(multi))"
   ]
  },
  {
   "cell_type": "code",
   "execution_count": 37,
   "metadata": {},
   "outputs": [],
   "source": [
    "import cProfile"
   ]
  },
  {
   "cell_type": "code",
   "execution_count": 96,
   "metadata": {},
   "outputs": [
    {
     "name": "stdout",
     "output_type": "stream",
     "text": [
      "         5 function calls in 0.002 seconds\n",
      "\n",
      "   Ordered by: standard name\n",
      "\n",
      "   ncalls  tottime  percall  cumtime  percall filename:lineno(function)\n",
      "        1    0.001    0.001    0.001    0.001 <string>:1(<listcomp>)\n",
      "        1    0.000    0.000    0.001    0.001 <string>:1(<module>)\n",
      "        1    0.000    0.000    0.002    0.002 {built-in method builtins.exec}\n",
      "        1    0.000    0.000    0.000    0.000 {built-in method builtins.sum}\n",
      "        1    0.000    0.000    0.000    0.000 {method 'disable' of '_lsprof.Profiler' objects}\n",
      "\n",
      "\n"
     ]
    }
   ],
   "source": [
    "cProfile.run('sum([i*2 for i in range(10000)])')"
   ]
  },
  {
   "cell_type": "code",
   "execution_count": 98,
   "metadata": {},
   "outputs": [
    {
     "name": "stdout",
     "output_type": "stream",
     "text": [
      "         10005 function calls in 0.005 seconds\n",
      "\n",
      "   Ordered by: standard name\n",
      "\n",
      "   ncalls  tottime  percall  cumtime  percall filename:lineno(function)\n",
      "    10001    0.002    0.000    0.002    0.000 <string>:1(<genexpr>)\n",
      "        1    0.000    0.000    0.004    0.004 <string>:1(<module>)\n",
      "        1    0.000    0.000    0.005    0.005 {built-in method builtins.exec}\n",
      "        1    0.002    0.002    0.004    0.004 {built-in method builtins.sum}\n",
      "        1    0.000    0.000    0.000    0.000 {method 'disable' of '_lsprof.Profiler' objects}\n",
      "\n",
      "\n"
     ]
    }
   ],
   "source": [
    "cProfile.run('sum((i*2 for i in range(10000)))')"
   ]
  },
  {
   "cell_type": "code",
   "execution_count": 107,
   "metadata": {},
   "outputs": [],
   "source": [
    "def a():\n",
    "    n = 0\n",
    "    while n<=6:\n",
    "        yield n\n",
    "        n += 1\n",
    "        next(n)"
   ]
  },
  {
   "cell_type": "code",
   "execution_count": 111,
   "metadata": {},
   "outputs": [
    {
     "name": "stdout",
     "output_type": "stream",
     "text": [
      "a\n",
      "b\n",
      "c\n",
      "y\n"
     ]
    }
   ],
   "source": [
    "letters = [\"a\", \"b\", \"c\", \"y\"]\n",
    "it = iter(letters)\n",
    "while True:\n",
    "    try:\n",
    "        letter = next(it)\n",
    "    except StopIteration:\n",
    "        break\n",
    "    print(letter)"
   ]
  },
  {
   "cell_type": "code",
   "execution_count": 112,
   "metadata": {},
   "outputs": [
    {
     "name": "stdout",
     "output_type": "stream",
     "text": [
      "a\n",
      "b\n",
      "c\n",
      "y\n"
     ]
    }
   ],
   "source": [
    "a = (let for let in letters)\n",
    "while True:\n",
    "    try:\n",
    "        letter = next(a)\n",
    "    except StopIteration:\n",
    "        break\n",
    "    print(letter)"
   ]
  },
  {
   "cell_type": "code",
   "execution_count": 113,
   "metadata": {},
   "outputs": [
    {
     "data": {
      "text/plain": [
       "'iter(iterable) -> iterator\\niter(callable, sentinel) -> iterator\\n\\nGet an iterator from an object.  In the first form, the argument must\\nsupply its own iterator, or be a sequence.\\nIn the second form, the callable is called until it returns the sentinel.'"
      ]
     },
     "execution_count": 113,
     "metadata": {},
     "output_type": "execute_result"
    }
   ],
   "source": [
    "iter.__doc__"
   ]
  },
  {
   "cell_type": "code",
   "execution_count": 114,
   "metadata": {},
   "outputs": [
    {
     "name": "stdout",
     "output_type": "stream",
     "text": [
      "Help on built-in function iter in module builtins:\n",
      "\n",
      "iter(...)\n",
      "    iter(iterable) -> iterator\n",
      "    iter(callable, sentinel) -> iterator\n",
      "    \n",
      "    Get an iterator from an object.  In the first form, the argument must\n",
      "    supply its own iterator, or be a sequence.\n",
      "    In the second form, the callable is called until it returns the sentinel.\n",
      "\n"
     ]
    }
   ],
   "source": [
    "help(iter)"
   ]
  },
  {
   "cell_type": "raw",
   "metadata": {},
   "source": []
  },
  {
   "cell_type": "code",
   "execution_count": 115,
   "metadata": {},
   "outputs": [],
   "source": [
    "def is_palindrome(num):\n",
    "    # Skip single-digit inputs\n",
    "    if num // 10 == 0:\n",
    "        return False\n",
    "    temp = num\n",
    "    reversed_num = 0\n",
    "\n",
    "    while temp != 0:\n",
    "        reversed_num = (reversed_num * 10) + (temp % 10)\n",
    "        temp = temp // 10\n",
    "\n",
    "    if num == reversed_num:\n",
    "        return True\n",
    "    else:\n",
    "        return False\n",
    "    \n",
    "\n",
    "def infinite_palindromes():\n",
    "    num = 0\n",
    "    while True:\n",
    "        if is_palindrome(num):\n",
    "            i = (yield num)\n",
    "            if i is not None:\n",
    "                num = i\n",
    "        num += 1\n",
    "        "
   ]
  },
  {
   "cell_type": "code",
   "execution_count": 116,
   "metadata": {},
   "outputs": [],
   "source": [
    "pal_gen = infinite_palindromes()"
   ]
  },
  {
   "cell_type": "code",
   "execution_count": null,
   "metadata": {},
   "outputs": [],
   "source": [
    "for i in pal_gen:\n",
    "    digits = len(str(i))\n",
    "    pal_gen.send(10**(digits))"
   ]
  },
  {
   "cell_type": "code",
   "execution_count": 121,
   "metadata": {},
   "outputs": [
    {
     "name": "stdout",
     "output_type": "stream",
     "text": [
      "11\n",
      "111\n",
      "1111\n",
      "10101\n"
     ]
    },
    {
     "ename": "ValueError",
     "evalue": "we dont like large palindromes",
     "output_type": "error",
     "traceback": [
      "\u001b[1;31m---------------------------------------------------------------------------\u001b[0m",
      "\u001b[1;31mValueError\u001b[0m                                Traceback (most recent call last)",
      "\u001b[1;32m<ipython-input-121-0840f172db26>\u001b[0m in \u001b[0;36m<module>\u001b[1;34m\u001b[0m\n\u001b[0;32m      4\u001b[0m     \u001b[0mdigits\u001b[0m \u001b[1;33m=\u001b[0m \u001b[0mlen\u001b[0m\u001b[1;33m(\u001b[0m\u001b[0mstr\u001b[0m\u001b[1;33m(\u001b[0m\u001b[0mi\u001b[0m\u001b[1;33m)\u001b[0m\u001b[1;33m)\u001b[0m\u001b[1;33m\u001b[0m\u001b[1;33m\u001b[0m\u001b[0m\n\u001b[0;32m      5\u001b[0m     \u001b[1;32mif\u001b[0m \u001b[0mdigits\u001b[0m \u001b[1;33m==\u001b[0m \u001b[1;36m5\u001b[0m\u001b[1;33m:\u001b[0m\u001b[1;33m\u001b[0m\u001b[1;33m\u001b[0m\u001b[0m\n\u001b[1;32m----> 6\u001b[1;33m         \u001b[0mpal_gen\u001b[0m\u001b[1;33m.\u001b[0m\u001b[0mthrow\u001b[0m\u001b[1;33m(\u001b[0m\u001b[0mValueError\u001b[0m\u001b[1;33m(\u001b[0m\u001b[1;34m\"we dont like large palindromes\"\u001b[0m\u001b[1;33m)\u001b[0m\u001b[1;33m)\u001b[0m\u001b[1;33m\u001b[0m\u001b[1;33m\u001b[0m\u001b[0m\n\u001b[0m\u001b[0;32m      7\u001b[0m     \u001b[0mpal_gen\u001b[0m\u001b[1;33m.\u001b[0m\u001b[0msend\u001b[0m\u001b[1;33m(\u001b[0m\u001b[1;36m10\u001b[0m\u001b[1;33m**\u001b[0m \u001b[1;33m(\u001b[0m\u001b[0mdigits\u001b[0m\u001b[1;33m)\u001b[0m\u001b[1;33m)\u001b[0m\u001b[1;33m\u001b[0m\u001b[1;33m\u001b[0m\u001b[0m\n",
      "\u001b[1;32m<ipython-input-115-13e88e1adc7b>\u001b[0m in \u001b[0;36minfinite_palindromes\u001b[1;34m()\u001b[0m\n\u001b[0;32m     20\u001b[0m     \u001b[1;32mwhile\u001b[0m \u001b[1;32mTrue\u001b[0m\u001b[1;33m:\u001b[0m\u001b[1;33m\u001b[0m\u001b[1;33m\u001b[0m\u001b[0m\n\u001b[0;32m     21\u001b[0m         \u001b[1;32mif\u001b[0m \u001b[0mis_palindrome\u001b[0m\u001b[1;33m(\u001b[0m\u001b[0mnum\u001b[0m\u001b[1;33m)\u001b[0m\u001b[1;33m:\u001b[0m\u001b[1;33m\u001b[0m\u001b[1;33m\u001b[0m\u001b[0m\n\u001b[1;32m---> 22\u001b[1;33m             \u001b[0mi\u001b[0m \u001b[1;33m=\u001b[0m \u001b[1;33m(\u001b[0m\u001b[1;32myield\u001b[0m \u001b[0mnum\u001b[0m\u001b[1;33m)\u001b[0m\u001b[1;33m\u001b[0m\u001b[1;33m\u001b[0m\u001b[0m\n\u001b[0m\u001b[0;32m     23\u001b[0m             \u001b[1;32mif\u001b[0m \u001b[0mi\u001b[0m \u001b[1;32mis\u001b[0m \u001b[1;32mnot\u001b[0m \u001b[1;32mNone\u001b[0m\u001b[1;33m:\u001b[0m\u001b[1;33m\u001b[0m\u001b[1;33m\u001b[0m\u001b[0m\n\u001b[0;32m     24\u001b[0m                 \u001b[0mnum\u001b[0m \u001b[1;33m=\u001b[0m \u001b[0mi\u001b[0m\u001b[1;33m\u001b[0m\u001b[1;33m\u001b[0m\u001b[0m\n",
      "\u001b[1;31mValueError\u001b[0m: we dont like large palindromes"
     ]
    }
   ],
   "source": [
    "pal_gen = infinite_palindromes()\n",
    "for i in pal_gen:\n",
    "    print(i)\n",
    "    digits = len(str(i))\n",
    "    if digits == 5:\n",
    "        pal_gen.throw(ValueError(\"we dont like large palindromes\"))\n",
    "    pal_gen.send(10** (digits))"
   ]
  },
  {
   "cell_type": "code",
   "execution_count": 120,
   "metadata": {},
   "outputs": [
    {
     "name": "stdout",
     "output_type": "stream",
     "text": [
      "11\n",
      "111\n",
      "1111\n",
      "10101\n"
     ]
    },
    {
     "ename": "StopIteration",
     "evalue": "",
     "output_type": "error",
     "traceback": [
      "\u001b[1;31m---------------------------------------------------------------------------\u001b[0m",
      "\u001b[1;31mStopIteration\u001b[0m                             Traceback (most recent call last)",
      "\u001b[1;32m<ipython-input-120-d531679fe305>\u001b[0m in \u001b[0;36m<module>\u001b[1;34m\u001b[0m\n\u001b[0;32m      5\u001b[0m     \u001b[1;32mif\u001b[0m \u001b[0mdigits\u001b[0m \u001b[1;33m==\u001b[0m \u001b[1;36m5\u001b[0m\u001b[1;33m:\u001b[0m\u001b[1;33m\u001b[0m\u001b[1;33m\u001b[0m\u001b[0m\n\u001b[0;32m      6\u001b[0m         \u001b[0mpal_gen\u001b[0m\u001b[1;33m.\u001b[0m\u001b[0mclose\u001b[0m\u001b[1;33m(\u001b[0m\u001b[1;33m)\u001b[0m\u001b[1;33m\u001b[0m\u001b[1;33m\u001b[0m\u001b[0m\n\u001b[1;32m----> 7\u001b[1;33m     \u001b[0mpal_gen\u001b[0m\u001b[1;33m.\u001b[0m\u001b[0msend\u001b[0m\u001b[1;33m(\u001b[0m\u001b[1;36m10\u001b[0m\u001b[1;33m**\u001b[0m \u001b[1;33m(\u001b[0m\u001b[0mdigits\u001b[0m\u001b[1;33m)\u001b[0m\u001b[1;33m)\u001b[0m\u001b[1;33m\u001b[0m\u001b[1;33m\u001b[0m\u001b[0m\n\u001b[0m",
      "\u001b[1;31mStopIteration\u001b[0m: "
     ]
    }
   ],
   "source": [
    "pal_gen = infinite_palindromes()\n",
    "for i in pal_gen:\n",
    "    print(i)\n",
    "    digits = len(str(i))\n",
    "    if digits == 5:\n",
    "        pal_gen.close()\n",
    "    pal_gen.send(10** (digits))"
   ]
  },
  {
   "cell_type": "markdown",
   "metadata": {},
   "source": [
    "# zip"
   ]
  },
  {
   "cell_type": "code",
   "execution_count": 16,
   "metadata": {},
   "outputs": [
    {
     "name": "stdout",
     "output_type": "stream",
     "text": [
      "[(1, 'a'), (2, 'b'), (3, 'c'), (4, 'd'), (5, 'e'), (6, 'f')]\n",
      "{1: 'a', 2: 'b', 3: 'c', 4: 'd', 5: 'e', 6: 'f'}\n"
     ]
    }
   ],
   "source": [
    "n = [1,2,3,4,5,6]\n",
    "l = ['a', 'b', 'c', 'd', 'e', 'f']\n",
    "a = zip(n, l)\n",
    "print(list(a))\n",
    "n = [1,2,3,4,5,6]\n",
    "l = ['a', 'b', 'c', 'd', 'e', 'f']\n",
    "a = zip(n, l)\n",
    "print(dict(a))"
   ]
  },
  {
   "cell_type": "code",
   "execution_count": 17,
   "metadata": {},
   "outputs": [
    {
     "name": "stdout",
     "output_type": "stream",
     "text": [
      "(1, 2, 3, 4)\n",
      "\n",
      "('a', 'b', 'c', 'd')\n"
     ]
    }
   ],
   "source": [
    "# unzip\n",
    "\n",
    "pairs = [(1, 'a'), (2, 'b'), (3, 'c'), (4, 'd')]\n",
    "number, letters = zip(*pairs)\n",
    "print(number)\n",
    "print()\n",
    "print(letters)"
   ]
  },
  {
   "cell_type": "code",
   "execution_count": 21,
   "metadata": {},
   "outputs": [],
   "source": [
    "letter, number = list(letters), list(number)"
   ]
  },
  {
   "cell_type": "code",
   "execution_count": 24,
   "metadata": {},
   "outputs": [],
   "source": [
    "data = list(zip(letter, number))"
   ]
  },
  {
   "cell_type": "code",
   "execution_count": 25,
   "metadata": {},
   "outputs": [],
   "source": [
    "data.sort()"
   ]
  },
  {
   "cell_type": "code",
   "execution_count": 34,
   "metadata": {},
   "outputs": [
    {
     "data": {
      "text/plain": [
       "[('d', 4), ('c', 3), ('b', 2), ('a', 1)]"
      ]
     },
     "execution_count": 34,
     "metadata": {},
     "output_type": "execute_result"
    }
   ],
   "source": [
    "sorted(data, key=lambda d: d[1], reverse = True)"
   ]
  },
  {
   "cell_type": "code",
   "execution_count": 36,
   "metadata": {},
   "outputs": [
    {
     "name": "stdout",
     "output_type": "stream",
     "text": [
      "total profit: 1357\n",
      "total profit: 6109\n",
      "total profit: -7891\n"
     ]
    }
   ],
   "source": [
    "#calculating in pairs\n",
    "\n",
    "total_sales = [5245,6454,767]\n",
    "pro_cost = [3888,345,8658]\n",
    "for sales, costs in zip(total_sales, pro_cost):\n",
    "    profit = sales - costs\n",
    "    print(f'total profit: {profit}')"
   ]
  }
 ],
 "metadata": {
  "colab": {
   "name": "CrashCoursePython.ipynb",
   "provenance": []
  },
  "kernelspec": {
   "display_name": "Python 3",
   "language": "python",
   "name": "python3"
  },
  "language_info": {
   "codemirror_mode": {
    "name": "ipython",
    "version": 3
   },
   "file_extension": ".py",
   "mimetype": "text/x-python",
   "name": "python",
   "nbconvert_exporter": "python",
   "pygments_lexer": "ipython3",
   "version": "3.8.2"
  }
 },
 "nbformat": 4,
 "nbformat_minor": 4
}
