{
  "nbformat": 4,
  "nbformat_minor": 0,
  "metadata": {
    "kernelspec": {
      "display_name": "Python 3",
      "language": "python",
      "name": "python3"
    },
    "language_info": {
      "codemirror_mode": {
        "name": "ipython",
        "version": 3
      },
      "file_extension": ".py",
      "mimetype": "text/x-python",
      "name": "python",
      "nbconvert_exporter": "python",
      "pygments_lexer": "ipython3",
      "version": "3.8.2"
    },
    "colab": {
      "name": "CrashCoursePython.ipynb",
      "provenance": []
    }
  },
  "cells": [
    {
      "cell_type": "markdown",
      "metadata": {
        "id": "LnuzcMIHd0Iy",
        "colab_type": "text"
      },
      "source": [
        "# List"
      ]
    },
    {
      "cell_type": "code",
      "metadata": {
        "id": "M9LLghuLd0I2",
        "colab_type": "code",
        "outputId": "322d1bb7-b4d1-4d87-8b2e-d5e0c6cacf99",
        "colab": {
          "base_uri": "https://localhost:8080/",
          "height": 33
        }
      },
      "source": [
        "x = [0, 1, 2, 3, 4, 5, 6, 7, 8, 9]\n",
        "\n",
        "print(x)"
      ],
      "execution_count": 0,
      "outputs": [
        {
          "output_type": "stream",
          "text": [
            "[0, 1, 2, 3, 4, 5, 6, 7, 8, 9]\n"
          ],
          "name": "stdout"
        }
      ]
    },
    {
      "cell_type": "code",
      "metadata": {
        "id": "AWAv67Csd0I9",
        "colab_type": "code",
        "outputId": "b5221aa5-26e6-43ec-f3c1-c188a09e8c86",
        "colab": {
          "base_uri": "https://localhost:8080/",
          "height": 33
        }
      },
      "source": [
        "x[:3]"
      ],
      "execution_count": 0,
      "outputs": [
        {
          "output_type": "execute_result",
          "data": {
            "text/plain": [
              "[0, 1, 2]"
            ]
          },
          "metadata": {
            "tags": []
          },
          "execution_count": 23
        }
      ]
    },
    {
      "cell_type": "code",
      "metadata": {
        "id": "sAHS5Qi3d0JF",
        "colab_type": "code",
        "outputId": "3a6908ca-cab8-4928-e128-31d2bf55a385",
        "colab": {
          "base_uri": "https://localhost:8080/",
          "height": 33
        }
      },
      "source": [
        "x[:0]"
      ],
      "execution_count": 0,
      "outputs": [
        {
          "output_type": "execute_result",
          "data": {
            "text/plain": [
              "[]"
            ]
          },
          "metadata": {
            "tags": []
          },
          "execution_count": 24
        }
      ]
    },
    {
      "cell_type": "code",
      "metadata": {
        "id": "zZPVD3_dd0JQ",
        "colab_type": "code",
        "outputId": "3d1917f3-3cca-4c53-e006-93a3010fc88d",
        "colab": {
          "base_uri": "https://localhost:8080/",
          "height": 33
        }
      },
      "source": [
        "x[:-1]"
      ],
      "execution_count": 0,
      "outputs": [
        {
          "output_type": "execute_result",
          "data": {
            "text/plain": [
              "[0, 1, 2, 3, 4, 5, 6, 7, 8]"
            ]
          },
          "metadata": {
            "tags": []
          },
          "execution_count": 25
        }
      ]
    },
    {
      "cell_type": "code",
      "metadata": {
        "id": "K5c0jeodd0Jb",
        "colab_type": "code",
        "outputId": "d78698ac-cd45-45b4-fb52-0f81ad136095",
        "colab": {
          "base_uri": "https://localhost:8080/",
          "height": 33
        }
      },
      "source": [
        "x[:3:1]"
      ],
      "execution_count": 0,
      "outputs": [
        {
          "output_type": "execute_result",
          "data": {
            "text/plain": [
              "[0, 1, 2]"
            ]
          },
          "metadata": {
            "tags": []
          },
          "execution_count": 26
        }
      ]
    },
    {
      "cell_type": "code",
      "metadata": {
        "id": "OPZt3FIvd0Jl",
        "colab_type": "code",
        "outputId": "5ea81db0-ea95-4042-9c1e-1fb6e7a5c978",
        "colab": {
          "base_uri": "https://localhost:8080/",
          "height": 33
        }
      },
      "source": [
        "x[:3:-1]"
      ],
      "execution_count": 0,
      "outputs": [
        {
          "output_type": "execute_result",
          "data": {
            "text/plain": [
              "[9, 8, 7, 6, 5, 4]"
            ]
          },
          "metadata": {
            "tags": []
          },
          "execution_count": 27
        }
      ]
    },
    {
      "cell_type": "code",
      "metadata": {
        "id": "Ji4fEL_Md0Jw",
        "colab_type": "code",
        "outputId": "85bd7d55-13ee-42b5-b660-31f1ff866b26",
        "colab": {
          "base_uri": "https://localhost:8080/",
          "height": 33
        }
      },
      "source": [
        "x[:3:-1]"
      ],
      "execution_count": 0,
      "outputs": [
        {
          "output_type": "execute_result",
          "data": {
            "text/plain": [
              "[9, 8, 7, 6, 5, 4]"
            ]
          },
          "metadata": {
            "tags": []
          },
          "execution_count": 28
        }
      ]
    },
    {
      "cell_type": "code",
      "metadata": {
        "id": "CWEwF3oCd0J7",
        "colab_type": "code",
        "outputId": "d2a12de9-d790-48af-d162-8c6ee8afa7ee",
        "colab": {
          "base_uri": "https://localhost:8080/",
          "height": 33
        }
      },
      "source": [
        "x[:3:1]"
      ],
      "execution_count": 0,
      "outputs": [
        {
          "output_type": "execute_result",
          "data": {
            "text/plain": [
              "[0, 1, 2]"
            ]
          },
          "metadata": {
            "tags": []
          },
          "execution_count": 29
        }
      ]
    },
    {
      "cell_type": "code",
      "metadata": {
        "id": "mXpabvLtd0KD",
        "colab_type": "code",
        "outputId": "d101c8c9-319a-46d9-ee65-c3efef43b2f8",
        "colab": {
          "base_uri": "https://localhost:8080/",
          "height": 33
        }
      },
      "source": [
        "x[::2]"
      ],
      "execution_count": 0,
      "outputs": [
        {
          "output_type": "execute_result",
          "data": {
            "text/plain": [
              "[0, 2, 4, 6, 8]"
            ]
          },
          "metadata": {
            "tags": []
          },
          "execution_count": 30
        }
      ]
    },
    {
      "cell_type": "code",
      "metadata": {
        "id": "NmNtcsUYd0KK",
        "colab_type": "code",
        "outputId": "6345e12e-6ab0-4cf6-9424-42f8eaa6cc1d",
        "colab": {
          "base_uri": "https://localhost:8080/",
          "height": 33
        }
      },
      "source": [
        "x[::-2]"
      ],
      "execution_count": 0,
      "outputs": [
        {
          "output_type": "execute_result",
          "data": {
            "text/plain": [
              "[9, 7, 5, 3, 1]"
            ]
          },
          "metadata": {
            "tags": []
          },
          "execution_count": 31
        }
      ]
    },
    {
      "cell_type": "code",
      "metadata": {
        "id": "xp5NM3AEd0KR",
        "colab_type": "code",
        "outputId": "ed574d48-6afb-4218-b929-e4af96008715",
        "colab": {
          "base_uri": "https://localhost:8080/",
          "height": 33
        }
      },
      "source": [
        "x[:]"
      ],
      "execution_count": 0,
      "outputs": [
        {
          "output_type": "execute_result",
          "data": {
            "text/plain": [
              "[0, 1, 2, 3, 4, 5, 6, 7, 8, 9]"
            ]
          },
          "metadata": {
            "tags": []
          },
          "execution_count": 32
        }
      ]
    },
    {
      "cell_type": "code",
      "metadata": {
        "id": "ez2mEWM4d0Kb",
        "colab_type": "code",
        "outputId": "344cb16b-9f5f-4390-f844-79f89e10a4f6",
        "colab": {
          "base_uri": "https://localhost:8080/",
          "height": 33
        }
      },
      "source": [
        "x[2::-2]"
      ],
      "execution_count": 0,
      "outputs": [
        {
          "output_type": "execute_result",
          "data": {
            "text/plain": [
              "[2, 0]"
            ]
          },
          "metadata": {
            "tags": []
          },
          "execution_count": 33
        }
      ]
    },
    {
      "cell_type": "code",
      "metadata": {
        "id": "IKfPltVvd0Kp",
        "colab_type": "code",
        "colab": {}
      },
      "source": [
        "a = [1,2,3]\n",
        "x.extend(a)"
      ],
      "execution_count": 0,
      "outputs": []
    },
    {
      "cell_type": "code",
      "metadata": {
        "id": "fj_Oaxksd0Kw",
        "colab_type": "code",
        "outputId": "df65d984-625e-470e-8085-3e4fac790c99",
        "colab": {
          "base_uri": "https://localhost:8080/",
          "height": 33
        }
      },
      "source": [
        "x"
      ],
      "execution_count": 0,
      "outputs": [
        {
          "output_type": "execute_result",
          "data": {
            "text/plain": [
              "[0, 1, 2, 3, 4, 5, 6, 7, 8, 9, 1, 2, 3]"
            ]
          },
          "metadata": {
            "tags": []
          },
          "execution_count": 35
        }
      ]
    },
    {
      "cell_type": "code",
      "metadata": {
        "id": "ICBXUG1_d0K2",
        "colab_type": "code",
        "colab": {}
      },
      "source": [
        "g= [i \n",
        "    for i in x\n",
        "    if i%2==0\n",
        "   ]"
      ],
      "execution_count": 0,
      "outputs": []
    },
    {
      "cell_type": "code",
      "metadata": {
        "id": "bx9u2Z1Xd0K_",
        "colab_type": "code",
        "colab": {}
      },
      "source": [
        "x, y = [1, 2]"
      ],
      "execution_count": 0,
      "outputs": []
    },
    {
      "cell_type": "markdown",
      "metadata": {
        "id": "nLmyv7Q5d0LH",
        "colab_type": "text"
      },
      "source": [
        "# Tuples"
      ]
    },
    {
      "cell_type": "code",
      "metadata": {
        "id": "dA5ldQOId0LI",
        "colab_type": "code",
        "colab": {}
      },
      "source": [
        "def sum_and_product(x, y):\n",
        "    return (x+y), (x*y)"
      ],
      "execution_count": 0,
      "outputs": []
    },
    {
      "cell_type": "code",
      "metadata": {
        "id": "efySbAJud0LR",
        "colab_type": "code",
        "outputId": "63e577c3-99a2-4c9e-c1c7-89d4b8427edc",
        "colab": {
          "base_uri": "https://localhost:8080/"
        }
      },
      "source": [
        "sp = sum_and_product(4,5)\n",
        "print(sp)\n",
        "s, p = sum_and_product(4,5)\n",
        "print(f's is : {s} p is : {p}')"
      ],
      "execution_count": 0,
      "outputs": [
        {
          "output_type": "stream",
          "text": [
            "(9, 20)\n",
            "s is : 9 p is : 20\n"
          ],
          "name": "stdout"
        }
      ]
    },
    {
      "cell_type": "markdown",
      "metadata": {
        "id": "yTUpShq0d0LY",
        "colab_type": "text"
      },
      "source": [
        "\n",
        "# Dictionaries\n"
      ]
    },
    {
      "cell_type": "code",
      "metadata": {
        "id": "TKWE15YOd0LZ",
        "colab_type": "code",
        "outputId": "7f8d3a79-fee4-419c-f2aa-af80e0b746d3",
        "colab": {
          "base_uri": "https://localhost:8080/"
        }
      },
      "source": [
        "grades = {\"Joel\": 80, \"Tim\": 95}\n",
        "grades['Joel']"
      ],
      "execution_count": 0,
      "outputs": [
        {
          "output_type": "execute_result",
          "data": {
            "text/plain": [
              "80"
            ]
          },
          "metadata": {
            "tags": []
          },
          "execution_count": 40
        }
      ]
    },
    {
      "cell_type": "code",
      "metadata": {
        "id": "06dyCvccd0Le",
        "colab_type": "code",
        "outputId": "5711971d-041f-4eac-ff6e-0b06156f6a0e",
        "colab": {
          "base_uri": "https://localhost:8080/"
        }
      },
      "source": [
        "\"joel\" in grades"
      ],
      "execution_count": 0,
      "outputs": [
        {
          "output_type": "execute_result",
          "data": {
            "text/plain": [
              "False"
            ]
          },
          "metadata": {
            "tags": []
          },
          "execution_count": 41
        }
      ]
    },
    {
      "cell_type": "code",
      "metadata": {
        "id": "ZfXTHdUad0Ln",
        "colab_type": "code",
        "outputId": "9c96abe5-2d85-4306-d06a-ea7661160ce7",
        "colab": {
          "base_uri": "https://localhost:8080/"
        }
      },
      "source": [
        "\"Joel\" in grades"
      ],
      "execution_count": 0,
      "outputs": [
        {
          "output_type": "execute_result",
          "data": {
            "text/plain": [
              "True"
            ]
          },
          "metadata": {
            "tags": []
          },
          "execution_count": 42
        }
      ]
    },
    {
      "cell_type": "code",
      "metadata": {
        "id": "5VkctoXud0Lv",
        "colab_type": "code",
        "outputId": "d740612d-968f-4b5b-dbb9-cf4737e369e1",
        "colab": {
          "base_uri": "https://localhost:8080/"
        }
      },
      "source": [
        "grades.get(\"Joel\", 0)"
      ],
      "execution_count": 0,
      "outputs": [
        {
          "output_type": "execute_result",
          "data": {
            "text/plain": [
              "80"
            ]
          },
          "metadata": {
            "tags": []
          },
          "execution_count": 43
        }
      ]
    },
    {
      "cell_type": "code",
      "metadata": {
        "id": "W8e0U_Xcd0L4",
        "colab_type": "code",
        "colab": {}
      },
      "source": [
        "grades[\"Tim\"] = 99"
      ],
      "execution_count": 0,
      "outputs": []
    },
    {
      "cell_type": "code",
      "metadata": {
        "id": "wwda3lC_d0MC",
        "colab_type": "code",
        "colab": {}
      },
      "source": [
        "grades[\"Kate\"] = 100"
      ],
      "execution_count": 0,
      "outputs": []
    },
    {
      "cell_type": "markdown",
      "metadata": {
        "id": "bho8Sbegd0ML",
        "colab_type": "raw"
      },
      "source": [
        "len(grades)"
      ]
    },
    {
      "cell_type": "code",
      "metadata": {
        "id": "USqV6FXed0MO",
        "colab_type": "code",
        "outputId": "635bda5f-6e86-4f78-9d61-86986e761d2e",
        "colab": {
          "base_uri": "https://localhost:8080/"
        }
      },
      "source": [
        "grades"
      ],
      "execution_count": 0,
      "outputs": [
        {
          "output_type": "execute_result",
          "data": {
            "text/plain": [
              "{'Joel': 80, 'Kate': 100, 'Tim': 99}"
            ]
          },
          "metadata": {
            "tags": []
          },
          "execution_count": 46
        }
      ]
    },
    {
      "cell_type": "code",
      "metadata": {
        "id": "AN8VLvApd0MU",
        "colab_type": "code",
        "colab": {}
      },
      "source": [
        "tweet = {\"user\" : \"joelgrus\",\n",
        "         \"text\" : \"Data Science is Awesome\",\n",
        "         \"retweet_count\" : 100,\n",
        "         \"hashtags\" : [\"#data\", \"#science\", \"#datascience\", \"#awesome\", \"#yolo\"] }"
      ],
      "execution_count": 0,
      "outputs": []
    },
    {
      "cell_type": "code",
      "metadata": {
        "id": "PZkdj9znd0Md",
        "colab_type": "code",
        "colab": {}
      },
      "source": [
        "tweet_keys = tweet.keys()\n",
        "tweet_values = tweet.values()\n",
        "tweet_items = tweet.items()"
      ],
      "execution_count": 0,
      "outputs": []
    },
    {
      "cell_type": "code",
      "metadata": {
        "id": "Q4B26Z2od0Mk",
        "colab_type": "code",
        "outputId": "0000d32c-1d2d-41b3-b15e-d28359fd6760",
        "colab": {
          "base_uri": "https://localhost:8080/"
        }
      },
      "source": [
        "\"user\" in tweet_keys\n",
        "100 in tweet_values"
      ],
      "execution_count": 0,
      "outputs": [
        {
          "output_type": "execute_result",
          "data": {
            "text/plain": [
              "True"
            ]
          },
          "metadata": {
            "tags": []
          },
          "execution_count": 49
        }
      ]
    },
    {
      "cell_type": "code",
      "metadata": {
        "id": "tYMPrNq4d0Mt",
        "colab_type": "code",
        "colab": {}
      },
      "source": [
        "documents = \"As with strings and lists, there are several built-in methods that can be invoked on dictionaries. In fact, in some cases, the list and dictionary methods share the same name. In the discussion on object-oriented programming, you will see that it is perfectly acceptable for different types to have methods with the same name.\""
      ],
      "execution_count": 0,
      "outputs": []
    },
    {
      "cell_type": "code",
      "metadata": {
        "id": "3LncHQMYd0M1",
        "colab_type": "code",
        "colab": {}
      },
      "source": [
        "words_count = {}\n",
        "for word in documents.split():\n",
        "    if word in words_count:\n",
        "        words_count[word] += 1\n",
        "    else:\n",
        "        words_count[word] = 1"
      ],
      "execution_count": 0,
      "outputs": []
    },
    {
      "cell_type": "code",
      "metadata": {
        "id": "fTNptXxsd0NB",
        "colab_type": "code",
        "outputId": "4f71be44-c964-4103-dc64-8c6c7195988f",
        "colab": {
          "base_uri": "https://localhost:8080/"
        }
      },
      "source": [
        "words_count"
      ],
      "execution_count": 0,
      "outputs": [
        {
          "output_type": "execute_result",
          "data": {
            "text/plain": [
              "{'As': 1,\n",
              " 'In': 2,\n",
              " 'acceptable': 1,\n",
              " 'and': 2,\n",
              " 'are': 1,\n",
              " 'be': 1,\n",
              " 'built-in': 1,\n",
              " 'can': 1,\n",
              " 'cases,': 1,\n",
              " 'dictionaries.': 1,\n",
              " 'dictionary': 1,\n",
              " 'different': 1,\n",
              " 'discussion': 1,\n",
              " 'fact,': 1,\n",
              " 'for': 1,\n",
              " 'have': 1,\n",
              " 'in': 1,\n",
              " 'invoked': 1,\n",
              " 'is': 1,\n",
              " 'it': 1,\n",
              " 'list': 1,\n",
              " 'lists,': 1,\n",
              " 'methods': 3,\n",
              " 'name.': 2,\n",
              " 'object-oriented': 1,\n",
              " 'on': 2,\n",
              " 'perfectly': 1,\n",
              " 'programming,': 1,\n",
              " 'same': 2,\n",
              " 'see': 1,\n",
              " 'several': 1,\n",
              " 'share': 1,\n",
              " 'some': 1,\n",
              " 'strings': 1,\n",
              " 'that': 2,\n",
              " 'the': 4,\n",
              " 'there': 1,\n",
              " 'to': 1,\n",
              " 'types': 1,\n",
              " 'will': 1,\n",
              " 'with': 2,\n",
              " 'you': 1}"
            ]
          },
          "metadata": {
            "tags": []
          },
          "execution_count": 52
        }
      ]
    },
    {
      "cell_type": "code",
      "metadata": {
        "id": "toR4bvz6d0NJ",
        "colab_type": "code",
        "colab": {}
      },
      "source": [
        "words = {} \n",
        "for word in documents.split():\n",
        "    try:\n",
        "        words[word] += 1\n",
        "    except KeyError:\n",
        "        words[word] = 1\n"
      ],
      "execution_count": 0,
      "outputs": []
    },
    {
      "cell_type": "code",
      "metadata": {
        "id": "NEpWkTgLd0NN",
        "colab_type": "code",
        "outputId": "885aefb8-696a-4ed2-8e41-676606d10bd9",
        "colab": {
          "base_uri": "https://localhost:8080/"
        }
      },
      "source": [
        "words"
      ],
      "execution_count": 0,
      "outputs": [
        {
          "output_type": "execute_result",
          "data": {
            "text/plain": [
              "{'As': 1,\n",
              " 'In': 2,\n",
              " 'acceptable': 1,\n",
              " 'and': 2,\n",
              " 'are': 1,\n",
              " 'be': 1,\n",
              " 'built-in': 1,\n",
              " 'can': 1,\n",
              " 'cases,': 1,\n",
              " 'dictionaries.': 1,\n",
              " 'dictionary': 1,\n",
              " 'different': 1,\n",
              " 'discussion': 1,\n",
              " 'fact,': 1,\n",
              " 'for': 1,\n",
              " 'have': 1,\n",
              " 'in': 1,\n",
              " 'invoked': 1,\n",
              " 'is': 1,\n",
              " 'it': 1,\n",
              " 'list': 1,\n",
              " 'lists,': 1,\n",
              " 'methods': 3,\n",
              " 'name.': 2,\n",
              " 'object-oriented': 1,\n",
              " 'on': 2,\n",
              " 'perfectly': 1,\n",
              " 'programming,': 1,\n",
              " 'same': 2,\n",
              " 'see': 1,\n",
              " 'several': 1,\n",
              " 'share': 1,\n",
              " 'some': 1,\n",
              " 'strings': 1,\n",
              " 'that': 2,\n",
              " 'the': 4,\n",
              " 'there': 1,\n",
              " 'to': 1,\n",
              " 'types': 1,\n",
              " 'will': 1,\n",
              " 'with': 2,\n",
              " 'you': 1}"
            ]
          },
          "metadata": {
            "tags": []
          },
          "execution_count": 54
        }
      ]
    },
    {
      "cell_type": "code",
      "metadata": {
        "id": "zmQxeebcd0NT",
        "colab_type": "code",
        "outputId": "e74ebc96-9d3c-4181-b71a-378cc3dd3244",
        "colab": {
          "base_uri": "https://localhost:8080/"
        }
      },
      "source": [
        "wordsss = {}\n",
        "for word in documents.split():\n",
        "    previous_count = wordsss.get(word, 0)\n",
        "    print(previous_count)\n",
        "    wordsss[word] = previous_count + 1\n"
      ],
      "execution_count": 0,
      "outputs": [
        {
          "output_type": "stream",
          "text": [
            "0\n",
            "0\n",
            "0\n",
            "0\n",
            "0\n",
            "0\n",
            "0\n",
            "0\n",
            "0\n",
            "0\n",
            "0\n",
            "0\n",
            "0\n",
            "0\n",
            "0\n",
            "0\n",
            "0\n",
            "0\n",
            "0\n",
            "0\n",
            "0\n",
            "0\n",
            "0\n",
            "1\n",
            "0\n",
            "1\n",
            "0\n",
            "1\n",
            "0\n",
            "0\n",
            "1\n",
            "2\n",
            "0\n",
            "1\n",
            "0\n",
            "0\n",
            "0\n",
            "0\n",
            "0\n",
            "1\n",
            "0\n",
            "0\n",
            "0\n",
            "0\n",
            "0\n",
            "0\n",
            "0\n",
            "0\n",
            "0\n",
            "2\n",
            "1\n",
            "3\n",
            "1\n",
            "1\n"
          ],
          "name": "stdout"
        }
      ]
    },
    {
      "cell_type": "code",
      "metadata": {
        "id": "XjNQk25cd0Na",
        "colab_type": "code",
        "outputId": "aec06010-f118-4643-eb48-36d6ce28a111",
        "colab": {
          "base_uri": "https://localhost:8080/"
        }
      },
      "source": [
        "wordsss"
      ],
      "execution_count": 0,
      "outputs": [
        {
          "output_type": "execute_result",
          "data": {
            "text/plain": [
              "{'As': 1,\n",
              " 'In': 2,\n",
              " 'acceptable': 1,\n",
              " 'and': 2,\n",
              " 'are': 1,\n",
              " 'be': 1,\n",
              " 'built-in': 1,\n",
              " 'can': 1,\n",
              " 'cases,': 1,\n",
              " 'dictionaries.': 1,\n",
              " 'dictionary': 1,\n",
              " 'different': 1,\n",
              " 'discussion': 1,\n",
              " 'fact,': 1,\n",
              " 'for': 1,\n",
              " 'have': 1,\n",
              " 'in': 1,\n",
              " 'invoked': 1,\n",
              " 'is': 1,\n",
              " 'it': 1,\n",
              " 'list': 1,\n",
              " 'lists,': 1,\n",
              " 'methods': 3,\n",
              " 'name.': 2,\n",
              " 'object-oriented': 1,\n",
              " 'on': 2,\n",
              " 'perfectly': 1,\n",
              " 'programming,': 1,\n",
              " 'same': 2,\n",
              " 'see': 1,\n",
              " 'several': 1,\n",
              " 'share': 1,\n",
              " 'some': 1,\n",
              " 'strings': 1,\n",
              " 'that': 2,\n",
              " 'the': 4,\n",
              " 'there': 1,\n",
              " 'to': 1,\n",
              " 'types': 1,\n",
              " 'will': 1,\n",
              " 'with': 2,\n",
              " 'you': 1}"
            ]
          },
          "metadata": {
            "tags": []
          },
          "execution_count": 56
        }
      ]
    },
    {
      "cell_type": "markdown",
      "metadata": {
        "id": "V1ruj-kGd0Ng",
        "colab_type": "text"
      },
      "source": [
        "# Defaultdict"
      ]
    },
    {
      "cell_type": "code",
      "metadata": {
        "id": "0Bmn2ZOYd0Nh",
        "colab_type": "code",
        "colab": {}
      },
      "source": [
        "from collections import defaultdict"
      ],
      "execution_count": 0,
      "outputs": []
    },
    {
      "cell_type": "code",
      "metadata": {
        "id": "zQK3eDhrd0Np",
        "colab_type": "code",
        "colab": {}
      },
      "source": [
        "word_counts = defaultdict(int)\n",
        "for word in documents.split():\n",
        "    word_counts[word] += 1"
      ],
      "execution_count": 0,
      "outputs": []
    },
    {
      "cell_type": "code",
      "metadata": {
        "id": "RlEFGOb2d0Nu",
        "colab_type": "code",
        "outputId": "57016e62-a734-46a2-b2e6-a5d248aa3150",
        "colab": {
          "base_uri": "https://localhost:8080/"
        }
      },
      "source": [
        "word_counts"
      ],
      "execution_count": 0,
      "outputs": [
        {
          "output_type": "execute_result",
          "data": {
            "text/plain": [
              "defaultdict(int,\n",
              "            {'As': 1,\n",
              "             'In': 2,\n",
              "             'acceptable': 1,\n",
              "             'and': 2,\n",
              "             'are': 1,\n",
              "             'be': 1,\n",
              "             'built-in': 1,\n",
              "             'can': 1,\n",
              "             'cases,': 1,\n",
              "             'dictionaries.': 1,\n",
              "             'dictionary': 1,\n",
              "             'different': 1,\n",
              "             'discussion': 1,\n",
              "             'fact,': 1,\n",
              "             'for': 1,\n",
              "             'have': 1,\n",
              "             'in': 1,\n",
              "             'invoked': 1,\n",
              "             'is': 1,\n",
              "             'it': 1,\n",
              "             'list': 1,\n",
              "             'lists,': 1,\n",
              "             'methods': 3,\n",
              "             'name.': 2,\n",
              "             'object-oriented': 1,\n",
              "             'on': 2,\n",
              "             'perfectly': 1,\n",
              "             'programming,': 1,\n",
              "             'same': 2,\n",
              "             'see': 1,\n",
              "             'several': 1,\n",
              "             'share': 1,\n",
              "             'some': 1,\n",
              "             'strings': 1,\n",
              "             'that': 2,\n",
              "             'the': 4,\n",
              "             'there': 1,\n",
              "             'to': 1,\n",
              "             'types': 1,\n",
              "             'will': 1,\n",
              "             'with': 2,\n",
              "             'you': 1})"
            ]
          },
          "metadata": {
            "tags": []
          },
          "execution_count": 59
        }
      ]
    },
    {
      "cell_type": "code",
      "metadata": {
        "id": "Z8zSRZbld0N3",
        "colab_type": "code",
        "colab": {}
      },
      "source": [
        "dd_list = defaultdict(list)"
      ],
      "execution_count": 0,
      "outputs": []
    },
    {
      "cell_type": "code",
      "metadata": {
        "id": "XG9hBfpmd0OA",
        "colab_type": "code",
        "colab": {}
      },
      "source": [
        "dd_list[1].append(2)"
      ],
      "execution_count": 0,
      "outputs": []
    },
    {
      "cell_type": "code",
      "metadata": {
        "id": "zQ5MxlH6d0OO",
        "colab_type": "code",
        "outputId": "cb77bf16-6a56-4d8c-cc9b-541bd415b69c",
        "colab": {
          "base_uri": "https://localhost:8080/"
        }
      },
      "source": [
        "dd_list"
      ],
      "execution_count": 0,
      "outputs": [
        {
          "output_type": "execute_result",
          "data": {
            "text/plain": [
              "defaultdict(list, {1: [2]})"
            ]
          },
          "metadata": {
            "tags": []
          },
          "execution_count": 62
        }
      ]
    },
    {
      "cell_type": "code",
      "metadata": {
        "id": "NB_NxWGEd0OT",
        "colab_type": "code",
        "colab": {}
      },
      "source": [
        "dd_dict = defaultdict(dict)"
      ],
      "execution_count": 0,
      "outputs": []
    },
    {
      "cell_type": "code",
      "metadata": {
        "id": "bdkhdKSgd0OZ",
        "colab_type": "code",
        "colab": {}
      },
      "source": [
        "dd_dict[\"Lalkrishns\"][\"place\"] = \"Kozhikode\""
      ],
      "execution_count": 0,
      "outputs": []
    },
    {
      "cell_type": "code",
      "metadata": {
        "id": "GXyPL_QKd0Oi",
        "colab_type": "code",
        "outputId": "faa21419-fbb3-4079-bf81-83839e745e3b",
        "colab": {
          "base_uri": "https://localhost:8080/"
        }
      },
      "source": [
        "dd_dict"
      ],
      "execution_count": 0,
      "outputs": [
        {
          "output_type": "execute_result",
          "data": {
            "text/plain": [
              "defaultdict(dict, {'Lalkrishns': {'place': 'Kozhikode'}})"
            ]
          },
          "metadata": {
            "tags": []
          },
          "execution_count": 65
        }
      ]
    },
    {
      "cell_type": "code",
      "metadata": {
        "id": "7phMJAYkd0Oq",
        "colab_type": "code",
        "colab": {}
      },
      "source": [
        "word = defaultdict(int)"
      ],
      "execution_count": 0,
      "outputs": []
    },
    {
      "cell_type": "code",
      "metadata": {
        "id": "fvOab6kzd0O1",
        "colab_type": "code",
        "colab": {}
      },
      "source": [
        "word[1] = 3"
      ],
      "execution_count": 0,
      "outputs": []
    },
    {
      "cell_type": "code",
      "metadata": {
        "id": "GDgXtwf7d0O9",
        "colab_type": "code",
        "outputId": "b48ae417-23d2-4c5c-82df-4e95cef0c8a4",
        "colab": {
          "base_uri": "https://localhost:8080/"
        }
      },
      "source": [
        "word"
      ],
      "execution_count": 0,
      "outputs": [
        {
          "output_type": "execute_result",
          "data": {
            "text/plain": [
              "defaultdict(int, {1: 3})"
            ]
          },
          "metadata": {
            "tags": []
          },
          "execution_count": 68
        }
      ]
    },
    {
      "cell_type": "code",
      "metadata": {
        "id": "5a5rtUV2d0PE",
        "colab_type": "code",
        "colab": {}
      },
      "source": [
        "dd_pair = defaultdict(lambda: [0,0,0,0])"
      ],
      "execution_count": 0,
      "outputs": []
    },
    {
      "cell_type": "code",
      "metadata": {
        "id": "WE0jHwKPd0PL",
        "colab_type": "code",
        "colab": {}
      },
      "source": [
        "dd_pair[2][1] = 5"
      ],
      "execution_count": 0,
      "outputs": []
    },
    {
      "cell_type": "code",
      "metadata": {
        "id": "T1QpH7Ncd0PR",
        "colab_type": "code",
        "outputId": "69f6e524-f262-4ffc-8ca0-62f480b9d4e4",
        "colab": {
          "base_uri": "https://localhost:8080/"
        }
      },
      "source": [
        "dd_pair"
      ],
      "execution_count": 0,
      "outputs": [
        {
          "output_type": "execute_result",
          "data": {
            "text/plain": [
              "defaultdict(<function __main__.<lambda>>, {2: [0, 5, 0, 0]})"
            ]
          },
          "metadata": {
            "tags": []
          },
          "execution_count": 71
        }
      ]
    },
    {
      "cell_type": "markdown",
      "metadata": {
        "id": "1JKVFU0Pd0PX",
        "colab_type": "text"
      },
      "source": [
        "# COUNTERs"
      ]
    },
    {
      "cell_type": "code",
      "metadata": {
        "id": "6Os2AEFSd0PZ",
        "colab_type": "code",
        "colab": {}
      },
      "source": [
        "from collections import Counter"
      ],
      "execution_count": 0,
      "outputs": []
    },
    {
      "cell_type": "code",
      "metadata": {
        "id": "Q1Ye7D_Sd0Pl",
        "colab_type": "code",
        "colab": {}
      },
      "source": [
        "a = Counter([1,2,3,45,5,3,2,4,1])"
      ],
      "execution_count": 0,
      "outputs": []
    },
    {
      "cell_type": "code",
      "metadata": {
        "id": "MWafhB2Id0Pw",
        "colab_type": "code",
        "outputId": "edf990d4-5ef5-422f-fa5e-dc798f228adb",
        "colab": {
          "base_uri": "https://localhost:8080/"
        }
      },
      "source": [
        "a"
      ],
      "execution_count": 0,
      "outputs": [
        {
          "output_type": "execute_result",
          "data": {
            "text/plain": [
              "Counter({1: 2, 2: 2, 3: 2, 4: 1, 5: 1, 45: 1})"
            ]
          },
          "metadata": {
            "tags": []
          },
          "execution_count": 74
        }
      ]
    },
    {
      "cell_type": "code",
      "metadata": {
        "id": "mww8Z83cd0P3",
        "colab_type": "code",
        "colab": {}
      },
      "source": [
        "words_counts_ = Counter(documents.split())"
      ],
      "execution_count": 0,
      "outputs": []
    },
    {
      "cell_type": "code",
      "metadata": {
        "id": "lmpi7n-Yd0P9",
        "colab_type": "code",
        "outputId": "512f0e73-19b8-4769-c086-54c3686c35e9",
        "colab": {
          "base_uri": "https://localhost:8080/"
        }
      },
      "source": [
        "words_counts_"
      ],
      "execution_count": 0,
      "outputs": [
        {
          "output_type": "execute_result",
          "data": {
            "text/plain": [
              "Counter({'As': 1,\n",
              "         'In': 2,\n",
              "         'acceptable': 1,\n",
              "         'and': 2,\n",
              "         'are': 1,\n",
              "         'be': 1,\n",
              "         'built-in': 1,\n",
              "         'can': 1,\n",
              "         'cases,': 1,\n",
              "         'dictionaries.': 1,\n",
              "         'dictionary': 1,\n",
              "         'different': 1,\n",
              "         'discussion': 1,\n",
              "         'fact,': 1,\n",
              "         'for': 1,\n",
              "         'have': 1,\n",
              "         'in': 1,\n",
              "         'invoked': 1,\n",
              "         'is': 1,\n",
              "         'it': 1,\n",
              "         'list': 1,\n",
              "         'lists,': 1,\n",
              "         'methods': 3,\n",
              "         'name.': 2,\n",
              "         'object-oriented': 1,\n",
              "         'on': 2,\n",
              "         'perfectly': 1,\n",
              "         'programming,': 1,\n",
              "         'same': 2,\n",
              "         'see': 1,\n",
              "         'several': 1,\n",
              "         'share': 1,\n",
              "         'some': 1,\n",
              "         'strings': 1,\n",
              "         'that': 2,\n",
              "         'the': 4,\n",
              "         'there': 1,\n",
              "         'to': 1,\n",
              "         'types': 1,\n",
              "         'will': 1,\n",
              "         'with': 2,\n",
              "         'you': 1})"
            ]
          },
          "metadata": {
            "tags": []
          },
          "execution_count": 76
        }
      ]
    },
    {
      "cell_type": "code",
      "metadata": {
        "id": "q0eunlxAd0QE",
        "colab_type": "code",
        "outputId": "f39d158d-fbe9-4170-c1cb-99bd287278ee",
        "colab": {
          "base_uri": "https://localhost:8080/"
        }
      },
      "source": [
        "for word, count in words_counts_.most_common(10):\n",
        "    print(word, count)"
      ],
      "execution_count": 0,
      "outputs": [
        {
          "output_type": "stream",
          "text": [
            "the 4\n",
            "methods 3\n",
            "with 2\n",
            "and 2\n",
            "that 2\n",
            "on 2\n",
            "In 2\n",
            "same 2\n",
            "name. 2\n",
            "As 1\n"
          ],
          "name": "stdout"
        }
      ]
    },
    {
      "cell_type": "code",
      "metadata": {
        "id": "awzTm-KLd0QJ",
        "colab_type": "code",
        "colab": {}
      },
      "source": [
        "stop = documents.split()\n",
        "s = set(stop)"
      ],
      "execution_count": 0,
      "outputs": []
    },
    {
      "cell_type": "code",
      "metadata": {
        "id": "iXCPmRaPd0QP",
        "colab_type": "code",
        "outputId": "6a836b65-9517-46c3-8ffd-e9c4787dc03f",
        "colab": {
          "base_uri": "https://localhost:8080/"
        }
      },
      "source": [
        "'the' in s"
      ],
      "execution_count": 0,
      "outputs": [
        {
          "output_type": "execute_result",
          "data": {
            "text/plain": [
              "True"
            ]
          },
          "metadata": {
            "tags": []
          },
          "execution_count": 79
        }
      ]
    },
    {
      "cell_type": "code",
      "metadata": {
        "id": "hLos2peFd0QU",
        "colab_type": "code",
        "outputId": "6837505e-0cb1-4cfe-aec1-486bb56d5ce6",
        "colab": {
          "base_uri": "https://localhost:8080/"
        }
      },
      "source": [
        "item_list = [1,2,3,4,1,3,4,2,2,1,]\n",
        "len(item_list)"
      ],
      "execution_count": 0,
      "outputs": [
        {
          "output_type": "execute_result",
          "data": {
            "text/plain": [
              "10"
            ]
          },
          "metadata": {
            "tags": []
          },
          "execution_count": 80
        }
      ]
    },
    {
      "cell_type": "code",
      "metadata": {
        "id": "KV8sMzSHd0Qg",
        "colab_type": "code",
        "colab": {}
      },
      "source": [
        "a = set(item_list)"
      ],
      "execution_count": 0,
      "outputs": []
    },
    {
      "cell_type": "code",
      "metadata": {
        "id": "jv7oLbuad0Qm",
        "colab_type": "code",
        "outputId": "0807e8e1-e031-405a-d913-e33a21f12f0e",
        "colab": {
          "base_uri": "https://localhost:8080/"
        }
      },
      "source": [
        "len(a)"
      ],
      "execution_count": 0,
      "outputs": [
        {
          "output_type": "execute_result",
          "data": {
            "text/plain": [
              "4"
            ]
          },
          "metadata": {
            "tags": []
          },
          "execution_count": 82
        }
      ]
    },
    {
      "cell_type": "code",
      "metadata": {
        "id": "GJdH86jMd0Qu",
        "colab_type": "code",
        "outputId": "afe607bb-322b-4df5-c5a8-33bdd8fbc10d",
        "colab": {
          "base_uri": "https://localhost:8080/"
        }
      },
      "source": [
        "parity = 'even' if 4 % 2 == 0 else \"odd\"\n",
        "parity"
      ],
      "execution_count": 0,
      "outputs": [
        {
          "output_type": "execute_result",
          "data": {
            "text/plain": [
              "'even'"
            ]
          },
          "metadata": {
            "tags": []
          },
          "execution_count": 83
        }
      ]
    },
    {
      "cell_type": "markdown",
      "metadata": {
        "id": "sxUwQHLbd0Q0",
        "colab_type": "text"
      },
      "source": [
        "# Control flow"
      ]
    },
    {
      "cell_type": "code",
      "metadata": {
        "id": "4d6voZbWd0Q1",
        "colab_type": "code",
        "outputId": "df330ffe-5c8f-4d37-9662-13fd74fecacb",
        "colab": {
          "base_uri": "https://localhost:8080/"
        }
      },
      "source": [
        "for x in range(10):\n",
        "    if x == 3:\n",
        "        continue\n",
        "    if x == 5:\n",
        "        break\n",
        "    print(x)"
      ],
      "execution_count": 0,
      "outputs": [
        {
          "output_type": "stream",
          "text": [
            "0\n",
            "1\n",
            "2\n",
            "4\n"
          ],
          "name": "stdout"
        }
      ]
    },
    {
      "cell_type": "code",
      "metadata": {
        "id": "OaZ8YTted0Q6",
        "colab_type": "code",
        "outputId": "89f7bd6b-5d4b-4a65-c356-54597aa06cd2",
        "colab": {
          "base_uri": "https://localhost:8080/"
        }
      },
      "source": [
        "set() is None"
      ],
      "execution_count": 0,
      "outputs": [
        {
          "output_type": "execute_result",
          "data": {
            "text/plain": [
              "False"
            ]
          },
          "metadata": {
            "tags": []
          },
          "execution_count": 85
        }
      ]
    },
    {
      "cell_type": "code",
      "metadata": {
        "id": "6GZGuUF4d0RA",
        "colab_type": "code",
        "outputId": "0984ab08-d18e-492b-c0c8-bf1ab0e318ca",
        "colab": {
          "base_uri": "https://localhost:8080/"
        }
      },
      "source": [
        "s = \"lalkrishna\"\n",
        "if s:\n",
        "    first_char = s[0]\n",
        "    print(first_char)\n",
        "else:\n",
        "    first_char = \"\"\n",
        "    print(first_char)"
      ],
      "execution_count": 0,
      "outputs": [
        {
          "output_type": "stream",
          "text": [
            "l\n"
          ],
          "name": "stdout"
        }
      ]
    },
    {
      "cell_type": "code",
      "metadata": {
        "id": "VEAkNjRQd0RF",
        "colab_type": "code",
        "outputId": "7d7ff522-b44a-44ef-d677-d0cd024edd1e",
        "colab": {
          "base_uri": "https://localhost:8080/"
        }
      },
      "source": [
        "z = False\n",
        "if z:\n",
        "    print(\"because of True\")\n",
        "else:\n",
        "    print(\"because of False\")"
      ],
      "execution_count": 0,
      "outputs": [
        {
          "output_type": "stream",
          "text": [
            "because of False\n"
          ],
          "name": "stdout"
        }
      ]
    },
    {
      "cell_type": "code",
      "metadata": {
        "id": "j2kDlsoad0RL",
        "colab_type": "code",
        "colab": {}
      },
      "source": [
        "first_char = s and s[0]"
      ],
      "execution_count": 0,
      "outputs": []
    },
    {
      "cell_type": "code",
      "metadata": {
        "id": "jJvrGdM3d0RP",
        "colab_type": "code",
        "outputId": "7f162a9c-1d9e-4e97-d33e-2133eb1a80db",
        "colab": {
          "base_uri": "https://localhost:8080/"
        }
      },
      "source": [
        "print(first_char)"
      ],
      "execution_count": 0,
      "outputs": [
        {
          "output_type": "stream",
          "text": [
            "l\n"
          ],
          "name": "stdout"
        }
      ]
    },
    {
      "cell_type": "code",
      "metadata": {
        "id": "KNY3ECOMd0RU",
        "colab_type": "code",
        "outputId": "7f91065e-e27d-4f57-b5bc-7d8f405f5767",
        "colab": {
          "base_uri": "https://localhost:8080/"
        }
      },
      "source": [
        "a = z and False\n",
        "print(a)"
      ],
      "execution_count": 0,
      "outputs": [
        {
          "output_type": "stream",
          "text": [
            "False\n"
          ],
          "name": "stdout"
        }
      ]
    },
    {
      "cell_type": "code",
      "metadata": {
        "id": "1ZzOMw3Rd0Rf",
        "colab_type": "code",
        "outputId": "e103b033-c6fa-43e6-ec37-8a15e5d881ea",
        "colab": {
          "base_uri": "https://localhost:8080/"
        }
      },
      "source": [
        "safe_x = x or 2\n",
        "print(safe_x)"
      ],
      "execution_count": 0,
      "outputs": [
        {
          "output_type": "stream",
          "text": [
            "5\n"
          ],
          "name": "stdout"
        }
      ]
    },
    {
      "cell_type": "code",
      "metadata": {
        "id": "AOt5JKM6d0Rk",
        "colab_type": "code",
        "outputId": "57973f67-e73a-49eb-c9f3-f3ca038b07ad",
        "colab": {
          "base_uri": "https://localhost:8080/"
        }
      },
      "source": [
        "2%2==1 or \"okay\""
      ],
      "execution_count": 0,
      "outputs": [
        {
          "output_type": "execute_result",
          "data": {
            "text/plain": [
              "'okay'"
            ]
          },
          "metadata": {
            "tags": []
          },
          "execution_count": 92
        }
      ]
    },
    {
      "cell_type": "code",
      "metadata": {
        "id": "4avEoZqBd0Rq",
        "colab_type": "code",
        "outputId": "01910b4a-4d50-4761-d5cf-84a4b2f0d4ea",
        "colab": {
          "base_uri": "https://localhost:8080/"
        }
      },
      "source": [
        "all([\"\", 4, 2, [3,3,5,2]])"
      ],
      "execution_count": 0,
      "outputs": [
        {
          "output_type": "execute_result",
          "data": {
            "text/plain": [
              "False"
            ]
          },
          "metadata": {
            "tags": []
          },
          "execution_count": 93
        }
      ]
    },
    {
      "cell_type": "code",
      "metadata": {
        "id": "iSCXOy0cd0Rv",
        "colab_type": "code",
        "outputId": "2903523c-79eb-4d85-a26a-da89d530593a",
        "colab": {
          "base_uri": "https://localhost:8080/"
        }
      },
      "source": [
        "all([])"
      ],
      "execution_count": 0,
      "outputs": [
        {
          "output_type": "execute_result",
          "data": {
            "text/plain": [
              "True"
            ]
          },
          "metadata": {
            "tags": []
          },
          "execution_count": 94
        }
      ]
    },
    {
      "cell_type": "code",
      "metadata": {
        "id": "m6Q17Ot9d0R0",
        "colab_type": "code",
        "outputId": "2f30d0ac-977b-4f4b-f264-082765d3ff11",
        "colab": {
          "base_uri": "https://localhost:8080/"
        }
      },
      "source": [
        "any([])"
      ],
      "execution_count": 0,
      "outputs": [
        {
          "output_type": "execute_result",
          "data": {
            "text/plain": [
              "False"
            ]
          },
          "metadata": {
            "tags": []
          },
          "execution_count": 95
        }
      ]
    },
    {
      "cell_type": "code",
      "metadata": {
        "id": "nzyg50WTd0R5",
        "colab_type": "code",
        "outputId": "52ca72ef-a5a0-4a9b-8d28-af88c6d682dd",
        "colab": {
          "base_uri": "https://localhost:8080/"
        }
      },
      "source": [
        "a = []\n",
        "a is True"
      ],
      "execution_count": 0,
      "outputs": [
        {
          "output_type": "execute_result",
          "data": {
            "text/plain": [
              "False"
            ]
          },
          "metadata": {
            "tags": []
          },
          "execution_count": 96
        }
      ]
    },
    {
      "cell_type": "markdown",
      "metadata": {
        "id": "oEmRTu6rd0SC",
        "colab_type": "text"
      },
      "source": [
        "# Sorting"
      ]
    },
    {
      "cell_type": "code",
      "metadata": {
        "id": "XOJeEfoVd0SD",
        "colab_type": "code",
        "outputId": "977717dd-da6e-47e6-f3fc-81419638ff65",
        "colab": {
          "base_uri": "https://localhost:8080/"
        }
      },
      "source": [
        "x = [5,6,2,1,5,8,1]\n",
        "a = ['lalkrishna', 'arjun', 'hi', 'cc', 'dd', 'ff']\n",
        "sorted(a, key=lambda a: a[1])"
      ],
      "execution_count": 0,
      "outputs": [
        {
          "output_type": "execute_result",
          "data": {
            "text/plain": [
              "['lalkrishna', 'cc', 'dd', 'ff', 'hi', 'arjun']"
            ]
          },
          "metadata": {
            "tags": []
          },
          "execution_count": 97
        }
      ]
    },
    {
      "cell_type": "code",
      "metadata": {
        "id": "rydRXQYud0SJ",
        "colab_type": "code",
        "outputId": "b89e9ace-0d55-43c7-cc6a-526824e2d0e7",
        "colab": {
          "base_uri": "https://localhost:8080/"
        }
      },
      "source": [
        "g = [2, 4, 6, 7, 9]\n",
        "sorted(g, key=lambda g: g%2==0)"
      ],
      "execution_count": 0,
      "outputs": [
        {
          "output_type": "execute_result",
          "data": {
            "text/plain": [
              "[7, 9, 2, 4, 6]"
            ]
          },
          "metadata": {
            "tags": []
          },
          "execution_count": 98
        }
      ]
    },
    {
      "cell_type": "markdown",
      "metadata": {
        "id": "AwnqPic2eLfd",
        "colab_type": "text"
      },
      "source": [
        "# List Comprehensions\n"
      ]
    },
    {
      "cell_type": "code",
      "metadata": {
        "id": "6SGnKIRQecl8",
        "colab_type": "code",
        "outputId": "0c181b22-f04f-476e-ee1a-c5fb46028b0b",
        "colab": {
          "base_uri": "https://localhost:8080/",
          "height": 33
        }
      },
      "source": [
        "squares = [\n",
        "           x*x\n",
        "           for x in range(5)\n",
        "]\n",
        "print(squares)"
      ],
      "execution_count": 0,
      "outputs": [
        {
          "output_type": "stream",
          "text": [
            "[0, 1, 4, 9, 16]\n"
          ],
          "name": "stdout"
        }
      ]
    },
    {
      "cell_type": "code",
      "metadata": {
        "id": "4rtN1tzJeShn",
        "colab_type": "code",
        "outputId": "933eff8b-5458-49ce-b718-67d996705682",
        "colab": {
          "base_uri": "https://localhost:8080/",
          "height": 33
        }
      },
      "source": [
        "even_number = [\n",
        "               x\n",
        "               for x in range(5)\n",
        "               if x % 2 == 0\n",
        "]\n",
        "print(even_number)"
      ],
      "execution_count": 0,
      "outputs": [
        {
          "output_type": "stream",
          "text": [
            "[0, 2, 4]\n"
          ],
          "name": "stdout"
        }
      ]
    },
    {
      "cell_type": "code",
      "metadata": {
        "id": "A-HglDFvesoE",
        "colab_type": "code",
        "colab": {}
      },
      "source": [
        "even_squares = [\n",
        "                x*x\n",
        "                for x in even_number\n",
        "]"
      ],
      "execution_count": 0,
      "outputs": []
    },
    {
      "cell_type": "code",
      "metadata": {
        "id": "bbunvh57e10y",
        "colab_type": "code",
        "outputId": "6e88b100-95f0-4065-b2b5-ad8d32dff0b5",
        "colab": {
          "base_uri": "https://localhost:8080/",
          "height": 33
        }
      },
      "source": [
        "even_squares"
      ],
      "execution_count": 0,
      "outputs": [
        {
          "output_type": "execute_result",
          "data": {
            "text/plain": [
              "[0, 4, 16]"
            ]
          },
          "metadata": {
            "tags": []
          },
          "execution_count": 102
        }
      ]
    },
    {
      "cell_type": "code",
      "metadata": {
        "id": "r7p9m4Tce3Nn",
        "colab_type": "code",
        "outputId": "909a0a2f-8afc-439b-83bb-fe01b347decd",
        "colab": {
          "base_uri": "https://localhost:8080/",
          "height": 33
        }
      },
      "source": [
        "square_dict = {\n",
        "    x: x*x\n",
        "    for x in range(5)\n",
        "}\n",
        "print(square_dict)"
      ],
      "execution_count": 0,
      "outputs": [
        {
          "output_type": "stream",
          "text": [
            "{0: 0, 1: 1, 2: 4, 3: 9, 4: 16}\n"
          ],
          "name": "stdout"
        }
      ]
    },
    {
      "cell_type": "code",
      "metadata": {
        "id": "iOI_8P0jfICr",
        "colab_type": "code",
        "colab": {}
      },
      "source": [
        "square_set = {\n",
        "    x*x\n",
        "    for x in [1, -1]\n",
        "}"
      ],
      "execution_count": 0,
      "outputs": []
    },
    {
      "cell_type": "code",
      "metadata": {
        "id": "sgTq5Gg1fSO6",
        "colab_type": "code",
        "outputId": "bab81c52-3ce0-45dd-c6c0-1c9e3d46400b",
        "colab": {
          "base_uri": "https://localhost:8080/",
          "height": 33
        }
      },
      "source": [
        "print(square_set)"
      ],
      "execution_count": 0,
      "outputs": [
        {
          "output_type": "stream",
          "text": [
            "{1}\n"
          ],
          "name": "stdout"
        }
      ]
    },
    {
      "cell_type": "code",
      "metadata": {
        "id": "KZKOySjjfUcu",
        "colab_type": "code",
        "colab": {}
      },
      "source": [
        "zeros = [0 for _ in range(5)]"
      ],
      "execution_count": 0,
      "outputs": []
    },
    {
      "cell_type": "code",
      "metadata": {
        "id": "vY5v9SzffkQ2",
        "colab_type": "code",
        "outputId": "2ef6045d-767f-4d4b-dd35-4fe3b30f8525",
        "colab": {
          "base_uri": "https://localhost:8080/",
          "height": 33
        }
      },
      "source": [
        "print(zeros)"
      ],
      "execution_count": 0,
      "outputs": [
        {
          "output_type": "stream",
          "text": [
            "[0, 0, 0, 0, 0]\n"
          ],
          "name": "stdout"
        }
      ]
    },
    {
      "cell_type": "code",
      "metadata": {
        "id": "HE3AWYsiflXO",
        "colab_type": "code",
        "outputId": "0a0a1b37-d69b-438b-c77d-b746f936afa0",
        "colab": {
          "base_uri": "https://localhost:8080/",
          "height": 53
        }
      },
      "source": [
        "pairs = [\n",
        "         (x,y)\n",
        "         for x in range(10)\n",
        "         for y in range(10)\n",
        "]\n",
        "print(pairs)"
      ],
      "execution_count": 0,
      "outputs": [
        {
          "output_type": "stream",
          "text": [
            "[(0, 0), (0, 1), (0, 2), (0, 3), (0, 4), (0, 5), (0, 6), (0, 7), (0, 8), (0, 9), (1, 0), (1, 1), (1, 2), (1, 3), (1, 4), (1, 5), (1, 6), (1, 7), (1, 8), (1, 9), (2, 0), (2, 1), (2, 2), (2, 3), (2, 4), (2, 5), (2, 6), (2, 7), (2, 8), (2, 9), (3, 0), (3, 1), (3, 2), (3, 3), (3, 4), (3, 5), (3, 6), (3, 7), (3, 8), (3, 9), (4, 0), (4, 1), (4, 2), (4, 3), (4, 4), (4, 5), (4, 6), (4, 7), (4, 8), (4, 9), (5, 0), (5, 1), (5, 2), (5, 3), (5, 4), (5, 5), (5, 6), (5, 7), (5, 8), (5, 9), (6, 0), (6, 1), (6, 2), (6, 3), (6, 4), (6, 5), (6, 6), (6, 7), (6, 8), (6, 9), (7, 0), (7, 1), (7, 2), (7, 3), (7, 4), (7, 5), (7, 6), (7, 7), (7, 8), (7, 9), (8, 0), (8, 1), (8, 2), (8, 3), (8, 4), (8, 5), (8, 6), (8, 7), (8, 8), (8, 9), (9, 0), (9, 1), (9, 2), (9, 3), (9, 4), (9, 5), (9, 6), (9, 7), (9, 8), (9, 9)]\n"
          ],
          "name": "stdout"
        }
      ]
    },
    {
      "cell_type": "code",
      "metadata": {
        "id": "-dveyCwGf3Sl",
        "colab_type": "code",
        "outputId": "b6e703e2-1efd-4d70-d7a3-8f7c49c2395f",
        "colab": {
          "base_uri": "https://localhost:8080/",
          "height": 53
        }
      },
      "source": [
        "increasing_pairs = [\n",
        "                    (x, y)\n",
        "                    for x in range(10)\n",
        "                    for y in range(x+1, 10)\n",
        "]\n",
        "print(increasing_pairs)"
      ],
      "execution_count": 0,
      "outputs": [
        {
          "output_type": "stream",
          "text": [
            "[(0, 1), (0, 2), (0, 3), (0, 4), (0, 5), (0, 6), (0, 7), (0, 8), (0, 9), (1, 2), (1, 3), (1, 4), (1, 5), (1, 6), (1, 7), (1, 8), (1, 9), (2, 3), (2, 4), (2, 5), (2, 6), (2, 7), (2, 8), (2, 9), (3, 4), (3, 5), (3, 6), (3, 7), (3, 8), (3, 9), (4, 5), (4, 6), (4, 7), (4, 8), (4, 9), (5, 6), (5, 7), (5, 8), (5, 9), (6, 7), (6, 8), (6, 9), (7, 8), (7, 9), (8, 9)]\n"
          ],
          "name": "stdout"
        }
      ]
    },
    {
      "cell_type": "code",
      "metadata": {
        "id": "uHKF-JjIgKzM",
        "colab_type": "code",
        "outputId": "0d6c69a3-606b-42be-d2a4-56dd32234235",
        "colab": {
          "base_uri": "https://localhost:8080/",
          "height": 33
        }
      },
      "source": [
        "num_list = [1,2,3,4,5,6,6,7,7]\n",
        "e = Counter(num_list)\n",
        "print(e)"
      ],
      "execution_count": 0,
      "outputs": [
        {
          "output_type": "stream",
          "text": [
            "Counter({6: 2, 7: 2, 1: 1, 2: 1, 3: 1, 4: 1, 5: 1})\n"
          ],
          "name": "stdout"
        }
      ]
    },
    {
      "cell_type": "code",
      "metadata": {
        "id": "CXoM5y7yhmMb",
        "colab_type": "code",
        "outputId": "2382bdf4-6b85-402c-c7a3-d647fd5a125d",
        "colab": {
          "base_uri": "https://localhost:8080/",
          "height": 33
        }
      },
      "source": [
        "ee = defaultdict(int)\n",
        "for n in num_list:\n",
        "  ee[n] += 1\n",
        "\n",
        "print(ee)"
      ],
      "execution_count": 0,
      "outputs": [
        {
          "output_type": "stream",
          "text": [
            "defaultdict(<class 'int'>, {1: 1, 2: 1, 3: 1, 4: 1, 5: 1, 6: 2, 7: 2})\n"
          ],
          "name": "stdout"
        }
      ]
    },
    {
      "cell_type": "markdown",
      "metadata": {
        "id": "H99-QGkgBHdj",
        "colab_type": "text"
      },
      "source": [
        "# Automated testing and assert"
      ]
    },
    {
      "cell_type": "code",
      "metadata": {
        "id": "gYaoEO69Bcfk",
        "colab_type": "code",
        "colab": {
          "base_uri": "https://localhost:8080/",
          "height": 333
        },
        "outputId": "a91a5f2f-d741-47fb-8f51-8f1d2eb05616"
      },
      "source": [
        "def small_items(xs):\n",
        "  return min(xs)\n",
        "\n",
        "assert small_items([10,20,30,40,50]) == -1"
      ],
      "execution_count": 151,
      "outputs": [
        {
          "output_type": "error",
          "ename": "AssertionError",
          "evalue": "ignored",
          "traceback": [
            "\u001b[0;31m---------------------------------------------------------------------------\u001b[0m",
            "\u001b[0;31mAssertionError\u001b[0m                            Traceback (most recent call last)",
            "\u001b[0;32m<ipython-input-151-9589b10dda26>\u001b[0m in \u001b[0;36m<module>\u001b[0;34m()\u001b[0m\n\u001b[1;32m      2\u001b[0m   \u001b[0;32mreturn\u001b[0m \u001b[0mmin\u001b[0m\u001b[0;34m(\u001b[0m\u001b[0mxs\u001b[0m\u001b[0;34m)\u001b[0m\u001b[0;34m\u001b[0m\u001b[0;34m\u001b[0m\u001b[0m\n\u001b[1;32m      3\u001b[0m \u001b[0;34m\u001b[0m\u001b[0m\n\u001b[0;32m----> 4\u001b[0;31m \u001b[0;32massert\u001b[0m \u001b[0msmall_items\u001b[0m\u001b[0;34m(\u001b[0m\u001b[0;34m[\u001b[0m\u001b[0;36m10\u001b[0m\u001b[0;34m,\u001b[0m\u001b[0;36m20\u001b[0m\u001b[0;34m,\u001b[0m\u001b[0;36m30\u001b[0m\u001b[0;34m,\u001b[0m\u001b[0;36m40\u001b[0m\u001b[0;34m,\u001b[0m\u001b[0;36m50\u001b[0m\u001b[0;34m]\u001b[0m\u001b[0;34m)\u001b[0m \u001b[0;34m==\u001b[0m \u001b[0;34m-\u001b[0m\u001b[0;36m1\u001b[0m\u001b[0;34m\u001b[0m\u001b[0;34m\u001b[0m\u001b[0m\n\u001b[0m\u001b[1;32m      5\u001b[0m \u001b[0;34m\u001b[0m\u001b[0m\n",
            "\u001b[0;31mAssertionError\u001b[0m: "
          ]
        }
      ]
    },
    {
      "cell_type": "code",
      "metadata": {
        "id": "rf9SWvadC_W_",
        "colab_type": "code",
        "colab": {
          "base_uri": "https://localhost:8080/",
          "height": 496
        },
        "outputId": "91384730-213b-41e7-b062-da68db836c40"
      },
      "source": [
        "def smallest_item(xs):\n",
        "  assert xs, \"empty list\"\n",
        "  return min(xs)\n",
        "\n",
        "smallest_item([])"
      ],
      "execution_count": 153,
      "outputs": [
        {
          "output_type": "error",
          "ename": "AssertionError",
          "evalue": "ignored",
          "traceback": [
            "\u001b[0;31m---------------------------------------------------------------------------\u001b[0m",
            "\u001b[0;31mAssertionError\u001b[0m                            Traceback (most recent call last)",
            "\u001b[0;32m<ipython-input-153-0a4c36fdc6a3>\u001b[0m in \u001b[0;36m<module>\u001b[0;34m()\u001b[0m\n\u001b[1;32m      3\u001b[0m   \u001b[0;32mreturn\u001b[0m \u001b[0mmin\u001b[0m\u001b[0;34m(\u001b[0m\u001b[0mxs\u001b[0m\u001b[0;34m)\u001b[0m\u001b[0;34m\u001b[0m\u001b[0;34m\u001b[0m\u001b[0m\n\u001b[1;32m      4\u001b[0m \u001b[0;34m\u001b[0m\u001b[0m\n\u001b[0;32m----> 5\u001b[0;31m \u001b[0msmallest_item\u001b[0m\u001b[0;34m(\u001b[0m\u001b[0;34m[\u001b[0m\u001b[0;34m]\u001b[0m\u001b[0;34m)\u001b[0m\u001b[0;34m\u001b[0m\u001b[0;34m\u001b[0m\u001b[0m\n\u001b[0m",
            "\u001b[0;32m<ipython-input-153-0a4c36fdc6a3>\u001b[0m in \u001b[0;36msmallest_item\u001b[0;34m(xs)\u001b[0m\n\u001b[1;32m      1\u001b[0m \u001b[0;32mdef\u001b[0m \u001b[0msmallest_item\u001b[0m\u001b[0;34m(\u001b[0m\u001b[0mxs\u001b[0m\u001b[0;34m)\u001b[0m\u001b[0;34m:\u001b[0m\u001b[0;34m\u001b[0m\u001b[0;34m\u001b[0m\u001b[0m\n\u001b[0;32m----> 2\u001b[0;31m   \u001b[0;32massert\u001b[0m \u001b[0mxs\u001b[0m\u001b[0;34m,\u001b[0m \u001b[0;34m\"empty list\"\u001b[0m\u001b[0;34m\u001b[0m\u001b[0;34m\u001b[0m\u001b[0m\n\u001b[0m\u001b[1;32m      3\u001b[0m   \u001b[0;32mreturn\u001b[0m \u001b[0mmin\u001b[0m\u001b[0;34m(\u001b[0m\u001b[0mxs\u001b[0m\u001b[0;34m)\u001b[0m\u001b[0;34m\u001b[0m\u001b[0;34m\u001b[0m\u001b[0m\n\u001b[1;32m      4\u001b[0m \u001b[0;34m\u001b[0m\u001b[0m\n\u001b[1;32m      5\u001b[0m \u001b[0msmallest_item\u001b[0m\u001b[0;34m(\u001b[0m\u001b[0;34m[\u001b[0m\u001b[0;34m]\u001b[0m\u001b[0;34m)\u001b[0m\u001b[0;34m\u001b[0m\u001b[0;34m\u001b[0m\u001b[0m\n",
            "\u001b[0;31mAssertionError\u001b[0m: empty list"
          ]
        }
      ]
    }
  ]
}