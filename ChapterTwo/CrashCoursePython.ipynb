{
 "cells": [
  {
   "cell_type": "markdown",
   "metadata": {
    "colab_type": "text",
    "id": "LnuzcMIHd0Iy"
   },
   "source": [
    "# List"
   ]
  },
  {
   "cell_type": "code",
   "execution_count": null,
   "metadata": {
    "colab": {
     "base_uri": "https://localhost:8080/",
     "height": 33
    },
    "colab_type": "code",
    "id": "M9LLghuLd0I2",
    "outputId": "322d1bb7-b4d1-4d87-8b2e-d5e0c6cacf99"
   },
   "outputs": [
    {
     "name": "stdout",
     "output_type": "stream",
     "text": [
      "[0, 1, 2, 3, 4, 5, 6, 7, 8, 9]\n"
     ]
    }
   ],
   "source": [
    "x = [0, 1, 2, 3, 4, 5, 6, 7, 8, 9]\n",
    "\n",
    "print(x)"
   ]
  },
  {
   "cell_type": "code",
   "execution_count": null,
   "metadata": {
    "colab": {
     "base_uri": "https://localhost:8080/",
     "height": 33
    },
    "colab_type": "code",
    "id": "AWAv67Csd0I9",
    "outputId": "b5221aa5-26e6-43ec-f3c1-c188a09e8c86"
   },
   "outputs": [
    {
     "data": {
      "text/plain": [
       "[0, 1, 2]"
      ]
     },
     "execution_count": 23,
     "metadata": {
      "tags": []
     },
     "output_type": "execute_result"
    }
   ],
   "source": [
    "x[:3]"
   ]
  },
  {
   "cell_type": "code",
   "execution_count": null,
   "metadata": {
    "colab": {
     "base_uri": "https://localhost:8080/",
     "height": 33
    },
    "colab_type": "code",
    "id": "sAHS5Qi3d0JF",
    "outputId": "3a6908ca-cab8-4928-e128-31d2bf55a385"
   },
   "outputs": [
    {
     "data": {
      "text/plain": [
       "[]"
      ]
     },
     "execution_count": 24,
     "metadata": {
      "tags": []
     },
     "output_type": "execute_result"
    }
   ],
   "source": [
    "x[:0]"
   ]
  },
  {
   "cell_type": "code",
   "execution_count": null,
   "metadata": {
    "colab": {
     "base_uri": "https://localhost:8080/",
     "height": 33
    },
    "colab_type": "code",
    "id": "zZPVD3_dd0JQ",
    "outputId": "3d1917f3-3cca-4c53-e006-93a3010fc88d"
   },
   "outputs": [
    {
     "data": {
      "text/plain": [
       "[0, 1, 2, 3, 4, 5, 6, 7, 8]"
      ]
     },
     "execution_count": 25,
     "metadata": {
      "tags": []
     },
     "output_type": "execute_result"
    }
   ],
   "source": [
    "x[:-1]"
   ]
  },
  {
   "cell_type": "code",
   "execution_count": null,
   "metadata": {
    "colab": {
     "base_uri": "https://localhost:8080/",
     "height": 33
    },
    "colab_type": "code",
    "id": "K5c0jeodd0Jb",
    "outputId": "d78698ac-cd45-45b4-fb52-0f81ad136095"
   },
   "outputs": [
    {
     "data": {
      "text/plain": [
       "[0, 1, 2]"
      ]
     },
     "execution_count": 26,
     "metadata": {
      "tags": []
     },
     "output_type": "execute_result"
    }
   ],
   "source": [
    "x[:3:1]"
   ]
  },
  {
   "cell_type": "code",
   "execution_count": null,
   "metadata": {
    "colab": {
     "base_uri": "https://localhost:8080/",
     "height": 33
    },
    "colab_type": "code",
    "id": "OPZt3FIvd0Jl",
    "outputId": "5ea81db0-ea95-4042-9c1e-1fb6e7a5c978"
   },
   "outputs": [
    {
     "data": {
      "text/plain": [
       "[9, 8, 7, 6, 5, 4]"
      ]
     },
     "execution_count": 27,
     "metadata": {
      "tags": []
     },
     "output_type": "execute_result"
    }
   ],
   "source": [
    "x[:3:-1]"
   ]
  },
  {
   "cell_type": "code",
   "execution_count": null,
   "metadata": {
    "colab": {
     "base_uri": "https://localhost:8080/",
     "height": 33
    },
    "colab_type": "code",
    "id": "Ji4fEL_Md0Jw",
    "outputId": "85bd7d55-13ee-42b5-b660-31f1ff866b26"
   },
   "outputs": [
    {
     "data": {
      "text/plain": [
       "[9, 8, 7, 6, 5, 4]"
      ]
     },
     "execution_count": 28,
     "metadata": {
      "tags": []
     },
     "output_type": "execute_result"
    }
   ],
   "source": [
    "x[:3:-1]"
   ]
  },
  {
   "cell_type": "code",
   "execution_count": null,
   "metadata": {
    "colab": {
     "base_uri": "https://localhost:8080/",
     "height": 33
    },
    "colab_type": "code",
    "id": "CWEwF3oCd0J7",
    "outputId": "d2a12de9-d790-48af-d162-8c6ee8afa7ee"
   },
   "outputs": [
    {
     "data": {
      "text/plain": [
       "[0, 1, 2]"
      ]
     },
     "execution_count": 29,
     "metadata": {
      "tags": []
     },
     "output_type": "execute_result"
    }
   ],
   "source": [
    "x[:3:1]"
   ]
  },
  {
   "cell_type": "code",
   "execution_count": null,
   "metadata": {
    "colab": {
     "base_uri": "https://localhost:8080/",
     "height": 33
    },
    "colab_type": "code",
    "id": "mXpabvLtd0KD",
    "outputId": "d101c8c9-319a-46d9-ee65-c3efef43b2f8"
   },
   "outputs": [
    {
     "data": {
      "text/plain": [
       "[0, 2, 4, 6, 8]"
      ]
     },
     "execution_count": 30,
     "metadata": {
      "tags": []
     },
     "output_type": "execute_result"
    }
   ],
   "source": [
    "x[::2]"
   ]
  },
  {
   "cell_type": "code",
   "execution_count": null,
   "metadata": {
    "colab": {
     "base_uri": "https://localhost:8080/",
     "height": 33
    },
    "colab_type": "code",
    "id": "NmNtcsUYd0KK",
    "outputId": "6345e12e-6ab0-4cf6-9424-42f8eaa6cc1d"
   },
   "outputs": [
    {
     "data": {
      "text/plain": [
       "[9, 7, 5, 3, 1]"
      ]
     },
     "execution_count": 31,
     "metadata": {
      "tags": []
     },
     "output_type": "execute_result"
    }
   ],
   "source": [
    "x[::-2]"
   ]
  },
  {
   "cell_type": "code",
   "execution_count": null,
   "metadata": {
    "colab": {
     "base_uri": "https://localhost:8080/",
     "height": 33
    },
    "colab_type": "code",
    "id": "xp5NM3AEd0KR",
    "outputId": "ed574d48-6afb-4218-b929-e4af96008715"
   },
   "outputs": [
    {
     "data": {
      "text/plain": [
       "[0, 1, 2, 3, 4, 5, 6, 7, 8, 9]"
      ]
     },
     "execution_count": 32,
     "metadata": {
      "tags": []
     },
     "output_type": "execute_result"
    }
   ],
   "source": [
    "x[:]"
   ]
  },
  {
   "cell_type": "code",
   "execution_count": null,
   "metadata": {
    "colab": {
     "base_uri": "https://localhost:8080/",
     "height": 33
    },
    "colab_type": "code",
    "id": "ez2mEWM4d0Kb",
    "outputId": "344cb16b-9f5f-4390-f844-79f89e10a4f6"
   },
   "outputs": [
    {
     "data": {
      "text/plain": [
       "[2, 0]"
      ]
     },
     "execution_count": 33,
     "metadata": {
      "tags": []
     },
     "output_type": "execute_result"
    }
   ],
   "source": [
    "x[2::-2]"
   ]
  },
  {
   "cell_type": "code",
   "execution_count": null,
   "metadata": {
    "colab": {},
    "colab_type": "code",
    "id": "IKfPltVvd0Kp"
   },
   "outputs": [],
   "source": [
    "a = [1,2,3]\n",
    "x.extend(a)"
   ]
  },
  {
   "cell_type": "code",
   "execution_count": null,
   "metadata": {
    "colab": {
     "base_uri": "https://localhost:8080/",
     "height": 33
    },
    "colab_type": "code",
    "id": "fj_Oaxksd0Kw",
    "outputId": "df65d984-625e-470e-8085-3e4fac790c99"
   },
   "outputs": [
    {
     "data": {
      "text/plain": [
       "[0, 1, 2, 3, 4, 5, 6, 7, 8, 9, 1, 2, 3]"
      ]
     },
     "execution_count": 35,
     "metadata": {
      "tags": []
     },
     "output_type": "execute_result"
    }
   ],
   "source": [
    "x"
   ]
  },
  {
   "cell_type": "code",
   "execution_count": null,
   "metadata": {
    "colab": {},
    "colab_type": "code",
    "id": "ICBXUG1_d0K2"
   },
   "outputs": [],
   "source": [
    "g= [i \n",
    "    for i in x\n",
    "    if i%2==0\n",
    "   ]"
   ]
  },
  {
   "cell_type": "code",
   "execution_count": null,
   "metadata": {
    "colab": {},
    "colab_type": "code",
    "id": "bx9u2Z1Xd0K_"
   },
   "outputs": [],
   "source": [
    "x, y = [1, 2]"
   ]
  },
  {
   "cell_type": "markdown",
   "metadata": {
    "colab_type": "text",
    "id": "nLmyv7Q5d0LH"
   },
   "source": [
    "# Tuples"
   ]
  },
  {
   "cell_type": "code",
   "execution_count": null,
   "metadata": {
    "colab": {},
    "colab_type": "code",
    "id": "dA5ldQOId0LI"
   },
   "outputs": [],
   "source": [
    "def sum_and_product(x, y):\n",
    "    return (x+y), (x*y)"
   ]
  },
  {
   "cell_type": "code",
   "execution_count": null,
   "metadata": {
    "colab": {
     "base_uri": "https://localhost:8080/"
    },
    "colab_type": "code",
    "id": "efySbAJud0LR",
    "outputId": "63e577c3-99a2-4c9e-c1c7-89d4b8427edc"
   },
   "outputs": [
    {
     "name": "stdout",
     "output_type": "stream",
     "text": [
      "(9, 20)\n",
      "s is : 9 p is : 20\n"
     ]
    }
   ],
   "source": [
    "sp = sum_and_product(4,5)\n",
    "print(sp)\n",
    "s, p = sum_and_product(4,5)\n",
    "print(f's is : {s} p is : {p}')"
   ]
  },
  {
   "cell_type": "markdown",
   "metadata": {
    "colab_type": "text",
    "id": "yTUpShq0d0LY"
   },
   "source": [
    "\n",
    "# Dictionaries\n"
   ]
  },
  {
   "cell_type": "code",
   "execution_count": null,
   "metadata": {
    "colab": {
     "base_uri": "https://localhost:8080/"
    },
    "colab_type": "code",
    "id": "TKWE15YOd0LZ",
    "outputId": "7f8d3a79-fee4-419c-f2aa-af80e0b746d3"
   },
   "outputs": [
    {
     "data": {
      "text/plain": [
       "80"
      ]
     },
     "execution_count": 40,
     "metadata": {
      "tags": []
     },
     "output_type": "execute_result"
    }
   ],
   "source": [
    "grades = {\"Joel\": 80, \"Tim\": 95}\n",
    "grades['Joel']"
   ]
  },
  {
   "cell_type": "code",
   "execution_count": null,
   "metadata": {
    "colab": {
     "base_uri": "https://localhost:8080/"
    },
    "colab_type": "code",
    "id": "06dyCvccd0Le",
    "outputId": "5711971d-041f-4eac-ff6e-0b06156f6a0e"
   },
   "outputs": [
    {
     "data": {
      "text/plain": [
       "False"
      ]
     },
     "execution_count": 41,
     "metadata": {
      "tags": []
     },
     "output_type": "execute_result"
    }
   ],
   "source": [
    "\"joel\" in grades"
   ]
  },
  {
   "cell_type": "code",
   "execution_count": null,
   "metadata": {
    "colab": {
     "base_uri": "https://localhost:8080/"
    },
    "colab_type": "code",
    "id": "ZfXTHdUad0Ln",
    "outputId": "9c96abe5-2d85-4306-d06a-ea7661160ce7"
   },
   "outputs": [
    {
     "data": {
      "text/plain": [
       "True"
      ]
     },
     "execution_count": 42,
     "metadata": {
      "tags": []
     },
     "output_type": "execute_result"
    }
   ],
   "source": [
    "\"Joel\" in grades"
   ]
  },
  {
   "cell_type": "code",
   "execution_count": null,
   "metadata": {
    "colab": {
     "base_uri": "https://localhost:8080/"
    },
    "colab_type": "code",
    "id": "5VkctoXud0Lv",
    "outputId": "d740612d-968f-4b5b-dbb9-cf4737e369e1"
   },
   "outputs": [
    {
     "data": {
      "text/plain": [
       "80"
      ]
     },
     "execution_count": 43,
     "metadata": {
      "tags": []
     },
     "output_type": "execute_result"
    }
   ],
   "source": [
    "grades.get(\"Joel\", 0)"
   ]
  },
  {
   "cell_type": "code",
   "execution_count": null,
   "metadata": {
    "colab": {},
    "colab_type": "code",
    "id": "W8e0U_Xcd0L4"
   },
   "outputs": [],
   "source": [
    "grades[\"Tim\"] = 99"
   ]
  },
  {
   "cell_type": "code",
   "execution_count": null,
   "metadata": {
    "colab": {},
    "colab_type": "code",
    "id": "wwda3lC_d0MC"
   },
   "outputs": [],
   "source": [
    "grades[\"Kate\"] = 100"
   ]
  },
  {
   "cell_type": "markdown",
   "metadata": {
    "colab_type": "raw",
    "id": "bho8Sbegd0ML"
   },
   "source": [
    "len(grades)"
   ]
  },
  {
   "cell_type": "code",
   "execution_count": null,
   "metadata": {
    "colab": {
     "base_uri": "https://localhost:8080/"
    },
    "colab_type": "code",
    "id": "USqV6FXed0MO",
    "outputId": "635bda5f-6e86-4f78-9d61-86986e761d2e"
   },
   "outputs": [
    {
     "data": {
      "text/plain": [
       "{'Joel': 80, 'Kate': 100, 'Tim': 99}"
      ]
     },
     "execution_count": 46,
     "metadata": {
      "tags": []
     },
     "output_type": "execute_result"
    }
   ],
   "source": [
    "grades"
   ]
  },
  {
   "cell_type": "code",
   "execution_count": null,
   "metadata": {
    "colab": {},
    "colab_type": "code",
    "id": "AN8VLvApd0MU"
   },
   "outputs": [],
   "source": [
    "tweet = {\"user\" : \"joelgrus\",\n",
    "         \"text\" : \"Data Science is Awesome\",\n",
    "         \"retweet_count\" : 100,\n",
    "         \"hashtags\" : [\"#data\", \"#science\", \"#datascience\", \"#awesome\", \"#yolo\"] }"
   ]
  },
  {
   "cell_type": "code",
   "execution_count": null,
   "metadata": {
    "colab": {},
    "colab_type": "code",
    "id": "PZkdj9znd0Md"
   },
   "outputs": [],
   "source": [
    "tweet_keys = tweet.keys()\n",
    "tweet_values = tweet.values()\n",
    "tweet_items = tweet.items()"
   ]
  },
  {
   "cell_type": "code",
   "execution_count": null,
   "metadata": {
    "colab": {
     "base_uri": "https://localhost:8080/"
    },
    "colab_type": "code",
    "id": "Q4B26Z2od0Mk",
    "outputId": "0000d32c-1d2d-41b3-b15e-d28359fd6760"
   },
   "outputs": [
    {
     "data": {
      "text/plain": [
       "True"
      ]
     },
     "execution_count": 49,
     "metadata": {
      "tags": []
     },
     "output_type": "execute_result"
    }
   ],
   "source": [
    "\"user\" in tweet_keys\n",
    "100 in tweet_values"
   ]
  },
  {
   "cell_type": "code",
   "execution_count": null,
   "metadata": {
    "colab": {},
    "colab_type": "code",
    "id": "tYMPrNq4d0Mt"
   },
   "outputs": [],
   "source": [
    "documents = \"As with strings and lists, there are several built-in methods that can be invoked on dictionaries. In fact, in some cases, the list and dictionary methods share the same name. In the discussion on object-oriented programming, you will see that it is perfectly acceptable for different types to have methods with the same name.\""
   ]
  },
  {
   "cell_type": "code",
   "execution_count": null,
   "metadata": {
    "colab": {},
    "colab_type": "code",
    "id": "3LncHQMYd0M1"
   },
   "outputs": [],
   "source": [
    "words_count = {}\n",
    "for word in documents.split():\n",
    "    if word in words_count:\n",
    "        words_count[word] += 1\n",
    "    else:\n",
    "        words_count[word] = 1"
   ]
  },
  {
   "cell_type": "code",
   "execution_count": null,
   "metadata": {
    "colab": {
     "base_uri": "https://localhost:8080/"
    },
    "colab_type": "code",
    "id": "fTNptXxsd0NB",
    "outputId": "4f71be44-c964-4103-dc64-8c6c7195988f"
   },
   "outputs": [
    {
     "data": {
      "text/plain": [
       "{'As': 1,\n",
       " 'In': 2,\n",
       " 'acceptable': 1,\n",
       " 'and': 2,\n",
       " 'are': 1,\n",
       " 'be': 1,\n",
       " 'built-in': 1,\n",
       " 'can': 1,\n",
       " 'cases,': 1,\n",
       " 'dictionaries.': 1,\n",
       " 'dictionary': 1,\n",
       " 'different': 1,\n",
       " 'discussion': 1,\n",
       " 'fact,': 1,\n",
       " 'for': 1,\n",
       " 'have': 1,\n",
       " 'in': 1,\n",
       " 'invoked': 1,\n",
       " 'is': 1,\n",
       " 'it': 1,\n",
       " 'list': 1,\n",
       " 'lists,': 1,\n",
       " 'methods': 3,\n",
       " 'name.': 2,\n",
       " 'object-oriented': 1,\n",
       " 'on': 2,\n",
       " 'perfectly': 1,\n",
       " 'programming,': 1,\n",
       " 'same': 2,\n",
       " 'see': 1,\n",
       " 'several': 1,\n",
       " 'share': 1,\n",
       " 'some': 1,\n",
       " 'strings': 1,\n",
       " 'that': 2,\n",
       " 'the': 4,\n",
       " 'there': 1,\n",
       " 'to': 1,\n",
       " 'types': 1,\n",
       " 'will': 1,\n",
       " 'with': 2,\n",
       " 'you': 1}"
      ]
     },
     "execution_count": 52,
     "metadata": {
      "tags": []
     },
     "output_type": "execute_result"
    }
   ],
   "source": [
    "words_count"
   ]
  },
  {
   "cell_type": "code",
   "execution_count": null,
   "metadata": {
    "colab": {},
    "colab_type": "code",
    "id": "toR4bvz6d0NJ"
   },
   "outputs": [],
   "source": [
    "words = {} \n",
    "for word in documents.split():\n",
    "    try:\n",
    "        words[word] += 1\n",
    "    except KeyError:\n",
    "        words[word] = 1\n"
   ]
  },
  {
   "cell_type": "code",
   "execution_count": null,
   "metadata": {
    "colab": {
     "base_uri": "https://localhost:8080/"
    },
    "colab_type": "code",
    "id": "NEpWkTgLd0NN",
    "outputId": "885aefb8-696a-4ed2-8e41-676606d10bd9"
   },
   "outputs": [
    {
     "data": {
      "text/plain": [
       "{'As': 1,\n",
       " 'In': 2,\n",
       " 'acceptable': 1,\n",
       " 'and': 2,\n",
       " 'are': 1,\n",
       " 'be': 1,\n",
       " 'built-in': 1,\n",
       " 'can': 1,\n",
       " 'cases,': 1,\n",
       " 'dictionaries.': 1,\n",
       " 'dictionary': 1,\n",
       " 'different': 1,\n",
       " 'discussion': 1,\n",
       " 'fact,': 1,\n",
       " 'for': 1,\n",
       " 'have': 1,\n",
       " 'in': 1,\n",
       " 'invoked': 1,\n",
       " 'is': 1,\n",
       " 'it': 1,\n",
       " 'list': 1,\n",
       " 'lists,': 1,\n",
       " 'methods': 3,\n",
       " 'name.': 2,\n",
       " 'object-oriented': 1,\n",
       " 'on': 2,\n",
       " 'perfectly': 1,\n",
       " 'programming,': 1,\n",
       " 'same': 2,\n",
       " 'see': 1,\n",
       " 'several': 1,\n",
       " 'share': 1,\n",
       " 'some': 1,\n",
       " 'strings': 1,\n",
       " 'that': 2,\n",
       " 'the': 4,\n",
       " 'there': 1,\n",
       " 'to': 1,\n",
       " 'types': 1,\n",
       " 'will': 1,\n",
       " 'with': 2,\n",
       " 'you': 1}"
      ]
     },
     "execution_count": 54,
     "metadata": {
      "tags": []
     },
     "output_type": "execute_result"
    }
   ],
   "source": [
    "words"
   ]
  },
  {
   "cell_type": "code",
   "execution_count": null,
   "metadata": {
    "colab": {
     "base_uri": "https://localhost:8080/"
    },
    "colab_type": "code",
    "id": "zmQxeebcd0NT",
    "outputId": "e74ebc96-9d3c-4181-b71a-378cc3dd3244"
   },
   "outputs": [
    {
     "name": "stdout",
     "output_type": "stream",
     "text": [
      "0\n",
      "0\n",
      "0\n",
      "0\n",
      "0\n",
      "0\n",
      "0\n",
      "0\n",
      "0\n",
      "0\n",
      "0\n",
      "0\n",
      "0\n",
      "0\n",
      "0\n",
      "0\n",
      "0\n",
      "0\n",
      "0\n",
      "0\n",
      "0\n",
      "0\n",
      "0\n",
      "1\n",
      "0\n",
      "1\n",
      "0\n",
      "1\n",
      "0\n",
      "0\n",
      "1\n",
      "2\n",
      "0\n",
      "1\n",
      "0\n",
      "0\n",
      "0\n",
      "0\n",
      "0\n",
      "1\n",
      "0\n",
      "0\n",
      "0\n",
      "0\n",
      "0\n",
      "0\n",
      "0\n",
      "0\n",
      "0\n",
      "2\n",
      "1\n",
      "3\n",
      "1\n",
      "1\n"
     ]
    }
   ],
   "source": [
    "wordsss = {}\n",
    "for word in documents.split():\n",
    "    previous_count = wordsss.get(word, 0)\n",
    "    print(previous_count)\n",
    "    wordsss[word] = previous_count + 1\n"
   ]
  },
  {
   "cell_type": "code",
   "execution_count": null,
   "metadata": {
    "colab": {
     "base_uri": "https://localhost:8080/"
    },
    "colab_type": "code",
    "id": "XjNQk25cd0Na",
    "outputId": "aec06010-f118-4643-eb48-36d6ce28a111"
   },
   "outputs": [
    {
     "data": {
      "text/plain": [
       "{'As': 1,\n",
       " 'In': 2,\n",
       " 'acceptable': 1,\n",
       " 'and': 2,\n",
       " 'are': 1,\n",
       " 'be': 1,\n",
       " 'built-in': 1,\n",
       " 'can': 1,\n",
       " 'cases,': 1,\n",
       " 'dictionaries.': 1,\n",
       " 'dictionary': 1,\n",
       " 'different': 1,\n",
       " 'discussion': 1,\n",
       " 'fact,': 1,\n",
       " 'for': 1,\n",
       " 'have': 1,\n",
       " 'in': 1,\n",
       " 'invoked': 1,\n",
       " 'is': 1,\n",
       " 'it': 1,\n",
       " 'list': 1,\n",
       " 'lists,': 1,\n",
       " 'methods': 3,\n",
       " 'name.': 2,\n",
       " 'object-oriented': 1,\n",
       " 'on': 2,\n",
       " 'perfectly': 1,\n",
       " 'programming,': 1,\n",
       " 'same': 2,\n",
       " 'see': 1,\n",
       " 'several': 1,\n",
       " 'share': 1,\n",
       " 'some': 1,\n",
       " 'strings': 1,\n",
       " 'that': 2,\n",
       " 'the': 4,\n",
       " 'there': 1,\n",
       " 'to': 1,\n",
       " 'types': 1,\n",
       " 'will': 1,\n",
       " 'with': 2,\n",
       " 'you': 1}"
      ]
     },
     "execution_count": 56,
     "metadata": {
      "tags": []
     },
     "output_type": "execute_result"
    }
   ],
   "source": [
    "wordsss"
   ]
  },
  {
   "cell_type": "markdown",
   "metadata": {
    "colab_type": "text",
    "id": "V1ruj-kGd0Ng"
   },
   "source": [
    "# Defaultdict"
   ]
  },
  {
   "cell_type": "code",
   "execution_count": null,
   "metadata": {
    "colab": {},
    "colab_type": "code",
    "id": "0Bmn2ZOYd0Nh"
   },
   "outputs": [],
   "source": [
    "from collections import defaultdict"
   ]
  },
  {
   "cell_type": "code",
   "execution_count": null,
   "metadata": {
    "colab": {},
    "colab_type": "code",
    "id": "zQK3eDhrd0Np"
   },
   "outputs": [],
   "source": [
    "word_counts = defaultdict(int)\n",
    "for word in documents.split():\n",
    "    word_counts[word] += 1"
   ]
  },
  {
   "cell_type": "code",
   "execution_count": null,
   "metadata": {
    "colab": {
     "base_uri": "https://localhost:8080/"
    },
    "colab_type": "code",
    "id": "RlEFGOb2d0Nu",
    "outputId": "57016e62-a734-46a2-b2e6-a5d248aa3150"
   },
   "outputs": [
    {
     "data": {
      "text/plain": [
       "defaultdict(int,\n",
       "            {'As': 1,\n",
       "             'In': 2,\n",
       "             'acceptable': 1,\n",
       "             'and': 2,\n",
       "             'are': 1,\n",
       "             'be': 1,\n",
       "             'built-in': 1,\n",
       "             'can': 1,\n",
       "             'cases,': 1,\n",
       "             'dictionaries.': 1,\n",
       "             'dictionary': 1,\n",
       "             'different': 1,\n",
       "             'discussion': 1,\n",
       "             'fact,': 1,\n",
       "             'for': 1,\n",
       "             'have': 1,\n",
       "             'in': 1,\n",
       "             'invoked': 1,\n",
       "             'is': 1,\n",
       "             'it': 1,\n",
       "             'list': 1,\n",
       "             'lists,': 1,\n",
       "             'methods': 3,\n",
       "             'name.': 2,\n",
       "             'object-oriented': 1,\n",
       "             'on': 2,\n",
       "             'perfectly': 1,\n",
       "             'programming,': 1,\n",
       "             'same': 2,\n",
       "             'see': 1,\n",
       "             'several': 1,\n",
       "             'share': 1,\n",
       "             'some': 1,\n",
       "             'strings': 1,\n",
       "             'that': 2,\n",
       "             'the': 4,\n",
       "             'there': 1,\n",
       "             'to': 1,\n",
       "             'types': 1,\n",
       "             'will': 1,\n",
       "             'with': 2,\n",
       "             'you': 1})"
      ]
     },
     "execution_count": 59,
     "metadata": {
      "tags": []
     },
     "output_type": "execute_result"
    }
   ],
   "source": [
    "word_counts"
   ]
  },
  {
   "cell_type": "code",
   "execution_count": null,
   "metadata": {
    "colab": {},
    "colab_type": "code",
    "id": "Z8zSRZbld0N3"
   },
   "outputs": [],
   "source": [
    "dd_list = defaultdict(list)"
   ]
  },
  {
   "cell_type": "code",
   "execution_count": null,
   "metadata": {
    "colab": {},
    "colab_type": "code",
    "id": "XG9hBfpmd0OA"
   },
   "outputs": [],
   "source": [
    "dd_list[1].append(2)"
   ]
  },
  {
   "cell_type": "code",
   "execution_count": null,
   "metadata": {
    "colab": {
     "base_uri": "https://localhost:8080/"
    },
    "colab_type": "code",
    "id": "zQ5MxlH6d0OO",
    "outputId": "cb77bf16-6a56-4d8c-cc9b-541bd415b69c"
   },
   "outputs": [
    {
     "data": {
      "text/plain": [
       "defaultdict(list, {1: [2]})"
      ]
     },
     "execution_count": 62,
     "metadata": {
      "tags": []
     },
     "output_type": "execute_result"
    }
   ],
   "source": [
    "dd_list"
   ]
  },
  {
   "cell_type": "code",
   "execution_count": null,
   "metadata": {
    "colab": {},
    "colab_type": "code",
    "id": "NB_NxWGEd0OT"
   },
   "outputs": [],
   "source": [
    "dd_dict = defaultdict(dict)"
   ]
  },
  {
   "cell_type": "code",
   "execution_count": null,
   "metadata": {
    "colab": {},
    "colab_type": "code",
    "id": "bdkhdKSgd0OZ"
   },
   "outputs": [],
   "source": [
    "dd_dict[\"Lalkrishns\"][\"place\"] = \"Kozhikode\""
   ]
  },
  {
   "cell_type": "code",
   "execution_count": null,
   "metadata": {
    "colab": {
     "base_uri": "https://localhost:8080/"
    },
    "colab_type": "code",
    "id": "GXyPL_QKd0Oi",
    "outputId": "faa21419-fbb3-4079-bf81-83839e745e3b"
   },
   "outputs": [
    {
     "data": {
      "text/plain": [
       "defaultdict(dict, {'Lalkrishns': {'place': 'Kozhikode'}})"
      ]
     },
     "execution_count": 65,
     "metadata": {
      "tags": []
     },
     "output_type": "execute_result"
    }
   ],
   "source": [
    "dd_dict"
   ]
  },
  {
   "cell_type": "code",
   "execution_count": null,
   "metadata": {
    "colab": {},
    "colab_type": "code",
    "id": "7phMJAYkd0Oq"
   },
   "outputs": [],
   "source": [
    "word = defaultdict(int)"
   ]
  },
  {
   "cell_type": "code",
   "execution_count": null,
   "metadata": {
    "colab": {},
    "colab_type": "code",
    "id": "fvOab6kzd0O1"
   },
   "outputs": [],
   "source": [
    "word[1] = 3"
   ]
  },
  {
   "cell_type": "code",
   "execution_count": null,
   "metadata": {
    "colab": {
     "base_uri": "https://localhost:8080/"
    },
    "colab_type": "code",
    "id": "GDgXtwf7d0O9",
    "outputId": "b48ae417-23d2-4c5c-82df-4e95cef0c8a4"
   },
   "outputs": [
    {
     "data": {
      "text/plain": [
       "defaultdict(int, {1: 3})"
      ]
     },
     "execution_count": 68,
     "metadata": {
      "tags": []
     },
     "output_type": "execute_result"
    }
   ],
   "source": [
    "word"
   ]
  },
  {
   "cell_type": "code",
   "execution_count": null,
   "metadata": {
    "colab": {},
    "colab_type": "code",
    "id": "5a5rtUV2d0PE"
   },
   "outputs": [],
   "source": [
    "dd_pair = defaultdict(lambda: [0,0,0,0])"
   ]
  },
  {
   "cell_type": "code",
   "execution_count": null,
   "metadata": {
    "colab": {},
    "colab_type": "code",
    "id": "WE0jHwKPd0PL"
   },
   "outputs": [],
   "source": [
    "dd_pair[2][1] = 5"
   ]
  },
  {
   "cell_type": "code",
   "execution_count": null,
   "metadata": {
    "colab": {
     "base_uri": "https://localhost:8080/"
    },
    "colab_type": "code",
    "id": "T1QpH7Ncd0PR",
    "outputId": "69f6e524-f262-4ffc-8ca0-62f480b9d4e4"
   },
   "outputs": [
    {
     "data": {
      "text/plain": [
       "defaultdict(<function __main__.<lambda>>, {2: [0, 5, 0, 0]})"
      ]
     },
     "execution_count": 71,
     "metadata": {
      "tags": []
     },
     "output_type": "execute_result"
    }
   ],
   "source": [
    "dd_pair"
   ]
  },
  {
   "cell_type": "markdown",
   "metadata": {
    "colab_type": "text",
    "id": "1JKVFU0Pd0PX"
   },
   "source": [
    "# COUNTERs"
   ]
  },
  {
   "cell_type": "code",
   "execution_count": null,
   "metadata": {
    "colab": {},
    "colab_type": "code",
    "id": "6Os2AEFSd0PZ"
   },
   "outputs": [],
   "source": [
    "from collections import Counter"
   ]
  },
  {
   "cell_type": "code",
   "execution_count": null,
   "metadata": {
    "colab": {},
    "colab_type": "code",
    "id": "Q1Ye7D_Sd0Pl"
   },
   "outputs": [],
   "source": [
    "a = Counter([1,2,3,45,5,3,2,4,1])"
   ]
  },
  {
   "cell_type": "code",
   "execution_count": null,
   "metadata": {
    "colab": {
     "base_uri": "https://localhost:8080/"
    },
    "colab_type": "code",
    "id": "MWafhB2Id0Pw",
    "outputId": "edf990d4-5ef5-422f-fa5e-dc798f228adb"
   },
   "outputs": [
    {
     "data": {
      "text/plain": [
       "Counter({1: 2, 2: 2, 3: 2, 4: 1, 5: 1, 45: 1})"
      ]
     },
     "execution_count": 74,
     "metadata": {
      "tags": []
     },
     "output_type": "execute_result"
    }
   ],
   "source": [
    "a"
   ]
  },
  {
   "cell_type": "code",
   "execution_count": null,
   "metadata": {
    "colab": {},
    "colab_type": "code",
    "id": "mww8Z83cd0P3"
   },
   "outputs": [],
   "source": [
    "words_counts_ = Counter(documents.split())"
   ]
  },
  {
   "cell_type": "code",
   "execution_count": null,
   "metadata": {
    "colab": {
     "base_uri": "https://localhost:8080/"
    },
    "colab_type": "code",
    "id": "lmpi7n-Yd0P9",
    "outputId": "512f0e73-19b8-4769-c086-54c3686c35e9"
   },
   "outputs": [
    {
     "data": {
      "text/plain": [
       "Counter({'As': 1,\n",
       "         'In': 2,\n",
       "         'acceptable': 1,\n",
       "         'and': 2,\n",
       "         'are': 1,\n",
       "         'be': 1,\n",
       "         'built-in': 1,\n",
       "         'can': 1,\n",
       "         'cases,': 1,\n",
       "         'dictionaries.': 1,\n",
       "         'dictionary': 1,\n",
       "         'different': 1,\n",
       "         'discussion': 1,\n",
       "         'fact,': 1,\n",
       "         'for': 1,\n",
       "         'have': 1,\n",
       "         'in': 1,\n",
       "         'invoked': 1,\n",
       "         'is': 1,\n",
       "         'it': 1,\n",
       "         'list': 1,\n",
       "         'lists,': 1,\n",
       "         'methods': 3,\n",
       "         'name.': 2,\n",
       "         'object-oriented': 1,\n",
       "         'on': 2,\n",
       "         'perfectly': 1,\n",
       "         'programming,': 1,\n",
       "         'same': 2,\n",
       "         'see': 1,\n",
       "         'several': 1,\n",
       "         'share': 1,\n",
       "         'some': 1,\n",
       "         'strings': 1,\n",
       "         'that': 2,\n",
       "         'the': 4,\n",
       "         'there': 1,\n",
       "         'to': 1,\n",
       "         'types': 1,\n",
       "         'will': 1,\n",
       "         'with': 2,\n",
       "         'you': 1})"
      ]
     },
     "execution_count": 76,
     "metadata": {
      "tags": []
     },
     "output_type": "execute_result"
    }
   ],
   "source": [
    "words_counts_"
   ]
  },
  {
   "cell_type": "code",
   "execution_count": null,
   "metadata": {
    "colab": {
     "base_uri": "https://localhost:8080/"
    },
    "colab_type": "code",
    "id": "q0eunlxAd0QE",
    "outputId": "f39d158d-fbe9-4170-c1cb-99bd287278ee"
   },
   "outputs": [
    {
     "name": "stdout",
     "output_type": "stream",
     "text": [
      "the 4\n",
      "methods 3\n",
      "with 2\n",
      "and 2\n",
      "that 2\n",
      "on 2\n",
      "In 2\n",
      "same 2\n",
      "name. 2\n",
      "As 1\n"
     ]
    }
   ],
   "source": [
    "for word, count in words_counts_.most_common(10):\n",
    "    print(word, count)"
   ]
  },
  {
   "cell_type": "code",
   "execution_count": null,
   "metadata": {
    "colab": {},
    "colab_type": "code",
    "id": "awzTm-KLd0QJ"
   },
   "outputs": [],
   "source": [
    "stop = documents.split()\n",
    "s = set(stop)"
   ]
  },
  {
   "cell_type": "code",
   "execution_count": null,
   "metadata": {
    "colab": {
     "base_uri": "https://localhost:8080/"
    },
    "colab_type": "code",
    "id": "iXCPmRaPd0QP",
    "outputId": "6a836b65-9517-46c3-8ffd-e9c4787dc03f"
   },
   "outputs": [
    {
     "data": {
      "text/plain": [
       "True"
      ]
     },
     "execution_count": 79,
     "metadata": {
      "tags": []
     },
     "output_type": "execute_result"
    }
   ],
   "source": [
    "'the' in s"
   ]
  },
  {
   "cell_type": "code",
   "execution_count": null,
   "metadata": {
    "colab": {
     "base_uri": "https://localhost:8080/"
    },
    "colab_type": "code",
    "id": "hLos2peFd0QU",
    "outputId": "6837505e-0cb1-4cfe-aec1-486bb56d5ce6"
   },
   "outputs": [
    {
     "data": {
      "text/plain": [
       "10"
      ]
     },
     "execution_count": 80,
     "metadata": {
      "tags": []
     },
     "output_type": "execute_result"
    }
   ],
   "source": [
    "item_list = [1,2,3,4,1,3,4,2,2,1,]\n",
    "len(item_list)"
   ]
  },
  {
   "cell_type": "code",
   "execution_count": null,
   "metadata": {
    "colab": {},
    "colab_type": "code",
    "id": "KV8sMzSHd0Qg"
   },
   "outputs": [],
   "source": [
    "a = set(item_list)"
   ]
  },
  {
   "cell_type": "code",
   "execution_count": null,
   "metadata": {
    "colab": {
     "base_uri": "https://localhost:8080/"
    },
    "colab_type": "code",
    "id": "jv7oLbuad0Qm",
    "outputId": "0807e8e1-e031-405a-d913-e33a21f12f0e"
   },
   "outputs": [
    {
     "data": {
      "text/plain": [
       "4"
      ]
     },
     "execution_count": 82,
     "metadata": {
      "tags": []
     },
     "output_type": "execute_result"
    }
   ],
   "source": [
    "len(a)"
   ]
  },
  {
   "cell_type": "code",
   "execution_count": null,
   "metadata": {
    "colab": {
     "base_uri": "https://localhost:8080/"
    },
    "colab_type": "code",
    "id": "GJdH86jMd0Qu",
    "outputId": "afe607bb-322b-4df5-c5a8-33bdd8fbc10d"
   },
   "outputs": [
    {
     "data": {
      "text/plain": [
       "'even'"
      ]
     },
     "execution_count": 83,
     "metadata": {
      "tags": []
     },
     "output_type": "execute_result"
    }
   ],
   "source": [
    "parity = 'even' if 4 % 2 == 0 else \"odd\"\n",
    "parity"
   ]
  },
  {
   "cell_type": "markdown",
   "metadata": {
    "colab_type": "text",
    "id": "sxUwQHLbd0Q0"
   },
   "source": [
    "# Control flow"
   ]
  },
  {
   "cell_type": "code",
   "execution_count": null,
   "metadata": {
    "colab": {
     "base_uri": "https://localhost:8080/"
    },
    "colab_type": "code",
    "id": "4d6voZbWd0Q1",
    "outputId": "df330ffe-5c8f-4d37-9662-13fd74fecacb"
   },
   "outputs": [
    {
     "name": "stdout",
     "output_type": "stream",
     "text": [
      "0\n",
      "1\n",
      "2\n",
      "4\n"
     ]
    }
   ],
   "source": [
    "for x in range(10):\n",
    "    if x == 3:\n",
    "        continue\n",
    "    if x == 5:\n",
    "        break\n",
    "    print(x)"
   ]
  },
  {
   "cell_type": "code",
   "execution_count": null,
   "metadata": {
    "colab": {
     "base_uri": "https://localhost:8080/"
    },
    "colab_type": "code",
    "id": "OaZ8YTted0Q6",
    "outputId": "89f7bd6b-5d4b-4a65-c356-54597aa06cd2"
   },
   "outputs": [
    {
     "data": {
      "text/plain": [
       "False"
      ]
     },
     "execution_count": 85,
     "metadata": {
      "tags": []
     },
     "output_type": "execute_result"
    }
   ],
   "source": [
    "set() is None"
   ]
  },
  {
   "cell_type": "code",
   "execution_count": null,
   "metadata": {
    "colab": {
     "base_uri": "https://localhost:8080/"
    },
    "colab_type": "code",
    "id": "6GZGuUF4d0RA",
    "outputId": "0984ab08-d18e-492b-c0c8-bf1ab0e318ca"
   },
   "outputs": [
    {
     "name": "stdout",
     "output_type": "stream",
     "text": [
      "l\n"
     ]
    }
   ],
   "source": [
    "s = \"lalkrishna\"\n",
    "if s:\n",
    "    first_char = s[0]\n",
    "    print(first_char)\n",
    "else:\n",
    "    first_char = \"\"\n",
    "    print(first_char)"
   ]
  },
  {
   "cell_type": "code",
   "execution_count": null,
   "metadata": {
    "colab": {
     "base_uri": "https://localhost:8080/"
    },
    "colab_type": "code",
    "id": "VEAkNjRQd0RF",
    "outputId": "7d7ff522-b44a-44ef-d677-d0cd024edd1e"
   },
   "outputs": [
    {
     "name": "stdout",
     "output_type": "stream",
     "text": [
      "because of False\n"
     ]
    }
   ],
   "source": [
    "z = False\n",
    "if z:\n",
    "    print(\"because of True\")\n",
    "else:\n",
    "    print(\"because of False\")"
   ]
  },
  {
   "cell_type": "code",
   "execution_count": null,
   "metadata": {
    "colab": {},
    "colab_type": "code",
    "id": "j2kDlsoad0RL"
   },
   "outputs": [],
   "source": [
    "first_char = s and s[0]"
   ]
  },
  {
   "cell_type": "code",
   "execution_count": null,
   "metadata": {
    "colab": {
     "base_uri": "https://localhost:8080/"
    },
    "colab_type": "code",
    "id": "jJvrGdM3d0RP",
    "outputId": "7f162a9c-1d9e-4e97-d33e-2133eb1a80db"
   },
   "outputs": [
    {
     "name": "stdout",
     "output_type": "stream",
     "text": [
      "l\n"
     ]
    }
   ],
   "source": [
    "print(first_char)"
   ]
  },
  {
   "cell_type": "code",
   "execution_count": null,
   "metadata": {
    "colab": {
     "base_uri": "https://localhost:8080/"
    },
    "colab_type": "code",
    "id": "KNY3ECOMd0RU",
    "outputId": "7f91065e-e27d-4f57-b5bc-7d8f405f5767"
   },
   "outputs": [
    {
     "name": "stdout",
     "output_type": "stream",
     "text": [
      "False\n"
     ]
    }
   ],
   "source": [
    "a = z and False\n",
    "print(a)"
   ]
  },
  {
   "cell_type": "code",
   "execution_count": null,
   "metadata": {
    "colab": {
     "base_uri": "https://localhost:8080/"
    },
    "colab_type": "code",
    "id": "1ZzOMw3Rd0Rf",
    "outputId": "e103b033-c6fa-43e6-ec37-8a15e5d881ea"
   },
   "outputs": [
    {
     "name": "stdout",
     "output_type": "stream",
     "text": [
      "5\n"
     ]
    }
   ],
   "source": [
    "safe_x = x or 2\n",
    "print(safe_x)"
   ]
  },
  {
   "cell_type": "code",
   "execution_count": null,
   "metadata": {
    "colab": {
     "base_uri": "https://localhost:8080/"
    },
    "colab_type": "code",
    "id": "AOt5JKM6d0Rk",
    "outputId": "57973f67-e73a-49eb-c9f3-f3ca038b07ad"
   },
   "outputs": [
    {
     "data": {
      "text/plain": [
       "'okay'"
      ]
     },
     "execution_count": 92,
     "metadata": {
      "tags": []
     },
     "output_type": "execute_result"
    }
   ],
   "source": [
    "2%2==1 or \"okay\""
   ]
  },
  {
   "cell_type": "code",
   "execution_count": null,
   "metadata": {
    "colab": {
     "base_uri": "https://localhost:8080/"
    },
    "colab_type": "code",
    "id": "4avEoZqBd0Rq",
    "outputId": "01910b4a-4d50-4761-d5cf-84a4b2f0d4ea"
   },
   "outputs": [
    {
     "data": {
      "text/plain": [
       "False"
      ]
     },
     "execution_count": 93,
     "metadata": {
      "tags": []
     },
     "output_type": "execute_result"
    }
   ],
   "source": [
    "all([\"\", 4, 2, [3,3,5,2]])"
   ]
  },
  {
   "cell_type": "code",
   "execution_count": null,
   "metadata": {
    "colab": {
     "base_uri": "https://localhost:8080/"
    },
    "colab_type": "code",
    "id": "iSCXOy0cd0Rv",
    "outputId": "2903523c-79eb-4d85-a26a-da89d530593a"
   },
   "outputs": [
    {
     "data": {
      "text/plain": [
       "True"
      ]
     },
     "execution_count": 94,
     "metadata": {
      "tags": []
     },
     "output_type": "execute_result"
    }
   ],
   "source": [
    "all([])"
   ]
  },
  {
   "cell_type": "code",
   "execution_count": null,
   "metadata": {
    "colab": {
     "base_uri": "https://localhost:8080/"
    },
    "colab_type": "code",
    "id": "m6Q17Ot9d0R0",
    "outputId": "2f30d0ac-977b-4f4b-f264-082765d3ff11"
   },
   "outputs": [
    {
     "data": {
      "text/plain": [
       "False"
      ]
     },
     "execution_count": 95,
     "metadata": {
      "tags": []
     },
     "output_type": "execute_result"
    }
   ],
   "source": [
    "any([])"
   ]
  },
  {
   "cell_type": "code",
   "execution_count": null,
   "metadata": {
    "colab": {
     "base_uri": "https://localhost:8080/"
    },
    "colab_type": "code",
    "id": "nzyg50WTd0R5",
    "outputId": "52ca72ef-a5a0-4a9b-8d28-af88c6d682dd"
   },
   "outputs": [
    {
     "data": {
      "text/plain": [
       "False"
      ]
     },
     "execution_count": 96,
     "metadata": {
      "tags": []
     },
     "output_type": "execute_result"
    }
   ],
   "source": [
    "a = []\n",
    "a is True"
   ]
  },
  {
   "cell_type": "markdown",
   "metadata": {
    "colab_type": "text",
    "id": "oEmRTu6rd0SC"
   },
   "source": [
    "# Sorting"
   ]
  },
  {
   "cell_type": "code",
   "execution_count": null,
   "metadata": {
    "colab": {
     "base_uri": "https://localhost:8080/"
    },
    "colab_type": "code",
    "id": "XOJeEfoVd0SD",
    "outputId": "977717dd-da6e-47e6-f3fc-81419638ff65"
   },
   "outputs": [
    {
     "data": {
      "text/plain": [
       "['lalkrishna', 'cc', 'dd', 'ff', 'hi', 'arjun']"
      ]
     },
     "execution_count": 97,
     "metadata": {
      "tags": []
     },
     "output_type": "execute_result"
    }
   ],
   "source": [
    "x = [5,6,2,1,5,8,1]\n",
    "a = ['lalkrishna', 'arjun', 'hi', 'cc', 'dd', 'ff']\n",
    "sorted(a, key=lambda a: a[1])"
   ]
  },
  {
   "cell_type": "code",
   "execution_count": null,
   "metadata": {
    "colab": {
     "base_uri": "https://localhost:8080/"
    },
    "colab_type": "code",
    "id": "rydRXQYud0SJ",
    "outputId": "b89e9ace-0d55-43c7-cc6a-526824e2d0e7"
   },
   "outputs": [
    {
     "data": {
      "text/plain": [
       "[7, 9, 2, 4, 6]"
      ]
     },
     "execution_count": 98,
     "metadata": {
      "tags": []
     },
     "output_type": "execute_result"
    }
   ],
   "source": [
    "g = [2, 4, 6, 7, 9]\n",
    "sorted(g, key=lambda g: g%2==0)"
   ]
  },
  {
   "cell_type": "markdown",
   "metadata": {
    "colab_type": "text",
    "id": "AwnqPic2eLfd"
   },
   "source": [
    "# List Comprehensions\n"
   ]
  },
  {
   "cell_type": "code",
   "execution_count": null,
   "metadata": {
    "colab": {
     "base_uri": "https://localhost:8080/",
     "height": 33
    },
    "colab_type": "code",
    "id": "6SGnKIRQecl8",
    "outputId": "0c181b22-f04f-476e-ee1a-c5fb46028b0b"
   },
   "outputs": [
    {
     "name": "stdout",
     "output_type": "stream",
     "text": [
      "[0, 1, 4, 9, 16]\n"
     ]
    }
   ],
   "source": [
    "squares = [\n",
    "           x*x\n",
    "           for x in range(5)\n",
    "]\n",
    "print(squares)"
   ]
  },
  {
   "cell_type": "code",
   "execution_count": null,
   "metadata": {
    "colab": {
     "base_uri": "https://localhost:8080/",
     "height": 33
    },
    "colab_type": "code",
    "id": "4rtN1tzJeShn",
    "outputId": "933eff8b-5458-49ce-b718-67d996705682"
   },
   "outputs": [
    {
     "name": "stdout",
     "output_type": "stream",
     "text": [
      "[0, 2, 4]\n"
     ]
    }
   ],
   "source": [
    "even_number = [\n",
    "               x\n",
    "               for x in range(5)\n",
    "               if x % 2 == 0\n",
    "]\n",
    "print(even_number)"
   ]
  },
  {
   "cell_type": "code",
   "execution_count": null,
   "metadata": {
    "colab": {},
    "colab_type": "code",
    "id": "A-HglDFvesoE"
   },
   "outputs": [],
   "source": [
    "even_squares = [\n",
    "                x*x\n",
    "                for x in even_number\n",
    "]"
   ]
  },
  {
   "cell_type": "code",
   "execution_count": null,
   "metadata": {
    "colab": {
     "base_uri": "https://localhost:8080/",
     "height": 33
    },
    "colab_type": "code",
    "id": "bbunvh57e10y",
    "outputId": "6e88b100-95f0-4065-b2b5-ad8d32dff0b5"
   },
   "outputs": [
    {
     "data": {
      "text/plain": [
       "[0, 4, 16]"
      ]
     },
     "execution_count": 102,
     "metadata": {
      "tags": []
     },
     "output_type": "execute_result"
    }
   ],
   "source": [
    "even_squares"
   ]
  },
  {
   "cell_type": "code",
   "execution_count": null,
   "metadata": {
    "colab": {
     "base_uri": "https://localhost:8080/",
     "height": 33
    },
    "colab_type": "code",
    "id": "r7p9m4Tce3Nn",
    "outputId": "909a0a2f-8afc-439b-83bb-fe01b347decd"
   },
   "outputs": [
    {
     "name": "stdout",
     "output_type": "stream",
     "text": [
      "{0: 0, 1: 1, 2: 4, 3: 9, 4: 16}\n"
     ]
    }
   ],
   "source": [
    "square_dict = {\n",
    "    x: x*x\n",
    "    for x in range(5)\n",
    "}\n",
    "print(square_dict)"
   ]
  },
  {
   "cell_type": "code",
   "execution_count": null,
   "metadata": {
    "colab": {},
    "colab_type": "code",
    "id": "iOI_8P0jfICr"
   },
   "outputs": [],
   "source": [
    "square_set = {\n",
    "    x*x\n",
    "    for x in [1, -1]\n",
    "}"
   ]
  },
  {
   "cell_type": "code",
   "execution_count": null,
   "metadata": {
    "colab": {
     "base_uri": "https://localhost:8080/",
     "height": 33
    },
    "colab_type": "code",
    "id": "sgTq5Gg1fSO6",
    "outputId": "bab81c52-3ce0-45dd-c6c0-1c9e3d46400b"
   },
   "outputs": [
    {
     "name": "stdout",
     "output_type": "stream",
     "text": [
      "{1}\n"
     ]
    }
   ],
   "source": [
    "print(square_set)"
   ]
  },
  {
   "cell_type": "code",
   "execution_count": null,
   "metadata": {
    "colab": {},
    "colab_type": "code",
    "id": "KZKOySjjfUcu"
   },
   "outputs": [],
   "source": [
    "zeros = [0 for _ in range(5)]"
   ]
  },
  {
   "cell_type": "code",
   "execution_count": null,
   "metadata": {
    "colab": {
     "base_uri": "https://localhost:8080/",
     "height": 33
    },
    "colab_type": "code",
    "id": "vY5v9SzffkQ2",
    "outputId": "2ef6045d-767f-4d4b-dd35-4fe3b30f8525"
   },
   "outputs": [
    {
     "name": "stdout",
     "output_type": "stream",
     "text": [
      "[0, 0, 0, 0, 0]\n"
     ]
    }
   ],
   "source": [
    "print(zeros)"
   ]
  },
  {
   "cell_type": "code",
   "execution_count": null,
   "metadata": {
    "colab": {
     "base_uri": "https://localhost:8080/",
     "height": 53
    },
    "colab_type": "code",
    "id": "HE3AWYsiflXO",
    "outputId": "0a0a1b37-d69b-438b-c77d-b746f936afa0"
   },
   "outputs": [
    {
     "name": "stdout",
     "output_type": "stream",
     "text": [
      "[(0, 0), (0, 1), (0, 2), (0, 3), (0, 4), (0, 5), (0, 6), (0, 7), (0, 8), (0, 9), (1, 0), (1, 1), (1, 2), (1, 3), (1, 4), (1, 5), (1, 6), (1, 7), (1, 8), (1, 9), (2, 0), (2, 1), (2, 2), (2, 3), (2, 4), (2, 5), (2, 6), (2, 7), (2, 8), (2, 9), (3, 0), (3, 1), (3, 2), (3, 3), (3, 4), (3, 5), (3, 6), (3, 7), (3, 8), (3, 9), (4, 0), (4, 1), (4, 2), (4, 3), (4, 4), (4, 5), (4, 6), (4, 7), (4, 8), (4, 9), (5, 0), (5, 1), (5, 2), (5, 3), (5, 4), (5, 5), (5, 6), (5, 7), (5, 8), (5, 9), (6, 0), (6, 1), (6, 2), (6, 3), (6, 4), (6, 5), (6, 6), (6, 7), (6, 8), (6, 9), (7, 0), (7, 1), (7, 2), (7, 3), (7, 4), (7, 5), (7, 6), (7, 7), (7, 8), (7, 9), (8, 0), (8, 1), (8, 2), (8, 3), (8, 4), (8, 5), (8, 6), (8, 7), (8, 8), (8, 9), (9, 0), (9, 1), (9, 2), (9, 3), (9, 4), (9, 5), (9, 6), (9, 7), (9, 8), (9, 9)]\n"
     ]
    }
   ],
   "source": [
    "pairs = [\n",
    "         (x,y)\n",
    "         for x in range(10)\n",
    "         for y in range(10)\n",
    "]\n",
    "print(pairs)"
   ]
  },
  {
   "cell_type": "code",
   "execution_count": null,
   "metadata": {
    "colab": {
     "base_uri": "https://localhost:8080/",
     "height": 53
    },
    "colab_type": "code",
    "id": "-dveyCwGf3Sl",
    "outputId": "b6e703e2-1efd-4d70-d7a3-8f7c49c2395f"
   },
   "outputs": [
    {
     "name": "stdout",
     "output_type": "stream",
     "text": [
      "[(0, 1), (0, 2), (0, 3), (0, 4), (0, 5), (0, 6), (0, 7), (0, 8), (0, 9), (1, 2), (1, 3), (1, 4), (1, 5), (1, 6), (1, 7), (1, 8), (1, 9), (2, 3), (2, 4), (2, 5), (2, 6), (2, 7), (2, 8), (2, 9), (3, 4), (3, 5), (3, 6), (3, 7), (3, 8), (3, 9), (4, 5), (4, 6), (4, 7), (4, 8), (4, 9), (5, 6), (5, 7), (5, 8), (5, 9), (6, 7), (6, 8), (6, 9), (7, 8), (7, 9), (8, 9)]\n"
     ]
    }
   ],
   "source": [
    "increasing_pairs = [\n",
    "                    (x, y)\n",
    "                    for x in range(10)\n",
    "                    for y in range(x+1, 10)\n",
    "]\n",
    "print(increasing_pairs)"
   ]
  },
  {
   "cell_type": "code",
   "execution_count": null,
   "metadata": {
    "colab": {
     "base_uri": "https://localhost:8080/",
     "height": 33
    },
    "colab_type": "code",
    "id": "uHKF-JjIgKzM",
    "outputId": "0d6c69a3-606b-42be-d2a4-56dd32234235"
   },
   "outputs": [
    {
     "name": "stdout",
     "output_type": "stream",
     "text": [
      "Counter({6: 2, 7: 2, 1: 1, 2: 1, 3: 1, 4: 1, 5: 1})\n"
     ]
    }
   ],
   "source": [
    "num_list = [1,2,3,4,5,6,6,7,7]\n",
    "e = Counter(num_list)\n",
    "print(e)"
   ]
  },
  {
   "cell_type": "code",
   "execution_count": null,
   "metadata": {
    "colab": {
     "base_uri": "https://localhost:8080/",
     "height": 33
    },
    "colab_type": "code",
    "id": "CXoM5y7yhmMb",
    "outputId": "2382bdf4-6b85-402c-c7a3-d647fd5a125d"
   },
   "outputs": [
    {
     "name": "stdout",
     "output_type": "stream",
     "text": [
      "defaultdict(<class 'int'>, {1: 1, 2: 1, 3: 1, 4: 1, 5: 1, 6: 2, 7: 2})\n"
     ]
    }
   ],
   "source": [
    "ee = defaultdict(int)\n",
    "for n in num_list:\n",
    "  ee[n] += 1\n",
    "\n",
    "print(ee)"
   ]
  },
  {
   "cell_type": "markdown",
   "metadata": {
    "colab_type": "text",
    "id": "H99-QGkgBHdj"
   },
   "source": [
    "# Automated testing and assert"
   ]
  },
  {
   "cell_type": "code",
   "execution_count": 151,
   "metadata": {
    "colab": {
     "base_uri": "https://localhost:8080/",
     "height": 333
    },
    "colab_type": "code",
    "id": "gYaoEO69Bcfk",
    "outputId": "a91a5f2f-d741-47fb-8f51-8f1d2eb05616"
   },
   "outputs": [
    {
     "ename": "AssertionError",
     "evalue": "ignored",
     "output_type": "error",
     "traceback": [
      "\u001b[0;31m---------------------------------------------------------------------------\u001b[0m",
      "\u001b[0;31mAssertionError\u001b[0m                            Traceback (most recent call last)",
      "\u001b[0;32m<ipython-input-151-9589b10dda26>\u001b[0m in \u001b[0;36m<module>\u001b[0;34m()\u001b[0m\n\u001b[1;32m      2\u001b[0m   \u001b[0;32mreturn\u001b[0m \u001b[0mmin\u001b[0m\u001b[0;34m(\u001b[0m\u001b[0mxs\u001b[0m\u001b[0;34m)\u001b[0m\u001b[0;34m\u001b[0m\u001b[0;34m\u001b[0m\u001b[0m\n\u001b[1;32m      3\u001b[0m \u001b[0;34m\u001b[0m\u001b[0m\n\u001b[0;32m----> 4\u001b[0;31m \u001b[0;32massert\u001b[0m \u001b[0msmall_items\u001b[0m\u001b[0;34m(\u001b[0m\u001b[0;34m[\u001b[0m\u001b[0;36m10\u001b[0m\u001b[0;34m,\u001b[0m\u001b[0;36m20\u001b[0m\u001b[0;34m,\u001b[0m\u001b[0;36m30\u001b[0m\u001b[0;34m,\u001b[0m\u001b[0;36m40\u001b[0m\u001b[0;34m,\u001b[0m\u001b[0;36m50\u001b[0m\u001b[0;34m]\u001b[0m\u001b[0;34m)\u001b[0m \u001b[0;34m==\u001b[0m \u001b[0;34m-\u001b[0m\u001b[0;36m1\u001b[0m\u001b[0;34m\u001b[0m\u001b[0;34m\u001b[0m\u001b[0m\n\u001b[0m\u001b[1;32m      5\u001b[0m \u001b[0;34m\u001b[0m\u001b[0m\n",
      "\u001b[0;31mAssertionError\u001b[0m: "
     ]
    }
   ],
   "source": [
    "def small_items(xs):\n",
    "  return min(xs)\n",
    "\n",
    "assert small_items([10,20,30,40,50]) == -1"
   ]
  },
  {
   "cell_type": "code",
   "execution_count": 1,
   "metadata": {
    "colab": {
     "base_uri": "https://localhost:8080/",
     "height": 496
    },
    "colab_type": "code",
    "id": "rf9SWvadC_W_",
    "outputId": "91384730-213b-41e7-b062-da68db836c40"
   },
   "outputs": [
    {
     "ename": "AssertionError",
     "evalue": "empty list",
     "output_type": "error",
     "traceback": [
      "\u001b[1;31m---------------------------------------------------------------------------\u001b[0m",
      "\u001b[1;31mAssertionError\u001b[0m                            Traceback (most recent call last)",
      "\u001b[1;32m<ipython-input-1-0a4c36fdc6a3>\u001b[0m in \u001b[0;36m<module>\u001b[1;34m\u001b[0m\n\u001b[0;32m      3\u001b[0m   \u001b[1;32mreturn\u001b[0m \u001b[0mmin\u001b[0m\u001b[1;33m(\u001b[0m\u001b[0mxs\u001b[0m\u001b[1;33m)\u001b[0m\u001b[1;33m\u001b[0m\u001b[1;33m\u001b[0m\u001b[0m\n\u001b[0;32m      4\u001b[0m \u001b[1;33m\u001b[0m\u001b[0m\n\u001b[1;32m----> 5\u001b[1;33m \u001b[0msmallest_item\u001b[0m\u001b[1;33m(\u001b[0m\u001b[1;33m[\u001b[0m\u001b[1;33m]\u001b[0m\u001b[1;33m)\u001b[0m\u001b[1;33m\u001b[0m\u001b[1;33m\u001b[0m\u001b[0m\n\u001b[0m",
      "\u001b[1;32m<ipython-input-1-0a4c36fdc6a3>\u001b[0m in \u001b[0;36msmallest_item\u001b[1;34m(xs)\u001b[0m\n\u001b[0;32m      1\u001b[0m \u001b[1;32mdef\u001b[0m \u001b[0msmallest_item\u001b[0m\u001b[1;33m(\u001b[0m\u001b[0mxs\u001b[0m\u001b[1;33m)\u001b[0m\u001b[1;33m:\u001b[0m\u001b[1;33m\u001b[0m\u001b[1;33m\u001b[0m\u001b[0m\n\u001b[1;32m----> 2\u001b[1;33m   \u001b[1;32massert\u001b[0m \u001b[0mxs\u001b[0m\u001b[1;33m,\u001b[0m \u001b[1;34m\"empty list\"\u001b[0m\u001b[1;33m\u001b[0m\u001b[1;33m\u001b[0m\u001b[0m\n\u001b[0m\u001b[0;32m      3\u001b[0m   \u001b[1;32mreturn\u001b[0m \u001b[0mmin\u001b[0m\u001b[1;33m(\u001b[0m\u001b[0mxs\u001b[0m\u001b[1;33m)\u001b[0m\u001b[1;33m\u001b[0m\u001b[1;33m\u001b[0m\u001b[0m\n\u001b[0;32m      4\u001b[0m \u001b[1;33m\u001b[0m\u001b[0m\n\u001b[0;32m      5\u001b[0m \u001b[0msmallest_item\u001b[0m\u001b[1;33m(\u001b[0m\u001b[1;33m[\u001b[0m\u001b[1;33m]\u001b[0m\u001b[1;33m)\u001b[0m\u001b[1;33m\u001b[0m\u001b[1;33m\u001b[0m\u001b[0m\n",
      "\u001b[1;31mAssertionError\u001b[0m: empty list"
     ]
    }
   ],
   "source": [
    "def smallest_item(xs):\n",
    "  assert xs, \"empty list\"\n",
    "  return min(xs)\n",
    "\n",
    "smallest_item([])"
   ]
  },
  {
   "cell_type": "markdown",
   "metadata": {},
   "source": [
    "# Object-Oriented Programming\n"
   ]
  },
  {
   "cell_type": "code",
   "execution_count": 11,
   "metadata": {},
   "outputs": [],
   "source": [
    "class CountingClicker:\n",
    "    def __init__(self, count=0):\n",
    "        self.count = count\n",
    "    \n",
    "    \n",
    "    def __repr__(self):\n",
    "        return \n",
    "        f\"CountingClicker (count={self.count})\"\n",
    "        \n",
    "        \n",
    "    def click(self, num_times = 1):\n",
    "        self.count += num_times\n",
    "\n",
    "    \n",
    "    def read(self):\n",
    "        return self.count\n",
    "    \n",
    "    \n",
    "    def reset(self):\n",
    "        self.count=0\n",
    "        \n"
   ]
  },
  {
   "cell_type": "code",
   "execution_count": 9,
   "metadata": {},
   "outputs": [],
   "source": [
    "clicker = CountingClicker()\n",
    "assert clicker.read() == 0, \"clicker should start with count 0\"\n",
    "clicker.click()\n",
    "clicker.click()\n",
    "assert clicker.read() == 2, \"after two clicks, clicker should have count 2\"\n",
    "clicker.reset()\n",
    "assert clicker.read() == 0, \"after reset, clicker should be back to 0\""
   ]
  },
  {
   "cell_type": "code",
   "execution_count": 13,
   "metadata": {},
   "outputs": [
    {
     "ename": "AttributeError",
     "evalue": "'NoneType' object has no attribute 'read'",
     "output_type": "error",
     "traceback": [
      "\u001b[1;31m---------------------------------------------------------------------------\u001b[0m",
      "\u001b[1;31mAttributeError\u001b[0m                            Traceback (most recent call last)",
      "\u001b[1;32m<ipython-input-13-385977c06476>\u001b[0m in \u001b[0;36m<module>\u001b[1;34m\u001b[0m\n\u001b[0;32m      5\u001b[0m \u001b[0mclicker2\u001b[0m \u001b[1;33m=\u001b[0m \u001b[0mNoRestClicker\u001b[0m\u001b[1;33m(\u001b[0m\u001b[1;33m)\u001b[0m\u001b[1;33m\u001b[0m\u001b[1;33m\u001b[0m\u001b[0m\n\u001b[0;32m      6\u001b[0m \u001b[1;32massert\u001b[0m \u001b[0mclicker2\u001b[0m\u001b[1;33m.\u001b[0m\u001b[0mread\u001b[0m\u001b[1;33m(\u001b[0m\u001b[1;33m)\u001b[0m \u001b[1;33m==\u001b[0m \u001b[1;36m0\u001b[0m\u001b[1;33m\u001b[0m\u001b[1;33m\u001b[0m\u001b[0m\n\u001b[1;32m----> 7\u001b[1;33m \u001b[0mclicker2\u001b[0m\u001b[1;33m.\u001b[0m\u001b[0mclick\u001b[0m\u001b[1;33m(\u001b[0m\u001b[1;33m)\u001b[0m\u001b[1;33m.\u001b[0m\u001b[0mread\u001b[0m\u001b[1;33m(\u001b[0m\u001b[1;33m)\u001b[0m \u001b[1;33m==\u001b[0m \u001b[1;36m1\u001b[0m\u001b[1;33m\u001b[0m\u001b[1;33m\u001b[0m\u001b[0m\n\u001b[0m\u001b[0;32m      8\u001b[0m \u001b[1;32massert\u001b[0m \u001b[0mclicker2\u001b[0m\u001b[1;33m.\u001b[0m\u001b[0mread\u001b[0m\u001b[1;33m(\u001b[0m\u001b[1;33m)\u001b[0m \u001b[1;33m==\u001b[0m \u001b[1;36m1\u001b[0m\u001b[1;33m\u001b[0m\u001b[1;33m\u001b[0m\u001b[0m\n\u001b[0;32m      9\u001b[0m \u001b[0mclicker2\u001b[0m\u001b[1;33m.\u001b[0m\u001b[0mreset\u001b[0m\u001b[1;33m(\u001b[0m\u001b[1;33m)\u001b[0m\u001b[1;33m\u001b[0m\u001b[1;33m\u001b[0m\u001b[0m\n",
      "\u001b[1;31mAttributeError\u001b[0m: 'NoneType' object has no attribute 'read'"
     ]
    }
   ],
   "source": [
    "class NoRestClicker(CountingClicker):\n",
    "    def reset(self):\n",
    "        pass\n",
    "    \n",
    "clicker2 = NoRestClicker() \n",
    "assert clicker2.read() == 0\n",
    "clicker2.click().read() == 1\n",
    "assert clicker2.read() == 1\n",
    "clicker2.reset()\n",
    "assert clicker2.read() ==  1, \"Reset shouldnt do anything\""
   ]
  },
  {
   "cell_type": "code",
   "execution_count": null,
   "metadata": {},
   "outputs": [],
   "source": []
  }
 ],
 "metadata": {
  "colab": {
   "name": "CrashCoursePython.ipynb",
   "provenance": []
  },
  "kernelspec": {
   "display_name": "Python 3",
   "language": "python",
   "name": "python3"
  },
  "language_info": {
   "codemirror_mode": {
    "name": "ipython",
    "version": 3
   },
   "file_extension": ".py",
   "mimetype": "text/x-python",
   "name": "python",
   "nbconvert_exporter": "python",
   "pygments_lexer": "ipython3",
   "version": "3.8.2"
  }
 },
 "nbformat": 4,
 "nbformat_minor": 4
}
