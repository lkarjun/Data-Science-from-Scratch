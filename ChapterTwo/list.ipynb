{
 "cells": [
  {
   "cell_type": "code",
   "execution_count": null,
   "metadata": {},
   "outputs": [],
   "source": [
    "\n",
    "\n",
    "#list\n",
    "\n"
   ]
  },
  {
   "cell_type": "code",
   "execution_count": 2,
   "metadata": {},
   "outputs": [
    {
     "name": "stdout",
     "output_type": "stream",
     "text": [
      "[0, 1, 2, 3, 4, 5, 6, 7, 8, 9]\n"
     ]
    }
   ],
   "source": [
    "x = [0, 1, 2, 3, 4, 5, 6, 7, 8, 9]\n",
    "\n",
    "print(x)"
   ]
  },
  {
   "cell_type": "code",
   "execution_count": 4,
   "metadata": {},
   "outputs": [
    {
     "data": {
      "text/plain": [
       "[0, 1, 2]"
      ]
     },
     "execution_count": 4,
     "metadata": {},
     "output_type": "execute_result"
    }
   ],
   "source": [
    "x[:3]"
   ]
  },
  {
   "cell_type": "code",
   "execution_count": 5,
   "metadata": {},
   "outputs": [
    {
     "data": {
      "text/plain": [
       "[]"
      ]
     },
     "execution_count": 5,
     "metadata": {},
     "output_type": "execute_result"
    }
   ],
   "source": [
    "x[:0]"
   ]
  },
  {
   "cell_type": "code",
   "execution_count": 7,
   "metadata": {},
   "outputs": [
    {
     "data": {
      "text/plain": [
       "[0, 1, 2, 3, 4, 5, 6, 7, 8]"
      ]
     },
     "execution_count": 7,
     "metadata": {},
     "output_type": "execute_result"
    }
   ],
   "source": [
    "x[:-1]"
   ]
  },
  {
   "cell_type": "code",
   "execution_count": 9,
   "metadata": {},
   "outputs": [
    {
     "data": {
      "text/plain": [
       "[0, 1, 2]"
      ]
     },
     "execution_count": 9,
     "metadata": {},
     "output_type": "execute_result"
    }
   ],
   "source": [
    "x[:3:1]"
   ]
  },
  {
   "cell_type": "code",
   "execution_count": 11,
   "metadata": {},
   "outputs": [
    {
     "data": {
      "text/plain": [
       "[9, 8, 7, 6, 5, 4]"
      ]
     },
     "execution_count": 11,
     "metadata": {},
     "output_type": "execute_result"
    }
   ],
   "source": [
    "x[:3:-1]"
   ]
  },
  {
   "cell_type": "code",
   "execution_count": 14,
   "metadata": {},
   "outputs": [
    {
     "data": {
      "text/plain": [
       "[9, 8, 7, 6, 5, 4]"
      ]
     },
     "execution_count": 14,
     "metadata": {},
     "output_type": "execute_result"
    }
   ],
   "source": [
    "x[:3:-1]"
   ]
  },
  {
   "cell_type": "code",
   "execution_count": 17,
   "metadata": {},
   "outputs": [
    {
     "data": {
      "text/plain": [
       "[0, 1, 2]"
      ]
     },
     "execution_count": 17,
     "metadata": {},
     "output_type": "execute_result"
    }
   ],
   "source": [
    "x[:3:1]"
   ]
  },
  {
   "cell_type": "code",
   "execution_count": 19,
   "metadata": {},
   "outputs": [
    {
     "data": {
      "text/plain": [
       "[0, 2, 4, 6, 8]"
      ]
     },
     "execution_count": 19,
     "metadata": {},
     "output_type": "execute_result"
    }
   ],
   "source": [
    "x[::2]"
   ]
  },
  {
   "cell_type": "code",
   "execution_count": 20,
   "metadata": {},
   "outputs": [
    {
     "data": {
      "text/plain": [
       "[9, 7, 5, 3, 1]"
      ]
     },
     "execution_count": 20,
     "metadata": {},
     "output_type": "execute_result"
    }
   ],
   "source": [
    "x[::-2]"
   ]
  },
  {
   "cell_type": "code",
   "execution_count": 21,
   "metadata": {},
   "outputs": [
    {
     "data": {
      "text/plain": [
       "[0, 1, 2, 3, 4, 5, 6, 7, 8, 9]"
      ]
     },
     "execution_count": 21,
     "metadata": {},
     "output_type": "execute_result"
    }
   ],
   "source": [
    "x[:]"
   ]
  },
  {
   "cell_type": "code",
   "execution_count": 27,
   "metadata": {},
   "outputs": [
    {
     "data": {
      "text/plain": [
       "[2, 0]"
      ]
     },
     "execution_count": 27,
     "metadata": {},
     "output_type": "execute_result"
    }
   ],
   "source": [
    "x[2::-2]"
   ]
  },
  {
   "cell_type": "code",
   "execution_count": 29,
   "metadata": {},
   "outputs": [],
   "source": [
    "a = [1,2,3]\n",
    "x.extend(a)"
   ]
  },
  {
   "cell_type": "code",
   "execution_count": 31,
   "metadata": {},
   "outputs": [
    {
     "data": {
      "text/plain": [
       "[0, 1, 2, 3, 4, 5, 6, 7, 8, 9, 1, 2, 3, 1, 2, 3]"
      ]
     },
     "execution_count": 31,
     "metadata": {},
     "output_type": "execute_result"
    }
   ],
   "source": [
    "x"
   ]
  },
  {
   "cell_type": "code",
   "execution_count": 40,
   "metadata": {},
   "outputs": [],
   "source": [
    "g= [i \n",
    "    for i in x\n",
    "    if i%2==0\n",
    "   ]"
   ]
  },
  {
   "cell_type": "code",
   "execution_count": 45,
   "metadata": {},
   "outputs": [],
   "source": [
    "x, y = [1, 2]"
   ]
  },
  {
   "cell_type": "markdown",
   "metadata": {},
   "source": [
    "Tuples"
   ]
  },
  {
   "cell_type": "code",
   "execution_count": 47,
   "metadata": {},
   "outputs": [],
   "source": [
    "def sum_and_product(x, y):\n",
    "    return (x+y), (x*y)"
   ]
  },
  {
   "cell_type": "code",
   "execution_count": null,
   "metadata": {},
   "outputs": [],
   "source": [
    "sp = sum_and_product(4,5)\n",
    "print(sp)\n",
    "s, p = sum_and_product(4,5)\n",
    "print(f's is : {s} p is : {p}')"
   ]
  },
  {
   "cell_type": "markdown",
   "metadata": {},
   "source": [
    "\n",
    "dictionaries\n"
   ]
  },
  {
   "cell_type": "code",
   "execution_count": 54,
   "metadata": {},
   "outputs": [
    {
     "data": {
      "text/plain": [
       "80"
      ]
     },
     "execution_count": 54,
     "metadata": {},
     "output_type": "execute_result"
    }
   ],
   "source": [
    "grades = {\"Joel\": 80, \"Tim\": 95}\n",
    "grades['Joel']"
   ]
  },
  {
   "cell_type": "code",
   "execution_count": 56,
   "metadata": {},
   "outputs": [
    {
     "data": {
      "text/plain": [
       "False"
      ]
     },
     "execution_count": 56,
     "metadata": {},
     "output_type": "execute_result"
    }
   ],
   "source": [
    "\"joel\" in grades"
   ]
  },
  {
   "cell_type": "code",
   "execution_count": 59,
   "metadata": {},
   "outputs": [
    {
     "data": {
      "text/plain": [
       "True"
      ]
     },
     "execution_count": 59,
     "metadata": {},
     "output_type": "execute_result"
    }
   ],
   "source": [
    "\"Joel\" in grades"
   ]
  },
  {
   "cell_type": "code",
   "execution_count": 71,
   "metadata": {},
   "outputs": [
    {
     "data": {
      "text/plain": [
       "80"
      ]
     },
     "execution_count": 71,
     "metadata": {},
     "output_type": "execute_result"
    }
   ],
   "source": [
    "grades.get(\"Joel\", 0)"
   ]
  },
  {
   "cell_type": "code",
   "execution_count": 74,
   "metadata": {},
   "outputs": [],
   "source": [
    "grades[\"Tim\"] = 99"
   ]
  },
  {
   "cell_type": "code",
   "execution_count": 77,
   "metadata": {},
   "outputs": [],
   "source": [
    "grades[\"Kate\"] = 100"
   ]
  },
  {
   "cell_type": "raw",
   "metadata": {},
   "source": [
    "len(grades)"
   ]
  },
  {
   "cell_type": "code",
   "execution_count": 80,
   "metadata": {},
   "outputs": [
    {
     "data": {
      "text/plain": [
       "{'Joel': 80, 'Tim': 99, 'Kate': 100}"
      ]
     },
     "execution_count": 80,
     "metadata": {},
     "output_type": "execute_result"
    }
   ],
   "source": [
    "grades"
   ]
  },
  {
   "cell_type": "code",
   "execution_count": 83,
   "metadata": {},
   "outputs": [],
   "source": [
    "tweet = {\"user\" : \"joelgrus\",\n",
    "         \"text\" : \"Data Science is Awesome\",\n",
    "         \"retweet_count\" : 100,\n",
    "         \"hashtags\" : [\"#data\", \"#science\", \"#datascience\", \"#awesome\", \"#yolo\"] }"
   ]
  },
  {
   "cell_type": "code",
   "execution_count": 88,
   "metadata": {},
   "outputs": [],
   "source": [
    "tweet_keys = tweet.keys()\n",
    "tweet_values = tweet.values()\n",
    "tweet_items = tweet.items()"
   ]
  },
  {
   "cell_type": "code",
   "execution_count": 91,
   "metadata": {},
   "outputs": [
    {
     "data": {
      "text/plain": [
       "True"
      ]
     },
     "execution_count": 91,
     "metadata": {},
     "output_type": "execute_result"
    }
   ],
   "source": [
    "\"user\" in tweet_keys\n",
    "100 in tweet_values"
   ]
  },
  {
   "cell_type": "markdown",
   "metadata": {},
   "source": [
    "###################################################################################"
   ]
  },
  {
   "cell_type": "code",
   "execution_count": 107,
   "metadata": {},
   "outputs": [],
   "source": [
    "documents = \"As with strings and lists, there are several built-in methods that can be invoked on dictionaries. In fact, in some cases, the list and dictionary methods share the same name. In the discussion on object-oriented programming, you will see that it is perfectly acceptable for different types to have methods with the same name.\""
   ]
  },
  {
   "cell_type": "code",
   "execution_count": 108,
   "metadata": {},
   "outputs": [],
   "source": [
    "words_count = {}\n",
    "for word in documents.split():\n",
    "    if word in words_count:\n",
    "        words_count[word] += 1\n",
    "    else:\n",
    "        words_count[word] = 1"
   ]
  },
  {
   "cell_type": "code",
   "execution_count": 109,
   "metadata": {},
   "outputs": [
    {
     "data": {
      "text/plain": [
       "{'As': 1,\n",
       " 'with': 2,\n",
       " 'strings': 1,\n",
       " 'and': 2,\n",
       " 'lists,': 1,\n",
       " 'there': 1,\n",
       " 'are': 1,\n",
       " 'several': 1,\n",
       " 'built-in': 1,\n",
       " 'methods': 3,\n",
       " 'that': 2,\n",
       " 'can': 1,\n",
       " 'be': 1,\n",
       " 'invoked': 1,\n",
       " 'on': 2,\n",
       " 'dictionaries.': 1,\n",
       " 'In': 2,\n",
       " 'fact,': 1,\n",
       " 'in': 1,\n",
       " 'some': 1,\n",
       " 'cases,': 1,\n",
       " 'the': 4,\n",
       " 'list': 1,\n",
       " 'dictionary': 1,\n",
       " 'share': 1,\n",
       " 'same': 2,\n",
       " 'name.': 2,\n",
       " 'discussion': 1,\n",
       " 'object-oriented': 1,\n",
       " 'programming,': 1,\n",
       " 'you': 1,\n",
       " 'will': 1,\n",
       " 'see': 1,\n",
       " 'it': 1,\n",
       " 'is': 1,\n",
       " 'perfectly': 1,\n",
       " 'acceptable': 1,\n",
       " 'for': 1,\n",
       " 'different': 1,\n",
       " 'types': 1,\n",
       " 'to': 1,\n",
       " 'have': 1}"
      ]
     },
     "execution_count": 109,
     "metadata": {},
     "output_type": "execute_result"
    }
   ],
   "source": [
    "words_count"
   ]
  },
  {
   "cell_type": "code",
   "execution_count": 112,
   "metadata": {},
   "outputs": [],
   "source": [
    "words = {} \n",
    "for word in documents.split():\n",
    "    try:\n",
    "        words[word] += 1\n",
    "    except KeyError:\n",
    "        words[word] = 1\n"
   ]
  },
  {
   "cell_type": "code",
   "execution_count": 114,
   "metadata": {},
   "outputs": [
    {
     "data": {
      "text/plain": [
       "{'As': 1,\n",
       " 'with': 2,\n",
       " 'strings': 1,\n",
       " 'and': 2,\n",
       " 'lists,': 1,\n",
       " 'there': 1,\n",
       " 'are': 1,\n",
       " 'several': 1,\n",
       " 'built-in': 1,\n",
       " 'methods': 3,\n",
       " 'that': 2,\n",
       " 'can': 1,\n",
       " 'be': 1,\n",
       " 'invoked': 1,\n",
       " 'on': 2,\n",
       " 'dictionaries.': 1,\n",
       " 'In': 2,\n",
       " 'fact,': 1,\n",
       " 'in': 1,\n",
       " 'some': 1,\n",
       " 'cases,': 1,\n",
       " 'the': 4,\n",
       " 'list': 1,\n",
       " 'dictionary': 1,\n",
       " 'share': 1,\n",
       " 'same': 2,\n",
       " 'name.': 2,\n",
       " 'discussion': 1,\n",
       " 'object-oriented': 1,\n",
       " 'programming,': 1,\n",
       " 'you': 1,\n",
       " 'will': 1,\n",
       " 'see': 1,\n",
       " 'it': 1,\n",
       " 'is': 1,\n",
       " 'perfectly': 1,\n",
       " 'acceptable': 1,\n",
       " 'for': 1,\n",
       " 'different': 1,\n",
       " 'types': 1,\n",
       " 'to': 1,\n",
       " 'have': 1}"
      ]
     },
     "execution_count": 114,
     "metadata": {},
     "output_type": "execute_result"
    }
   ],
   "source": [
    "words"
   ]
  },
  {
   "cell_type": "code",
   "execution_count": 120,
   "metadata": {},
   "outputs": [
    {
     "name": "stdout",
     "output_type": "stream",
     "text": [
      "0\n",
      "0\n",
      "0\n",
      "0\n",
      "0\n",
      "0\n",
      "0\n",
      "0\n",
      "0\n",
      "0\n",
      "0\n",
      "0\n",
      "0\n",
      "0\n",
      "0\n",
      "0\n",
      "0\n",
      "0\n",
      "0\n",
      "0\n",
      "0\n",
      "0\n",
      "0\n",
      "1\n",
      "0\n",
      "1\n",
      "0\n",
      "1\n",
      "0\n",
      "0\n",
      "1\n",
      "2\n",
      "0\n",
      "1\n",
      "0\n",
      "0\n",
      "0\n",
      "0\n",
      "0\n",
      "1\n",
      "0\n",
      "0\n",
      "0\n",
      "0\n",
      "0\n",
      "0\n",
      "0\n",
      "0\n",
      "0\n",
      "2\n",
      "1\n",
      "3\n",
      "1\n",
      "1\n"
     ]
    }
   ],
   "source": [
    "wordsss = {}\n",
    "for word in documents.split():\n",
    "    previous_count = wordsss.get(word, 0)\n",
    "    print(previous_count)\n",
    "    wordsss[word] = previous_count + 1\n"
   ]
  },
  {
   "cell_type": "code",
   "execution_count": 119,
   "metadata": {},
   "outputs": [
    {
     "data": {
      "text/plain": [
       "{'As': 1,\n",
       " 'with': 2,\n",
       " 'strings': 1,\n",
       " 'and': 2,\n",
       " 'lists,': 1,\n",
       " 'there': 1,\n",
       " 'are': 1,\n",
       " 'several': 1,\n",
       " 'built-in': 1,\n",
       " 'methods': 3,\n",
       " 'that': 2,\n",
       " 'can': 1,\n",
       " 'be': 1,\n",
       " 'invoked': 1,\n",
       " 'on': 2,\n",
       " 'dictionaries.': 1,\n",
       " 'In': 2,\n",
       " 'fact,': 1,\n",
       " 'in': 1,\n",
       " 'some': 1,\n",
       " 'cases,': 1,\n",
       " 'the': 4,\n",
       " 'list': 1,\n",
       " 'dictionary': 1,\n",
       " 'share': 1,\n",
       " 'same': 2,\n",
       " 'name.': 2,\n",
       " 'discussion': 1,\n",
       " 'object-oriented': 1,\n",
       " 'programming,': 1,\n",
       " 'you': 1,\n",
       " 'will': 1,\n",
       " 'see': 1,\n",
       " 'it': 1,\n",
       " 'is': 1,\n",
       " 'perfectly': 1,\n",
       " 'acceptable': 1,\n",
       " 'for': 1,\n",
       " 'different': 1,\n",
       " 'types': 1,\n",
       " 'to': 1,\n",
       " 'have': 1}"
      ]
     },
     "execution_count": 119,
     "metadata": {},
     "output_type": "execute_result"
    }
   ],
   "source": [
    "wordsss"
   ]
  }
 ],
 "metadata": {
  "kernelspec": {
   "display_name": "Python 3",
   "language": "python",
   "name": "python3"
  },
  "language_info": {
   "codemirror_mode": {
    "name": "ipython",
    "version": 3
   },
   "file_extension": ".py",
   "mimetype": "text/x-python",
   "name": "python",
   "nbconvert_exporter": "python",
   "pygments_lexer": "ipython3",
   "version": "3.8.2"
  }
 },
 "nbformat": 4,
 "nbformat_minor": 4
}
