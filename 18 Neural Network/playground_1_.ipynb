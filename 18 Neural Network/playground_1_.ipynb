{
  "nbformat": 4,
  "nbformat_minor": 0,
  "metadata": {
    "kernelspec": {
      "display_name": "Python 3.8.5 32-bit ('data-science': pipenv)",
      "language": "python",
      "name": "python38532bitdatasciencepipenv068ffcbeb4194e50aa43c9cde15e24a3"
    },
    "language_info": {
      "codemirror_mode": {
        "name": "ipython",
        "version": 3
      },
      "file_extension": ".py",
      "mimetype": "text/x-python",
      "name": "python",
      "nbconvert_exporter": "python",
      "pygments_lexer": "ipython3",
      "version": "3.8.5"
    },
    "colab": {
      "name": "playground_1_.ipynb",
      "provenance": []
    }
  },
  "cells": [
    {
      "cell_type": "markdown",
      "metadata": {
        "id": "IgJEfALQOSw6"
      },
      "source": [
        "# Neural Network with Logistic Regression"
      ]
    },
    {
      "cell_type": "code",
      "metadata": {
        "id": "8-xfmMyPOSw7"
      },
      "source": [
        "import numpy as np"
      ],
      "execution_count": 1,
      "outputs": []
    },
    {
      "cell_type": "code",
      "metadata": {
        "id": "nm26ZUWSOSw8"
      },
      "source": [
        "def sigmoid(z):\n",
        "    s = 1/(1+np.exp(-z))\n",
        "    return s"
      ],
      "execution_count": 2,
      "outputs": []
    },
    {
      "cell_type": "code",
      "metadata": {
        "colab": {
          "base_uri": "https://localhost:8080/"
        },
        "id": "rfCm1CCfOSw8",
        "outputId": "cd1ed7df-43fb-4994-a66d-3aff211710c7"
      },
      "source": [
        "sigmoid(np.array([0,2]))"
      ],
      "execution_count": 3,
      "outputs": [
        {
          "output_type": "execute_result",
          "data": {
            "text/plain": [
              "array([0.5       , 0.88079708])"
            ]
          },
          "metadata": {
            "tags": []
          },
          "execution_count": 3
        }
      ]
    },
    {
      "cell_type": "code",
      "metadata": {
        "id": "T6VZ-h9yOSw-"
      },
      "source": [
        "def initialize_with_zeros(dim):\n",
        "    w = np.zeros(shape=(dim, 1))\n",
        "    b = 0\n",
        "    return w, b"
      ],
      "execution_count": 4,
      "outputs": []
    },
    {
      "cell_type": "code",
      "metadata": {
        "colab": {
          "base_uri": "https://localhost:8080/"
        },
        "id": "mid7pdIeOSw-",
        "outputId": "b99550ac-48ce-4f90-bfb6-0d25ed6312e6"
      },
      "source": [
        "dim = 2 \n",
        "initialize_with_zeros(dim)"
      ],
      "execution_count": 5,
      "outputs": [
        {
          "output_type": "execute_result",
          "data": {
            "text/plain": [
              "(array([[0.],\n",
              "        [0.]]), 0)"
            ]
          },
          "metadata": {
            "tags": []
          },
          "execution_count": 5
        }
      ]
    },
    {
      "cell_type": "markdown",
      "metadata": {
        "id": "rXvmIWQnOSw_"
      },
      "source": [
        "## Feed Forward and Backward Propagation"
      ]
    },
    {
      "cell_type": "code",
      "metadata": {
        "id": "c2W0-3IGOSw_"
      },
      "source": [
        "def propagate(w, b, X, Y):\n",
        "    m = X.shape[1]\n",
        "    \n",
        "    # forward propagatioin\n",
        "    \n",
        "    computing = np.dot(w.T, X) + b\n",
        "    Activation = sigmoid(computing)\n",
        "    cost = (-1/m) * np.sum(Y*np.log(Activation) + (1-Y) * np.log(1-Activation))\n",
        "    \n",
        "    # Backward Propagation\n",
        "    dw = (1/m) * np.dot(X, ((Activation-Y).T))\n",
        "    db = (1/m) * np.sum(Activation - Y)\n",
        "    \n",
        "    grad = {'dw': dw,\n",
        "            'db': db}\n",
        "    return grad, cost"
      ],
      "execution_count": 6,
      "outputs": []
    },
    {
      "cell_type": "code",
      "metadata": {
        "colab": {
          "base_uri": "https://localhost:8080/"
        },
        "id": "GzmZjeC3OSw_",
        "outputId": "fde88356-66a1-4377-9e53-1742b54df8f2"
      },
      "source": [
        "w, b, X, Y = np.array([[1.],[2.]]), 2., np.array([[1.,2.,-1.],[3.,4.,-3.2]]), np.array([[1,0,1]])\n",
        "grads, cost = propagate(w, b, X, Y)\n",
        "print(grads, cost)"
      ],
      "execution_count": 7,
      "outputs": [
        {
          "output_type": "stream",
          "text": [
            "{'dw': array([[0.99845601],\n",
            "       [2.39507239]]), 'db': 0.001455578136784208} 5.801545319394553\n"
          ],
          "name": "stdout"
        }
      ]
    },
    {
      "cell_type": "markdown",
      "metadata": {
        "id": "1DDm8ZtwOSw_"
      },
      "source": [
        "## Optimization"
      ]
    },
    {
      "cell_type": "code",
      "metadata": {
        "id": "lI1Ak3iBOSw_"
      },
      "source": [
        "def optimize(w, b, X, Y, num_iteration, learning_rate):\n",
        "    costs = []\n",
        "    all_costs = []\n",
        "    for i in range(num_iteration):\n",
        "        grads, cost = propagate(w, b, X, Y)\n",
        "        all_costs.append(cost)\n",
        "        dw = grads['dw']\n",
        "        db = grads['db']\n",
        "        \n",
        "        w = w - learning_rate * dw\n",
        "        b = b - learning_rate * db\n",
        "\n",
        "        if i % 100 == 0:\n",
        "            print(f\"cost after iteration {i: 2f} : {cost}\")\n",
        "            costs.append(cost)\n",
        "            \n",
        "    params = {\"w\": w,\n",
        "              \"b\": b}\n",
        "    \n",
        "    grads = {\"dw\": dw,\n",
        "             \"db\": db}\n",
        "    \n",
        "    return params, grads, cost, all_costs"
      ],
      "execution_count": 8,
      "outputs": []
    },
    {
      "cell_type": "code",
      "metadata": {
        "colab": {
          "base_uri": "https://localhost:8080/",
          "height": 433
        },
        "id": "lG0dZawvOSw_",
        "outputId": "0f78800d-9ecb-4f32-9f6a-041271bfb482"
      },
      "source": [
        "from matplotlib import pyplot as plt\n",
        "\n",
        "costs = optimize(w, b, X, Y, num_iteration = 1000, learning_rate = 0.009)\n",
        "\n",
        "# cost ploting..\n",
        "plt.scatter(range(len(costs[3])), costs[3], marker='o', color='red')\n",
        "plt.plot(costs[3], color='green', label='Cost')\n",
        "plt.legend()\n",
        "plt.show()\n"
      ],
      "execution_count": 9,
      "outputs": [
        {
          "output_type": "stream",
          "text": [
            "cost after iteration  0.000000 : 5.801545319394553\n",
            "cost after iteration  100.000000 : 1.055933444321741\n",
            "cost after iteration  200.000000 : 0.3783029181411113\n",
            "cost after iteration  300.000000 : 0.3635949111482283\n",
            "cost after iteration  400.000000 : 0.3562416177005574\n",
            "cost after iteration  500.000000 : 0.3492096333906643\n",
            "cost after iteration  600.000000 : 0.342420465089162\n",
            "cost after iteration  700.000000 : 0.3358602820101594\n",
            "cost after iteration  800.000000 : 0.32951704926683034\n",
            "cost after iteration  900.000000 : 0.32337975629352356\n"
          ],
          "name": "stdout"
        },
        {
          "output_type": "display_data",
          "data": {
            "image/png": "[encoded data removed]",
            "text/plain": [
              "<Figure size 432x288 with 1 Axes>"
            ]
          },
          "metadata": {
            "tags": [],
            "needs_background": "light"
          }
        }
      ]
    },
    {
      "cell_type": "code",
      "metadata": {
        "id": "a7FLp0KzOSw_"
      },
      "source": [
        "def predict(w, b, X):\n",
        "    m = X.shape[1]\n",
        "    Y_prediction = np.zeros((1, m))\n",
        "    w = w.reshape(X.shape[0], 1)\n",
        "    A = sigmoid(np.dot(w.T, X)+b)\n",
        "    \n",
        "    for i in range(A.shape[1]):\n",
        "        Y_prediction[0, i] = 1 if A[0, i] >= 0.5 else 0\n",
        "    \n",
        "    return Y_prediction"
      ],
      "execution_count": 10,
      "outputs": []
    },
    {
      "cell_type": "code",
      "metadata": {
        "colab": {
          "base_uri": "https://localhost:8080/"
        },
        "id": "m5mTBuPWOSxA",
        "outputId": "567b0a09-d0e1-4728-ee8d-55e4d205c842"
      },
      "source": [
        "w = np.array([[0.1124579],[0.23106775]])\n",
        "b = -0.3\n",
        "X = np.array([[1.,-1.1,-3.2],[1.2,2.,0.1]])\n",
        "print (\"predictions = \" + str(predict(w, b, X)))"
      ],
      "execution_count": 11,
      "outputs": [
        {
          "output_type": "stream",
          "text": [
            "predictions = [[1. 1. 0.]]\n"
          ],
          "name": "stdout"
        }
      ]
    },
    {
      "cell_type": "markdown",
      "metadata": {
        "id": "NR6RcuoIOSxA"
      },
      "source": [
        "## Merging all functions"
      ]
    },
    {
      "cell_type": "code",
      "metadata": {
        "id": "RE5_aXXGOSxA"
      },
      "source": [
        "def model(X_train, Y_train, X_test, Y_test, num_iterations = 500, learning_rate = 0.5):\n",
        "    w, b = initialize_with_zeros(X_train.shape[0])\n",
        "    \n",
        "    parameters, grads, costs, allcost = optimize(w, b, X_train, Y_train, num_iteration=num_iteration,\n",
        "                                        learning_rate=learning_rate)\n",
        "    \n",
        "    w = parameters['w']\n",
        "    b = parameters['b']\n",
        "    \n",
        "    Y_prediction_test = predict(w, b, X_test)\n",
        "    \n",
        "    print('-'*50)\n",
        "    \n",
        "    print(f\"accuracy: {100 - np.mean(np.abs(Y_prediction_test - Y_test)) * 100}\")\n",
        "    \n",
        "    d = {\"costs\": costs,\n",
        "         \"Y_prediction_test\": Y_prediction_test, \n",
        "         \"Y_prediction_train\" : Y_prediction_train, \n",
        "         \"w\" : w, \n",
        "         \"b\" : b,\n",
        "         \"learning_rate\" : learning_rate,\n",
        "         \"num_iterations\": num_iterations}\n",
        "    \n",
        "    return d"
      ],
      "execution_count": 12,
      "outputs": []
    },
    {
      "cell_type": "markdown",
      "metadata": {
        "id": "Xxtz4ujvOqB4"
      },
      "source": [
        "# Train test"
      ]
    },
    {
      "cell_type": "code",
      "metadata": {
        "id": "0Hsiti5bOrqD"
      },
      "source": [
        "from lr_utils import load_dataset"
      ],
      "execution_count": 13,
      "outputs": []
    },
    {
      "cell_type": "code",
      "metadata": {
        "id": "UDN0L_aOOzhi"
      },
      "source": [
        "X_train, Y_train, X_test, Y_test, classes = load_dataset()"
      ],
      "execution_count": 16,
      "outputs": []
    },
    {
      "cell_type": "code",
      "metadata": {
        "colab": {
          "base_uri": "https://localhost:8080/",
          "height": 285
        },
        "id": "1dufHiEMPAch",
        "outputId": "ad19392c-c9fc-40e1-fa8d-ab5a082ee87d"
      },
      "source": [
        "plt.imshow(X_train[1])\n",
        "plt.show()\n",
        "print(f\"Not cat: y = {Y_train[:, 1]}\")"
      ],
      "execution_count": 21,
      "outputs": [
        {
          "output_type": "display_data",
          "data": {
            "image/png": "[encoded data removed]",
            "text/plain": [
              "<Figure size 432x288 with 1 Axes>"
            ]
          },
          "metadata": {
            "tags": [],
            "needs_background": "light"
          }
        },
        {
          "output_type": "stream",
          "text": [
            "Not cat: y = [0]\n"
          ],
          "name": "stdout"
        }
      ]
    },
    {
      "cell_type": "code",
      "metadata": {
        "id": "bmCSiuSgP0b6"
      },
      "source": [
        ""
      ],
      "execution_count": null,
      "outputs": []
    }
  ]
}