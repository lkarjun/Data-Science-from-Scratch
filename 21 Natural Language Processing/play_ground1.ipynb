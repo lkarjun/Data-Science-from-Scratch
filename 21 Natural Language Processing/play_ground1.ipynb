{
  "nbformat": 4,
  "nbformat_minor": 0,
  "metadata": {
    "language_info": {
      "codemirror_mode": {
        "name": "ipython",
        "version": 3
      },
      "file_extension": ".py",
      "mimetype": "text/x-python",
      "name": "python",
      "nbconvert_exporter": "python",
      "pygments_lexer": "ipython3",
      "version": "3.8.5-final"
    },
    "orig_nbformat": 2,
    "kernelspec": {
      "name": "python38532bitdatasciencepipenv068ffcbeb4194e50aa43c9cde15e24a3",
      "display_name": "Python 3.8.5 32-bit ('data-science': pipenv)",
      "language": "python"
    },
    "colab": {
      "name": "play_ground1.ipynb",
      "provenance": [],
      "include_colab_link": true
    }
  },
  "cells": [
    {
      "cell_type": "markdown",
      "metadata": {
        "id": "view-in-github",
        "colab_type": "text"
      },
      "source": [
        "<a href=\"https://colab.research.google.com/github/lkarjun/Data-Science-from-Scratch/blob/master/21%20Natural%20Language%20Processing/play_ground1.ipynb\" target=\"_parent\"><img src=\"https://colab.research.google.com/assets/colab-badge.svg\" alt=\"Open In Colab\"/></a>"
      ]
    },
    {
      "cell_type": "markdown",
      "metadata": {
        "id": "gBlpgjWJt8tO"
      },
      "source": [
        "# PlaY Ground "
      ]
    },
    {
      "cell_type": "code",
      "metadata": {
        "id": "VuDtIXnYt8tn"
      },
      "source": [
        "paragraph = \"\"\"Machine learning is an application of artificial intelligence (AI) that provides systems the ability to automatically learn and improve from experience without being explicitly programmed. Machine learning focuses on the development of computer programs that can access data and use it to learn for themselves.\n",
        "\n",
        "The process of learning begins with observations or data, such as examples, direct experience, or instruction, in order to look for patterns in data and make better decisions in the future based on the examples that we provide. The primary aim is to allow the computers learn automatically without human intervention or assistance and adjust actions accordingly.\n",
        "\n",
        "Supervised machine learning algorithms can apply what has been learned in the past to new data using labeled examples to predict future events. Starting from the analysis of a known training dataset, the learning algorithm produces an inferred function to make predictions about the output values. The system is able to provide targets for any new input after sufficient training. The learning algorithm can also compare its output with the correct, intended output and find errors in order to modify the model accordingly.\n",
        "In contrast, unsupervised machine learning algorithms are used when the information used to train is neither classified nor labeled. Unsupervised learning studies how systems can infer a function to describe a hidden structure from unlabeled data. The system doesn’t figure out the right output, but it explores the data and can draw inferences from datasets to describe hidden structures from unlabeled data.\n",
        "Semi-supervised machine learning algorithms fall somewhere in between supervised and unsupervised learning, since they use both labeled and unlabeled data for training – typically a small amount of labeled data and a large amount of unlabeled data. The systems that use this method are able to considerably improve learning accuracy. Usually, semi-supervised learning is chosen when the acquired labeled data requires skilled and relevant resources in order to train it / learn from it. Otherwise, acquiring unlabeled data generally doesn’t require additional resources.\n",
        "Reinforcement machine learning algorithms is a learning method that interacts with its environment by producing actions and discovers errors or rewards. Trial and error search and delayed reward are the most relevant characteristics of reinforcement learning. This method allows machines and software agents to automatically determine the ideal behavior within a specific context in order to maximize its performance. Simple reward feedback is required for the agent to learn which action is best; this is known as the reinforcement signal.\n",
        "\"\"\""
      ],
      "execution_count": 1,
      "outputs": []
    },
    {
      "cell_type": "code",
      "metadata": {
        "id": "bhkx9YUCt8ts",
        "outputId": "1588feb1-63fd-4023-dbf8-cf0fac993326",
        "colab": {
          "base_uri": "https://localhost:8080/"
        }
      },
      "source": [
        "import nltk\r\n",
        "nltk.download('punkt')\r\n",
        "nltk.download('stopwords')"
      ],
      "execution_count": 15,
      "outputs": [
        {
          "output_type": "stream",
          "text": [
            "[nltk_data] Downloading package punkt to /root/nltk_data...\n",
            "[nltk_data]   Package punkt is already up-to-date!\n",
            "[nltk_data] Downloading package stopwords to /root/nltk_data...\n",
            "[nltk_data]   Unzipping corpora/stopwords.zip.\n"
          ],
          "name": "stdout"
        },
        {
          "output_type": "execute_result",
          "data": {
            "text/plain": [
              "True"
            ]
          },
          "metadata": {
            "tags": []
          },
          "execution_count": 15
        }
      ]
    },
    {
      "cell_type": "code",
      "metadata": {
        "id": "FAIzxTBQt8tu"
      },
      "source": [
        "from nltk.stem import PorterStemmer\n",
        "from nltk.corpus import stopwords"
      ],
      "execution_count": 16,
      "outputs": []
    },
    {
      "cell_type": "markdown",
      "metadata": {
        "id": "j2BSw4lnwU8X"
      },
      "source": [
        "# Stemmer"
      ]
    },
    {
      "cell_type": "code",
      "metadata": {
        "id": "6Z-NZXTPt8tv"
      },
      "source": [
        "sentences = nltk.sent_tokenize(paragraph)\n",
        "stemmer = PorterStemmer()"
      ],
      "execution_count": 17,
      "outputs": []
    },
    {
      "cell_type": "code",
      "metadata": {
        "id": "sFLUFtLEu2ES",
        "outputId": "eed8591d-d1c2-41ec-bc8f-527932b95202",
        "colab": {
          "base_uri": "https://localhost:8080/"
        }
      },
      "source": [
        "sentences[:3]"
      ],
      "execution_count": 18,
      "outputs": [
        {
          "output_type": "execute_result",
          "data": {
            "text/plain": [
              "['Machine learning is an application of artificial intelligence (AI) that provides systems the ability to automatically learn and improve from experience without being explicitly programmed.',\n",
              " 'Machine learning focuses on the development of computer programs that can access data and use it to learn for themselves.',\n",
              " 'The process of learning begins with observations or data, such as examples, direct experience, or instruction, in order to look for patterns in data and make better decisions in the future based on the examples that we provide.']"
            ]
          },
          "metadata": {
            "tags": []
          },
          "execution_count": 18
        }
      ]
    },
    {
      "cell_type": "code",
      "metadata": {
        "id": "ZGyR_8mGu9Rp"
      },
      "source": [
        "for i in range(len(sentences)):\r\n",
        "  words = nltk.word_tokenize(sentences[i])\r\n",
        "  words = [stemmer.stem(word) \r\n",
        "           for word in words\r\n",
        "           if word not in set(stopwords.words('english'))]\r\n",
        "  sentences[i] = ' '.join(words)"
      ],
      "execution_count": 19,
      "outputs": []
    },
    {
      "cell_type": "code",
      "metadata": {
        "colab": {
          "base_uri": "https://localhost:8080/"
        },
        "id": "KaQsQM7_vmuK",
        "outputId": "ccc66c7c-b616-4b4f-c272-ae920045936f"
      },
      "source": [
        "sentences[:3]"
      ],
      "execution_count": 24,
      "outputs": [
        {
          "output_type": "execute_result",
          "data": {
            "text/plain": [
              "['machin learn applic artifici intellig ( AI ) provid system abil automat learn improv experi without explicitli program .',\n",
              " 'machin learn focus develop comput program access data use learn .',\n",
              " 'the process learn begin observ data , exampl , direct experi , instruct , order look pattern data make better decis futur base exampl provid .']"
            ]
          },
          "metadata": {
            "tags": []
          },
          "execution_count": 24
        }
      ]
    },
    {
      "cell_type": "code",
      "metadata": {
        "id": "BIFVrk6pwODw"
      },
      "source": [
        ""
      ],
      "execution_count": null,
      "outputs": []
    },
    {
      "cell_type": "markdown",
      "metadata": {
        "id": "Oa25GtEIwZa_"
      },
      "source": [
        "# Lemmatization"
      ]
    },
    {
      "cell_type": "code",
      "metadata": {
        "id": "G6sSqrYawcyT",
        "outputId": "ed559ebe-b7c5-4546-fced-119c72dd601f",
        "colab": {
          "base_uri": "https://localhost:8080/"
        }
      },
      "source": [
        "from nltk.stem import WordNetLemmatizer\r\n",
        "nltk.download('wordnet')"
      ],
      "execution_count": 30,
      "outputs": [
        {
          "output_type": "stream",
          "text": [
            "[nltk_data] Downloading package wordnet to /root/nltk_data...\n",
            "[nltk_data]   Package wordnet is already up-to-date!\n"
          ],
          "name": "stdout"
        },
        {
          "output_type": "execute_result",
          "data": {
            "text/plain": [
              "True"
            ]
          },
          "metadata": {
            "tags": []
          },
          "execution_count": 30
        }
      ]
    },
    {
      "cell_type": "code",
      "metadata": {
        "id": "r9HKHCpnwgrx"
      },
      "source": [
        "sentences = nltk.sent_tokenize(paragraph)\r\n",
        "lemmatizer = WordNetLemmatizer()"
      ],
      "execution_count": 31,
      "outputs": []
    },
    {
      "cell_type": "code",
      "metadata": {
        "id": "sZ8QtmbhwpIq"
      },
      "source": [
        "for i in range(len(sentences)):\r\n",
        "  words = nltk.word_tokenize(sentences[i])\r\n",
        "  words = [lemmatizer.lemmatize(word) \r\n",
        "           for word in words\r\n",
        "           if word not in set(stopwords.words('english'))]\r\n",
        "  sentences[i] = ' '.join(words)"
      ],
      "execution_count": 32,
      "outputs": []
    },
    {
      "cell_type": "code",
      "metadata": {
        "id": "slnzxYT_w3oQ",
        "outputId": "5a31cdf0-42a4-4934-b901-7653a0b17bfa",
        "colab": {
          "base_uri": "https://localhost:8080/"
        }
      },
      "source": [
        "sentences[:3]"
      ],
      "execution_count": 33,
      "outputs": [
        {
          "output_type": "execute_result",
          "data": {
            "text/plain": [
              "['Machine learning application artificial intelligence ( AI ) provides system ability automatically learn improve experience without explicitly programmed .',\n",
              " 'Machine learning focus development computer program access data use learn .',\n",
              " 'The process learning begin observation data , example , direct experience , instruction , order look pattern data make better decision future based example provide .']"
            ]
          },
          "metadata": {
            "tags": []
          },
          "execution_count": 33
        }
      ]
    },
    {
      "cell_type": "code",
      "metadata": {
        "id": "lJBJSPtCw7DT"
      },
      "source": [
        ""
      ],
      "execution_count": null,
      "outputs": []
    }
  ]
}