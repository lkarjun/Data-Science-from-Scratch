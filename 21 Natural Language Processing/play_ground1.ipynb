{
  "nbformat": 4,
  "nbformat_minor": 0,
  "metadata": {
    "language_info": {
      "codemirror_mode": {
        "name": "ipython",
        "version": 3
      },
      "file_extension": ".py",
      "mimetype": "text/x-python",
      "name": "python",
      "nbconvert_exporter": "python",
      "pygments_lexer": "ipython3",
      "version": "3.8.5-final"
    },
    "orig_nbformat": 2,
    "kernelspec": {
      "name": "python38532bitdatasciencepipenv068ffcbeb4194e50aa43c9cde15e24a3",
      "display_name": "Python 3.8.5 32-bit ('data-science': pipenv)",
      "language": "python"
    },
    "colab": {
      "name": "play_ground1.ipynb",
      "provenance": [],
      "include_colab_link": true
    }
  },
  "cells": [
    {
      "cell_type": "markdown",
      "metadata": {
        "id": "view-in-github",
        "colab_type": "text"
      },
      "source": [
        "<a href=\"https://colab.research.google.com/github/lkarjun/Data-Science-from-Scratch/blob/master/21%20Natural%20Language%20Processing/play_ground1.ipynb\" target=\"_parent\"><img src=\"https://colab.research.google.com/assets/colab-badge.svg\" alt=\"Open In Colab\"/></a>"
      ]
    },
    {
      "cell_type": "markdown",
      "metadata": {
        "id": "gBlpgjWJt8tO"
      },
      "source": [
        "# PlaY Ground "
      ]
    },
    {
      "cell_type": "code",
      "metadata": {
        "id": "VuDtIXnYt8tn"
      },
      "source": [
        "paragraph = \"\"\"Machine learning is an application of artificial intelligence (AI) that provides systems the ability to automatically learn and improve from experience without being explicitly programmed. Machine learning focuses on the development of computer programs that can access data and use it to learn for themselves.\n",
        "\n",
        "The process of learning begins with observations or data, such as examples, direct experience, or instruction, in order to look for patterns in data and make better decisions in the future based on the examples that we provide. The primary aim is to allow the computers learn automatically without human intervention or assistance and adjust actions accordingly.\n",
        "\n",
        "Supervised machine learning algorithms can apply what has been learned in the past to new data using labeled examples to predict future events. Starting from the analysis of a known training dataset, the learning algorithm produces an inferred function to make predictions about the output values. The system is able to provide targets for any new input after sufficient training. The learning algorithm can also compare its output with the correct, intended output and find errors in order to modify the model accordingly.\n",
        "In contrast, unsupervised machine learning algorithms are used when the information used to train is neither classified nor labeled. Unsupervised learning studies how systems can infer a function to describe a hidden structure from unlabeled data. The system doesn’t figure out the right output, but it explores the data and can draw inferences from datasets to describe hidden structures from unlabeled data.\n",
        "Semi-supervised machine learning algorithms fall somewhere in between supervised and unsupervised learning, since they use both labeled and unlabeled data for training – typically a small amount of labeled data and a large amount of unlabeled data. The systems that use this method are able to considerably improve learning accuracy. Usually, semi-supervised learning is chosen when the acquired labeled data requires skilled and relevant resources in order to train it / learn from it. Otherwise, acquiring unlabeled data generally doesn’t require additional resources.\n",
        "Reinforcement machine learning algorithms is a learning method that interacts with its environment by producing actions and discovers errors or rewards. Trial and error search and delayed reward are the most relevant characteristics of reinforcement learning. This method allows machines and software agents to automatically determine the ideal behavior within a specific context in order to maximize its performance. Simple reward feedback is required for the agent to learn which action is best; this is known as the reinforcement signal.\n",
        "\"\"\""
      ],
      "execution_count": 1,
      "outputs": []
    },
    {
      "cell_type": "code",
      "metadata": {
        "colab": {
          "base_uri": "https://localhost:8080/"
        },
        "id": "bhkx9YUCt8ts",
        "outputId": "c991f8df-9d6e-430d-f98a-5799e64f14aa"
      },
      "source": [
        "import nltk\r\n",
        "nltk.download('punkt')\r\n",
        "nltk.download('stopwords')"
      ],
      "execution_count": 4,
      "outputs": [
        {
          "output_type": "stream",
          "name": "stderr",
          "text": [
            "[nltk_data] Downloading package punkt to\n",
            "[nltk_data]     C:\\Users\\HP\\AppData\\Roaming\\nltk_data...\n",
            "[nltk_data]   Unzipping tokenizers\\punkt.zip.\n",
            "[nltk_data] Downloading package stopwords to\n",
            "[nltk_data]     C:\\Users\\HP\\AppData\\Roaming\\nltk_data...\n",
            "[nltk_data]   Unzipping corpora\\stopwords.zip.\n"
          ]
        },
        {
          "output_type": "execute_result",
          "data": {
            "text/plain": [
              "True"
            ]
          },
          "metadata": {},
          "execution_count": 4
        }
      ]
    },
    {
      "cell_type": "code",
      "metadata": {
        "id": "FAIzxTBQt8tu"
      },
      "source": [
        "from nltk.stem import PorterStemmer\n",
        "from nltk.corpus import stopwords"
      ],
      "execution_count": 3,
      "outputs": []
    },
    {
      "cell_type": "markdown",
      "metadata": {
        "id": "j2BSw4lnwU8X"
      },
      "source": [
        "# Stemmer"
      ]
    },
    {
      "cell_type": "code",
      "metadata": {
        "id": "6Z-NZXTPt8tv"
      },
      "source": [
        "import nltk\n",
        "sentences = nltk.sent_tokenize(paragraph)\n",
        "stemmer = PorterStemmer()"
      ],
      "execution_count": 5,
      "outputs": []
    },
    {
      "cell_type": "code",
      "metadata": {
        "colab": {
          "base_uri": "https://localhost:8080/"
        },
        "id": "sFLUFtLEu2ES",
        "outputId": "63d76ba9-37dc-4678-d6b9-5ba56052e3a5"
      },
      "source": [
        "sentences[:3]"
      ],
      "execution_count": 6,
      "outputs": [
        {
          "output_type": "execute_result",
          "data": {
            "text/plain": [
              "['Machine learning is an application of artificial intelligence (AI) that provides systems the ability to automatically learn and improve from experience without being explicitly programmed.',\n",
              " 'Machine learning focuses on the development of computer programs that can access data and use it to learn for themselves.',\n",
              " 'The process of learning begins with observations or data, such as examples, direct experience, or instruction, in order to look for patterns in data and make better decisions in the future based on the examples that we provide.']"
            ]
          },
          "metadata": {},
          "execution_count": 6
        }
      ]
    },
    {
      "cell_type": "code",
      "metadata": {
        "id": "ZGyR_8mGu9Rp"
      },
      "source": [
        "for i in range(len(sentences)):\r\n",
        "  words = nltk.word_tokenize(sentences[i])\r\n",
        "  words = [stemmer.stem(word) \r\n",
        "           for word in words\r\n",
        "           if word not in set(stopwords.words('english'))]\r\n",
        "  sentences[i] = ' '.join(words)"
      ],
      "execution_count": 7,
      "outputs": []
    },
    {
      "cell_type": "code",
      "metadata": {
        "colab": {
          "base_uri": "https://localhost:8080/"
        },
        "id": "KaQsQM7_vmuK",
        "outputId": "79aa8485-dd6c-44ba-c4ff-8ee644d188b6"
      },
      "source": [
        "sentences[:3]"
      ],
      "execution_count": 8,
      "outputs": [
        {
          "output_type": "execute_result",
          "data": {
            "text/plain": [
              "['machin learn applic artifici intellig ( AI ) provid system abil automat learn improv experi without explicitli program .',\n",
              " 'machin learn focus develop comput program access data use learn .',\n",
              " 'the process learn begin observ data , exampl , direct experi , instruct , order look pattern data make better decis futur base exampl provid .']"
            ]
          },
          "metadata": {},
          "execution_count": 8
        }
      ]
    },
    {
      "cell_type": "code",
      "metadata": {
        "id": "BIFVrk6pwODw"
      },
      "source": [],
      "execution_count": 7,
      "outputs": []
    },
    {
      "cell_type": "markdown",
      "metadata": {
        "id": "Oa25GtEIwZa_"
      },
      "source": [
        "# Lemmatization"
      ]
    },
    {
      "cell_type": "code",
      "metadata": {
        "colab": {
          "base_uri": "https://localhost:8080/"
        },
        "id": "G6sSqrYawcyT",
        "outputId": "234da6be-0aa6-4fb6-9428-eb2477401b01"
      },
      "source": [
        "from nltk.stem import WordNetLemmatizer\r\n",
        "nltk.download('wordnet')"
      ],
      "execution_count": 9,
      "outputs": [
        {
          "output_type": "stream",
          "name": "stderr",
          "text": [
            "[nltk_data] Error loading wordnet: <urlopen error [Errno 11001]\n[nltk_data]     getaddrinfo failed>\n"
          ]
        },
        {
          "output_type": "execute_result",
          "data": {
            "text/plain": [
              "False"
            ]
          },
          "metadata": {},
          "execution_count": 9
        }
      ]
    },
    {
      "cell_type": "code",
      "metadata": {
        "id": "r9HKHCpnwgrx"
      },
      "source": [
        "sentences = nltk.sent_tokenize(paragraph)\r\n",
        "lemmatizer = WordNetLemmatizer()"
      ],
      "execution_count": 10,
      "outputs": []
    },
    {
      "cell_type": "code",
      "metadata": {
        "id": "sZ8QtmbhwpIq"
      },
      "source": [
        "for i in range(len(sentences)):\r\n",
        "  words = nltk.word_tokenize(sentences[i])\r\n",
        "  words = [lemmatizer.lemmatize(word) \r\n",
        "           for word in words\r\n",
        "           if word not in set(stopwords.words('english'))]\r\n",
        "  sentences[i] = ' '.join(words)"
      ],
      "execution_count": 11,
      "outputs": []
    },
    {
      "cell_type": "code",
      "metadata": {
        "colab": {
          "base_uri": "https://localhost:8080/"
        },
        "id": "slnzxYT_w3oQ",
        "outputId": "a2c8551d-6365-4ff2-f106-90cfb7527f7a"
      },
      "source": [
        "sentences[:3]"
      ],
      "execution_count": 12,
      "outputs": [
        {
          "output_type": "execute_result",
          "data": {
            "text/plain": [
              "['Machine learning application artificial intelligence ( AI ) provides system ability automatically learn improve experience without explicitly programmed .',\n",
              " 'Machine learning focus development computer program access data use learn .',\n",
              " 'The process learning begin observation data , example , direct experience , instruction , order look pattern data make better decision future based example provide .']"
            ]
          },
          "metadata": {},
          "execution_count": 12
        }
      ]
    },
    {
      "cell_type": "code",
      "metadata": {
        "id": "lJBJSPtCw7DT"
      },
      "source": [],
      "execution_count": 11,
      "outputs": []
    },
    {
      "cell_type": "markdown",
      "metadata": {
        "id": "qxYGRTlByRdS"
      },
      "source": [
        "# BagOfWords"
      ]
    },
    {
      "cell_type": "code",
      "metadata": {
        "id": "wdAk-LbkyT1F"
      },
      "source": [
        "import re"
      ],
      "execution_count": 13,
      "outputs": []
    },
    {
      "cell_type": "code",
      "metadata": {
        "id": "OFpVQU1MyZCn"
      },
      "source": [
        "ps = PorterStemmer()\r\n",
        "wordnet = WordNetLemmatizer()\r\n",
        "sentences = nltk.sent_tokenize(paragraph)\r\n",
        "corpus = []"
      ],
      "execution_count": 14,
      "outputs": []
    },
    {
      "cell_type": "code",
      "metadata": {
        "id": "CPadyDYbylB9"
      },
      "source": [
        "for i in range(len(sentences)):\r\n",
        "  review = re.sub('[^a-zA-Z]', ' ', sentences[i])\r\n",
        "  review = review.lower()\r\n",
        "  review = review.split()\r\n",
        "  review = [wordnet.lemmatize(word) for word in review\r\n",
        "            if not word in set(stopwords.words('english'))]\r\n",
        "  review = ' '.join(review)\r\n",
        "  corpus.append(review)"
      ],
      "execution_count": 15,
      "outputs": []
    },
    {
      "cell_type": "code",
      "metadata": {
        "id": "uRyST-fYzG8V"
      },
      "source": [
        "from sklearn.feature_extraction.text import CountVectorizer\r\n",
        "\r\n",
        "cv = CountVectorizer()\r\n",
        "x = cv.fit_transform(corpus).toarray()"
      ],
      "execution_count": 16,
      "outputs": []
    },
    {
      "cell_type": "code",
      "metadata": {
        "id": "4xbPefv0zrYe",
        "colab": {
          "base_uri": "https://localhost:8080/"
        },
        "outputId": "8be2156c-47b2-4f13-fc94-7032483d3e42"
      },
      "source": [
        "x.shape"
      ],
      "execution_count": 22,
      "outputs": [
        {
          "output_type": "execute_result",
          "data": {
            "text/plain": [
              "(19, 148)"
            ]
          },
          "metadata": {},
          "execution_count": 22
        }
      ]
    },
    {
      "cell_type": "code",
      "metadata": {
        "id": "asQcbG8Rz5r_"
      },
      "source": [
        "corpuss\\"
      ],
      "execution_count": 17,
      "outputs": [
        {
          "output_type": "execute_result",
          "data": {
            "text/plain": [
              "['machine learning application artificial intelligence ai provides system ability automatically learn improve experience without explicitly programmed',\n",
              " 'machine learning focus development computer program access data use learn',\n",
              " 'process learning begin observation data example direct experience instruction order look pattern data make better decision future based example provide',\n",
              " 'primary aim allow computer learn automatically without human intervention assistance adjust action accordingly',\n",
              " 'supervised machine learning algorithm apply learned past new data using labeled example predict future event',\n",
              " 'starting analysis known training dataset learning algorithm produce inferred function make prediction output value',\n",
              " 'system able provide target new input sufficient training',\n",
              " 'learning algorithm also compare output correct intended output find error order modify model accordingly',\n",
              " 'contrast unsupervised machine learning algorithm used information used train neither classified labeled',\n",
              " 'unsupervised learning study system infer function describe hidden structure unlabeled data',\n",
              " 'system figure right output explores data draw inference datasets describe hidden structure unlabeled data',\n",
              " 'semi supervised machine learning algorithm fall somewhere supervised unsupervised learning since use labeled unlabeled data training typically small amount labeled data large amount unlabeled data',\n",
              " 'system use method able considerably improve learning accuracy',\n",
              " 'usually semi supervised learning chosen acquired labeled data requires skilled relevant resource order train learn',\n",
              " 'otherwise acquiring unlabeled data generally require additional resource',\n",
              " 'reinforcement machine learning algorithm learning method interacts environment producing action discovers error reward',\n",
              " 'trial error search delayed reward relevant characteristic reinforcement learning',\n",
              " 'method allows machine software agent automatically determine ideal behavior within specific context order maximize performance',\n",
              " 'simple reward feedback required agent learn action best known reinforcement signal']"
            ]
          },
          "metadata": {},
          "execution_count": 17
        }
      ]
    },
    {
      "cell_type": "markdown",
      "metadata": {
        "id": "VuEt-VkdbmQo"
      },
      "source": [
        "# TF-IDF"
      ]
    },
    {
      "cell_type": "code",
      "metadata": {
        "id": "UzVg-q--bpM_"
      },
      "source": [
        "from sklearn.feature_extraction.text import TfidfVectorizer"
      ],
      "execution_count": 18,
      "outputs": []
    },
    {
      "cell_type": "code",
      "metadata": {
        "id": "WHB5MSuib0uj"
      },
      "source": [
        "cv = TfidfVectorizer()\r\n",
        "\r\n",
        "x = cv.fit_transform(corpus).toarray()"
      ],
      "execution_count": 19,
      "outputs": []
    },
    {
      "cell_type": "code",
      "metadata": {
        "id": "fajtVQSNcCaw",
        "outputId": "4669abbe-279c-4bc1-c6cd-215bd24bee38",
        "colab": {
          "base_uri": "https://localhost:8080/"
        }
      },
      "source": [
        "x.shape"
      ],
      "execution_count": 21,
      "outputs": [
        {
          "output_type": "execute_result",
          "data": {
            "text/plain": [
              "(19, 148)"
            ]
          },
          "metadata": {},
          "execution_count": 21
        }
      ]
    },
    {
      "cell_type": "code",
      "execution_count": 22,
      "metadata": {},
      "outputs": [
        {
          "output_type": "execute_result",
          "data": {
            "text/plain": [
              "['Machine learning is an application of artificial intelligence (AI) that provides systems the ability to automatically learn and improve from experience without being explicitly programmed.',\n",
              " 'Machine learning focuses on the development of computer programs that can access data and use it to learn for themselves.']"
            ]
          },
          "metadata": {},
          "execution_count": 22
        }
      ],
      "source": [
        "sentences[:2]"
      ]
    },
    {
      "cell_type": "code",
      "execution_count": null,
      "metadata": {},
      "outputs": [],
      "source": []
    }
  ]
}