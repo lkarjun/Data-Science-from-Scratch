{
 "metadata": {
  "language_info": {
   "codemirror_mode": {
    "name": "ipython",
    "version": 3
   },
   "file_extension": ".py",
   "mimetype": "text/x-python",
   "name": "python",
   "nbconvert_exporter": "python",
   "pygments_lexer": "ipython3",
   "version": "3.8.5-final"
  },
  "orig_nbformat": 2,
  "kernelspec": {
   "name": "python3",
   "display_name": "Python 3",
   "language": "python"
  }
 },
 "nbformat": 4,
 "nbformat_minor": 2,
 "cells": [
  {
   "source": [
    "# Natural Language Processing"
   ],
   "cell_type": "markdown",
   "metadata": {}
  },
  {
   "cell_type": "code",
   "execution_count": 5,
   "metadata": {},
   "outputs": [],
   "source": [
    "data = [('Big data', 100, 15),\n",
    "        ('Hadoop', 95, 25),\n",
    "        ('Python', 75, 50),\n",
    "        ('R', 50, 40),\n",
    "        ('Machine Learning', 80, 20),\n",
    "        ('Statistics', 20, 60),\n",
    "        ('Data Science', 60, 70),\n",
    "        ('analytics', 90, 3),\n",
    "        ('Team Player', 85, 85),\n",
    "        ('dynamic', 2, 90),\n",
    "        ('synergier', 70, 0),\n",
    "        ('actionable insights', 40, 30),\n",
    "        ('think out of the box', 45, 10),\n",
    "        ('self-starter', 30, 50),\n",
    "        ('customer focus', 65, 15),\n",
    "        ('thought leadership', 35, 35)]"
   ]
  },
  {
   "cell_type": "code",
   "execution_count": 6,
   "metadata": {},
   "outputs": [],
   "source": [
    "from matplotlib import pyplot as plt"
   ]
  },
  {
   "cell_type": "code",
   "execution_count": 7,
   "metadata": {},
   "outputs": [],
   "source": [
    "def text_size(total: int) -> float:\n",
    "    '''equals 8 if total is 0, 28 if total is 200'''\n",
    "    return 8 + total / 200 * 20"
   ]
  },
  {
   "cell_type": "code",
   "execution_count": 9,
   "metadata": {},
   "outputs": [
    {
     "output_type": "display_data",
     "data": {
      "text/plain": "<Figure size 432x288 with 1 Axes>",
      "image/svg+xml": "<?xml version=\"1.0\" encoding=\"utf-8\" standalone=\"no\"?>\r\n<!DOCTYPE svg PUBLIC \"-//W3C//DTD SVG 1.1//EN\"\r\n  \"http://www.w3.org/Graphics/SVG/1.1/DTD/svg11.dtd\">\r\n<!-- Created with matplotlib (https://matplotlib.org/) -->\r\n<svg height=\"245.518125pt\" version=\"1.1\" viewBox=\"0 0 419.917359 245.518125\" width=\"419.917359pt\" xmlns=\"http://www.w3.org/2000/svg\" xmlns:xlink=\"http://www.w3.org/1999/xlink\">\r\n <metadata>\r\n  <rdf:RDF xmlns:cc=\"http://creativecommons.org/ns#\" xmlns:dc=\"http://purl.org/dc/elements/1.1/\" xmlns:rdf=\"http://www.w3.org/1999/02/22-rdf-syntax-ns#\">\r\n   <cc:Work>\r\n    <dc:type rdf:resource=\"http://purl.org/dc/dcmitype/StillImage\"/>\r\n    <dc:date>2020-12-21T14:48:40.224433</dc:date>\r\n    <dc:format>image/svg+xml</dc:format>\r\n    <dc:creator>\r\n     <cc:Agent>\r\n      <dc:title>Matplotlib v3.3.1, https://matplotlib.org/</dc:title>\r\n     </cc:Agent>\r\n    </dc:creator>\r\n   </cc:Work>\r\n  </rdf:RDF>\r\n </metadata>\r\n <defs>\r\n  <style type=\"text/css\">*{stroke-linecap:butt;stroke-linejoin:round;}</style>\r\n </defs>\r\n <g id=\"figure_1\">\r\n  <g id=\"patch_1\">\r\n   <path d=\"M 0 245.518125 \r\nL 419.917359 245.518125 \r\nL 419.917359 0 \r\nL 0 0 \r\nz\r\n\" style=\"fill:none;\"/>\r\n  </g>\r\n  <g id=\"axes_1\">\r\n   <g id=\"patch_2\">\r\n    <path d=\"M 37.269 224.64 \r\nL 372.069 224.64 \r\nL 372.069 7.2 \r\nL 37.269 7.2 \r\nz\r\n\" style=\"fill:#ffffff;\"/>\r\n   </g>\r\n   <g id=\"matplotlib.axis_1\">\r\n    <g id=\"text_1\">\r\n     <!-- Popularity on Job Posting -->\r\n     <g transform=\"translate(142.722125 236.238437)scale(0.1 -0.1)\">\r\n      <defs>\r\n       <path d=\"M 19.671875 64.796875 \r\nL 19.671875 37.40625 \r\nL 32.078125 37.40625 \r\nQ 38.96875 37.40625 42.71875 40.96875 \r\nQ 46.484375 44.53125 46.484375 51.125 \r\nQ 46.484375 57.671875 42.71875 61.234375 \r\nQ 38.96875 64.796875 32.078125 64.796875 \r\nz\r\nM 9.8125 72.90625 \r\nL 32.078125 72.90625 \r\nQ 44.34375 72.90625 50.609375 67.359375 \r\nQ 56.890625 61.8125 56.890625 51.125 \r\nQ 56.890625 40.328125 50.609375 34.8125 \r\nQ 44.34375 29.296875 32.078125 29.296875 \r\nL 19.671875 29.296875 \r\nL 19.671875 0 \r\nL 9.8125 0 \r\nz\r\n\" id=\"DejaVuSans-80\"/>\r\n       <path d=\"M 30.609375 48.390625 \r\nQ 23.390625 48.390625 19.1875 42.75 \r\nQ 14.984375 37.109375 14.984375 27.296875 \r\nQ 14.984375 17.484375 19.15625 11.84375 \r\nQ 23.34375 6.203125 30.609375 6.203125 \r\nQ 37.796875 6.203125 41.984375 11.859375 \r\nQ 46.1875 17.53125 46.1875 27.296875 \r\nQ 46.1875 37.015625 41.984375 42.703125 \r\nQ 37.796875 48.390625 30.609375 48.390625 \r\nz\r\nM 30.609375 56 \r\nQ 42.328125 56 49.015625 48.375 \r\nQ 55.71875 40.765625 55.71875 27.296875 \r\nQ 55.71875 13.875 49.015625 6.21875 \r\nQ 42.328125 -1.421875 30.609375 -1.421875 \r\nQ 18.84375 -1.421875 12.171875 6.21875 \r\nQ 5.515625 13.875 5.515625 27.296875 \r\nQ 5.515625 40.765625 12.171875 48.375 \r\nQ 18.84375 56 30.609375 56 \r\nz\r\n\" id=\"DejaVuSans-111\"/>\r\n       <path d=\"M 18.109375 8.203125 \r\nL 18.109375 -20.796875 \r\nL 9.078125 -20.796875 \r\nL 9.078125 54.6875 \r\nL 18.109375 54.6875 \r\nL 18.109375 46.390625 \r\nQ 20.953125 51.265625 25.265625 53.625 \r\nQ 29.59375 56 35.59375 56 \r\nQ 45.5625 56 51.78125 48.09375 \r\nQ 58.015625 40.1875 58.015625 27.296875 \r\nQ 58.015625 14.40625 51.78125 6.484375 \r\nQ 45.5625 -1.421875 35.59375 -1.421875 \r\nQ 29.59375 -1.421875 25.265625 0.953125 \r\nQ 20.953125 3.328125 18.109375 8.203125 \r\nz\r\nM 48.6875 27.296875 \r\nQ 48.6875 37.203125 44.609375 42.84375 \r\nQ 40.53125 48.484375 33.40625 48.484375 \r\nQ 26.265625 48.484375 22.1875 42.84375 \r\nQ 18.109375 37.203125 18.109375 27.296875 \r\nQ 18.109375 17.390625 22.1875 11.75 \r\nQ 26.265625 6.109375 33.40625 6.109375 \r\nQ 40.53125 6.109375 44.609375 11.75 \r\nQ 48.6875 17.390625 48.6875 27.296875 \r\nz\r\n\" id=\"DejaVuSans-112\"/>\r\n       <path d=\"M 8.5 21.578125 \r\nL 8.5 54.6875 \r\nL 17.484375 54.6875 \r\nL 17.484375 21.921875 \r\nQ 17.484375 14.15625 20.5 10.265625 \r\nQ 23.53125 6.390625 29.59375 6.390625 \r\nQ 36.859375 6.390625 41.078125 11.03125 \r\nQ 45.3125 15.671875 45.3125 23.6875 \r\nL 45.3125 54.6875 \r\nL 54.296875 54.6875 \r\nL 54.296875 0 \r\nL 45.3125 0 \r\nL 45.3125 8.40625 \r\nQ 42.046875 3.421875 37.71875 1 \r\nQ 33.40625 -1.421875 27.6875 -1.421875 \r\nQ 18.265625 -1.421875 13.375 4.4375 \r\nQ 8.5 10.296875 8.5 21.578125 \r\nz\r\nM 31.109375 56 \r\nz\r\n\" id=\"DejaVuSans-117\"/>\r\n       <path d=\"M 9.421875 75.984375 \r\nL 18.40625 75.984375 \r\nL 18.40625 0 \r\nL 9.421875 0 \r\nz\r\n\" id=\"DejaVuSans-108\"/>\r\n       <path d=\"M 34.28125 27.484375 \r\nQ 23.390625 27.484375 19.1875 25 \r\nQ 14.984375 22.515625 14.984375 16.5 \r\nQ 14.984375 11.71875 18.140625 8.90625 \r\nQ 21.296875 6.109375 26.703125 6.109375 \r\nQ 34.1875 6.109375 38.703125 11.40625 \r\nQ 43.21875 16.703125 43.21875 25.484375 \r\nL 43.21875 27.484375 \r\nz\r\nM 52.203125 31.203125 \r\nL 52.203125 0 \r\nL 43.21875 0 \r\nL 43.21875 8.296875 \r\nQ 40.140625 3.328125 35.546875 0.953125 \r\nQ 30.953125 -1.421875 24.3125 -1.421875 \r\nQ 15.921875 -1.421875 10.953125 3.296875 \r\nQ 6 8.015625 6 15.921875 \r\nQ 6 25.140625 12.171875 29.828125 \r\nQ 18.359375 34.515625 30.609375 34.515625 \r\nL 43.21875 34.515625 \r\nL 43.21875 35.40625 \r\nQ 43.21875 41.609375 39.140625 45 \r\nQ 35.0625 48.390625 27.6875 48.390625 \r\nQ 23 48.390625 18.546875 47.265625 \r\nQ 14.109375 46.140625 10.015625 43.890625 \r\nL 10.015625 52.203125 \r\nQ 14.9375 54.109375 19.578125 55.046875 \r\nQ 24.21875 56 28.609375 56 \r\nQ 40.484375 56 46.34375 49.84375 \r\nQ 52.203125 43.703125 52.203125 31.203125 \r\nz\r\n\" id=\"DejaVuSans-97\"/>\r\n       <path d=\"M 41.109375 46.296875 \r\nQ 39.59375 47.171875 37.8125 47.578125 \r\nQ 36.03125 48 33.890625 48 \r\nQ 26.265625 48 22.1875 43.046875 \r\nQ 18.109375 38.09375 18.109375 28.8125 \r\nL 18.109375 0 \r\nL 9.078125 0 \r\nL 9.078125 54.6875 \r\nL 18.109375 54.6875 \r\nL 18.109375 46.1875 \r\nQ 20.953125 51.171875 25.484375 53.578125 \r\nQ 30.03125 56 36.53125 56 \r\nQ 37.453125 56 38.578125 55.875 \r\nQ 39.703125 55.765625 41.0625 55.515625 \r\nz\r\n\" id=\"DejaVuSans-114\"/>\r\n       <path d=\"M 9.421875 54.6875 \r\nL 18.40625 54.6875 \r\nL 18.40625 0 \r\nL 9.421875 0 \r\nz\r\nM 9.421875 75.984375 \r\nL 18.40625 75.984375 \r\nL 18.40625 64.59375 \r\nL 9.421875 64.59375 \r\nz\r\n\" id=\"DejaVuSans-105\"/>\r\n       <path d=\"M 18.3125 70.21875 \r\nL 18.3125 54.6875 \r\nL 36.8125 54.6875 \r\nL 36.8125 47.703125 \r\nL 18.3125 47.703125 \r\nL 18.3125 18.015625 \r\nQ 18.3125 11.328125 20.140625 9.421875 \r\nQ 21.96875 7.515625 27.59375 7.515625 \r\nL 36.8125 7.515625 \r\nL 36.8125 0 \r\nL 27.59375 0 \r\nQ 17.1875 0 13.234375 3.875 \r\nQ 9.28125 7.765625 9.28125 18.015625 \r\nL 9.28125 47.703125 \r\nL 2.6875 47.703125 \r\nL 2.6875 54.6875 \r\nL 9.28125 54.6875 \r\nL 9.28125 70.21875 \r\nz\r\n\" id=\"DejaVuSans-116\"/>\r\n       <path d=\"M 32.171875 -5.078125 \r\nQ 28.375 -14.84375 24.75 -17.8125 \r\nQ 21.140625 -20.796875 15.09375 -20.796875 \r\nL 7.90625 -20.796875 \r\nL 7.90625 -13.28125 \r\nL 13.1875 -13.28125 \r\nQ 16.890625 -13.28125 18.9375 -11.515625 \r\nQ 21 -9.765625 23.484375 -3.21875 \r\nL 25.09375 0.875 \r\nL 2.984375 54.6875 \r\nL 12.5 54.6875 \r\nL 29.59375 11.921875 \r\nL 46.6875 54.6875 \r\nL 56.203125 54.6875 \r\nz\r\n\" id=\"DejaVuSans-121\"/>\r\n       <path id=\"DejaVuSans-32\"/>\r\n       <path d=\"M 54.890625 33.015625 \r\nL 54.890625 0 \r\nL 45.90625 0 \r\nL 45.90625 32.71875 \r\nQ 45.90625 40.484375 42.875 44.328125 \r\nQ 39.84375 48.1875 33.796875 48.1875 \r\nQ 26.515625 48.1875 22.3125 43.546875 \r\nQ 18.109375 38.921875 18.109375 30.90625 \r\nL 18.109375 0 \r\nL 9.078125 0 \r\nL 9.078125 54.6875 \r\nL 18.109375 54.6875 \r\nL 18.109375 46.1875 \r\nQ 21.34375 51.125 25.703125 53.5625 \r\nQ 30.078125 56 35.796875 56 \r\nQ 45.21875 56 50.046875 50.171875 \r\nQ 54.890625 44.34375 54.890625 33.015625 \r\nz\r\n\" id=\"DejaVuSans-110\"/>\r\n       <path d=\"M 9.8125 72.90625 \r\nL 19.671875 72.90625 \r\nL 19.671875 5.078125 \r\nQ 19.671875 -8.109375 14.671875 -14.0625 \r\nQ 9.671875 -20.015625 -1.421875 -20.015625 \r\nL -5.171875 -20.015625 \r\nL -5.171875 -11.71875 \r\nL -2.09375 -11.71875 \r\nQ 4.4375 -11.71875 7.125 -8.046875 \r\nQ 9.8125 -4.390625 9.8125 5.078125 \r\nz\r\n\" id=\"DejaVuSans-74\"/>\r\n       <path d=\"M 48.6875 27.296875 \r\nQ 48.6875 37.203125 44.609375 42.84375 \r\nQ 40.53125 48.484375 33.40625 48.484375 \r\nQ 26.265625 48.484375 22.1875 42.84375 \r\nQ 18.109375 37.203125 18.109375 27.296875 \r\nQ 18.109375 17.390625 22.1875 11.75 \r\nQ 26.265625 6.109375 33.40625 6.109375 \r\nQ 40.53125 6.109375 44.609375 11.75 \r\nQ 48.6875 17.390625 48.6875 27.296875 \r\nz\r\nM 18.109375 46.390625 \r\nQ 20.953125 51.265625 25.265625 53.625 \r\nQ 29.59375 56 35.59375 56 \r\nQ 45.5625 56 51.78125 48.09375 \r\nQ 58.015625 40.1875 58.015625 27.296875 \r\nQ 58.015625 14.40625 51.78125 6.484375 \r\nQ 45.5625 -1.421875 35.59375 -1.421875 \r\nQ 29.59375 -1.421875 25.265625 0.953125 \r\nQ 20.953125 3.328125 18.109375 8.203125 \r\nL 18.109375 0 \r\nL 9.078125 0 \r\nL 9.078125 75.984375 \r\nL 18.109375 75.984375 \r\nz\r\n\" id=\"DejaVuSans-98\"/>\r\n       <path d=\"M 44.28125 53.078125 \r\nL 44.28125 44.578125 \r\nQ 40.484375 46.53125 36.375 47.5 \r\nQ 32.28125 48.484375 27.875 48.484375 \r\nQ 21.1875 48.484375 17.84375 46.4375 \r\nQ 14.5 44.390625 14.5 40.28125 \r\nQ 14.5 37.15625 16.890625 35.375 \r\nQ 19.28125 33.59375 26.515625 31.984375 \r\nL 29.59375 31.296875 \r\nQ 39.15625 29.25 43.1875 25.515625 \r\nQ 47.21875 21.78125 47.21875 15.09375 \r\nQ 47.21875 7.46875 41.1875 3.015625 \r\nQ 35.15625 -1.421875 24.609375 -1.421875 \r\nQ 20.21875 -1.421875 15.453125 -0.5625 \r\nQ 10.6875 0.296875 5.421875 2 \r\nL 5.421875 11.28125 \r\nQ 10.40625 8.6875 15.234375 7.390625 \r\nQ 20.0625 6.109375 24.8125 6.109375 \r\nQ 31.15625 6.109375 34.5625 8.28125 \r\nQ 37.984375 10.453125 37.984375 14.40625 \r\nQ 37.984375 18.0625 35.515625 20.015625 \r\nQ 33.0625 21.96875 24.703125 23.78125 \r\nL 21.578125 24.515625 \r\nQ 13.234375 26.265625 9.515625 29.90625 \r\nQ 5.8125 33.546875 5.8125 39.890625 \r\nQ 5.8125 47.609375 11.28125 51.796875 \r\nQ 16.75 56 26.8125 56 \r\nQ 31.78125 56 36.171875 55.265625 \r\nQ 40.578125 54.546875 44.28125 53.078125 \r\nz\r\n\" id=\"DejaVuSans-115\"/>\r\n       <path d=\"M 45.40625 27.984375 \r\nQ 45.40625 37.75 41.375 43.109375 \r\nQ 37.359375 48.484375 30.078125 48.484375 \r\nQ 22.859375 48.484375 18.828125 43.109375 \r\nQ 14.796875 37.75 14.796875 27.984375 \r\nQ 14.796875 18.265625 18.828125 12.890625 \r\nQ 22.859375 7.515625 30.078125 7.515625 \r\nQ 37.359375 7.515625 41.375 12.890625 \r\nQ 45.40625 18.265625 45.40625 27.984375 \r\nz\r\nM 54.390625 6.78125 \r\nQ 54.390625 -7.171875 48.1875 -13.984375 \r\nQ 42 -20.796875 29.203125 -20.796875 \r\nQ 24.46875 -20.796875 20.265625 -20.09375 \r\nQ 16.0625 -19.390625 12.109375 -17.921875 \r\nL 12.109375 -9.1875 \r\nQ 16.0625 -11.328125 19.921875 -12.34375 \r\nQ 23.78125 -13.375 27.78125 -13.375 \r\nQ 36.625 -13.375 41.015625 -8.765625 \r\nQ 45.40625 -4.15625 45.40625 5.171875 \r\nL 45.40625 9.625 \r\nQ 42.625 4.78125 38.28125 2.390625 \r\nQ 33.9375 0 27.875 0 \r\nQ 17.828125 0 11.671875 7.65625 \r\nQ 5.515625 15.328125 5.515625 27.984375 \r\nQ 5.515625 40.671875 11.671875 48.328125 \r\nQ 17.828125 56 27.875 56 \r\nQ 33.9375 56 38.28125 53.609375 \r\nQ 42.625 51.21875 45.40625 46.390625 \r\nL 45.40625 54.6875 \r\nL 54.390625 54.6875 \r\nz\r\n\" id=\"DejaVuSans-103\"/>\r\n      </defs>\r\n      <use xlink:href=\"#DejaVuSans-80\"/>\r\n      <use x=\"56.677734\" xlink:href=\"#DejaVuSans-111\"/>\r\n      <use x=\"117.859375\" xlink:href=\"#DejaVuSans-112\"/>\r\n      <use x=\"181.335938\" xlink:href=\"#DejaVuSans-117\"/>\r\n      <use x=\"244.714844\" xlink:href=\"#DejaVuSans-108\"/>\r\n      <use x=\"272.498047\" xlink:href=\"#DejaVuSans-97\"/>\r\n      <use x=\"333.777344\" xlink:href=\"#DejaVuSans-114\"/>\r\n      <use x=\"374.890625\" xlink:href=\"#DejaVuSans-105\"/>\r\n      <use x=\"402.673828\" xlink:href=\"#DejaVuSans-116\"/>\r\n      <use x=\"441.882812\" xlink:href=\"#DejaVuSans-121\"/>\r\n      <use x=\"501.0625\" xlink:href=\"#DejaVuSans-32\"/>\r\n      <use x=\"532.849609\" xlink:href=\"#DejaVuSans-111\"/>\r\n      <use x=\"594.03125\" xlink:href=\"#DejaVuSans-110\"/>\r\n      <use x=\"657.410156\" xlink:href=\"#DejaVuSans-32\"/>\r\n      <use x=\"689.197266\" xlink:href=\"#DejaVuSans-74\"/>\r\n      <use x=\"718.689453\" xlink:href=\"#DejaVuSans-111\"/>\r\n      <use x=\"779.871094\" xlink:href=\"#DejaVuSans-98\"/>\r\n      <use x=\"843.347656\" xlink:href=\"#DejaVuSans-32\"/>\r\n      <use x=\"875.134766\" xlink:href=\"#DejaVuSans-80\"/>\r\n      <use x=\"931.8125\" xlink:href=\"#DejaVuSans-111\"/>\r\n      <use x=\"992.994141\" xlink:href=\"#DejaVuSans-115\"/>\r\n      <use x=\"1045.09375\" xlink:href=\"#DejaVuSans-116\"/>\r\n      <use x=\"1084.302734\" xlink:href=\"#DejaVuSans-105\"/>\r\n      <use x=\"1112.085938\" xlink:href=\"#DejaVuSans-110\"/>\r\n      <use x=\"1175.464844\" xlink:href=\"#DejaVuSans-103\"/>\r\n     </g>\r\n    </g>\r\n   </g>\r\n   <g id=\"matplotlib.axis_2\">\r\n    <g id=\"text_2\">\r\n     <!-- Popularity on Resumes -->\r\n     <g transform=\"translate(31.189312 173.030156)rotate(-90)scale(0.1 -0.1)\">\r\n      <defs>\r\n       <path d=\"M 44.390625 34.1875 \r\nQ 47.5625 33.109375 50.5625 29.59375 \r\nQ 53.5625 26.078125 56.59375 19.921875 \r\nL 66.609375 0 \r\nL 56 0 \r\nL 46.6875 18.703125 \r\nQ 43.0625 26.03125 39.671875 28.421875 \r\nQ 36.28125 30.8125 30.421875 30.8125 \r\nL 19.671875 30.8125 \r\nL 19.671875 0 \r\nL 9.8125 0 \r\nL 9.8125 72.90625 \r\nL 32.078125 72.90625 \r\nQ 44.578125 72.90625 50.734375 67.671875 \r\nQ 56.890625 62.453125 56.890625 51.90625 \r\nQ 56.890625 45.015625 53.6875 40.46875 \r\nQ 50.484375 35.9375 44.390625 34.1875 \r\nz\r\nM 19.671875 64.796875 \r\nL 19.671875 38.921875 \r\nL 32.078125 38.921875 \r\nQ 39.203125 38.921875 42.84375 42.21875 \r\nQ 46.484375 45.515625 46.484375 51.90625 \r\nQ 46.484375 58.296875 42.84375 61.546875 \r\nQ 39.203125 64.796875 32.078125 64.796875 \r\nz\r\n\" id=\"DejaVuSans-82\"/>\r\n       <path d=\"M 56.203125 29.59375 \r\nL 56.203125 25.203125 \r\nL 14.890625 25.203125 \r\nQ 15.484375 15.921875 20.484375 11.0625 \r\nQ 25.484375 6.203125 34.421875 6.203125 \r\nQ 39.59375 6.203125 44.453125 7.46875 \r\nQ 49.3125 8.734375 54.109375 11.28125 \r\nL 54.109375 2.78125 \r\nQ 49.265625 0.734375 44.1875 -0.34375 \r\nQ 39.109375 -1.421875 33.890625 -1.421875 \r\nQ 20.796875 -1.421875 13.15625 6.1875 \r\nQ 5.515625 13.8125 5.515625 26.8125 \r\nQ 5.515625 40.234375 12.765625 48.109375 \r\nQ 20.015625 56 32.328125 56 \r\nQ 43.359375 56 49.78125 48.890625 \r\nQ 56.203125 41.796875 56.203125 29.59375 \r\nz\r\nM 47.21875 32.234375 \r\nQ 47.125 39.59375 43.09375 43.984375 \r\nQ 39.0625 48.390625 32.421875 48.390625 \r\nQ 24.90625 48.390625 20.390625 44.140625 \r\nQ 15.875 39.890625 15.1875 32.171875 \r\nz\r\n\" id=\"DejaVuSans-101\"/>\r\n       <path d=\"M 52 44.1875 \r\nQ 55.375 50.25 60.0625 53.125 \r\nQ 64.75 56 71.09375 56 \r\nQ 79.640625 56 84.28125 50.015625 \r\nQ 88.921875 44.046875 88.921875 33.015625 \r\nL 88.921875 0 \r\nL 79.890625 0 \r\nL 79.890625 32.71875 \r\nQ 79.890625 40.578125 77.09375 44.375 \r\nQ 74.3125 48.1875 68.609375 48.1875 \r\nQ 61.625 48.1875 57.5625 43.546875 \r\nQ 53.515625 38.921875 53.515625 30.90625 \r\nL 53.515625 0 \r\nL 44.484375 0 \r\nL 44.484375 32.71875 \r\nQ 44.484375 40.625 41.703125 44.40625 \r\nQ 38.921875 48.1875 33.109375 48.1875 \r\nQ 26.21875 48.1875 22.15625 43.53125 \r\nQ 18.109375 38.875 18.109375 30.90625 \r\nL 18.109375 0 \r\nL 9.078125 0 \r\nL 9.078125 54.6875 \r\nL 18.109375 54.6875 \r\nL 18.109375 46.1875 \r\nQ 21.1875 51.21875 25.484375 53.609375 \r\nQ 29.78125 56 35.6875 56 \r\nQ 41.65625 56 45.828125 52.96875 \r\nQ 50 49.953125 52 44.1875 \r\nz\r\n\" id=\"DejaVuSans-109\"/>\r\n      </defs>\r\n      <use xlink:href=\"#DejaVuSans-80\"/>\r\n      <use x=\"56.677734\" xlink:href=\"#DejaVuSans-111\"/>\r\n      <use x=\"117.859375\" xlink:href=\"#DejaVuSans-112\"/>\r\n      <use x=\"181.335938\" xlink:href=\"#DejaVuSans-117\"/>\r\n      <use x=\"244.714844\" xlink:href=\"#DejaVuSans-108\"/>\r\n      <use x=\"272.498047\" xlink:href=\"#DejaVuSans-97\"/>\r\n      <use x=\"333.777344\" xlink:href=\"#DejaVuSans-114\"/>\r\n      <use x=\"374.890625\" xlink:href=\"#DejaVuSans-105\"/>\r\n      <use x=\"402.673828\" xlink:href=\"#DejaVuSans-116\"/>\r\n      <use x=\"441.882812\" xlink:href=\"#DejaVuSans-121\"/>\r\n      <use x=\"501.0625\" xlink:href=\"#DejaVuSans-32\"/>\r\n      <use x=\"532.849609\" xlink:href=\"#DejaVuSans-111\"/>\r\n      <use x=\"594.03125\" xlink:href=\"#DejaVuSans-110\"/>\r\n      <use x=\"657.410156\" xlink:href=\"#DejaVuSans-32\"/>\r\n      <use x=\"689.197266\" xlink:href=\"#DejaVuSans-82\"/>\r\n      <use x=\"754.179688\" xlink:href=\"#DejaVuSans-101\"/>\r\n      <use x=\"815.703125\" xlink:href=\"#DejaVuSans-115\"/>\r\n      <use x=\"867.802734\" xlink:href=\"#DejaVuSans-117\"/>\r\n      <use x=\"931.181641\" xlink:href=\"#DejaVuSans-109\"/>\r\n      <use x=\"1028.59375\" xlink:href=\"#DejaVuSans-101\"/>\r\n      <use x=\"1090.117188\" xlink:href=\"#DejaVuSans-115\"/>\r\n     </g>\r\n    </g>\r\n   </g>\r\n   <g id=\"patch_3\">\r\n    <path d=\"M 37.269 224.64 \r\nL 37.269 7.2 \r\n\" style=\"fill:none;stroke:#000000;stroke-linecap:square;stroke-linejoin:miter;stroke-width:0.8;\"/>\r\n   </g>\r\n   <g id=\"patch_4\">\r\n    <path d=\"M 372.069 224.64 \r\nL 372.069 7.2 \r\n\" style=\"fill:none;stroke:#000000;stroke-linecap:square;stroke-linejoin:miter;stroke-width:0.8;\"/>\r\n   </g>\r\n   <g id=\"patch_5\">\r\n    <path d=\"M 37.269 224.64 \r\nL 372.069 224.64 \r\n\" style=\"fill:none;stroke:#000000;stroke-linecap:square;stroke-linejoin:miter;stroke-width:0.8;\"/>\r\n   </g>\r\n   <g id=\"patch_6\">\r\n    <path d=\"M 37.269 7.2 \r\nL 372.069 7.2 \r\n\" style=\"fill:none;stroke:#000000;stroke-linecap:square;stroke-linejoin:miter;stroke-width:0.8;\"/>\r\n   </g>\r\n   <g id=\"text_3\">\r\n    <!-- Big data -->\r\n    <g transform=\"translate(331.420641 197.404781)scale(0.195 -0.195)\">\r\n     <defs>\r\n      <path d=\"M 19.671875 34.8125 \r\nL 19.671875 8.109375 \r\nL 35.5 8.109375 \r\nQ 43.453125 8.109375 47.28125 11.40625 \r\nQ 51.125 14.703125 51.125 21.484375 \r\nQ 51.125 28.328125 47.28125 31.5625 \r\nQ 43.453125 34.8125 35.5 34.8125 \r\nz\r\nM 19.671875 64.796875 \r\nL 19.671875 42.828125 \r\nL 34.28125 42.828125 \r\nQ 41.5 42.828125 45.03125 45.53125 \r\nQ 48.578125 48.25 48.578125 53.8125 \r\nQ 48.578125 59.328125 45.03125 62.0625 \r\nQ 41.5 64.796875 34.28125 64.796875 \r\nz\r\nM 9.8125 72.90625 \r\nL 35.015625 72.90625 \r\nQ 46.296875 72.90625 52.390625 68.21875 \r\nQ 58.5 63.53125 58.5 54.890625 \r\nQ 58.5 48.1875 55.375 44.234375 \r\nQ 52.25 40.28125 46.1875 39.3125 \r\nQ 53.46875 37.75 57.5 32.78125 \r\nQ 61.53125 27.828125 61.53125 20.40625 \r\nQ 61.53125 10.640625 54.890625 5.3125 \r\nQ 48.25 0 35.984375 0 \r\nL 9.8125 0 \r\nz\r\n\" id=\"DejaVuSans-66\"/>\r\n      <path d=\"M 45.40625 46.390625 \r\nL 45.40625 75.984375 \r\nL 54.390625 75.984375 \r\nL 54.390625 0 \r\nL 45.40625 0 \r\nL 45.40625 8.203125 \r\nQ 42.578125 3.328125 38.25 0.953125 \r\nQ 33.9375 -1.421875 27.875 -1.421875 \r\nQ 17.96875 -1.421875 11.734375 6.484375 \r\nQ 5.515625 14.40625 5.515625 27.296875 \r\nQ 5.515625 40.1875 11.734375 48.09375 \r\nQ 17.96875 56 27.875 56 \r\nQ 33.9375 56 38.25 53.625 \r\nQ 42.578125 51.265625 45.40625 46.390625 \r\nz\r\nM 14.796875 27.296875 \r\nQ 14.796875 17.390625 18.875 11.75 \r\nQ 22.953125 6.109375 30.078125 6.109375 \r\nQ 37.203125 6.109375 41.296875 11.75 \r\nQ 45.40625 17.390625 45.40625 27.296875 \r\nQ 45.40625 37.203125 41.296875 42.84375 \r\nQ 37.203125 48.484375 30.078125 48.484375 \r\nQ 22.953125 48.484375 18.875 42.84375 \r\nQ 14.796875 37.203125 14.796875 27.296875 \r\nz\r\n\" id=\"DejaVuSans-100\"/>\r\n     </defs>\r\n     <use xlink:href=\"#DejaVuSans-66\"/>\r\n     <use x=\"68.603516\" xlink:href=\"#DejaVuSans-105\"/>\r\n     <use x=\"96.386719\" xlink:href=\"#DejaVuSans-103\"/>\r\n     <use x=\"159.863281\" xlink:href=\"#DejaVuSans-32\"/>\r\n     <use x=\"191.650391\" xlink:href=\"#DejaVuSans-100\"/>\r\n     <use x=\"255.126953\" xlink:href=\"#DejaVuSans-97\"/>\r\n     <use x=\"316.40625\" xlink:href=\"#DejaVuSans-116\"/>\r\n     <use x=\"355.615234\" xlink:href=\"#DejaVuSans-97\"/>\r\n    </g>\r\n   </g>\r\n   <g id=\"text_4\">\r\n    <!-- Hadoop -->\r\n    <g transform=\"translate(316.746188 175.79875)scale(0.2 -0.2)\">\r\n     <defs>\r\n      <path d=\"M 9.8125 72.90625 \r\nL 19.671875 72.90625 \r\nL 19.671875 43.015625 \r\nL 55.515625 43.015625 \r\nL 55.515625 72.90625 \r\nL 65.375 72.90625 \r\nL 65.375 0 \r\nL 55.515625 0 \r\nL 55.515625 34.71875 \r\nL 19.671875 34.71875 \r\nL 19.671875 0 \r\nL 9.8125 0 \r\nz\r\n\" id=\"DejaVuSans-72\"/>\r\n     </defs>\r\n     <use xlink:href=\"#DejaVuSans-72\"/>\r\n     <use x=\"75.195312\" xlink:href=\"#DejaVuSans-97\"/>\r\n     <use x=\"136.474609\" xlink:href=\"#DejaVuSans-100\"/>\r\n     <use x=\"199.951172\" xlink:href=\"#DejaVuSans-111\"/>\r\n     <use x=\"261.132812\" xlink:href=\"#DejaVuSans-111\"/>\r\n     <use x=\"322.314453\" xlink:href=\"#DejaVuSans-112\"/>\r\n    </g>\r\n   </g>\r\n   <g id=\"text_5\">\r\n    <!-- Python -->\r\n    <g transform=\"translate(252.839938 121.576719)scale(0.205 -0.205)\">\r\n     <defs>\r\n      <path d=\"M 54.890625 33.015625 \r\nL 54.890625 0 \r\nL 45.90625 0 \r\nL 45.90625 32.71875 \r\nQ 45.90625 40.484375 42.875 44.328125 \r\nQ 39.84375 48.1875 33.796875 48.1875 \r\nQ 26.515625 48.1875 22.3125 43.546875 \r\nQ 18.109375 38.921875 18.109375 30.90625 \r\nL 18.109375 0 \r\nL 9.078125 0 \r\nL 9.078125 75.984375 \r\nL 18.109375 75.984375 \r\nL 18.109375 46.1875 \r\nQ 21.34375 51.125 25.703125 53.5625 \r\nQ 30.078125 56 35.796875 56 \r\nQ 45.21875 56 50.046875 50.171875 \r\nQ 54.890625 44.34375 54.890625 33.015625 \r\nz\r\n\" id=\"DejaVuSans-104\"/>\r\n     </defs>\r\n     <use xlink:href=\"#DejaVuSans-80\"/>\r\n     <use x=\"60.302734\" xlink:href=\"#DejaVuSans-121\"/>\r\n     <use x=\"119.482422\" xlink:href=\"#DejaVuSans-116\"/>\r\n     <use x=\"158.691406\" xlink:href=\"#DejaVuSans-104\"/>\r\n     <use x=\"222.070312\" xlink:href=\"#DejaVuSans-111\"/>\r\n     <use x=\"283.251953\" xlink:href=\"#DejaVuSans-110\"/>\r\n    </g>\r\n   </g>\r\n   <g id=\"text_6\">\r\n    <!-- R -->\r\n    <g transform=\"translate(198.762828 142.354937)scale(0.17 -0.17)\">\r\n     <use xlink:href=\"#DejaVuSans-82\"/>\r\n    </g>\r\n   </g>\r\n   <g id=\"text_7\">\r\n    <!-- Machine Learning -->\r\n    <g transform=\"translate(225.499781 186.118875)scale(0.18 -0.18)\">\r\n     <defs>\r\n      <path d=\"M 9.8125 72.90625 \r\nL 24.515625 72.90625 \r\nL 43.109375 23.296875 \r\nL 61.8125 72.90625 \r\nL 76.515625 72.90625 \r\nL 76.515625 0 \r\nL 66.890625 0 \r\nL 66.890625 64.015625 \r\nL 48.09375 14.015625 \r\nL 38.1875 14.015625 \r\nL 19.390625 64.015625 \r\nL 19.390625 0 \r\nL 9.8125 0 \r\nz\r\n\" id=\"DejaVuSans-77\"/>\r\n      <path d=\"M 48.78125 52.59375 \r\nL 48.78125 44.1875 \r\nQ 44.96875 46.296875 41.140625 47.34375 \r\nQ 37.3125 48.390625 33.40625 48.390625 \r\nQ 24.65625 48.390625 19.8125 42.84375 \r\nQ 14.984375 37.3125 14.984375 27.296875 \r\nQ 14.984375 17.28125 19.8125 11.734375 \r\nQ 24.65625 6.203125 33.40625 6.203125 \r\nQ 37.3125 6.203125 41.140625 7.25 \r\nQ 44.96875 8.296875 48.78125 10.40625 \r\nL 48.78125 2.09375 \r\nQ 45.015625 0.34375 40.984375 -0.53125 \r\nQ 36.96875 -1.421875 32.421875 -1.421875 \r\nQ 20.0625 -1.421875 12.78125 6.34375 \r\nQ 5.515625 14.109375 5.515625 27.296875 \r\nQ 5.515625 40.671875 12.859375 48.328125 \r\nQ 20.21875 56 33.015625 56 \r\nQ 37.15625 56 41.109375 55.140625 \r\nQ 45.0625 54.296875 48.78125 52.59375 \r\nz\r\n\" id=\"DejaVuSans-99\"/>\r\n      <path d=\"M 9.8125 72.90625 \r\nL 19.671875 72.90625 \r\nL 19.671875 8.296875 \r\nL 55.171875 8.296875 \r\nL 55.171875 0 \r\nL 9.8125 0 \r\nz\r\n\" id=\"DejaVuSans-76\"/>\r\n     </defs>\r\n     <use xlink:href=\"#DejaVuSans-77\"/>\r\n     <use x=\"86.279297\" xlink:href=\"#DejaVuSans-97\"/>\r\n     <use x=\"147.558594\" xlink:href=\"#DejaVuSans-99\"/>\r\n     <use x=\"202.539062\" xlink:href=\"#DejaVuSans-104\"/>\r\n     <use x=\"265.917969\" xlink:href=\"#DejaVuSans-105\"/>\r\n     <use x=\"293.701172\" xlink:href=\"#DejaVuSans-110\"/>\r\n     <use x=\"357.080078\" xlink:href=\"#DejaVuSans-101\"/>\r\n     <use x=\"418.603516\" xlink:href=\"#DejaVuSans-32\"/>\r\n     <use x=\"450.390625\" xlink:href=\"#DejaVuSans-76\"/>\r\n     <use x=\"504.353516\" xlink:href=\"#DejaVuSans-101\"/>\r\n     <use x=\"565.876953\" xlink:href=\"#DejaVuSans-97\"/>\r\n     <use x=\"627.15625\" xlink:href=\"#DejaVuSans-114\"/>\r\n     <use x=\"666.519531\" xlink:href=\"#DejaVuSans-110\"/>\r\n     <use x=\"729.898438\" xlink:href=\"#DejaVuSans-105\"/>\r\n     <use x=\"757.681641\" xlink:href=\"#DejaVuSans-110\"/>\r\n     <use x=\"821.060547\" xlink:href=\"#DejaVuSans-103\"/>\r\n    </g>\r\n   </g>\r\n   <g id=\"text_8\">\r\n    <!-- Statistics -->\r\n    <g transform=\"translate(67.66025 98.591)scale(0.16 -0.16)\">\r\n     <defs>\r\n      <path d=\"M 53.515625 70.515625 \r\nL 53.515625 60.890625 \r\nQ 47.90625 63.578125 42.921875 64.890625 \r\nQ 37.9375 66.21875 33.296875 66.21875 \r\nQ 25.25 66.21875 20.875 63.09375 \r\nQ 16.5 59.96875 16.5 54.203125 \r\nQ 16.5 49.359375 19.40625 46.890625 \r\nQ 22.3125 44.4375 30.421875 42.921875 \r\nL 36.375 41.703125 \r\nQ 47.40625 39.59375 52.65625 34.296875 \r\nQ 57.90625 29 57.90625 20.125 \r\nQ 57.90625 9.515625 50.796875 4.046875 \r\nQ 43.703125 -1.421875 29.984375 -1.421875 \r\nQ 24.8125 -1.421875 18.96875 -0.25 \r\nQ 13.140625 0.921875 6.890625 3.21875 \r\nL 6.890625 13.375 \r\nQ 12.890625 10.015625 18.65625 8.296875 \r\nQ 24.421875 6.59375 29.984375 6.59375 \r\nQ 38.421875 6.59375 43.015625 9.90625 \r\nQ 47.609375 13.234375 47.609375 19.390625 \r\nQ 47.609375 24.75 44.3125 27.78125 \r\nQ 41.015625 30.8125 33.5 32.328125 \r\nL 27.484375 33.5 \r\nQ 16.453125 35.6875 11.515625 40.375 \r\nQ 6.59375 45.0625 6.59375 53.421875 \r\nQ 6.59375 63.09375 13.40625 68.65625 \r\nQ 20.21875 74.21875 32.171875 74.21875 \r\nQ 37.3125 74.21875 42.625 73.28125 \r\nQ 47.953125 72.359375 53.515625 70.515625 \r\nz\r\n\" id=\"DejaVuSans-83\"/>\r\n     </defs>\r\n     <use xlink:href=\"#DejaVuSans-83\"/>\r\n     <use x=\"63.476562\" xlink:href=\"#DejaVuSans-116\"/>\r\n     <use x=\"102.685547\" xlink:href=\"#DejaVuSans-97\"/>\r\n     <use x=\"163.964844\" xlink:href=\"#DejaVuSans-116\"/>\r\n     <use x=\"203.173828\" xlink:href=\"#DejaVuSans-105\"/>\r\n     <use x=\"230.957031\" xlink:href=\"#DejaVuSans-115\"/>\r\n     <use x=\"283.056641\" xlink:href=\"#DejaVuSans-116\"/>\r\n     <use x=\"322.265625\" xlink:href=\"#DejaVuSans-105\"/>\r\n     <use x=\"350.048828\" xlink:href=\"#DejaVuSans-99\"/>\r\n     <use x=\"405.029297\" xlink:href=\"#DejaVuSans-115\"/>\r\n    </g>\r\n   </g>\r\n   <g id=\"text_9\">\r\n    <!-- Data Science -->\r\n    <g transform=\"translate(169.036031 78.226687)scale(0.21 -0.21)\">\r\n     <defs>\r\n      <path d=\"M 19.671875 64.796875 \r\nL 19.671875 8.109375 \r\nL 31.59375 8.109375 \r\nQ 46.6875 8.109375 53.6875 14.9375 \r\nQ 60.6875 21.78125 60.6875 36.53125 \r\nQ 60.6875 51.171875 53.6875 57.984375 \r\nQ 46.6875 64.796875 31.59375 64.796875 \r\nz\r\nM 9.8125 72.90625 \r\nL 30.078125 72.90625 \r\nQ 51.265625 72.90625 61.171875 64.09375 \r\nQ 71.09375 55.28125 71.09375 36.53125 \r\nQ 71.09375 17.671875 61.125 8.828125 \r\nQ 51.171875 0 30.078125 0 \r\nL 9.8125 0 \r\nz\r\n\" id=\"DejaVuSans-68\"/>\r\n     </defs>\r\n     <use xlink:href=\"#DejaVuSans-68\"/>\r\n     <use x=\"77.001953\" xlink:href=\"#DejaVuSans-97\"/>\r\n     <use x=\"138.28125\" xlink:href=\"#DejaVuSans-116\"/>\r\n     <use x=\"177.490234\" xlink:href=\"#DejaVuSans-97\"/>\r\n     <use x=\"238.769531\" xlink:href=\"#DejaVuSans-32\"/>\r\n     <use x=\"270.556641\" xlink:href=\"#DejaVuSans-83\"/>\r\n     <use x=\"334.033203\" xlink:href=\"#DejaVuSans-99\"/>\r\n     <use x=\"389.013672\" xlink:href=\"#DejaVuSans-105\"/>\r\n     <use x=\"416.796875\" xlink:href=\"#DejaVuSans-101\"/>\r\n     <use x=\"478.320312\" xlink:href=\"#DejaVuSans-110\"/>\r\n     <use x=\"541.699219\" xlink:href=\"#DejaVuSans-99\"/>\r\n     <use x=\"596.679688\" xlink:href=\"#DejaVuSans-101\"/>\r\n    </g>\r\n   </g>\r\n   <g id=\"text_10\">\r\n    <!-- analytics -->\r\n    <g transform=\"translate(299.926203 222.890519)scale(0.173 -0.173)\">\r\n     <use xlink:href=\"#DejaVuSans-97\"/>\r\n     <use x=\"61.279297\" xlink:href=\"#DejaVuSans-110\"/>\r\n     <use x=\"124.658203\" xlink:href=\"#DejaVuSans-97\"/>\r\n     <use x=\"185.9375\" xlink:href=\"#DejaVuSans-108\"/>\r\n     <use x=\"213.720703\" xlink:href=\"#DejaVuSans-121\"/>\r\n     <use x=\"272.900391\" xlink:href=\"#DejaVuSans-116\"/>\r\n     <use x=\"312.109375\" xlink:href=\"#DejaVuSans-105\"/>\r\n     <use x=\"339.892578\" xlink:href=\"#DejaVuSans-99\"/>\r\n     <use x=\"394.873047\" xlink:href=\"#DejaVuSans-115\"/>\r\n    </g>\r\n   </g>\r\n   <g id=\"text_11\">\r\n    <!-- Team Player -->\r\n    <g transform=\"translate(245.940797 46.714437)scale(0.25 -0.25)\">\r\n     <defs>\r\n      <path d=\"M -0.296875 72.90625 \r\nL 61.375 72.90625 \r\nL 61.375 64.59375 \r\nL 35.5 64.59375 \r\nL 35.5 0 \r\nL 25.59375 0 \r\nL 25.59375 64.59375 \r\nL -0.296875 64.59375 \r\nz\r\n\" id=\"DejaVuSans-84\"/>\r\n     </defs>\r\n     <use xlink:href=\"#DejaVuSans-84\"/>\r\n     <use x=\"44.083984\" xlink:href=\"#DejaVuSans-101\"/>\r\n     <use x=\"105.607422\" xlink:href=\"#DejaVuSans-97\"/>\r\n     <use x=\"166.886719\" xlink:href=\"#DejaVuSans-109\"/>\r\n     <use x=\"264.298828\" xlink:href=\"#DejaVuSans-32\"/>\r\n     <use x=\"296.085938\" xlink:href=\"#DejaVuSans-80\"/>\r\n     <use x=\"356.388672\" xlink:href=\"#DejaVuSans-108\"/>\r\n     <use x=\"384.171875\" xlink:href=\"#DejaVuSans-97\"/>\r\n     <use x=\"445.451172\" xlink:href=\"#DejaVuSans-121\"/>\r\n     <use x=\"504.630859\" xlink:href=\"#DejaVuSans-101\"/>\r\n     <use x=\"566.154297\" xlink:href=\"#DejaVuSans-114\"/>\r\n    </g>\r\n   </g>\r\n   <g id=\"text_12\">\r\n    <!-- dynamic -->\r\n    <g transform=\"translate(7.2 33.690125)scale(0.172 -0.172)\">\r\n     <use xlink:href=\"#DejaVuSans-100\"/>\r\n     <use x=\"63.476562\" xlink:href=\"#DejaVuSans-121\"/>\r\n     <use x=\"122.65625\" xlink:href=\"#DejaVuSans-110\"/>\r\n     <use x=\"186.035156\" xlink:href=\"#DejaVuSans-97\"/>\r\n     <use x=\"247.314453\" xlink:href=\"#DejaVuSans-109\"/>\r\n     <use x=\"344.726562\" xlink:href=\"#DejaVuSans-105\"/>\r\n     <use x=\"372.509766\" xlink:href=\"#DejaVuSans-99\"/>\r\n    </g>\r\n   </g>\r\n   <g id=\"text_13\">\r\n    <!-- synergier -->\r\n    <g transform=\"translate(236.420016 228.779062)scale(0.15 -0.15)\">\r\n     <use xlink:href=\"#DejaVuSans-115\"/>\r\n     <use x=\"52.099609\" xlink:href=\"#DejaVuSans-121\"/>\r\n     <use x=\"111.279297\" xlink:href=\"#DejaVuSans-110\"/>\r\n     <use x=\"174.658203\" xlink:href=\"#DejaVuSans-101\"/>\r\n     <use x=\"236.181641\" xlink:href=\"#DejaVuSans-114\"/>\r\n     <use x=\"275.544922\" xlink:href=\"#DejaVuSans-103\"/>\r\n     <use x=\"339.021484\" xlink:href=\"#DejaVuSans-105\"/>\r\n     <use x=\"366.804688\" xlink:href=\"#DejaVuSans-101\"/>\r\n     <use x=\"428.328125\" xlink:href=\"#DejaVuSans-114\"/>\r\n    </g>\r\n   </g>\r\n   <g id=\"text_14\">\r\n    <!-- actionable insights -->\r\n    <g transform=\"translate(100.474547 163.547062)scale(0.15 -0.15)\">\r\n     <use xlink:href=\"#DejaVuSans-97\"/>\r\n     <use x=\"61.279297\" xlink:href=\"#DejaVuSans-99\"/>\r\n     <use x=\"116.259766\" xlink:href=\"#DejaVuSans-116\"/>\r\n     <use x=\"155.46875\" xlink:href=\"#DejaVuSans-105\"/>\r\n     <use x=\"183.251953\" xlink:href=\"#DejaVuSans-111\"/>\r\n     <use x=\"244.433594\" xlink:href=\"#DejaVuSans-110\"/>\r\n     <use x=\"307.8125\" xlink:href=\"#DejaVuSans-97\"/>\r\n     <use x=\"369.091797\" xlink:href=\"#DejaVuSans-98\"/>\r\n     <use x=\"432.568359\" xlink:href=\"#DejaVuSans-108\"/>\r\n     <use x=\"460.351562\" xlink:href=\"#DejaVuSans-101\"/>\r\n     <use x=\"521.875\" xlink:href=\"#DejaVuSans-32\"/>\r\n     <use x=\"553.662109\" xlink:href=\"#DejaVuSans-105\"/>\r\n     <use x=\"581.445312\" xlink:href=\"#DejaVuSans-110\"/>\r\n     <use x=\"644.824219\" xlink:href=\"#DejaVuSans-115\"/>\r\n     <use x=\"696.923828\" xlink:href=\"#DejaVuSans-105\"/>\r\n     <use x=\"724.707031\" xlink:href=\"#DejaVuSans-103\"/>\r\n     <use x=\"788.183594\" xlink:href=\"#DejaVuSans-104\"/>\r\n     <use x=\"851.5625\" xlink:href=\"#DejaVuSans-116\"/>\r\n     <use x=\"890.771484\" xlink:href=\"#DejaVuSans-115\"/>\r\n    </g>\r\n   </g>\r\n   <g id=\"text_15\">\r\n    <!-- think out of the box -->\r\n    <g transform=\"translate(121.52482 206.621156)scale(0.135 -0.135)\">\r\n     <defs>\r\n      <path d=\"M 9.078125 75.984375 \r\nL 18.109375 75.984375 \r\nL 18.109375 31.109375 \r\nL 44.921875 54.6875 \r\nL 56.390625 54.6875 \r\nL 27.390625 29.109375 \r\nL 57.625 0 \r\nL 45.90625 0 \r\nL 18.109375 26.703125 \r\nL 18.109375 0 \r\nL 9.078125 0 \r\nz\r\n\" id=\"DejaVuSans-107\"/>\r\n      <path d=\"M 37.109375 75.984375 \r\nL 37.109375 68.5 \r\nL 28.515625 68.5 \r\nQ 23.6875 68.5 21.796875 66.546875 \r\nQ 19.921875 64.59375 19.921875 59.515625 \r\nL 19.921875 54.6875 \r\nL 34.71875 54.6875 \r\nL 34.71875 47.703125 \r\nL 19.921875 47.703125 \r\nL 19.921875 0 \r\nL 10.890625 0 \r\nL 10.890625 47.703125 \r\nL 2.296875 47.703125 \r\nL 2.296875 54.6875 \r\nL 10.890625 54.6875 \r\nL 10.890625 58.5 \r\nQ 10.890625 67.625 15.140625 71.796875 \r\nQ 19.390625 75.984375 28.609375 75.984375 \r\nz\r\n\" id=\"DejaVuSans-102\"/>\r\n      <path d=\"M 54.890625 54.6875 \r\nL 35.109375 28.078125 \r\nL 55.90625 0 \r\nL 45.3125 0 \r\nL 29.390625 21.484375 \r\nL 13.484375 0 \r\nL 2.875 0 \r\nL 24.125 28.609375 \r\nL 4.6875 54.6875 \r\nL 15.28125 54.6875 \r\nL 29.78125 35.203125 \r\nL 44.28125 54.6875 \r\nz\r\n\" id=\"DejaVuSans-120\"/>\r\n     </defs>\r\n     <use xlink:href=\"#DejaVuSans-116\"/>\r\n     <use x=\"39.208984\" xlink:href=\"#DejaVuSans-104\"/>\r\n     <use x=\"102.587891\" xlink:href=\"#DejaVuSans-105\"/>\r\n     <use x=\"130.371094\" xlink:href=\"#DejaVuSans-110\"/>\r\n     <use x=\"193.75\" xlink:href=\"#DejaVuSans-107\"/>\r\n     <use x=\"251.660156\" xlink:href=\"#DejaVuSans-32\"/>\r\n     <use x=\"283.447266\" xlink:href=\"#DejaVuSans-111\"/>\r\n     <use x=\"344.628906\" xlink:href=\"#DejaVuSans-117\"/>\r\n     <use x=\"408.007812\" xlink:href=\"#DejaVuSans-116\"/>\r\n     <use x=\"447.216797\" xlink:href=\"#DejaVuSans-32\"/>\r\n     <use x=\"479.003906\" xlink:href=\"#DejaVuSans-111\"/>\r\n     <use x=\"540.185547\" xlink:href=\"#DejaVuSans-102\"/>\r\n     <use x=\"575.390625\" xlink:href=\"#DejaVuSans-32\"/>\r\n     <use x=\"607.177734\" xlink:href=\"#DejaVuSans-116\"/>\r\n     <use x=\"646.386719\" xlink:href=\"#DejaVuSans-104\"/>\r\n     <use x=\"709.765625\" xlink:href=\"#DejaVuSans-101\"/>\r\n     <use x=\"771.289062\" xlink:href=\"#DejaVuSans-32\"/>\r\n     <use x=\"803.076172\" xlink:href=\"#DejaVuSans-98\"/>\r\n     <use x=\"866.552734\" xlink:href=\"#DejaVuSans-111\"/>\r\n     <use x=\"924.609375\" xlink:href=\"#DejaVuSans-120\"/>\r\n    </g>\r\n   </g>\r\n   <g id=\"text_16\">\r\n    <!-- self-starter -->\r\n    <g transform=\"translate(94.2915 120.335)scale(0.16 -0.16)\">\r\n     <defs>\r\n      <path d=\"M 4.890625 31.390625 \r\nL 31.203125 31.390625 \r\nL 31.203125 23.390625 \r\nL 4.890625 23.390625 \r\nz\r\n\" id=\"DejaVuSans-45\"/>\r\n     </defs>\r\n     <use xlink:href=\"#DejaVuSans-115\"/>\r\n     <use x=\"52.099609\" xlink:href=\"#DejaVuSans-101\"/>\r\n     <use x=\"113.623047\" xlink:href=\"#DejaVuSans-108\"/>\r\n     <use x=\"141.40625\" xlink:href=\"#DejaVuSans-102\"/>\r\n     <use x=\"171.111328\" xlink:href=\"#DejaVuSans-45\"/>\r\n     <use x=\"207.195312\" xlink:href=\"#DejaVuSans-115\"/>\r\n     <use x=\"259.294922\" xlink:href=\"#DejaVuSans-116\"/>\r\n     <use x=\"298.503906\" xlink:href=\"#DejaVuSans-97\"/>\r\n     <use x=\"359.783203\" xlink:href=\"#DejaVuSans-114\"/>\r\n     <use x=\"400.896484\" xlink:href=\"#DejaVuSans-116\"/>\r\n     <use x=\"440.105469\" xlink:href=\"#DejaVuSans-101\"/>\r\n     <use x=\"501.628906\" xlink:href=\"#DejaVuSans-114\"/>\r\n    </g>\r\n   </g>\r\n   <g id=\"text_17\">\r\n    <!-- customer focus -->\r\n    <g transform=\"translate(193.32775 196.439)scale(0.16 -0.16)\">\r\n     <use xlink:href=\"#DejaVuSans-99\"/>\r\n     <use x=\"54.980469\" xlink:href=\"#DejaVuSans-117\"/>\r\n     <use x=\"118.359375\" xlink:href=\"#DejaVuSans-115\"/>\r\n     <use x=\"170.458984\" xlink:href=\"#DejaVuSans-116\"/>\r\n     <use x=\"209.667969\" xlink:href=\"#DejaVuSans-111\"/>\r\n     <use x=\"270.849609\" xlink:href=\"#DejaVuSans-109\"/>\r\n     <use x=\"368.261719\" xlink:href=\"#DejaVuSans-101\"/>\r\n     <use x=\"429.785156\" xlink:href=\"#DejaVuSans-114\"/>\r\n     <use x=\"470.898438\" xlink:href=\"#DejaVuSans-32\"/>\r\n     <use x=\"502.685547\" xlink:href=\"#DejaVuSans-102\"/>\r\n     <use x=\"537.890625\" xlink:href=\"#DejaVuSans-111\"/>\r\n     <use x=\"599.072266\" xlink:href=\"#DejaVuSans-99\"/>\r\n     <use x=\"654.052734\" xlink:href=\"#DejaVuSans-117\"/>\r\n     <use x=\"717.431641\" xlink:href=\"#DejaVuSans-115\"/>\r\n    </g>\r\n   </g>\r\n   <g id=\"text_18\">\r\n    <!-- thought leadership -->\r\n    <g transform=\"translate(83.316188 152.675062)scale(0.15 -0.15)\">\r\n     <use xlink:href=\"#DejaVuSans-116\"/>\r\n     <use x=\"39.208984\" xlink:href=\"#DejaVuSans-104\"/>\r\n     <use x=\"102.587891\" xlink:href=\"#DejaVuSans-111\"/>\r\n     <use x=\"163.769531\" xlink:href=\"#DejaVuSans-117\"/>\r\n     <use x=\"227.148438\" xlink:href=\"#DejaVuSans-103\"/>\r\n     <use x=\"290.625\" xlink:href=\"#DejaVuSans-104\"/>\r\n     <use x=\"354.003906\" xlink:href=\"#DejaVuSans-116\"/>\r\n     <use x=\"393.212891\" xlink:href=\"#DejaVuSans-32\"/>\r\n     <use x=\"425\" xlink:href=\"#DejaVuSans-108\"/>\r\n     <use x=\"452.783203\" xlink:href=\"#DejaVuSans-101\"/>\r\n     <use x=\"514.306641\" xlink:href=\"#DejaVuSans-97\"/>\r\n     <use x=\"575.585938\" xlink:href=\"#DejaVuSans-100\"/>\r\n     <use x=\"639.0625\" xlink:href=\"#DejaVuSans-101\"/>\r\n     <use x=\"700.585938\" xlink:href=\"#DejaVuSans-114\"/>\r\n     <use x=\"741.699219\" xlink:href=\"#DejaVuSans-115\"/>\r\n     <use x=\"793.798828\" xlink:href=\"#DejaVuSans-104\"/>\r\n     <use x=\"857.177734\" xlink:href=\"#DejaVuSans-105\"/>\r\n     <use x=\"884.960938\" xlink:href=\"#DejaVuSans-112\"/>\r\n    </g>\r\n   </g>\r\n  </g>\r\n </g>\r\n</svg>\r\n",
      "image/png": "[encoded data removed]"
     },
     "metadata": {}
    }
   ],
   "source": [
    "for word, job_popularity, resume_popularity in data:\n",
    "    plt.text(job_popularity, resume_popularity, word,\n",
    "        ha='center', va='center', size = text_size(job_popularity+resume_popularity))\n",
    "\n",
    "plt.xlabel('Popularity on Job Posting')\n",
    "plt.ylabel('Popularity on Resumes')\n",
    "plt.axis([0, 100, 0, 100])\n",
    "plt.xticks([])\n",
    "plt.yticks([])\n",
    "plt.show()"
   ]
  },
  {
   "source": [
    "## N-Gram Language Models"
   ],
   "cell_type": "markdown",
   "metadata": {}
  },
  {
   "cell_type": "code",
   "execution_count": 14,
   "metadata": {},
   "outputs": [],
   "source": [
    "def fix_unicode(text: str) -> str:\n",
    "    return text.replace(u\"\\u2019\", \"'\")"
   ]
  },
  {
   "cell_type": "code",
   "execution_count": 15,
   "metadata": {},
   "outputs": [],
   "source": [
    "import re\n",
    "from bs4 import BeautifulSoup\n",
    "import requests"
   ]
  },
  {
   "cell_type": "code",
   "execution_count": 61,
   "metadata": {},
   "outputs": [],
   "source": [
    "url = \"https://www.oreilly.com/ideas/what-is-data-science\" "
   ]
  },
  {
   "cell_type": "code",
   "execution_count": 62,
   "metadata": {},
   "outputs": [],
   "source": [
    "html = requests.get(url).text"
   ]
  },
  {
   "cell_type": "code",
   "execution_count": 63,
   "metadata": {},
   "outputs": [],
   "source": [
    "soup = BeautifulSoup(html, 'html5lib')\n",
    "content = soup.find(\"div\", \"main-post-radar-content\")\n",
    "regrex = r\"[\\w']+|[\\.]\""
   ]
  },
  {
   "cell_type": "code",
   "execution_count": 64,
   "metadata": {},
   "outputs": [],
   "source": [
    "document = []\n",
    "\n",
    "for para in content(\"p\"):\n",
    "    words = re.findall(regrex, fix_unicode(para.text))\n",
    "    document.extend(words)"
   ]
  },
  {
   "cell_type": "code",
   "execution_count": 65,
   "metadata": {},
   "outputs": [],
   "source": [
    "document = document[103:].copy()"
   ]
  },
  {
   "cell_type": "code",
   "execution_count": 68,
   "metadata": {},
   "outputs": [],
   "source": [
    "from collections import defaultdict"
   ]
  },
  {
   "cell_type": "code",
   "execution_count": 69,
   "metadata": {},
   "outputs": [],
   "source": [
    "transitions = defaultdict(list)"
   ]
  },
  {
   "cell_type": "code",
   "execution_count": 70,
   "metadata": {},
   "outputs": [],
   "source": [
    "for prev, current in zip(document, document[1:]):\n",
    "    transitions[prev].append(current)"
   ]
  },
  {
   "cell_type": "code",
   "execution_count": 72,
   "metadata": {},
   "outputs": [],
   "source": [
    "def generate_using_bigrams() -> str:\n",
    "    current = '.'\n",
    "    result = []\n",
    "    \n",
    "    while True:\n",
    "        next_word_candidates = transitions[current]\n",
    "        current = random.choice(next_word_candidates)\n",
    "        result.append(current)\n",
    "\n",
    "        if current == '.': return \" \".join(result)\n",
    "        "
   ]
  },
  {
   "cell_type": "code",
   "execution_count": 73,
   "metadata": {},
   "outputs": [],
   "source": [
    "trigram_transitions = defaultdict(list)\n",
    "starts = []\n",
    "\n",
    "for prev, current, next in zip(document, document[1:], document[2:]):\n",
    "    if prev == '.':\n",
    "        '''if the previous word was a period then this is a start word'''\n",
    "        starts.append(current)\n",
    "    trigram_transitions[(prev, current)].append(next)"
   ]
  },
  {
   "cell_type": "code",
   "execution_count": 76,
   "metadata": {},
   "outputs": [],
   "source": [
    "def generate_using_trigrams() -> str:\n",
    "    current = random.choice(starts)\n",
    "    prev = '.'\n",
    "    result = [current]\n",
    "\n",
    "    while True:\n",
    "        next_word_cadndidates = trigram_transitions[(prev, current)]\n",
    "        next_word = random.choice(next_word_cadndidates)\n",
    "        prev, current = current, next_word\n",
    "        result.append(current)\n",
    "\n",
    "        if current == '.':\n",
    "            return \" \".join(result)"
   ]
  },
  {
   "source": [
    "## Grammars"
   ],
   "cell_type": "markdown",
   "metadata": {}
  },
  {
   "cell_type": "code",
   "execution_count": 77,
   "metadata": {},
   "outputs": [],
   "source": [
    "from typing import List, Dict"
   ]
  },
  {
   "cell_type": "code",
   "execution_count": 88,
   "metadata": {},
   "outputs": [],
   "source": [
    "Grammar = Dict[str, List[str]]\n",
    "\n",
    "grammar = {\n",
    "    \"_S\": [\"_NP _VP\"],\n",
    "    \"_NP\": [\"_N\",\n",
    "             \"_A _NP _P _A _N\"],\n",
    "    \"_VP\": [\"_V\",\n",
    "             \"_V _NP\"],\n",
    "    \"_N\": [\"data science\", \"Python\", \"regression\"],\n",
    "    \"_A\": [\"big\", \"linear\", \"logistic\"],\n",
    "    \"_P\": [\"about\", \"near\"],\n",
    "    \"_V\": [\"learns\", \"trains\", \"tests\", \"is\"] }\n"
   ]
  },
  {
   "cell_type": "code",
   "execution_count": 89,
   "metadata": {},
   "outputs": [],
   "source": [
    "def is_terminal(token: str) -> bool:\n",
    "    return token[0] != \"_\""
   ]
  },
  {
   "cell_type": "code",
   "execution_count": 90,
   "metadata": {},
   "outputs": [],
   "source": [
    "def expand(grammar: Grammar, tokens: List[str]) -> List[str]:\n",
    "    for i, token in enumerate(tokens):\n",
    "        if is_terminal(token): continue\n",
    "        replacement = random.choice(grammar[token])\n",
    "\n",
    "        if is_terminal(replacement):\n",
    "            tokens[i] = replacement\n",
    "        else:\n",
    "            tokens = tokens[:i] + replacement.split() + tokens[(i+1):]\n",
    "        \n",
    "        return expand(grammar, tokens)\n",
    "\n",
    "    return tokens"
   ]
  },
  {
   "cell_type": "code",
   "execution_count": 91,
   "metadata": {},
   "outputs": [],
   "source": [
    "def generate_sentance(grammar: Grammar) -> List[str]:\n",
    "    return expand(grammar, [\"_S\"])"
   ]
  },
  {
   "source": [
    "## An Aside: Gibbs Sampling"
   ],
   "cell_type": "markdown",
   "metadata": {}
  },
  {
   "cell_type": "code",
   "execution_count": 95,
   "metadata": {},
   "outputs": [],
   "source": [
    "from typing import Tuple\n",
    "import random"
   ]
  },
  {
   "cell_type": "code",
   "execution_count": 96,
   "metadata": {},
   "outputs": [],
   "source": [
    "def roll_a_die() -> int:\n",
    "    return random.choice([1, 2, 3, 4, 5, 6])"
   ]
  },
  {
   "cell_type": "code",
   "execution_count": 97,
   "metadata": {},
   "outputs": [],
   "source": [
    "def direct_sample() -> Tuple[int, int]:\n",
    "    d1 = roll_a_die()\n",
    "    d2 = roll_a_die()\n",
    "    return d1, d1 + d2"
   ]
  },
  {
   "cell_type": "code",
   "execution_count": 108,
   "metadata": {},
   "outputs": [],
   "source": [
    "def random_y_given_x(x: int) -> int:\n",
    "    '''equally likely to be x + 1, x + 2, ... , x + 6'''\n",
    "    return x + roll_a_die()"
   ]
  },
  {
   "cell_type": "code",
   "execution_count": 99,
   "metadata": {},
   "outputs": [],
   "source": [
    "def random_x_given_y(y: int) -> int:\n",
    "    if y <= 7:\n",
    "        return random.randrange(1, y)\n",
    "    else:\n",
    "        random.randrange(y - 6, 7)"
   ]
  },
  {
   "cell_type": "code",
   "execution_count": 113,
   "metadata": {},
   "outputs": [],
   "source": [
    "def gibbs_sample(num_iters: int = 100) -> Tuple[int, int]:\n",
    "    x, y = 1, 2\n",
    "    for _ in range(num_iters):\n",
    "        x = random_x_given_y(y)\n",
    "        y = random_y_given_x(x)\n",
    "\n",
    "    return x, y"
   ]
  },
  {
   "cell_type": "code",
   "execution_count": 114,
   "metadata": {},
   "outputs": [],
   "source": [
    "def compare_distributions(num_samples: int = 1000) -> Dict[int, List[int]]:\n",
    "    counts = defaultdict(lambda: [0, 0])\n",
    "    for _ in range(num_samples):\n",
    "        counts[gibbs_sample()][0] += 1\n",
    "        counts[direct_sample()][1] += 1\n",
    "    return counts"
   ]
  },
  {
   "source": [
    "## Topic Modeling\n"
   ],
   "cell_type": "markdown",
   "metadata": {}
  },
  {
   "cell_type": "code",
   "execution_count": 43,
   "metadata": {},
   "outputs": [],
   "source": [
    "from typing import List\n",
    "import random\n",
    "\n",
    "\n",
    "def sample_from(weights: List[float]) -> int:\n",
    "    '''returns i with probability weights[i] / sum(weights)'''\n",
    "    total = sum(weights)\n",
    "    rnd = total * random.random()\n",
    "    for i, w in enumerate(weights):\n",
    "        rnd -= w\n",
    "        if rnd <= 0: return i"
   ]
  },
  {
   "cell_type": "code",
   "execution_count": 44,
   "metadata": {},
   "outputs": [],
   "source": [
    "from collections import Counter"
   ]
  },
  {
   "cell_type": "code",
   "execution_count": 45,
   "metadata": {},
   "outputs": [],
   "source": [
    "draws = Counter(sample_from([0.1, 0.1, 0.8]) for _ in range(1000))"
   ]
  },
  {
   "cell_type": "code",
   "execution_count": 46,
   "metadata": {},
   "outputs": [
    {
     "output_type": "execute_result",
     "data": {
      "text/plain": [
       "Counter({0: 98, 2: 785, 1: 117})"
      ]
     },
     "metadata": {},
     "execution_count": 46
    }
   ],
   "source": [
    "draws"
   ]
  },
  {
   "cell_type": "code",
   "execution_count": 47,
   "metadata": {},
   "outputs": [],
   "source": [
    "documents = [[\"Hadoop\", \"Big Data\", \"HBase\", \"Java\", \"Spark\", \"Storm\", \"Cassandra\"],\n",
    "[\"NoSQL\", \"MongoDB\", \"Cassandra\", \"HBase\", \"Postgres\"],\n",
    "[\"Python\", \"scikit-learn\", \"scipy\", \"numpy\", \"statsmodels\", \"pandas\"],[\"R\", \"Python\", \"statistics\", \"regression\", \"probability\"],\n",
    "[\"machine learning\", \"regression\", \"decision trees\", \"libsvm\"],[\"Python\", \"R\", \"Java\", \"C++\", \"Haskell\", \"programming languages\"],\n",
    "[\"statistics\", \"probability\", \"mathematics\", \"theory\"],\n",
    "[\"machine learning\", \"scikit-learn\", \"Mahout\", \"neural networks\"], [\"neural networks\", \"deep learning\", \"Big Data\", \"artificial intelligence\"],\n",
    "[\"Hadoop\", \"Java\", \"MapReduce\", \"Big Data\"],\n",
    "[\"statistics\", \"R\", \"statsmodels\"],\n",
    "[\"C++\", \"deep learning\", \"artificial intelligence\", \"probability\"],[\"pandas\", \"R\", \"Python\"],\n",
    "[\"databases\", \"HBase\", \"Postgres\", \"MySQL\", \"MongoDB\"],\n",
    "[\"libsvm\", \"regression\", \"support vector machines\"]]"
   ]
  },
  {
   "cell_type": "code",
   "execution_count": 48,
   "metadata": {},
   "outputs": [],
   "source": [
    "k = 4"
   ]
  },
  {
   "cell_type": "code",
   "execution_count": 49,
   "metadata": {},
   "outputs": [],
   "source": [
    "document_topic_counts = [Counter() for _ in documents]"
   ]
  },
  {
   "cell_type": "code",
   "execution_count": 50,
   "metadata": {},
   "outputs": [],
   "source": [
    "topic_word_counts = [Counter() for _ in range(k)]"
   ]
  },
  {
   "cell_type": "code",
   "execution_count": 51,
   "metadata": {},
   "outputs": [],
   "source": [
    "topic_counts = [0 for _ in range(k)]"
   ]
  },
  {
   "cell_type": "code",
   "execution_count": 52,
   "metadata": {},
   "outputs": [],
   "source": [
    "document_lengths = [len(document) for document in documents]"
   ]
  },
  {
   "cell_type": "code",
   "execution_count": 53,
   "metadata": {},
   "outputs": [],
   "source": [
    "distinct_words = set(word for document in documents for word in document)\n",
    "w = len(distinct_words)"
   ]
  },
  {
   "cell_type": "code",
   "execution_count": 54,
   "metadata": {},
   "outputs": [],
   "source": [
    "d = len(documents)"
   ]
  },
  {
   "cell_type": "code",
   "execution_count": 55,
   "metadata": {},
   "outputs": [],
   "source": [
    "def p_topic_given_document(topic: int, d: int, alpha: float = .1) -> float:\n",
    "    '''the fraction of words in document \"d\" that are assinged to \n",
    "    \"Topic\" (+ some smoothing)\n",
    "    '''\n",
    "    return ((document_topic_counts[d][topic] + alpha) / \n",
    "            (document_lengths[d] + k * alpha))"
   ]
  },
  {
   "cell_type": "code",
   "execution_count": 56,
   "metadata": {},
   "outputs": [],
   "source": [
    "def p_word_given_topic(word: str, topic: int, beta: float = 0.1) -> float:\n",
    "    \"\"\"the fraction of words assigned to 'topic' that equal 'word' + smoothing \"\"\"\n",
    "    return ((topic_word_counts[topic][word] + beta) / \n",
    "            (topic_counts[topic] + w * beta))"
   ]
  },
  {
   "cell_type": "code",
   "execution_count": 57,
   "metadata": {},
   "outputs": [],
   "source": [
    "def topic_weight(d: int, word: str, k: int) -> float:\n",
    "    return p_word_given_topic(word, k) * p_topic_given_document(k, d)"
   ]
  },
  {
   "cell_type": "code",
   "execution_count": 58,
   "metadata": {},
   "outputs": [],
   "source": [
    "def choose_new_topic(d: int, word: str) -> int:\n",
    "    return sample_from([topic_weight(d, word, k)\n",
    "                         for k in range(k)])"
   ]
  },
  {
   "cell_type": "code",
   "execution_count": 59,
   "metadata": {},
   "outputs": [],
   "source": [
    "random.seed(0)\n",
    "\n",
    "document_topics = [[random.randrange(k) for word in document]\n",
    "                   for document in documents]"
   ]
  },
  {
   "cell_type": "code",
   "execution_count": 60,
   "metadata": {},
   "outputs": [],
   "source": [
    "for d in range(d):\n",
    "    for word, topic in zip(documents[d], document_topics[d]):\n",
    "        document_topic_counts[d][topic] += 1\n",
    "        topic_word_counts[topic][word] += 1\n",
    "        topic_counts[topic] += 1"
   ]
  },
  {
   "cell_type": "code",
   "execution_count": 61,
   "metadata": {},
   "outputs": [],
   "source": [
    "import tqdm"
   ]
  },
  {
   "cell_type": "code",
   "execution_count": 63,
   "metadata": {},
   "outputs": [
    {
     "output_type": "stream",
     "name": "stderr",
     "text": [
      "100%|██████████| 10000/10000 [00:00<00:00, 494961.53it/s]\n"
     ]
    }
   ],
   "source": [
    "for iter in tqdm.trange(10000):\n",
    "    for d in range(d):\n",
    "        for i, (Word, topic) in enumerate(zip(documents[d],document_topics[d])):\n",
    "            document_topic_counts[d][topic] -= 1\n",
    "            topic_word_counts[topic][word] -= 1\n",
    "            topic_counts[topic] -= 1\n",
    "            document_lengths[d] -= 1\n",
    "            new_topic = choose_new_topic(d, word)\n",
    "            document_topics[d][i] = new_topic\n",
    "            document_topic_counts[d][new_topic] += 1\n",
    "            topic_word_counts[new_topic][word] += 1\n",
    "            topic_counts[new_topic] += 1\n",
    "            document_lengths[d] +=1\n"
   ]
  },
  {
   "cell_type": "code",
   "execution_count": 64,
   "metadata": {},
   "outputs": [
    {
     "output_type": "stream",
     "name": "stdout",
     "text": [
      "0 scikit-learn 2\n0 pandas 2\n0 HBase 1\n0 R 1\n0 regression 1\n0 Java 1\n0 C++ 1\n0 Haskell 1\n0 statistics 1\n0 artificial intelligence 1\n0 Hadoop 1\n0 Big Data 1\n0 statsmodels 1\n0 libsvm 1\n1 neural networks 2\n1 deep learning 2\n1 Cassandra 1\n1 HBase 1\n1 Python 1\n1 numpy 1\n1 decision trees 1\n1 theory 1\n1 Mahout 1\n1 databases 1\n1 Postgres 1\n1 MySQL 1\n1 MongoDB 1\n2 Java 2\n2 Python 2\n2 regression 2\n2 R 2\n2 Cassandra 1\n2 MongoDB 1\n2 Postgres 1\n2 scipy 1\n2 statsmodels 1\n2 probability 1\n2 mathematics 1\n2 machine learning 1\n2 statistics 1\n2 C++ 1\n2 artificial intelligence 1\n2 HBase 1\n3 Big Data 2\n3 probability 2\n3 Hadoop 1\n3 Spark 1\n3 Storm 1\n3 NoSQL 1\n3 statistics 1\n3 machine learning 1\n3 libsvm 1\n3 Python 1\n3 programming languages 1\n3 MapReduce 1\n3 R 1\n3 support vector machines 1\n"
     ]
    }
   ],
   "source": [
    "for k, word_counts in enumerate(topic_word_counts):\n",
    "    for word, count in word_counts.most_common():\n",
    "        if count > 0:\n",
    "            print(k, word, count)"
   ]
  },
  {
   "cell_type": "code",
   "execution_count": 65,
   "metadata": {},
   "outputs": [],
   "source": [
    "topic_names = [\"big data and programming languages\", \n",
    "               \"python and statistics\", \"databases\", \"machine Learning\"]"
   ]
  },
  {
   "cell_type": "code",
   "execution_count": 66,
   "metadata": {},
   "outputs": [
    {
     "output_type": "stream",
     "name": "stdout",
     "text": [
      "['Hadoop', 'Big Data', 'HBase', 'Java', 'Spark', 'Storm', 'Cassandra']\nmachine Learning 4\n\ndatabases 2\n\nbig data and programming languages 1\n\n['NoSQL', 'MongoDB', 'Cassandra', 'HBase', 'Postgres']\ndatabases 2\n\npython and statistics 2\n\nmachine Learning 1\n\n['Python', 'scikit-learn', 'scipy', 'numpy', 'statsmodels', 'pandas']\npython and statistics 2\n\nbig data and programming languages 2\n\ndatabases 2\n\n['R', 'Python', 'statistics', 'regression', 'probability']\nbig data and programming languages 2\n\ndatabases 2\n\nmachine Learning 1\n\n['machine learning', 'regression', 'decision trees', 'libsvm']\nmachine Learning 2\n\ndatabases 1\n\npython and statistics 1\n\n['Python', 'R', 'Java', 'C++', 'Haskell', 'programming languages']\nbig data and programming languages 3\n\nmachine Learning 2\n\ndatabases 1\n\n['statistics', 'probability', 'mathematics', 'theory']\nbig data and programming languages 1\n\nmachine Learning 1\n\ndatabases 1\n\npython and statistics 1\n\n['machine learning', 'scikit-learn', 'Mahout', 'neural networks']\npython and statistics 2\n\ndatabases 1\n\nbig data and programming languages 1\n\n['neural networks', 'deep learning', 'Big Data', 'artificial intelligence']\npython and statistics 2\n\nmachine Learning 1\n\nbig data and programming languages 1\n\n['Hadoop', 'Java', 'MapReduce', 'Big Data']\nbig data and programming languages 2\n\ndatabases 1\n\nmachine Learning 1\n\n['statistics', 'R', 'statsmodels']\ndatabases 2\n\nbig data and programming languages 1\n\n['C++', 'deep learning', 'artificial intelligence', 'probability']\ndatabases 2\n\npython and statistics 1\n\nmachine Learning 1\n\n['pandas', 'R', 'Python']\nbig data and programming languages 1\n\nmachine Learning 1\n\ndatabases 1\n\n['databases', 'HBase', 'Postgres', 'MySQL', 'MongoDB']\npython and statistics 4\n\ndatabases 1\n\n['libsvm', 'regression', 'support vector machines']\nbig data and programming languages 1\n\ndatabases 1\n\nmachine Learning 1\n\n"
     ]
    }
   ],
   "source": [
    "for document, topic_counts in zip(documents, document_topic_counts):\n",
    "    print(document)\n",
    "    for topic, count in topic_counts.most_common():\n",
    "        if count > 0:\n",
    "            print(topic_names[topic], count) \n",
    "            print()"
   ]
  },
  {
   "cell_type": "code",
   "execution_count": null,
   "metadata": {},
   "outputs": [],
   "source": []
  }
 ]
}