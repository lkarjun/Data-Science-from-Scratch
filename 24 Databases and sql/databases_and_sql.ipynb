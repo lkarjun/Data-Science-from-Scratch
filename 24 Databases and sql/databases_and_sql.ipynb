{
 "metadata": {
  "language_info": {
   "codemirror_mode": {
    "name": "ipython",
    "version": 3
   },
   "file_extension": ".py",
   "mimetype": "text/x-python",
   "name": "python",
   "nbconvert_exporter": "python",
   "pygments_lexer": "ipython3",
   "version": "3.8.5-final"
  },
  "orig_nbformat": 2,
  "kernelspec": {
   "name": "python3",
   "display_name": "Python 3",
   "language": "python"
  }
 },
 "nbformat": 4,
 "nbformat_minor": 2,
 "cells": [
  {
   "source": [
    "# Databasses and sql"
   ],
   "cell_type": "markdown",
   "metadata": {}
  },
  {
   "cell_type": "code",
   "execution_count": 2,
   "metadata": {},
   "outputs": [],
   "source": [
    "from typing import Tuple, Sequence, List, Any, Callable, Dict, Iterator\n",
    "\n",
    "from collections import defaultdict"
   ]
  },
  {
   "cell_type": "code",
   "execution_count": 47,
   "metadata": {},
   "outputs": [],
   "source": [
    "Row = Dict[str, Any]\n",
    "WhereClause = Callable[[Row], bool]\n",
    "HavingClause = Callable[[List[Row]], bool]"
   ]
  },
  {
   "cell_type": "code",
   "execution_count": 48,
   "metadata": {},
   "outputs": [],
   "source": [
    "class Table:\n",
    "\n",
    "    def __init__(self, columns: List[str], types: List[type]) -> None:\n",
    "\n",
    "        assert len(columns) == len(types)\n",
    "\n",
    "        self.columns = columns\n",
    "        self.types = types\n",
    "        self.rows: List[Row] = []\n",
    "\n",
    "    \n",
    "    def col2type(self, col: str) -> type:\n",
    "        idx = self.columns.index(col)\n",
    "        return self.types[idx]\n",
    "    \n",
    "    def insert(self, values: list) -> None:\n",
    "        if len(values) != len(self.types):\n",
    "            raise ValueError(f\"You need to provide {len(self.types)} values\")\n",
    "\n",
    "        for value, typ3 in zip(values, self.types):\n",
    "            if not isinstance(value, typ3) and value is not None:\n",
    "                raise TypeError(\"Unexpected type\")\n",
    "        \n",
    "        self.rows.append(dict(zip(self.columns, values)))\n",
    "\n",
    "    \n",
    "    def update(self, updates: Dict[str, Any],\n",
    "                predicate: WhereClause = lambda row: True):\n",
    "\n",
    "                for column, new_value in updates.items():\n",
    "                    if column not in self.columns:\n",
    "                        raise ValueError(\"INvalid column\")\n",
    "                    typ3 = self.col2type(column)\n",
    "                    if not isinstance(new_value, typ3) and new_value is not None:\n",
    "                        raise TypeError(\"Unexpected type\")\n",
    "\n",
    "                    for row in self.rows:\n",
    "                        if predicate(row):\n",
    "                            for column, new_value in updates.items():\n",
    "                                row[column] = new_value\n",
    "\n",
    "\n",
    "    def delete(self, predicate: WherClause = lambda row: True) -> None:\n",
    "        self.rows = [row for row in self.rows if not predicate(row)]\n",
    "\n",
    "    def select(self, keep_columns: List[str] = None,\n",
    "               additional_columns: Dict[str, Callable] = None) -> 'Table':\n",
    "               if keep_columns is None:\n",
    "                   keep_columns = self.columns\n",
    "               \n",
    "               if additional_columns is None:\n",
    "                    additional_columns = {}\n",
    "                \n",
    "               new_columns = keep_columns + list(additional_columns.keys())\n",
    "               keep_types = [self.col2type(col) for col in keep_columns]\n",
    "\n",
    "               add_types = [calculation.__annotations__['return'] for calculation in additional_columns.Values()]\n",
    "\n",
    "               new_table = Table(new_columns, keep_types + add_types)\n",
    "\n",
    "               for row in self.rows:\n",
    "                    new_row = [row[column] for column in keep_columns]\n",
    "                    for column_name, calculation in additional_columns.items():\n",
    "                        new_row.append(claalculation(row))\n",
    "                        new_table.insert(new_row)\n",
    "               return new_table\n",
    "\n",
    "    def where(self, predicate: WhereClause = lambda row: True) -> 'Table':\n",
    "        \"\"\"Return only the rows that satisfy the supplied predicate\"\"\"\n",
    "        where_table = Table(self.columns, self.types)\n",
    "        for row in self.rows:\n",
    "            if predicate(row):\n",
    "                values = [row[column] for column in self.columns]\n",
    "                where_table.insert(values)\n",
    "        return where_table\n",
    "\n",
    "    def limit(self, num_rows: int) -> 'Table':\n",
    "        \"\"\"Return only the first `num_rows` rows\"\"\"\n",
    "        limit_table = Table(self.columns, self.types)\n",
    "        for i, row in enumerate(self.rows):\n",
    "            if i >= num_rows:\n",
    "                break\n",
    "            values = [row[column] for column in self.columns]\n",
    "            limit_table.insert(values)\n",
    "        return limit_table\n",
    "\n",
    "    def group_by(self,\n",
    "                 group_by_columns: List[str],\n",
    "                 aggregates: Dict[str, Callable],\n",
    "                 having: HavingClause = lambda group: True) -> 'Table':\n",
    "\n",
    "        grouped_rows = defaultdict(list)\n",
    "\n",
    "        # Populate groups\n",
    "        for row in self.rows:\n",
    "            key = tuple(row[column] for column in group_by_columns)\n",
    "            grouped_rows[key].append(row)\n",
    "\n",
    "        # Result table consists of group_by columns and aggregates\n",
    "        new_columns = group_by_columns + list(aggregates.keys())\n",
    "        group_by_types = [self.col2type(col) for col in group_by_columns]\n",
    "        aggregate_types = [agg.__annotations__['return']\n",
    "                           for agg in aggregates.values()]\n",
    "        result_table = Table(new_columns, group_by_types + aggregate_types)\n",
    "\n",
    "        for key, rows in grouped_rows.items():\n",
    "            if having(rows):\n",
    "                new_row = list(key)\n",
    "                for aggregate_name, aggregate_fn in aggregates.items():\n",
    "                    new_row.append(aggregate_fn(rows))\n",
    "                result_table.insert(new_row)\n",
    "\n",
    "        return result_table\n",
    "\n",
    "    def order_by(self, order: Callable[[Row], Any]) -> 'Table':\n",
    "        new_table = self.select()       # make a copy\n",
    "        new_table.rows.sort(key=order)\n",
    "        return new_table\n",
    "\n",
    "    def join(self, other_table: 'Table', left_join: bool = False) -> 'Table':\n",
    "\n",
    "        join_on_columns = [c for c in self.columns           # columns in\n",
    "                           if c in other_table.columns]      # both tables\n",
    "\n",
    "        additional_columns = [c for c in other_table.columns # columns only\n",
    "                              if c not in join_on_columns]   # in right table\n",
    "\n",
    "        # all columns from left table + additional_columns from right table\n",
    "        new_columns = self.columns + additional_columns\n",
    "        new_types = self.types + [other_table.col2type(col)\n",
    "                                  for col in additional_columns]\n",
    "\n",
    "        join_table = Table(new_columns, new_types)\n",
    "\n",
    "        for row in self.rows:\n",
    "            def is_join(other_row):\n",
    "                return all(other_row[c] == row[c] for c in join_on_columns)\n",
    "\n",
    "            other_rows = other_table.where(is_join).rows\n",
    "\n",
    "            # Each other row that matches this one produces a result row.\n",
    "            for other_row in other_rows:\n",
    "                join_table.insert([row[c] for c in self.columns] +\n",
    "                                  [other_row[c] for c in additional_columns])\n",
    "\n",
    "            # If no rows match and it's a left join, output with Nones.\n",
    "            if left_join and not other_rows:\n",
    "                join_table.insert([row[c] for c in self.columns] +\n",
    "                                  [None for c in additional_columns])\n",
    "\n",
    "        return join_table\n",
    "    \n",
    "    def __getitem__(self, idx: int) -> Row:\n",
    "        return self.rows[idx]\n",
    "    \n",
    "    def __iter__(self) -> Iterator[Row]:\n",
    "        return iter(self.rows)\n",
    "\n",
    "    def __len__(self) -> int:\n",
    "        return len(self.rows)\n",
    "    \n",
    "    def __repr__(self):\n",
    "        rows = \"\\n\".join(str(row) for row in self.rows)\n",
    "        return f\"{self.columns}\\n{rows}\"\n"
   ]
  },
  {
   "cell_type": "code",
   "execution_count": 34,
   "metadata": {},
   "outputs": [],
   "source": [
    "users = Table(['user_id', 'name', 'num_friends'], [int, str, int])"
   ]
  },
  {
   "cell_type": "code",
   "execution_count": 35,
   "metadata": {},
   "outputs": [],
   "source": [
    "users.insert([0, 'hero', 0])\n",
    "users.insert([1, 'dunn', 2])\n",
    "users.insert([2, 'Lal', 3])\n",
    "users.insert([3, 'niyas', 4])"
   ]
  },
  {
   "cell_type": "code",
   "execution_count": 36,
   "metadata": {},
   "outputs": [
    {
     "output_type": "stream",
     "name": "stdout",
     "text": [
      "['user_id', 'name', 'num_friends']\n{'user_id': 0, 'name': 'hero', 'num_friends': 0}\n{'user_id': 1, 'name': 'dunn', 'num_friends': 2}\n{'user_id': 2, 'name': 'Lal', 'num_friends': 3}\n{'user_id': 3, 'name': 'niyas', 'num_friends': 4}\n"
     ]
    }
   ],
   "source": [
    "print(users)"
   ]
  },
  {
   "cell_type": "code",
   "execution_count": 37,
   "metadata": {},
   "outputs": [
    {
     "output_type": "stream",
     "name": "stdout",
     "text": [
      "2\n"
     ]
    }
   ],
   "source": [
    "print(users[1]['num_friends'])\n",
    "users.update({'num_friends':3}, lambda row: row['user_id'] == 1)"
   ]
  },
  {
   "cell_type": "code",
   "execution_count": 38,
   "metadata": {},
   "outputs": [
    {
     "output_type": "stream",
     "name": "stdout",
     "text": [
      "3\n"
     ]
    }
   ],
   "source": [
    "print(users[1]['num_friends'])"
   ]
  },
  {
   "cell_type": "code",
   "execution_count": 39,
   "metadata": {},
   "outputs": [],
   "source": [
    "users.delete(lambda row: row['user_id'] == 1)\n",
    "users.delete()"
   ]
  },
  {
   "cell_type": "code",
   "execution_count": 40,
   "metadata": {},
   "outputs": [
    {
     "output_type": "stream",
     "name": "stdout",
     "text": [
      "['user_id', 'name', 'num_friends']\n\n"
     ]
    }
   ],
   "source": [
    "print(users)"
   ]
  },
  {
   "cell_type": "code",
   "execution_count": null,
   "metadata": {},
   "outputs": [],
   "source": []
  }
 ]
}