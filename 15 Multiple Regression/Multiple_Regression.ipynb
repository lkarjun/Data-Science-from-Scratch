{
 "cells": [
  {
   "cell_type": "code",
   "execution_count": 1,
   "metadata": {},
   "outputs": [],
   "source": [
    "from linearalgebra import dot, Vector\n",
    "from typing import List\n",
    "inputs: List[List[float]] = [[1.,49,4,0],[1,41,9,0],[1,40,8,0],[1,25,6,0],[1,21,1,0],[1,21,0,0],[1,19,3,0],[1,19,0,0],[1,18,9,0],[1,18,8,0],[1,16,4,0],[1,15,3,0],[1,15,0,0],[1,15,2,0],[1,15,7,0],[1,14,0,0],[1,14,1,0],[1,13,1,0],[1,13,7,0],[1,13,4,0],[1,13,2,0],[1,12,5,0],[1,12,0,0],[1,11,9,0],[1,10,9,0],[1,10,1,0],[1,10,1,0],[1,10,7,0],[1,10,9,0],[1,10,1,0],[1,10,6,0],[1,10,6,0],[1,10,8,0],[1,10,10,0],[1,10,6,0],[1,10,0,0],[1,10,5,0],[1,10,3,0],[1,10,4,0],[1,9,9,0],[1,9,9,0],[1,9,0,0],[1,9,0,0],[1,9,6,0],[1,9,10,0],[1,9,8,0],[1,9,5,0],[1,9,2,0],[1,9,9,0],[1,9,10,0],[1,9,7,0],[1,9,2,0],[1,9,0,0],\n",
    "                             [1,9,4,0],[1,9,6,0],[1,9,4,0],[1,9,7,0],[1,8,3,0],[1,8,2,0],[1,8,4,0],[1,8,9,0],[1,8,2,0],[1,8,3,0],[1,8,5,0],[1,8,8,0],[1,8,0,0],[1,8,9,0],[1,8,10,0],[1,8,5,0],[1,8,5,0],[1,7,5,0],[1,7,5,0],[1,7,0,0],[1,7,2,0],[1,7,8,0],[1,7,10,0],[1,7,5,0],[1,7,3,0],[1,7,3,0],[1,7,6,0],[1,7,7,0],[1,7,7,0],[1,7,9,0],[1,7,3,0],[1,7,8,0],[1,6,4,0],[1,6,6,0],[1,6,4,0],[1,6,9,0],[1,6,0,0],[1,6,1,0],[1,6,4,0],[1,6,1,0],[1,6,0,0],[1,6,7,0],[1,6,0,0],[1,6,8,0],[1,6,4,0],[1,6,2,1],[1,6,1,1],[1,6,3,1],[1,6,6,1],[1,6,4,1],[1,6,4,1],[1,6,1,1],[1,6,3,1],[1,6,4,1],[1,5,1,1],[1,5,9,1],[1,5,4,1],\n",
    "                             [1,5,6,1],[1,5,4,1],[1,5,4,1],[1,5,10,1],[1,5,5,1],[1,5,2,1],[1,5,4,1],[1,5,4,1],[1,5,9,1],[1,5,3,1],[1,5,10,1],[1,5,2,1],[1,5,2,1],[1,5,9,1],[1,4,8,1],[1,4,6,1],[1,4,0,1],[1,4,10,1],[1,4,5,1],[1,4,10,1],[1,4,9,1],[1,4,1,1],[1,4,4,1],[1,4,4,1],[1,4,0,1],[1,4,3,1],[1,4,1,1],[1,4,3,1],[1,4,2,1],[1,4,4,1],[1,4,4,1],[1,4,8,1],[1,4,2,1],[1,4,4,1],[1,3,2,1],[1,3,6,1],[1,3,4,1],[1,3,7,1],[1,3,4,1],[1,3,1,1],[1,3,10,1],[1,3,3,1],[1,3,4,1],[1,3,7,1],[1,3,5,1],[1,3,6,1],[1,3,1,1],[1,3,6,1],[1,3,10,1],[1,3,2,1],[1,3,4,1],[1,3,2,1],[1,3,1,1],[1,3,5,1],[1,2,4,1],[1,2,2,1],[1,2,8,1],\n",
    "                             [1,2,3,1],[1,2,1,1],[1,2,9,1],[1,2,10,1],[1,2,9,1],[1,2,4,1],[1,2,5,1],[1,2,0,1],[1,2,9,1],[1,2,9,1],[1,2,0,1],[1,2,1,1],[1,2,1,1],[1,2,4,1],[1,1,0,1],[1,1,2,1],[1,1,2,1],[1,1,5,1],[1,1,3,1],[1,1,10,1],[1,1,6,1],[1,1,0,1],[1,1,8,1],[1,1,6,1],[1,1,4,1],[1,1,9,1],[1,1,9,1],[1,1,4,1],[1,1,2,1],[1,1,9,1],[1,1,0,1],[1,1,8,1],[1,1,6,1],[1,1,1,1],[1,1,1,1],[1,1,5,1]]\n"
   ]
  },
  {
   "cell_type": "code",
   "execution_count": 2,
   "metadata": {},
   "outputs": [],
   "source": [
    "def predict(x: Vector, beta: Vector) -> float:\n",
    "    '''assumes that the first element of x is 1'''\n",
    "    return dot(x, beta)"
   ]
  },
  {
   "cell_type": "code",
   "execution_count": 3,
   "metadata": {},
   "outputs": [],
   "source": [
    "def error(x: Vector, y: float, beta: Vector) -> float:\n",
    "    return predict(x, beta) -y\n",
    "\n",
    "def squared_error(x: Vector, y: float, beta: Vector) -> float:\n",
    "    return error(x, y, beta) ** 2"
   ]
  },
  {
   "cell_type": "code",
   "execution_count": 4,
   "metadata": {
    "tags": []
   },
   "outputs": [],
   "source": [
    "x = [1, 2, 3]\n",
    "y = 30\n",
    "beta = [4, 4, 4] \n",
    "assert error(x, y, beta) == -6\n",
    "assert squared_error(x, y, beta) == 36"
   ]
  },
  {
   "cell_type": "code",
   "execution_count": 5,
   "metadata": {},
   "outputs": [],
   "source": [
    "def sqerror_gradient(x: Vector, y: float, beta: Vector) -> Vector:\n",
    "    err = error(x, y, beta)\n",
    "    return [2 * err * x_i for x_i in x]\n",
    "\n",
    "assert sqerror_gradient(x, y, beta) == [-12, -24, -36]"
   ]
  },
  {
   "cell_type": "code",
   "execution_count": null,
   "metadata": {},
   "outputs": [],
   "source": []
  },
  {
   "cell_type": "code",
   "execution_count": 6,
   "metadata": {},
   "outputs": [],
   "source": [
    "import random\n",
    "import tqdm\n",
    "from linearalgebra import vector_mean\n",
    "from GradientDescent import gradient_step"
   ]
  },
  {
   "cell_type": "code",
   "execution_count": 7,
   "metadata": {},
   "outputs": [],
   "source": [
    "def least_squares_fit(xs: List[Vector], ys: List[float], learning_rate: float = 0.001, num_steps: int = 1000, batch_size: int = 1) -> Vector:\n",
    "    '''find the beta that minimizes the sum of squared errors assuming the model y = dot(x, beta).'''\n",
    "    # Start with a random guess\n",
    "    guess = [random.random() for _ in xs[0]]\n",
    "    for _ in tqdm.trange(num_steps, desc='least squares fit'):\n",
    "        for start in range(0, len(xs), batch_size):\n",
    "            batch_xs = xs[start: start+batch_size]\n",
    "            batch_ys = ys[start: start+batch_size]\n",
    "\n",
    "            gradient = vector_mean([sqerror_gradient(x, y, guess) for\n",
    "                            x, y in zip(batch_xs, batch_ys)])\n",
    "            guess = gradient_step(guess, gradient, -learning_rate)\n",
    "            return guess"
   ]
  },
  {
   "cell_type": "markdown",
   "metadata": {},
   "source": [
    "# Goodness of Fit"
   ]
  },
  {
   "cell_type": "code",
   "execution_count": 8,
   "metadata": {
    "tags": []
   },
   "outputs": [],
   "source": [
    "from stati import daily_minutes_good"
   ]
  },
  {
   "cell_type": "code",
   "execution_count": 9,
   "metadata": {},
   "outputs": [],
   "source": [
    "def multiple_r_squared(xs: List[Vector], ys: Vector, beta: Vector) -> float:\n",
    "    sum_of_squared_errors = sum(error(x, y, beta) ** 2 for x, y in zip(xs, ys))\n",
    "    return 1.0 - sum_of_squared_errors/total_sum_of_squares(ys)"
   ]
  },
  {
   "cell_type": "markdown",
   "metadata": {},
   "source": [
    "# Digression: The Bootstrap"
   ]
  },
  {
   "cell_type": "code",
   "execution_count": 15,
   "metadata": {},
   "outputs": [],
   "source": [
    "from typing import TypeVar, Callable\n",
    "from stati import median"
   ]
  },
  {
   "cell_type": "code",
   "execution_count": 28,
   "metadata": {},
   "outputs": [],
   "source": [
    "X = TypeVar('X')\n",
    "Stat = TypeVar('Stat')\n",
    "\n",
    "def bootstrap_sample(data: List[X]) -> List[X]:\n",
    "    '''randomly samples len(data) elements with replacement'''\n",
    "    return [random.choice(data) for _ in data]\n",
    "\n",
    "def bootstrap_statistic(data: List[X], stats_fn: Callable[[List[X]],\n",
    "                        Stat], num_samples: int) -> List[Stat]:\n",
    "                        '''evaluates stats_fn on num_samples bootstrap samples from data'''\n",
    "                        return [stats_fn(bootstrap_sample(data)) for _ in range(num_samples)]"
   ]
  },
  {
   "cell_type": "code",
   "execution_count": 17,
   "metadata": {},
   "outputs": [],
   "source": [
    "close_to_100 = [99.5 + random.random() for _ in range(101)]\n",
    "far_from_100 = ([99.5 + random.random()] + [random.random() for _ in range(50)]+[200 + random.random() for _ in range(50)])"
   ]
  },
  {
   "cell_type": "code",
   "execution_count": 18,
   "metadata": {
    "tags": []
   },
   "outputs": [
    {
     "name": "stdout",
     "output_type": "stream",
     "text": [
      "[99.69472648287179, 99.83368874199043, 100.34198540694547, 100.07057630154442, 100.154434019188, 99.67777032338851, 99.81934767019574, 99.74398589963401, 99.81241601090578, 99.6783987275397, 99.89911522469725, 99.72310837313239, 100.42291355437781, 99.67162409084683, 99.61502424626627, 99.81682472633186, 100.48222100144811, 99.76447805490325, 100.36076416812847, 100.11684552860494]\n",
      "\n",
      "[200.6886587126914, 200.34354782843002, 200.412389124656, 200.68041711204776, 200.61474497975593, 200.50777751224487, 200.11654630430715, 200.91431593722427, 200.14797262957416, 200.4108082172633, 200.38115420757592, 200.54981541226843, 200.22413912300664, 200.155584890149, 200.33658334060672, 200.0633316256827, 200.29240830553812, 200.71614666935193, 200.93639584007104, 200.42132281581831, 200.95944521738983]\n"
     ]
    }
   ],
   "source": [
    "print(close_to_100[:20])\n",
    "print()\n",
    "print(far_from_100[80:])"
   ]
  },
  {
   "cell_type": "code",
   "execution_count": 19,
   "metadata": {},
   "outputs": [],
   "source": [
    "from stati import median, standard_deviation"
   ]
  },
  {
   "cell_type": "code",
   "execution_count": 29,
   "metadata": {},
   "outputs": [
    {
     "name": "stdout",
     "output_type": "stream",
     "text": [
      "\n",
      "Printing median of close_to_100 100.01633287614193\n",
      "Printting median of far_from_100 100.15966234815384\n"
     ]
    }
   ],
   "source": [
    "median_close = bootstrap_statistic(close_to_100, median, 100)\n",
    "median_far = bootstrap_statistic(far_from_100, median, 100)\n",
    "print()\n",
    "print('Printing median of close_to_100', median(close_to_100))\n",
    "print('Printting median of far_from_100', median(far_from_100))"
   ]
  },
  {
   "cell_type": "code",
   "execution_count": 33,
   "metadata": {
    "scrolled": true,
    "tags": []
   },
   "outputs": [
    {
     "name": "stdout",
     "output_type": "stream",
     "text": [
      "Median close [99.91996248702658, 100.0922919695546, 100.02298380164702, 100.11134020821935, 100.05115738426232, 100.04763066409834, 99.95722124061648, 99.99723747159659, 100.04763066409834, 100.05115738426232, 100.06670947999666, 100.04763066409834, 99.99026932116477, 100.06670947999666, 100.01114469279443, 100.05115738426232, 100.04763066409834, 100.02298380164702, 99.94011071595209, 100.01114469279443]\n",
      "\n",
      "Median far [200.04319786067683, 0.9640970211462019, 200.155584890149, 0.8278570921016685, 0.9946489387282073, 0.9640970211462019, 0.9094753258025355, 0.9640970211462019, 200.0633316256827, 0.7661535024416132, 200.22413912300664, 0.9946489387282073, 0.8278570921016685, 0.9019488539163221, 0.9094753258025355, 0.7539540065493131, 100.15966234815384, 0.6405826279555157, 0.8851167943080618, 0.8851167943080618]\n",
      "\n",
      "0.04847081719461058\n",
      "95.72927582086777\n"
     ]
    }
   ],
   "source": [
    "print('Median close', median_close[80:])\n",
    "print()\n",
    "print('Median far', median_far[:20])\n",
    "print()\n",
    "print(standard_deviation(median_close))\n",
    "print(standard_deviation(median_far))"
   ]
  },
  {
   "cell_type": "code",
   "execution_count": 102,
   "metadata": {},
   "outputs": [],
   "source": [
    "import matplotlib.pyplot as plt\n",
    "from collections import Counter\n",
    "\n",
    "count = Counter(median_close)\n",
    "keys = [round(i) for i in count.keys()]\n",
    "count_median_far = Counter(median_far)\n",
    "key_median_far = [round(i) for i in count_median_far.keys()]"
   ]
  },
  {
   "cell_type": "code",
   "execution_count": 118,
   "metadata": {},
   "outputs": [
    {
     "data": {
      "image/png": "[encoded data removed]",
      "text/plain": [
       "<Figure size 432x288 with 1 Axes>"
      ]
     },
     "metadata": {
      "needs_background": "light"
     },
     "output_type": "display_data"
    }
   ],
   "source": [
    "plt.bar(range(len(count)), count.values(), width=3)\n",
    "plt.title(\"Median_close count\")\n",
    "plt.ylabel(\"# Of times\")\n",
    "plt.xticks(range(len(count)), keys)\n",
    "plt.show()"
   ]
  },
  {
   "cell_type": "code",
   "execution_count": null,
   "metadata": {},
   "outputs": [],
   "source": [
    "plt.bar(range(len(count_median_far)), count_median_far.values())\n",
    "plt.title(\"Median_close count\")\n",
    "plt.ylabel(\"# Of times\")\n",
    "plt.xticks(range(len(count_median_far)), key_median_far)\n",
    "plt.show()"
   ]
  },
  {
   "cell_type": "markdown",
   "metadata": {},
   "source": [
    "# Standard Errors of Regression Coefficients"
   ]
  },
  {
   "cell_type": "code",
   "execution_count": 19,
   "metadata": {},
   "outputs": [],
   "source": [
    "from typing import Tuple\n",
    "import datetime"
   ]
  },
  {
   "cell_type": "code",
   "execution_count": 53,
   "metadata": {},
   "outputs": [],
   "source": [
    "def estimate_sample_beta(pairs: List[Tuple[Vector, float]]):\n",
    "    x_sample = [x for x, _ in pairs]\n",
    "    y_sample = [y for _, y in pairs]\n",
    "    beta = least_squares_fit(x_sample, y_sample,5000, 25)\n",
    "    print('Bootstrap sample', beta)\n",
    "    return beta"
   ]
  },
  {
   "cell_type": "code",
   "execution_count": 54,
   "metadata": {
    "tags": []
   },
   "outputs": [
    {
     "name": "stderr",
     "output_type": "stream",
     "text": [
      "least squares fit:   0%|          | 0/25 [00:00&lt;?, ?it/s]\n",
      "least squares fit:   0%|          | 0/25 [00:00&lt;?, ?it/s]\n",
      "least squares fit:   0%|          | 0/25 [00:00&lt;?, ?it/s]\n",
      "least squares fit:   0%|          | 0/25 [00:00&lt;?, ?it/s]\n",
      "least squares fit:   0%|          | 0/25 [00:00&lt;?, ?it/s]\n",
      "least squares fit:   0%|          | 0/25 [00:00&lt;?, ?it/s]\n",
      "least squares fit:   0%|          | 0/25 [00:00&lt;?, ?it/s]\n",
      "least squares fit:   0%|          | 0/25 [00:00&lt;?, ?it/s]\n",
      "least squares fit:   0%|          | 0/25 [00:00&lt;?, ?it/s]\n",
      "least squares fit:   0%|          | 0/25 [00:00&lt;?, ?it/s]\n",
      "least squares fit:   0%|          | 0/25 [00:00&lt;?, ?it/s]\n",
      "least squares fit:   0%|          | 0/25 [00:00&lt;?, ?it/s]\n",
      "Bootstrap sample [301411.8193531761, 1808468.9946731539, 602823.4417549226, 301411.50843791576]\n",
      "Bootstrap sample [331451.93822898593, 3314516.6202682676, 331451.64117596543, 0.16386054567557595]\n",
      "Bootstrap sample [300086.1141704634, 900257.9283294219, 300085.7683560549, 300086.3470821586]\n",
      "Bootstrap sample [158634.84035839527, 1586342.785302945, 1269074.6153709446, 0.13202027544551864]\n",
      "Bootstrap sample [157199.55135666238, 1100390.7348479966, 785993.4580434909, 0.7270999543422898]\n",
      "Bootstrap sample [351396.0856938165, 2811162.5165022113, 702791.3372853674, 0.2487736956630997]\n",
      "Bootstrap sample [346522.8156547575, 2425658.609868624, 0.9276494299222889, 0.5978783972833935]\n",
      "Bootstrap sample [66676.92677504082, 200030.98297496978, 666767.8363162137, 66677.31477399802]\n",
      "Bootstrap sample [80256.48129694283, 642045.3921125871, 722300.8874181744, 0.5627357352457344]\n",
      "Bootstrap sample [164310.228941115, 821549.3000312009, 657239.0789563797, 164310.63340145818]\n",
      "Bootstrap sample [361673.8328000792, 2893387.880846513, 0.6584373031859215, 0.05670849847047077]\n",
      "least squares fit:   0%|          | 0/25 [00:00&lt;?, ?it/s]\n",
      "least squares fit:   0%|          | 0/25 [00:00&lt;?, ?it/s]\n",
      "least squares fit:   0%|          | 0/25 [00:00&lt;?, ?it/s]\n",
      "least squares fit:   0%|          | 0/25 [00:00&lt;?, ?it/s]\n",
      "\n",
      "Bootstrap sample [188928.99405712055, 944644.8665110725, 944645.2973894328, 188929.86487657463]\n",
      "Bootstrap sample [95595.6666362914, 573569.9571800278, 382380.3289888832, 0.015194079976650898]\n",
      "Bootstrap sample [117154.23998869133, 117155.13581147951, 1054388.1415175681, 117155.08948816806]\n",
      "Bootstrap sample [108859.24696013638, 870871.049468183, 979729.6335905362, 0.5264461046781946]\n",
      "least squares fit:   0%|          | 0/25 [00:00&lt;?, ?it/s]\n",
      "least squares fit:   0%|          | 0/25 [00:00&lt;?, ?it/s]\n",
      "least squares fit:   0%|          | 0/25 [00:00&lt;?, ?it/s]\n",
      "least squares fit:   0%|          | 0/25 [00:00&lt;?, ?it/s]\n",
      "least squares fit:   0%|          | 0/25 [00:00&lt;?, ?it/s]\n",
      "least squares fit:   0%|          | 0/25 [00:00&lt;?, ?it/s]\n",
      "least squares fit:   0%|          | 0/25 [00:00&lt;?, ?it/s]\n",
      "least squares fit:   0%|          | 0/25 [00:00&lt;?, ?it/s]\n",
      "least squares fit:   0%|          | 0/25 [00:00&lt;?, ?it/s]\n",
      "least squares fit:   0%|          | 0/25 [00:00&lt;?, ?it/s]\n",
      "least squares fit:   0%|          | 0/25 [00:00&lt;?, ?it/s]\n",
      "least squares fit:   0%|          | 0/25 [00:00&lt;?, ?it/s]\n",
      "least squares fit:   0%|          | 0/25 [00:00&lt;?, ?it/s]\n",
      "least squares fit:   0%|          | 0/25 [00:00&lt;?, ?it/s]\n",
      "least squares fit:   0%|          | 0/25 [00:00&lt;?, ?it/s]\n",
      "least squares fit:   0%|          | 0/25 [00:00&lt;?, ?it/s]\n",
      "least squares fit:   0%|          | 0/25 [00:00&lt;?, ?it/s]\n",
      "least squares fit:   0%|          | 0/25 [00:00&lt;?, ?it/s]\n",
      "least squares fit:   0%|          | 0/25 [00:00&lt;?, ?it/s]\n",
      "least squares fit:   0%|          | 0/25 [00:00&lt;?, ?it/s]\n",
      "least squares fit:   0%|          | 0/25 [00:00&lt;?, ?it/s]\n",
      "least squares fit:   0%|          | 0/25 [00:00&lt;?, ?it/s]\n",
      "least squares fit:   0%|          | 0/25 [00:00&lt;?, ?it/s]\n",
      "least squares fit:   0%|          | 0/25 [00:00&lt;?, ?it/s]Bootstrap sample [243328.5877621253, 3163262.6854070015, 486656.3871292296, 0.05445253002198214]\n",
      "Bootstrap sample [331128.8709969713, 3311286.93556386, 331129.2679953927, 0.40649258397268306]\n",
      "Bootstrap sample [316548.301566664, 1266193.6199595337, 1266192.6994431687, 316548.4930647978]\n",
      "Bootstrap sample [102901.71609406828, 308704.6604561887, 514506.4084380897, 102901.65475012503]\n",
      "Bootstrap sample [118542.87242698166, 1185424.8316419167, 711254.4681607608, 0.11672069485187286]\n",
      "Bootstrap sample [79093.74422894054, 79093.48279370024, 474557.30946199654, 79093.15774176836]\n",
      "Bootstrap sample [298444.2659708007, 596887.4865927842, 0.35674747019982944, 298443.8333997295]\n",
      "Bootstrap sample [283837.5931334696, 1419186.1723861212, 851511.3881009722, 283837.53236441547]\n",
      "Bootstrap sample [249587.58870885265, 2495874.713528691, 2246287.7912400695, 0.2969377804175879]\n",
      "Bootstrap sample [313338.8798091332, 1880031.6255880038, 626677.197185937, 313338.5939148158]\n",
      "Bootstrap sample [183286.0326742555, 366571.07007345365, 733141.5817064116, 183285.48048519396]\n",
      "Bootstrap sample [63056.57223558278, 63057.08370251622, 378338.6034465272, 63056.51626595487]\n",
      "Bootstrap sample [354720.2774946541, 17381276.627235293, 1418880.3690296165, 0.49112342299392553]\n",
      "Bootstrap sample [234534.75078027518, 1172670.2926874007, 1172669.9579550866, 234534.39458792456]\n",
      "Bootstrap sample [122452.15584686982, 367354.9470401569, 734710.4827794522, 122451.68392294124]\n",
      "Bootstrap sample [168429.63281364756, 3031729.5697988733, 1515865.1481022912, 0.2599166437993785]\n",
      "Bootstrap sample [316460.98363887816, 2848149.2755626542, 0.9898185527253263, 0.8967728919284333]\n",
      "Bootstrap sample [101278.44083669578, 202555.52581334868, 405111.0487211608, 101278.49777181141]\n",
      "Bootstrap sample [244200.93836513377, 1709402.1219922625, 732601.4873853591, 0.9800112187909884]\n",
      "Bootstrap sample [243622.18535907313, 974488.6398869014, 243622.2713930078, 243622.59704953124]\n",
      "Bootstrap sample [149478.77343922103, 1494785.9195262187, 1345307.8115701098, 0.970761592943406]\n",
      "Bootstrap sample [57724.83218743623, 173173.92617010055, 288622.6657394106, 57724.88391747103]\n",
      "Bootstrap sample [174785.92889954892, 1398287.078037638, 873929.1996690329, 0.5619138176871181]\n",
      "least squares fit:   0%|          | 0/25 [00:00&lt;?, ?it/s]\n",
      "least squares fit:   0%|          | 0/25 [00:00&lt;?, ?it/s]\n",
      "least squares fit:   0%|          | 0/25 [00:00&lt;?, ?it/s]\n",
      "least squares fit:   0%|          | 0/25 [00:00&lt;?, ?it/s]\n",
      "least squares fit:   0%|          | 0/25 [00:00&lt;?, ?it/s]\n",
      "least squares fit:   0%|          | 0/25 [00:00&lt;?, ?it/s]\n",
      "least squares fit:   0%|          | 0/25 [00:00&lt;?, ?it/s]\n",
      "least squares fit:   0%|          | 0/25 [00:00&lt;?, ?it/s]\n",
      "least squares fit:   0%|          | 0/25 [00:00&lt;?, ?it/s]\n",
      "least squares fit:   0%|          | 0/25 [00:00&lt;?, ?it/s]\n",
      "least squares fit:   0%|          | 0/25 [00:00&lt;?, ?it/s]\n",
      "least squares fit:   0%|          | 0/25 [00:00&lt;?, ?it/s]\n",
      "least squares fit:   0%|          | 0/25 [00:00&lt;?, ?it/s]\n",
      "least squares fit:   0%|          | 0/25 [00:00&lt;?, ?it/s]\n",
      "least squares fit:   0%|          | 0/25 [00:00&lt;?, ?it/s]\n",
      "least squares fit:   0%|          | 0/25 [00:00&lt;?, ?it/s]\n",
      "least squares fit:   0%|          | 0/25 [00:00&lt;?, ?it/s]\n",
      "least squares fit:   0%|          | 0/25 [00:00&lt;?, ?it/s]\n",
      "least squares fit:   0%|          | 0/25 [00:00&lt;?, ?it/s]\n",
      "least squares fit:   0%|          | 0/25 [00:00&lt;?, ?it/s]\n",
      "least squares fit:   0%|          | 0/25 [00:00&lt;?, ?it/s]Bootstrap sample [279933.7774460182, 279933.9763019561, 559866.6868506478, 279933.46645917615]\n",
      "Bootstrap sample [325880.1049878688, 1303517.988190805, 651759.516827266, 325879.8899009768]\n",
      "Bootstrap sample [233882.45404682183, 1871056.39897341, 467764.3178474673, 0.5725913072778319]\n",
      "Bootstrap sample [137022.96802017206, 137022.4555155393, 1233202.5956673578, 137022.6865131672]\n",
      "Bootstrap sample [336830.4178739748, 2020981.9951683318, 1347321.3954739477, 336830.4684914226]\n",
      "Bootstrap sample [199806.98740028028, 599420.646606521, 999033.9616216075, 199807.26163672275]\n",
      "Bootstrap sample [264429.9164844923, 1851008.0212061463, 793289.7826807138, 0.31161245388821945]\n",
      "Bootstrap sample [126091.34661829069, 630453.6349879944, 1134815.1061484881, 126091.34888576501]\n",
      "Bootstrap sample [180256.247715904, 721023.4532091694, 901279.7844334563, 180255.9614031874]\n",
      "Bootstrap sample [122723.46985344352, 122724.15057044999, 1104511.2514659818, 122724.31488840314]\n",
      "Bootstrap sample [61709.259485929324, 370252.41018292424, 431960.84755219176, 0.38608315181669817]\n",
      "Bootstrap sample [227664.91161042362, 2276643.051685558, 1593650.9337827475, 0.8211386942555406]\n",
      "Bootstrap sample [318589.5086820026, 1911532.702636105, 1274355.4441526814, 318589.1940772749]\n",
      "Bootstrap sample [244436.14535379395, 488871.00543746125, 488871.69223800604, 244435.48956686482]\n",
      "Bootstrap sample [87172.04462147671, 435857.9364098223, 784544.3152026769, 87171.58974286102]\n",
      "Bootstrap sample [116499.75105121857, 582496.7023335926, 465996.96999764343, 116499.69865191623]\n",
      "Bootstrap sample [384092.23205758637, 1920459.8243393882, 384091.8421827539, 384092.3582416375]\n",
      "Bootstrap sample [318404.10665473214, 1273613.738712711, 0.3487695536438895, 318403.44373213314]\n",
      "Bootstrap sample [323599.4193827374, 647199.3136046347, 1294396.9792722245, 323599.4802522389]\n",
      "Bootstrap sample [206043.24637066567, 5151074.186551145, 1236258.344123674, 0.6677574092575111]\n",
      "\n",
      "least squares fit:   0%|          | 0/25 [00:00&lt;?, ?it/s]\n",
      "least squares fit:   0%|          | 0/25 [00:00&lt;?, ?it/s]\n",
      "least squares fit:   0%|          | 0/25 [00:00&lt;?, ?it/s]\n",
      "least squares fit:   0%|          | 0/25 [00:00&lt;?, ?it/s]\n",
      "least squares fit:   0%|          | 0/25 [00:00&lt;?, ?it/s]\n",
      "least squares fit:   0%|          | 0/25 [00:00&lt;?, ?it/s]\n",
      "least squares fit:   0%|          | 0/25 [00:00&lt;?, ?it/s]\n",
      "least squares fit:   0%|          | 0/25 [00:00&lt;?, ?it/s]\n",
      "least squares fit:   0%|          | 0/25 [00:00&lt;?, ?it/s]\n",
      "least squares fit:   0%|          | 0/25 [00:00&lt;?, ?it/s]\n",
      "least squares fit:   0%|          | 0/25 [00:00&lt;?, ?it/s]\n",
      "least squares fit:   0%|          | 0/25 [00:00&lt;?, ?it/s]\n",
      "least squares fit:   0%|          | 0/25 [00:00&lt;?, ?it/s]\n",
      "least squares fit:   0%|          | 0/25 [00:00&lt;?, ?it/s]\n",
      "least squares fit:   0%|          | 0/25 [00:00&lt;?, ?it/s]\n",
      "least squares fit:   0%|          | 0/25 [00:00&lt;?, ?it/s]\n",
      "least squares fit:   0%|          | 0/25 [00:00&lt;?, ?it/s]\n",
      "least squares fit:   0%|          | 0/25 [00:00&lt;?, ?it/s]\n",
      "least squares fit:   0%|          | 0/25 [00:00&lt;?, ?it/s]\n",
      "least squares fit:   0%|          | 0/25 [00:00&lt;?, ?it/s]\n",
      "least squares fit:   0%|          | 0/25 [00:00&lt;?, ?it/s]Bootstrap sample [333423.0574374868, 666845.3384641046, 333423.2036029594, 333423.0402989819]\n",
      "Bootstrap sample [320007.9768670412, 320008.1670447388, 640015.2460457296, 320007.6872895752]\n",
      "Bootstrap sample [235821.1696222755, 1886562.834268105, 1179102.621890921, 0.6892957998165263]\n",
      "Bootstrap sample [297546.67812458443, 595091.9234695643, 0.9206413167946322, 297546.0450933828]\n",
      "Bootstrap sample [212290.00195617744, 1910606.1010912783, 1273737.3164563547, 0.7300915696017537]\n",
      "Bootstrap sample [-17093.64317836785, -34188.5959466929, -153849.8546160774, -17094.268255327832]\n",
      "Bootstrap sample [332208.5706729504, 2989876.536041455, 1328834.1067154096, 0.9268484924301201]\n",
      "Bootstrap sample [182536.9223600034, 912683.0837367281, 730146.885143346, 182537.16573138337]\n",
      "Bootstrap sample [379618.6557250447, 3796178.56482644, 379618.84550941596, 0.1363052574041077]\n",
      "Bootstrap sample [179539.65907534078, 897697.6152792415, 718158.0362704061, 179540.2545984777]\n",
      "Bootstrap sample [215904.93969529352, 2806757.6253496916, 1511331.7168560564, 0.5189870453075518]\n",
      "Bootstrap sample [158257.53019266872, 791286.5075504065, 633028.6096624837, 158257.89079474637]\n",
      "Bootstrap sample [83070.28367318072, 664557.7984461726, 830697.0772250919, 0.16399208930070963]\n",
      "Bootstrap sample [223541.72233591735, 223541.9747026253, 1117707.9623858195, 223541.92061668236]\n",
      "Bootstrap sample [223804.1774515341, 2014229.5043496739, 1566622.6258466607, 0.12709608840289632]\n",
      "Bootstrap sample [286796.59945161437, 1720775.1593349439, 1147183.189705382, 286796.32555039384]\n",
      "Bootstrap sample [117058.69415787814, 819408.9997979351, 1053525.7653429743, 0.02376124165913307]\n",
      "Bootstrap sample [247927.64917559692, 2231347.7978110975, 0.19227010606626582, 0.7061822020464316]\n",
      "Bootstrap sample [125979.56288160909, 1259788.1864127056, 1007830.8260160293, 0.02775563990935448]\n",
      "Bootstrap sample [254734.96525768333, 2037877.9137019338, 509469.8098134931, 0.41374192671892907]\n",
      "Bootstrap sample [340353.64755278203, 3403528.660660936, 340353.7373895261, 0.7408741195842984]\n",
      "\n",
      "least squares fit:   0%|          | 0/25 [00:00&lt;?, ?it/s]\n",
      "least squares fit:   0%|          | 0/25 [00:00&lt;?, ?it/s]\n",
      "least squares fit:   0%|          | 0/25 [00:00&lt;?, ?it/s]\n",
      "least squares fit:   0%|          | 0/25 [00:00&lt;?, ?it/s]\n",
      "least squares fit:   0%|          | 0/25 [00:00&lt;?, ?it/s]\n",
      "least squares fit:   0%|          | 0/25 [00:00&lt;?, ?it/s]\n",
      "least squares fit:   0%|          | 0/25 [00:00&lt;?, ?it/s]\n",
      "least squares fit:   0%|          | 0/25 [00:00&lt;?, ?it/s]\n",
      "least squares fit:   0%|          | 0/25 [00:00&lt;?, ?it/s]\n",
      "least squares fit:   0%|          | 0/25 [00:00&lt;?, ?it/s]\n",
      "least squares fit:   0%|          | 0/25 [00:00&lt;?, ?it/s]\n",
      "least squares fit:   0%|          | 0/25 [00:00&lt;?, ?it/s]Bootstrap sample [42928.11007453309, 214638.16993682343, 386348.8104690103, 42927.59316612519]\n",
      "Bootstrap sample [308770.2813165768, 2470162.4389580893, 926310.6854483278, 0.9713786377951588]\n",
      "Bootstrap sample [221550.21535881338, 886197.9181320567, 664647.9785140813, 221549.89424721533]\n",
      "Bootstrap sample [272337.8071781945, 1634023.6899328055, 544675.4050271353, 272337.59757014306]\n",
      "Bootstrap sample [132360.29837484367, 1191237.1247006878, 1191237.559703187, 0.975605092625491]\n",
      "Bootstrap sample [81022.76441282185, 648179.3789186253, 729201.7367484143, 0.2871817964712604]\n",
      "Bootstrap sample [32575.089405856885, 65150.76294450199, 293174.4390199536, 32575.064243220248]\n",
      "Bootstrap sample [282224.45264779753, 1975568.4274477977, 0.01480863992252568, 0.8444363599494376]\n",
      "Bootstrap sample [315686.0430683973, 1262741.1511218313, 1262740.516150151, 315685.6401883007]\n",
      "Bootstrap sample [350155.96128350595, 3151399.7338530556, 0.9042177848663743, 0.4252274408694937]\n",
      "Bootstrap sample [154620.94722092708, 618482.5323532575, 1546205.789651141, 154620.9213544061]\n",
      "Bootstrap sample [226877.10585419557, 1134385.371243924, 907508.2240983435, 226877.91991104567]\n",
      "least squares fit:   0%|          | 0/25 [00:00&lt;?, ?it/s]\n",
      "least squares fit:   0%|          | 0/25 [00:00&lt;?, ?it/s]\n",
      "least squares fit:   0%|          | 0/25 [00:00&lt;?, ?it/s]\n",
      "least squares fit:   0%|          | 0/25 [00:00&lt;?, ?it/s]\n",
      "least squares fit:   0%|          | 0/25 [00:00&lt;?, ?it/s]\n",
      "least squares fit:   0%|          | 0/25 [00:00&lt;?, ?it/s]\n",
      "least squares fit:   0%|          | 0/25 [00:00&lt;?, ?it/s]\n",
      "least squares fit:   0%|          | 0/25 [00:00&lt;?, ?it/s]Bootstrap sample [27337.69514093166, 27337.589027509148, 164022.1263938571, 27337.241983492004]\n",
      "Bootstrap sample [171395.8100808702, 856975.7059630939, 1028371.3443190298, 171395.46091352776]\n",
      "Bootstrap sample [275592.5725080604, 2480329.3632147308, 1102369.3488622436, 0.915525583837032]\n",
      "Bootstrap sample [90407.89966832242, 180814.85563589842, 813665.9568622436, 90407.82015516733]\n",
      "Bootstrap sample [318537.5570314971, 955613.5494387111, 1274150.9442268342, 318538.4778565137]\n",
      "Bootstrap sample [90898.37596289675, 363593.38553038833, 727187.3249834535, 90898.77934512755]\n",
      "Bootstrap sample [310519.4363893559, 2484155.188338174, 0.019306243825087388, 0.07420331982431916]\n",
      "Bootstrap sample [103323.9157813815, 309971.1023794897, 619941.4637855919, 103324.29188916678]\n",
      "\n"
     ]
    }
   ],
   "source": [
    "random.seed(0)\n",
    "bootstrap_betas = bootstrap_statistic(list(zip(inputs, daily_minutes_good)), estimate_sample_beta, 100)"
   ]
  },
  {
   "cell_type": "code",
   "execution_count": 56,
   "metadata": {
    "tags": []
   },
   "outputs": [
    {
     "name": "stdout",
     "output_type": "stream",
     "text": [
      "[99138.1948049879, 1913858.961334884, 467683.94654216483, 124374.57023602404]\n"
     ]
    }
   ],
   "source": [
    "bootstap_standard_errors = [standard_deviation([beta[i] for beta in bootstrap_betas]) for i in range(4)]\n",
    "print(bootstap_standard_errors)"
   ]
  },
  {
   "cell_type": "code",
   "execution_count": null,
   "metadata": {},
   "outputs": [],
   "source": []
  }
 ],
 "metadata": {
  "kernelspec": {
   "display_name": "Python 3.8.5 32-bit ('data-science': pipenv)",
   "language": "python",
   "name": "python38532bitdatasciencepipenv068ffcbeb4194e50aa43c9cde15e24a3"
  },
  "language_info": {
   "codemirror_mode": {
    "name": "ipython",
    "version": 3
   },
   "file_extension": ".py",
   "mimetype": "text/x-python",
   "name": "python",
   "nbconvert_exporter": "python",
   "pygments_lexer": "ipython3",
   "version": "3.8.5"
  }
 },
 "nbformat": 4,
 "nbformat_minor": 2
}
