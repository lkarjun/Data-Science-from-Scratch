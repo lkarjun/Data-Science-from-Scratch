{
 "cells": [
  {
   "cell_type": "code",
   "execution_count": 58,
   "metadata": {},
   "outputs": [],
   "source": [
    "from linearalgebra import dot, Vector\n",
    "from typing import List\n",
    "inputs: List[List[float]] = [[1.,49,4,0],[1,41,9,0],[1,40,8,0],[1,25,6,0],[1,21,1,0],[1,21,0,0],[1,19,3,0],[1,19,0,0],[1,18,9,0],[1,18,8,0],[1,16,4,0],[1,15,3,0],[1,15,0,0],[1,15,2,0],[1,15,7,0],[1,14,0,0],[1,14,1,0],[1,13,1,0],[1,13,7,0],[1,13,4,0],[1,13,2,0],[1,12,5,0],[1,12,0,0],[1,11,9,0],[1,10,9,0],[1,10,1,0],[1,10,1,0],[1,10,7,0],[1,10,9,0],[1,10,1,0],[1,10,6,0],[1,10,6,0],[1,10,8,0],[1,10,10,0],[1,10,6,0],[1,10,0,0],[1,10,5,0],[1,10,3,0],[1,10,4,0],[1,9,9,0],[1,9,9,0],[1,9,0,0],[1,9,0,0],[1,9,6,0],[1,9,10,0],[1,9,8,0],[1,9,5,0],[1,9,2,0],[1,9,9,0],[1,9,10,0],[1,9,7,0],[1,9,2,0],[1,9,0,0],\n",
    "                             [1,9,4,0],[1,9,6,0],[1,9,4,0],[1,9,7,0],[1,8,3,0],[1,8,2,0],[1,8,4,0],[1,8,9,0],[1,8,2,0],[1,8,3,0],[1,8,5,0],[1,8,8,0],[1,8,0,0],[1,8,9,0],[1,8,10,0],[1,8,5,0],[1,8,5,0],[1,7,5,0],[1,7,5,0],[1,7,0,0],[1,7,2,0],[1,7,8,0],[1,7,10,0],[1,7,5,0],[1,7,3,0],[1,7,3,0],[1,7,6,0],[1,7,7,0],[1,7,7,0],[1,7,9,0],[1,7,3,0],[1,7,8,0],[1,6,4,0],[1,6,6,0],[1,6,4,0],[1,6,9,0],[1,6,0,0],[1,6,1,0],[1,6,4,0],[1,6,1,0],[1,6,0,0],[1,6,7,0],[1,6,0,0],[1,6,8,0],[1,6,4,0],[1,6,2,1],[1,6,1,1],[1,6,3,1],[1,6,6,1],[1,6,4,1],[1,6,4,1],[1,6,1,1],[1,6,3,1],[1,6,4,1],[1,5,1,1],[1,5,9,1],[1,5,4,1],\n",
    "                             [1,5,6,1],[1,5,4,1],[1,5,4,1],[1,5,10,1],[1,5,5,1],[1,5,2,1],[1,5,4,1],[1,5,4,1],[1,5,9,1],[1,5,3,1],[1,5,10,1],[1,5,2,1],[1,5,2,1],[1,5,9,1],[1,4,8,1],[1,4,6,1],[1,4,0,1],[1,4,10,1],[1,4,5,1],[1,4,10,1],[1,4,9,1],[1,4,1,1],[1,4,4,1],[1,4,4,1],[1,4,0,1],[1,4,3,1],[1,4,1,1],[1,4,3,1],[1,4,2,1],[1,4,4,1],[1,4,4,1],[1,4,8,1],[1,4,2,1],[1,4,4,1],[1,3,2,1],[1,3,6,1],[1,3,4,1],[1,3,7,1],[1,3,4,1],[1,3,1,1],[1,3,10,1],[1,3,3,1],[1,3,4,1],[1,3,7,1],[1,3,5,1],[1,3,6,1],[1,3,1,1],[1,3,6,1],[1,3,10,1],[1,3,2,1],[1,3,4,1],[1,3,2,1],[1,3,1,1],[1,3,5,1],[1,2,4,1],[1,2,2,1],[1,2,8,1],\n",
    "                             [1,2,3,1],[1,2,1,1],[1,2,9,1],[1,2,10,1],[1,2,9,1],[1,2,4,1],[1,2,5,1],[1,2,0,1],[1,2,9,1],[1,2,9,1],[1,2,0,1],[1,2,1,1],[1,2,1,1],[1,2,4,1],[1,1,0,1],[1,1,2,1],[1,1,2,1],[1,1,5,1],[1,1,3,1],[1,1,10,1],[1,1,6,1],[1,1,0,1],[1,1,8,1],[1,1,6,1],[1,1,4,1],[1,1,9,1],[1,1,9,1],[1,1,4,1],[1,1,2,1],[1,1,9,1],[1,1,0,1],[1,1,8,1],[1,1,6,1],[1,1,1,1],[1,1,1,1],[1,1,5,1]]\n"
   ]
  },
  {
   "cell_type": "code",
   "execution_count": 59,
   "metadata": {},
   "outputs": [],
   "source": [
    "def predict(x: Vector, beta: Vector) -> float:\n",
    "    '''assumes that the first element of x is 1'''\n",
    "    return dot(x, beta)"
   ]
  },
  {
   "cell_type": "code",
   "execution_count": 60,
   "metadata": {},
   "outputs": [],
   "source": [
    "def error(x: Vector, y: float, beta: Vector) -> float:\n",
    "    return predict(x, beta) -y\n",
    "\n",
    "def squared_error(x: Vector, y: float, beta: Vector) -> float:\n",
    "    return error(x, y, beta) ** 2"
   ]
  },
  {
   "cell_type": "code",
   "execution_count": 61,
   "metadata": {
    "tags": []
   },
   "outputs": [],
   "source": [
    "x = [1, 2, 3]\n",
    "y = 30\n",
    "beta = [4, 4, 4] \n",
    "assert error(x, y, beta) == -6\n",
    "assert squared_error(x, y, beta) == 36"
   ]
  },
  {
   "cell_type": "code",
   "execution_count": 62,
   "metadata": {},
   "outputs": [],
   "source": [
    "def sqerror_gradient(x: Vector, y: float, beta: Vector) -> Vector:\n",
    "    err = error(x, y, beta)\n",
    "    return [2 * err * x_i for x_i in x]\n",
    "\n",
    "assert sqerror_gradient(x, y, beta) == [-12, -24, -36]"
   ]
  },
  {
   "cell_type": "code",
   "execution_count": null,
   "metadata": {},
   "outputs": [],
   "source": []
  },
  {
   "cell_type": "code",
   "execution_count": 63,
   "metadata": {},
   "outputs": [],
   "source": [
    "import random\n",
    "import tqdm\n",
    "from linearalgebra import vector_mean\n",
    "from GradientDescent import gradient_step"
   ]
  },
  {
   "cell_type": "code",
   "execution_count": 64,
   "metadata": {},
   "outputs": [],
   "source": [
    "def least_squares_fit(xs: List[Vector], ys: List[float], learning_rate: float = 0.001, num_steps: int = 1000, batch_size: int = 1) -> Vector:\n",
    "    '''find the beta that minimizes the sum of squared errors assuming the model y = dot(x, beta).'''\n",
    "    # Start with a random guess\n",
    "    guess = [random.random() for _ in xs[0]]\n",
    "    for _ in tqdm.trange(num_steps, desc='least squares fit'):\n",
    "        for start in range(0, len(xs), batch_size):\n",
    "            batch_xs = xs[start: start+batch_size]\n",
    "            batch_ys = ys[start: start+batch_size]\n",
    "\n",
    "            gradient = vector_mean([sqerror_gradient(x, y, guess) for\n",
    "                            x, y in zip(batch_xs, batch_ys)])\n",
    "            guess = gradient_step(guess, gradient, -learning_rate)\n",
    "            return guess"
   ]
  },
  {
   "cell_type": "markdown",
   "metadata": {},
   "source": [
    "# Goodness of Fit"
   ]
  },
  {
   "cell_type": "code",
   "execution_count": 65,
   "metadata": {
    "tags": []
   },
   "outputs": [],
   "source": [
    "from stati import daily_minutes_good"
   ]
  },
  {
   "cell_type": "code",
   "execution_count": 66,
   "metadata": {},
   "outputs": [],
   "source": [
    "def multiple_r_squared(xs: List[Vector], ys: Vector, beta: Vector) -> float:\n",
    "    sum_of_squared_errors = sum(error(x, y, beta) ** 2 for x, y in zip(xs, ys))\n",
    "    return 1.0 - sum_of_squared_errors/total_sum_of_squares(ys)"
   ]
  },
  {
   "cell_type": "markdown",
   "metadata": {},
   "source": [
    "# Digression: The Bootstrap"
   ]
  },
  {
   "cell_type": "code",
   "execution_count": 67,
   "metadata": {},
   "outputs": [],
   "source": [
    "from typing import TypeVar, Callable\n",
    "from stati import median\n",
    "import numpy as np"
   ]
  },
  {
   "cell_type": "code",
   "execution_count": 68,
   "metadata": {},
   "outputs": [],
   "source": [
    "X = TypeVar('X')\n",
    "Stat = TypeVar('Stat')\n",
    "\n",
    "def bootstrap_sample(data: List[X]) -> List[X]:\n",
    "    '''randomly samples len(data) elements with replacement'''\n",
    "    return [random.choice(data) for _ in data]\n",
    "\n",
    "def bootstrap_statistic(data: List[X], stats_fn: Callable[[List[X]],\n",
    "                        Stat], num_samples: int) -> List[Stat]:\n",
    "                        '''evaluates stats_fn on num_samples bootstrap samples from data'''\n",
    "                        return [stats_fn(bootstrap_sample(data)) for _ in range(num_samples)]"
   ]
  },
  {
   "cell_type": "code",
   "execution_count": 69,
   "metadata": {},
   "outputs": [],
   "source": [
    "close_to_100 = [99.5 + random.random() for _ in range(101)]\n",
    "far_from_100 = ([99.5 + random.random()] + [random.random() for _ in range(50)]+[200 + random.random() for _ in range(50)])"
   ]
  },
  {
   "cell_type": "code",
   "execution_count": 70,
   "metadata": {},
   "outputs": [
    {
     "name": "stdout",
     "output_type": "stream",
     "text": [
      "Median of median_close 100.08980118353116\n",
      "Median of median_far 99.72046053686783\n"
     ]
    }
   ],
   "source": [
    "from stati import median, standard_deviation\n",
    "\n",
    "print('Median of median_close', median(close_to_100))\n",
    "print('Median of median_far', median(far_from_100))"
   ]
  },
  {
   "cell_type": "code",
   "execution_count": 71,
   "metadata": {},
   "outputs": [
    {
     "name": "stdout",
     "output_type": "stream",
     "text": [
      "Printing median of close_to_100 [100.11277317986861, 100.06751074062068, 100.08761706417543, 100.08980118353116, 100.07565101416489]\n",
      "\n",
      "Printting median of far_from_100 [200.0467796859568, 99.72046053686783, 200.0467796859568, 99.72046053686783, 99.72046053686783]\n"
     ]
    }
   ],
   "source": [
    "median_close = bootstrap_statistic(close_to_100, median, 100)\n",
    "median_far = bootstrap_statistic(far_from_100, median, 100)\n",
    "print('Printing median of close_to_100', median_close[:5])\n",
    "print()\n",
    "print('Printting median of far_from_100', median_far[:5])"
   ]
  },
  {
   "cell_type": "code",
   "execution_count": 72,
   "metadata": {},
   "outputs": [
    {
     "name": "stdout",
     "output_type": "stream",
     "text": [
      "100.08980118353116\n",
      "99.72046053686783\n"
     ]
    }
   ],
   "source": [
    "print(median(median_close))\n",
    "print(median(median_far))"
   ]
  },
  {
   "cell_type": "code",
   "execution_count": 73,
   "metadata": {},
   "outputs": [],
   "source": [
    "import matplotlib.pyplot as plt\n",
    "from collections import Counter\n",
    "\n",
    "count = Counter(median_close)\n",
    "keys = [round(i, 3) for i in count.keys()]\n",
    "zeros = [0 for _ in keys]\n",
    "count_median_far = Counter(median_far)\n",
    "key_median_far = [round(i, 1) for i in count_median_far.keys()]"
   ]
  },
  {
   "cell_type": "code",
   "execution_count": 74,
   "metadata": {},
   "outputs": [
    {
     "data": {
      "image/png": "[encoded data removed]",
      "text/plain": [
       "<Figure size 1584x360 with 1 Axes>"
      ]
     },
     "metadata": {
      "needs_background": "light"
     },
     "output_type": "display_data"
    }
   ],
   "source": [
    "plt.figure(figsize=(22,5))\n",
    "plt.bar(range(len(count)),count.values())\n",
    "plt.plot(count.values(), color='red')\n",
    "plt.title(\"Median_close count\")\n",
    "plt.ylabel(\"# Of times\")\n",
    "plt.xticks(range(len(count)), keys)\n",
    "plt.show()"
   ]
  },
  {
   "cell_type": "code",
   "execution_count": 75,
   "metadata": {},
   "outputs": [
    {
     "data": {
      "image/png": "[encoded data removed]",
      "text/plain": [
       "<Figure size 432x288 with 1 Axes>"
      ]
     },
     "metadata": {
      "needs_background": "light"
     },
     "output_type": "display_data"
    }
   ],
   "source": [
    "plt.plot(count.values())\n",
    "plt.plot(count_median_far.values());"
   ]
  },
  {
   "cell_type": "code",
   "execution_count": 76,
   "metadata": {
    "scrolled": true
   },
   "outputs": [
    {
     "data": {
      "image/png": "[encoded data removed]",
      "text/plain": [
       "<Figure size 1080x360 with 1 Axes>"
      ]
     },
     "metadata": {
      "needs_background": "light"
     },
     "output_type": "display_data"
    }
   ],
   "source": [
    "plt.figure(figsize=(15,5))\n",
    "plt.bar(range(len(count_median_far)), count_median_far.values())\n",
    "plt.plot(count_median_far.values(), color='red')\n",
    "plt.title(\"Median_far count\")\n",
    "plt.ylabel(\"# Of times\")\n",
    "plt.xticks(range(len(count_median_far)), key_median_far)\n",
    "plt.show()"
   ]
  },
  {
   "cell_type": "code",
   "execution_count": 77,
   "metadata": {},
   "outputs": [
    {
     "name": "stdout",
     "output_type": "stream",
     "text": [
      "SD of close_100 0.2681667535372883\n",
      "SD of median_close 0.028832812995301355\n",
      "\n",
      "SD of far_from_100 99.98963225091724\n",
      "SD of median_far 94.4214229181966\n"
     ]
    }
   ],
   "source": [
    "print('SD of close_100', standard_deviation(close_to_100))\n",
    "print('SD of median_close',standard_deviation(median_close))\n",
    "print()\n",
    "print('SD of far_from_100', standard_deviation(far_from_100))\n",
    "print('SD of median_far',standard_deviation(median_far))"
   ]
  },
  {
   "cell_type": "markdown",
   "metadata": {},
   "source": [
    "# Standard Errors of Regression Coefficients"
   ]
  },
  {
   "cell_type": "code",
   "execution_count": 78,
   "metadata": {},
   "outputs": [],
   "source": [
    "from typing import Tuple\n",
    "import datetime"
   ]
  },
  {
   "cell_type": "code",
   "execution_count": 79,
   "metadata": {},
   "outputs": [],
   "source": [
    "def estimate_sample_beta(pairs: List[Tuple[Vector, float]]):\n",
    "    x_sample = [x for x, _ in pairs]\n",
    "    y_sample = [y for _, y in pairs]\n",
    "    beta = least_squares_fit(x_sample, y_sample,5000, 25)\n",
    "#     print('Bootstrap sample', beta);\n",
    "    return beta"
   ]
  },
  {
   "cell_type": "code",
   "execution_count": 80,
   "metadata": {
    "tags": []
   },
   "outputs": [
    {
     "name": "stderr",
     "output_type": "stream",
     "text": [
      "least squares fit:   0%|                                                                        | 0/25 [00:00<?, ?it/s]\n",
      "least squares fit:   0%|                                                                        | 0/25 [00:00<?, ?it/s]\n",
      "least squares fit:   0%|                                                                        | 0/25 [00:00<?, ?it/s]\n",
      "least squares fit:   0%|                                                                        | 0/25 [00:00<?, ?it/s]\n",
      "least squares fit:   0%|                                                                        | 0/25 [00:00<?, ?it/s]\n",
      "least squares fit:   0%|                                                                        | 0/25 [00:00<?, ?it/s]\n",
      "least squares fit:   0%|                                                                        | 0/25 [00:00<?, ?it/s]\n",
      "least squares fit:   0%|                                                                        | 0/25 [00:00<?, ?it/s]\n",
      "least squares fit:   0%|                                                                        | 0/25 [00:00<?, ?it/s]\n",
      "least squares fit:   0%|                                                                        | 0/25 [00:00<?, ?it/s]\n",
      "least squares fit:   0%|                                                                        | 0/25 [00:00<?, ?it/s]\n",
      "least squares fit:   0%|                                                                        | 0/25 [00:00<?, ?it/s]\n",
      "least squares fit:   0%|                                                                        | 0/25 [00:00<?, ?it/s]\n",
      "least squares fit:   0%|                                                                        | 0/25 [00:00<?, ?it/s]\n",
      "least squares fit:   0%|                                                                        | 0/25 [00:00<?, ?it/s]\n",
      "least squares fit:   0%|                                                                        | 0/25 [00:00<?, ?it/s]\n",
      "least squares fit:   0%|                                                                        | 0/25 [00:00<?, ?it/s]\n",
      "least squares fit:   0%|                                                                        | 0/25 [00:00<?, ?it/s]\n",
      "least squares fit:   0%|                                                                        | 0/25 [00:00<?, ?it/s]\n",
      "least squares fit:   0%|                                                                        | 0/25 [00:00<?, ?it/s]\n",
      "least squares fit:   0%|                                                                        | 0/25 [00:00<?, ?it/s]\n",
      "least squares fit:   0%|                                                                        | 0/25 [00:00<?, ?it/s]\n",
      "least squares fit:   0%|                                                                        | 0/25 [00:00<?, ?it/s]\n",
      "least squares fit:   0%|                                                                        | 0/25 [00:00<?, ?it/s]\n",
      "least squares fit:   0%|                                                                        | 0/25 [00:00<?, ?it/s]\n",
      "least squares fit:   0%|                                                                        | 0/25 [00:00<?, ?it/s]\n",
      "least squares fit:   0%|                                                                        | 0/25 [00:00<?, ?it/s]\n",
      "least squares fit:   0%|                                                                        | 0/25 [00:00<?, ?it/s]\n",
      "least squares fit:   0%|                                                                        | 0/25 [00:00<?, ?it/s]\n",
      "least squares fit:   0%|                                                                        | 0/25 [00:00<?, ?it/s]\n",
      "least squares fit:   0%|                                                                        | 0/25 [00:00<?, ?it/s]\n",
      "least squares fit:   0%|                                                                        | 0/25 [00:00<?, ?it/s]\n",
      "least squares fit:   0%|                                                                        | 0/25 [00:00<?, ?it/s]\n",
      "least squares fit:   0%|                                                                        | 0/25 [00:00<?, ?it/s]\n",
      "least squares fit:   0%|                                                                        | 0/25 [00:00<?, ?it/s]\n",
      "least squares fit:   0%|                                                                        | 0/25 [00:00<?, ?it/s]\n",
      "least squares fit:   0%|                                                                        | 0/25 [00:00<?, ?it/s]\n",
      "least squares fit:   0%|                                                                        | 0/25 [00:00<?, ?it/s]\n",
      "least squares fit:   0%|                                                                        | 0/25 [00:00<?, ?it/s]\n",
      "least squares fit:   0%|                                                                        | 0/25 [00:00<?, ?it/s]\n",
      "least squares fit:   0%|                                                                        | 0/25 [00:00<?, ?it/s]\n",
      "least squares fit:   0%|                                                                        | 0/25 [00:00<?, ?it/s]\n",
      "least squares fit:   0%|                                                                        | 0/25 [00:00<?, ?it/s]\n",
      "least squares fit:   0%|                                                                        | 0/25 [00:00<?, ?it/s]\n",
      "least squares fit:   0%|                                                                        | 0/25 [00:00<?, ?it/s]\n",
      "least squares fit:   0%|                                                                        | 0/25 [00:00<?, ?it/s]\n",
      "least squares fit:   0%|                                                                        | 0/25 [00:00<?, ?it/s]\n",
      "least squares fit:   0%|                                                                        | 0/25 [00:00<?, ?it/s]\n",
      "least squares fit:   0%|                                                                        | 0/25 [00:00<?, ?it/s]\n",
      "least squares fit:   0%|                                                                        | 0/25 [00:00<?, ?it/s]\n",
      "least squares fit:   0%|                                                                        | 0/25 [00:00<?, ?it/s]\n",
      "least squares fit:   0%|                                                                        | 0/25 [00:00<?, ?it/s]\n",
      "least squares fit:   0%|                                                                        | 0/25 [00:00<?, ?it/s]\n",
      "least squares fit:   0%|                                                                        | 0/25 [00:00<?, ?it/s]\n",
      "least squares fit:   0%|                                                                        | 0/25 [00:00<?, ?it/s]\n",
      "least squares fit:   0%|                                                                        | 0/25 [00:00<?, ?it/s]\n",
      "least squares fit:   0%|                                                                        | 0/25 [00:00<?, ?it/s]\n",
      "least squares fit:   0%|                                                                        | 0/25 [00:00<?, ?it/s]\n",
      "least squares fit:   0%|                                                                        | 0/25 [00:00<?, ?it/s]\n",
      "least squares fit:   0%|                                                                        | 0/25 [00:00<?, ?it/s]\n",
      "least squares fit:   0%|                                                                        | 0/25 [00:00<?, ?it/s]\n",
      "least squares fit:   0%|                                                                        | 0/25 [00:00<?, ?it/s]\n",
      "least squares fit:   0%|                                                                        | 0/25 [00:00<?, ?it/s]\n",
      "least squares fit:   0%|                                                                        | 0/25 [00:00<?, ?it/s]\n",
      "least squares fit:   0%|                                                                        | 0/25 [00:00<?, ?it/s]\n",
      "least squares fit:   0%|                                                                        | 0/25 [00:00<?, ?it/s]\n",
      "least squares fit:   0%|                                                                        | 0/25 [00:00<?, ?it/s]\n",
      "least squares fit:   0%|                                                                        | 0/25 [00:00<?, ?it/s]\n"
     ]
    },
    {
     "name": "stderr",
     "output_type": "stream",
     "text": [
      "least squares fit:   0%|                                                                        | 0/25 [00:00<?, ?it/s]\n",
      "least squares fit:   0%|                                                                        | 0/25 [00:00<?, ?it/s]\n",
      "least squares fit:   0%|                                                                        | 0/25 [00:00<?, ?it/s]\n",
      "least squares fit:   0%|                                                                        | 0/25 [00:00<?, ?it/s]\n",
      "least squares fit:   0%|                                                                        | 0/25 [00:00<?, ?it/s]\n",
      "least squares fit:   0%|                                                                        | 0/25 [00:00<?, ?it/s]\n",
      "least squares fit:   0%|                                                                        | 0/25 [00:00<?, ?it/s]\n",
      "least squares fit:   0%|                                                                        | 0/25 [00:00<?, ?it/s]\n",
      "least squares fit:   0%|                                                                        | 0/25 [00:00<?, ?it/s]\n",
      "least squares fit:   0%|                                                                        | 0/25 [00:00<?, ?it/s]\n",
      "least squares fit:   0%|                                                                        | 0/25 [00:00<?, ?it/s]\n",
      "least squares fit:   0%|                                                                        | 0/25 [00:00<?, ?it/s]\n",
      "least squares fit:   0%|                                                                        | 0/25 [00:00<?, ?it/s]\n",
      "least squares fit:   0%|                                                                        | 0/25 [00:00<?, ?it/s]\n",
      "least squares fit:   0%|                                                                        | 0/25 [00:00<?, ?it/s]\n",
      "least squares fit:   0%|                                                                        | 0/25 [00:00<?, ?it/s]\n",
      "least squares fit:   0%|                                                                        | 0/25 [00:00<?, ?it/s]\n",
      "least squares fit:   0%|                                                                        | 0/25 [00:00<?, ?it/s]\n",
      "least squares fit:   0%|                                                                        | 0/25 [00:00<?, ?it/s]\n",
      "least squares fit:   0%|                                                                        | 0/25 [00:00<?, ?it/s]\n",
      "least squares fit:   0%|                                                                        | 0/25 [00:00<?, ?it/s]\n",
      "least squares fit:   0%|                                                                        | 0/25 [00:00<?, ?it/s]\n",
      "least squares fit:   0%|                                                                        | 0/25 [00:00<?, ?it/s]\n",
      "least squares fit:   0%|                                                                        | 0/25 [00:00<?, ?it/s]\n",
      "least squares fit:   0%|                                                                        | 0/25 [00:00<?, ?it/s]\n",
      "least squares fit:   0%|                                                                        | 0/25 [00:00<?, ?it/s]\n",
      "least squares fit:   0%|                                                                        | 0/25 [00:00<?, ?it/s]\n",
      "least squares fit:   0%|                                                                        | 0/25 [00:00<?, ?it/s]\n",
      "least squares fit:   0%|                                                                        | 0/25 [00:00<?, ?it/s]\n",
      "least squares fit:   0%|                                                                        | 0/25 [00:00<?, ?it/s]\n",
      "least squares fit:   0%|                                                                        | 0/25 [00:00<?, ?it/s]\n",
      "least squares fit:   0%|                                                                        | 0/25 [00:00<?, ?it/s]\n"
     ]
    }
   ],
   "source": [
    "random.seed(0)\n",
    "bootstrap_betas = bootstrap_statistic(list(zip(inputs, daily_minutes_good)), estimate_sample_beta, 100);"
   ]
  },
  {
   "cell_type": "code",
   "execution_count": 81,
   "metadata": {
    "tags": []
   },
   "outputs": [
    {
     "name": "stdout",
     "output_type": "stream",
     "text": [
      "[99138.1948049879, 1913858.961334884, 467683.94654216483, 124374.57023602404]\n"
     ]
    }
   ],
   "source": [
    "bootstap_standard_errors = [standard_deviation([beta[i] for beta in bootstrap_betas]) for i in range(4)]\n",
    "print(bootstap_standard_errors)"
   ]
  },
  {
   "cell_type": "code",
   "execution_count": 82,
   "metadata": {},
   "outputs": [],
   "source": [
    "# Normal Cdf\n",
    "import math\n",
    "\n",
    "def normal_cdf(x: float, mu: float = 0, sigma: float = 1) -> float:\n",
    "    return (1 + math.erf((x - mu) / math.sqrt(2) / sigma)) / 2"
   ]
  },
  {
   "cell_type": "code",
   "execution_count": 83,
   "metadata": {},
   "outputs": [],
   "source": [
    "def p_value(beta_hat_j: float, sigma_hat_j: float) -> float:\n",
    "    if beta_hat_j > 0:\n",
    "        return 2 * (1- normal_cdf(beta_hat_j / sigma_hat_j))\n",
    "    else:\n",
    "        return 2 * normal_cdf(beta_hat_j / sigma_hat_j)"
   ]
  },
  {
   "cell_type": "code",
   "execution_count": 84,
   "metadata": {
    "scrolled": true
   },
   "outputs": [
    {
     "name": "stdout",
     "output_type": "stream",
     "text": [
      "0.0\n",
      "0.0\n",
      "0.4599123452566003\n"
     ]
    }
   ],
   "source": [
    "print(p_value(30.58, 1.27))\n",
    "print(p_value(.972, .103))\n",
    "print(p_value(.923, 1.249))"
   ]
  },
  {
   "cell_type": "markdown",
   "metadata": {},
   "source": [
    "# Regularization"
   ]
  },
  {
   "cell_type": "code",
   "execution_count": 85,
   "metadata": {},
   "outputs": [],
   "source": [
    "from linearalgebra import dot, Vector, add"
   ]
  },
  {
   "cell_type": "code",
   "execution_count": 86,
   "metadata": {},
   "outputs": [],
   "source": [
    "def ridge_penalty(beta: Vector, alpha: float) -> float:\n",
    "    return alpha * dot(beta[1:], beta[1:])\n",
    "\n",
    "def squared_error_ridge(x: Vector, y: float, beta: Vector, alpha: float) -> float:\n",
    "    '''estimate error plus ridge penalty on beta'''\n",
    "    return error(x, y, beta) ** 2 + ridge_penalty(beta, alpha)"
   ]
  },
  {
   "cell_type": "code",
   "execution_count": 87,
   "metadata": {},
   "outputs": [],
   "source": [
    "def ridge_penalty_gradient(beta: Vector, alpha: float) -> Vector:\n",
    "    '''gradient of just the ridge penalty'''\n",
    "    return [0.] + [2 * alpha * beta_j for beta_j in beta[1:]]"
   ]
  },
  {
   "cell_type": "code",
   "execution_count": 88,
   "metadata": {},
   "outputs": [],
   "source": [
    "def sqerror_ridge_gradient(x: Vector, y: float, beta: Vector, alpha: float) -> Vector:\n",
    "    '''the gradient corresponding to the ith squared error term including the ridge penalty'''\n",
    "    return add(sqerror_gradient(x, y, beta), ridge_penalty_gradient(beta, alpha))"
   ]
  },
  {
   "cell_type": "code",
   "execution_count": 89,
   "metadata": {},
   "outputs": [],
   "source": [
    "def least_squares_fit_ridge(xs: List[Vector], ys: List[float], alpha: int, learning_rate: float = 0.001, num_steps: int = 1000, batch_size: int = 1) -> Vector:\n",
    "    '''find the beta that minimizes the sum of squared errors assuming the model y = dot(x, beta).'''\n",
    "    # Start with a random guess\n",
    "    guess = [random.random() for _ in xs[0]]\n",
    "    for _ in tqdm.trange(num_steps, desc='least squares fit'):\n",
    "        for start in range(0, len(xs), batch_size):\n",
    "            batch_xs = xs[start: start+batch_size]\n",
    "            batch_ys = ys[start: start+batch_size]\n",
    "\n",
    "            gradient = vector_mean([sqerror_ridge_gradient(x, y, beta = beta, alpha = alpha) for\n",
    "                            x, y in zip(batch_xs, batch_ys)])\n",
    "            guess = gradient_step(guess, gradient, -learning_rate)\n",
    "            return guess"
   ]
  },
  {
   "cell_type": "code",
   "execution_count": 96,
   "metadata": {},
   "outputs": [],
   "source": [
    "def lasso_penalty(beta, alpha):\n",
    "    return alpha * sum(abs(beta_i) for beta_i in beta[1:])"
   ]
  },
  {
   "cell_type": "code",
   "execution_count": null,
   "metadata": {},
   "outputs": [],
   "source": []
  }
 ],
 "metadata": {
  "kernelspec": {
   "display_name": "Python 3.8.5 32-bit ('data-science': pipenv)",
   "language": "python",
   "name": "python38532bitdatasciencepipenv068ffcbeb4194e50aa43c9cde15e24a3"
  },
  "language_info": {
   "codemirror_mode": {
    "name": "ipython",
    "version": 3
   },
   "file_extension": ".py",
   "mimetype": "text/x-python",
   "name": "python",
   "nbconvert_exporter": "python",
   "pygments_lexer": "ipython3",
   "version": "3.8.5"
  }
 },
 "nbformat": 4,
 "nbformat_minor": 2
}
