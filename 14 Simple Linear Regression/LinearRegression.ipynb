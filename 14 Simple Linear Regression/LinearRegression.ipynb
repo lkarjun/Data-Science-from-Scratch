{
  "nbformat": 4,
  "nbformat_minor": 0,
  "metadata": {
    "language_info": {
      "codemirror_mode": {
        "name": "ipython",
        "version": 3
      },
      "file_extension": ".py",
      "mimetype": "text/x-python",
      "name": "python",
      "nbconvert_exporter": "python",
      "pygments_lexer": "ipython3",
      "version": "3.8.5-final"
    },
    "orig_nbformat": 2,
    "kernelspec": {
      "name": "Python 3.8.5 32-bit ('data-science': pipenv)",
      "display_name": "Python 3.8.5 32-bit ('data-science': pipenv)",
      "metadata": {
        "interpreter": {
          "hash": "9ca7c1a4692349285564319c9a70eca76febac1ea81353f7bffc0810cb54cd0e"
        }
      }
    },
    "colab": {
      "name": "LinearRegression.ipynb",
      "provenance": [],
      "include_colab_link": true
    }
  },
  "cells": [
    {
      "cell_type": "markdown",
      "metadata": {
        "id": "view-in-github",
        "colab_type": "text"
      },
      "source": [
        "<a href=\"https://colab.research.google.com/github/lkarjun/Data-Science-from-Scratch/blob/master/14%20Simple%20Linear%20Regression/LinearRegression.ipynb\" target=\"_parent\"><img src=\"https://colab.research.google.com/assets/colab-badge.svg\" alt=\"Open In Colab\"/></a>"
      ]
    },
    {
      "cell_type": "markdown",
      "metadata": {
        "id": "0K0g955k3hkn"
      },
      "source": [
        "# Simple Linear Regression"
      ]
    },
    {
      "cell_type": "code",
      "metadata": {
        "id": "eP-OihQY3hkp"
      },
      "source": [
        "def predict(alpha: float, beta: float, x_i: float) -> float:\n",
        "    return beta * x_i + alpha"
      ],
      "execution_count": 3,
      "outputs": []
    },
    {
      "cell_type": "code",
      "metadata": {
        "id": "eggOcu533hku"
      },
      "source": [
        "def error(alpha: float, beta: float, x_i: float, y_i: float) -> float:\n",
        "    '''the error from predicting beta * x_i + alpha\n",
        "    when the actual value is y_i\n",
        "    '''\n",
        "    pred = predict(alpha, beta, x_i) - y_i\n",
        "    return pred"
      ],
      "execution_count": 4,
      "outputs": []
    },
    {
      "cell_type": "code",
      "metadata": {
        "id": "YSmxwQGa3hkx"
      },
      "source": [
        "from linearalgebra import Vector\n",
        "from typing import Tuple\n",
        "from stati import correlation, standard_deviation, mean"
      ],
      "execution_count": 5,
      "outputs": []
    },
    {
      "cell_type": "code",
      "metadata": {
        "id": "eT5vga7a3hk1"
      },
      "source": [
        "def sum_of_sqerrors(alpha: float, beta: float, x: Vector, y: Vector) -> float:\n",
        "    return sum(error(alpha, beta, x_i, y_i) ** 2\n",
        "                for x_i, y_i in zip(x, y))"
      ],
      "execution_count": 6,
      "outputs": []
    },
    {
      "cell_type": "code",
      "metadata": {
        "id": "GLdlsjZE3hk8"
      },
      "source": [
        "def least_squares_fit(x: Vector, y: Vector) -> Tuple[float, float]:\n",
        "    '''Given two vector x and y,\n",
        "    find the least-square values of alpha and beta'''\n",
        "    beta = correlation(x, y) * standard_deviation(y) / standard_deviation(x)\n",
        "    alpha = mean(y) - beta * mean(x)\n",
        "    return alpha, beta"
      ],
      "execution_count": 7,
      "outputs": []
    },
    {
      "cell_type": "code",
      "metadata": {
        "tags": [],
        "id": "WmDoCwpe3hk_"
      },
      "source": [
        "x = [i for i in range(-100, 110, 10)]\n",
        "y = [3 * i - 5 for i in  x]\n",
        "\n",
        "assert least_squares_fit(x, y) == (-5, 3)"
      ],
      "execution_count": 8,
      "outputs": []
    },
    {
      "cell_type": "code",
      "metadata": {
        "id": "rYWyKk9C3hlD",
        "outputId": "b17c0d2c-3d1b-4a9d-845e-440faff77e4c",
        "colab": {
          "base_uri": "https://localhost:8080/",
          "height": 35
        }
      },
      "source": [
        "age = [1,2,3,4]\n",
        "weight = [14, 21, 28, 35]\n",
        "least_squares_fit(age, weight)"
      ],
      "execution_count": 9,
      "outputs": [
        {
          "output_type": "execute_result",
          "data": {
            "text/plain": [
              "(7.0, 7.0)"
            ]
          },
          "metadata": {
            "tags": []
          },
          "execution_count": 9
        }
      ]
    },
    {
      "cell_type": "code",
      "metadata": {
        "id": "lG9LQd9s3hlL"
      },
      "source": [
        "from stati import num_friends_good, daily_minutes_good\n",
        "from matplotlib import pyplot as plt\n",
        "import numpy as np"
      ],
      "execution_count": 10,
      "outputs": []
    },
    {
      "cell_type": "code",
      "metadata": {
        "tags": [],
        "id": "u6CVVtOA3hlP",
        "outputId": "6244e35f-7a92-4eeb-cfad-e97be61f0c0b",
        "colab": {
          "base_uri": "https://localhost:8080/",
          "height": 52
        }
      },
      "source": [
        "alpha, beta = least_squares_fit(num_friends_good, daily_minutes_good)\n",
        "print(alpha, beta)\n",
        "m, b = np.polyfit(num_friends_good, daily_minutes_good, 1)\n",
        "print(m, b)\n",
        "num_friends = np.array(num_friends_good, dtype=float)\n",
        "daily_mint = np.array(daily_minutes_good, dtype=float)"
      ],
      "execution_count": 11,
      "outputs": [
        {
          "output_type": "stream",
          "text": [
            "22.94755241346903 0.903865945605865\n",
            "0.903865945605871 22.947552413468994\n"
          ],
          "name": "stdout"
        }
      ]
    },
    {
      "cell_type": "code",
      "metadata": {
        "id": "2sS43Jtd3hlS",
        "outputId": "3563367a-1c81-4ede-bfe4-98f9a16bb20f",
        "colab": {
          "base_uri": "https://localhost:8080/",
          "height": 279
        }
      },
      "source": [
        "plt.scatter(num_friends_good, daily_minutes_good, color='green')\n",
        "plt.plot(num_friends_good, m*num_friends + b,  color='red')\n",
        "plt.xlabel('Number of Friends')\n",
        "plt.ylabel('Daily minutes')\n",
        "plt.show()"
      ],
      "execution_count": 12,
      "outputs": [
        {
          "output_type": "display_data",
          "data": {
            "image/png": "[encoded data removed]",
            "text/plain": [
              "<Figure size 432x288 with 1 Axes>"
            ]
          },
          "metadata": {
            "tags": [],
            "needs_background": "light"
          }
        }
      ]
    },
    {
      "cell_type": "code",
      "metadata": {
        "id": "PWr-SVad3hlV"
      },
      "source": [
        "from stati import de_mean"
      ],
      "execution_count": 13,
      "outputs": []
    },
    {
      "cell_type": "code",
      "metadata": {
        "id": "6HwKH8PY3hlb"
      },
      "source": [
        "def total_sum_of_squares(y: Vector) -> float:\n",
        "    '''the total squared variation of y_i from their mean'''\n",
        "    return sum(v ** 2 for v in de_mean(y))"
      ],
      "execution_count": 14,
      "outputs": []
    },
    {
      "cell_type": "code",
      "metadata": {
        "id": "O5OXdqNL3hlf"
      },
      "source": [
        "def r_squared(alpha: float, beta: float, x: Vector, y: Vector) -> float:\n",
        "    '''the fraction of variation in y captured by the model,\n",
        "    which equals\n",
        "    1 - the fraction of variation in y not captured by the model'''\n",
        "    return 1.0 - (sum_of_sqerrors(alpha, beta, x, y)/total_sum_of_squares(y))"
      ],
      "execution_count": 15,
      "outputs": []
    },
    {
      "cell_type": "code",
      "metadata": {
        "tags": [],
        "id": "KsoSFUyA3hli"
      },
      "source": [
        "rsq = r_squared(alpha, beta, num_friends_good, daily_minutes_good)"
      ],
      "execution_count": 16,
      "outputs": []
    },
    {
      "cell_type": "code",
      "metadata": {
        "tags": [],
        "id": "hyuC8oHW3hlm",
        "outputId": "b398e214-6f6b-4eac-d2f9-0160b3df1aac",
        "colab": {
          "base_uri": "https://localhost:8080/",
          "height": 35
        }
      },
      "source": [
        "print(rsq)"
      ],
      "execution_count": 17,
      "outputs": [
        {
          "output_type": "stream",
          "text": [
            "0.3291078377836305\n"
          ],
          "name": "stdout"
        }
      ]
    },
    {
      "cell_type": "markdown",
      "metadata": {
        "id": "g2CWyko03hls"
      },
      "source": [
        "# Using Gradient Descent"
      ]
    },
    {
      "cell_type": "code",
      "metadata": {
        "id": "IWnKr7Sm3hlt"
      },
      "source": [
        "import random \n",
        "import tqdm\n",
        "from GradientDescent import gradient_step"
      ],
      "execution_count": 18,
      "outputs": []
    },
    {
      "cell_type": "code",
      "metadata": {
        "tags": [],
        "id": "e5NPoIEh3hlw",
        "outputId": "13f354ee-11bc-4bba-96a2-ebe0946e89e5",
        "colab": {
          "base_uri": "https://localhost:8080/",
          "height": 35
        }
      },
      "source": [
        "num_epochs = 10000\n",
        "random.seed(0)\n",
        "\n",
        "guess = [random.random(), random.random()]\n",
        "learning_rate = 1e-6\n",
        "with tqdm.trange(num_epochs) as t:\n",
        "    for _ in t:\n",
        "        alpha, beta = guess\n",
        "        # print('alpha = ', alpha, 'beta = ', beta)\n",
        "        # partial derivative of loss with respect to alpha \n",
        "        grad_a = sum(2 * error(alpha, beta, x_i, y_i)\n",
        "                    for x_i, y_i in zip(num_friends_good, daily_minutes_good))\n",
        "\n",
        "        # partial derivative of loss with respect to beta\n",
        "        grad_b = sum(2*error(alpha, beta, x_i, y_i) * x_i\n",
        "                    for x_i, y_i in zip(num_friends_good, daily_minutes_good)) \n",
        "\n",
        "        \n",
        "        # print('grad_a =',grad_a, 'grad_b = ',grad_b)\n",
        "        # print('__________________________')\n",
        "        # break\n",
        "        # compute loss to stick in the tqdm description\n",
        "        loss = sum_of_sqerrors(alpha, beta, num_friends_good,\n",
        "                            daily_minutes_good)\n",
        "        t.set_description(f'loss: {loss:.3f}')\n",
        "        #finally, update the guess\n",
        "\n",
        "        guess = gradient_step(guess, [grad_a, grad_b], -learning_rate)"
      ],
      "execution_count": 23,
      "outputs": [
        {
          "output_type": "stream",
          "text": [
            "loss: 14348.087: 100%|██████████| 10000/10000 [00:16<00:00, 611.06it/s]\n"
          ],
          "name": "stderr"
        }
      ]
    },
    {
      "cell_type": "code",
      "metadata": {
        "id": "elI6rme64KKN",
        "outputId": "72b872d4-27c7-45d0-87f1-be8e24f191bd",
        "colab": {
          "base_uri": "https://localhost:8080/",
          "height": 35
        }
      },
      "source": [
        "alpha, beta = guess\n",
        "print(alpha, beta)"
      ],
      "execution_count": 26,
      "outputs": [
        {
          "output_type": "stream",
          "text": [
            "19.406454128793584 1.187433471756056\n"
          ],
          "name": "stdout"
        }
      ]
    },
    {
      "cell_type": "code",
      "metadata": {
        "id": "-pnXnPN64h5a"
      },
      "source": [
        ""
      ],
      "execution_count": null,
      "outputs": []
    }
  ]
}