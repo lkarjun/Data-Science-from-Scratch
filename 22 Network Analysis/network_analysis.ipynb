{
 "metadata": {
  "language_info": {
   "codemirror_mode": {
    "name": "ipython",
    "version": 3
   },
   "file_extension": ".py",
   "mimetype": "text/x-python",
   "name": "python",
   "nbconvert_exporter": "python",
   "pygments_lexer": "ipython3",
   "version": "3.8.5-final"
  },
  "orig_nbformat": 2,
  "kernelspec": {
   "name": "python3",
   "display_name": "Python 3",
   "language": "python"
  }
 },
 "nbformat": 4,
 "nbformat_minor": 2,
 "cells": [
  {
   "source": [
    "# Network Analysis"
   ],
   "cell_type": "markdown",
   "metadata": {}
  },
  {
   "cell_type": "code",
   "execution_count": 3,
   "metadata": {},
   "outputs": [],
   "source": [
    "from typing import NamedTuple\n",
    "\n",
    "class User(NamedTuple):\n",
    "    id: int\n",
    "    name: str"
   ]
  },
  {
   "cell_type": "code",
   "execution_count": 9,
   "metadata": {},
   "outputs": [],
   "source": [
    "users = [User(0, \"Hero\"), User(1, \"Dunn\"), User(2, \"Sue\"),\n",
    "         User(3, \"Chi\"), User(4, \"Thor\"), User(5, \"Clive\"),\n",
    "         User(6, \"Hicks\"), User(7, \"Devin\"), User(8, \"Kate\"),\n",
    "         User(9, \"Klein\")]"
   ]
  },
  {
   "cell_type": "code",
   "execution_count": 10,
   "metadata": {},
   "outputs": [],
   "source": [
    "friends_pairs = [(0, 1), (0, 2), (1, 2), (1, 3), (2, 3),\n",
    "                 (3, 4), (4, 5), (5, 6), (5, 7), (6, 8),\n",
    "                 (7, 8), (8, 9)]"
   ]
  },
  {
   "cell_type": "code",
   "execution_count": 11,
   "metadata": {},
   "outputs": [],
   "source": [
    "from typing import Dict, List"
   ]
  },
  {
   "cell_type": "code",
   "execution_count": 12,
   "metadata": {},
   "outputs": [],
   "source": [
    "Friendships = Dict[int, List[int]]\n",
    "\n",
    "Friendships: Friendships = {user.id: [] for user in users}"
   ]
  },
  {
   "cell_type": "code",
   "execution_count": 14,
   "metadata": {},
   "outputs": [],
   "source": [
    "for i, j in friends_pairs:\n",
    "    Friendships[i].append(j)\n",
    "    Friendships[j].append(i)"
   ]
  },
  {
   "cell_type": "code",
   "execution_count": null,
   "metadata": {},
   "outputs": [],
   "source": []
  }
 ]
}