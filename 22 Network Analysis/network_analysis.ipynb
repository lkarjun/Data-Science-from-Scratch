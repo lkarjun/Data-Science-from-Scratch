{
 "metadata": {
  "language_info": {
   "codemirror_mode": {
    "name": "ipython",
    "version": 3
   },
   "file_extension": ".py",
   "mimetype": "text/x-python",
   "name": "python",
   "nbconvert_exporter": "python",
   "pygments_lexer": "ipython3",
   "version": "3.8.5-final"
  },
  "orig_nbformat": 2,
  "kernelspec": {
   "name": "python3",
   "display_name": "Python 3",
   "language": "python"
  }
 },
 "nbformat": 4,
 "nbformat_minor": 2,
 "cells": [
  {
   "source": [
    "# Network Analysis"
   ],
   "cell_type": "markdown",
   "metadata": {}
  },
  {
   "cell_type": "code",
   "execution_count": 33,
   "metadata": {},
   "outputs": [],
   "source": [
    "from typing import NamedTuple\n",
    "\n",
    "class User(NamedTuple):\n",
    "    id: int\n",
    "    name: str"
   ]
  },
  {
   "cell_type": "code",
   "execution_count": 34,
   "metadata": {},
   "outputs": [],
   "source": [
    "users = [User(0, \"Hero\"), User(1, \"Dunn\"), User(2, \"Sue\"),\n",
    "         User(3, \"Chi\"), User(4, \"Thor\"), User(5, \"Clive\"),\n",
    "         User(6, \"Hicks\"), User(7, \"Devin\"), User(8, \"Kate\"),\n",
    "         User(9, \"Klein\")]"
   ]
  },
  {
   "cell_type": "code",
   "execution_count": 61,
   "metadata": {},
   "outputs": [],
   "source": [
    "friends_pairs = [(0, 1), (0, 2), (1, 2), (1, 3), (2, 3),\n",
    "                 (3, 4), (4, 5), (5, 6), (5, 7), (6, 8),\n",
    "                 (7, 8), (8, 9)]"
   ]
  },
  {
   "cell_type": "code",
   "execution_count": 62,
   "metadata": {},
   "outputs": [],
   "source": [
    "from typing import Dict, List"
   ]
  },
  {
   "cell_type": "code",
   "execution_count": 63,
   "metadata": {},
   "outputs": [],
   "source": [
    "Friendships = Dict[int, List[int]]\n",
    "\n",
    "friendships: Friendships = {user.id: [] for user in users}"
   ]
  },
  {
   "cell_type": "code",
   "execution_count": 64,
   "metadata": {},
   "outputs": [
    {
     "output_type": "execute_result",
     "data": {
      "text/plain": [
       "{0: [1, 2],\n",
       " 1: [0, 2, 3],\n",
       " 2: [0, 1, 3],\n",
       " 3: [1, 2, 4],\n",
       " 4: [3, 5],\n",
       " 5: [4, 6, 7],\n",
       " 6: [5, 8],\n",
       " 7: [5, 8],\n",
       " 8: [6, 7, 9],\n",
       " 9: [8]}"
      ]
     },
     "metadata": {},
     "execution_count": 64
    }
   ],
   "source": [
    "for i, j in friends_pairs:\n",
    "    friendships[i].append(j)\n",
    "    friendships[j].append(i)\n",
    "\n",
    "friendships"
   ]
  },
  {
   "cell_type": "code",
   "execution_count": 65,
   "metadata": {},
   "outputs": [],
   "source": [
    "from collections import deque"
   ]
  },
  {
   "cell_type": "code",
   "execution_count": 66,
   "metadata": {},
   "outputs": [],
   "source": [
    "path = List[int]\n",
    "\n",
    "def shortest_paths_from(from_user_id: int, friendships: Friendships)-> Dict[int, List[path]]:\n",
    "    shortest_paths_to: Dict[int, List[path]] = {from_user_id:[[]]}\n",
    "    frontier = deque((from_user_id, friend_id)\n",
    "                     for friend_id in friendships[from_user_id])\n",
    "    \n",
    "    while frontier:\n",
    "        prev_user_id, user_id = frontier.popleft()\n",
    "        paths_to_prev_user = shortest_paths_to[prev_user_id]\n",
    "        new_path_to_user = [path + [user_id] for path in paths_to_prev_user]\n",
    "\n",
    "        old_paths_to_user = shortest_paths_to.get(user_id, [])\n",
    "        old_paths_to_user = shortest_paths_to.get(user_id, [])\n",
    "\n",
    "        if old_paths_to_user:\n",
    "            min_path_length = len(old_paths_to_user[0])\n",
    "        else:\n",
    "            min_path_length = float('inf')\n",
    "        \n",
    "\n",
    "        new_path_to_user = [path\n",
    "                            for path in new_path_to_user\n",
    "                            if len(path) <= min_path_length and path not in old_paths_to_user]\n",
    "        \n",
    "        shortest_paths_to[user_id] = old_paths_to_user + new_path_to_user\n",
    "\n",
    "        frontier.extend((user_id, friend_id) for friend_id in friendships[user_id]\n",
    "        if friend_id not in shortest_paths_to)\n",
    "        return shortest_paths_to"
   ]
  },
  {
   "cell_type": "code",
   "execution_count": 67,
   "metadata": {},
   "outputs": [
    {
     "output_type": "execute_result",
     "data": {
      "text/plain": [
       "{0: {0: [[]], 1: [[1]]},\n",
       " 1: {1: [[]], 0: [[0]]},\n",
       " 2: {2: [[]], 0: [[0]]},\n",
       " 3: {3: [[]], 1: [[1]]},\n",
       " 4: {4: [[]], 3: [[3]]},\n",
       " 5: {5: [[]], 4: [[4]]},\n",
       " 6: {6: [[]], 5: [[5]]},\n",
       " 7: {7: [[]], 5: [[5]]},\n",
       " 8: {8: [[]], 6: [[6]]},\n",
       " 9: {9: [[]], 8: [[8]]}}"
      ]
     },
     "metadata": {},
     "execution_count": 67
    }
   ],
   "source": [
    "shortest_paths = {user.id: shortest_paths_from(user.id, friendships)\n",
    "                    for user in users}\n",
    "\n",
    "shortest_paths"
   ]
  },
  {
   "cell_type": "code",
   "execution_count": 68,
   "metadata": {},
   "outputs": [],
   "source": [
    "betweenness_centrality = {user.id: 0.0 for user in users}"
   ]
  },
  {
   "cell_type": "code",
   "execution_count": 69,
   "metadata": {},
   "outputs": [],
   "source": [
    "for source in users:\n",
    "    for target_id, paths  in shortest_paths[source.id].items():\n",
    "        if source.id < target_id:\n",
    "            num_paths = len(paths)\n",
    "            contrib = 1 / num_paths\n",
    "            for path in paths:\n",
    "                for between_id in path:\n",
    "                    if between_id not in [source.id, target_id]:\n",
    "                        betweenness_centrality[between_id] += contrib"
   ]
  },
  {
   "cell_type": "code",
   "execution_count": 79,
   "metadata": {},
   "outputs": [],
   "source": [
    "def farness(user_id: int) -> float:\n",
    "    '''the sum of the lengths of the shortest paths to each other user'''\n",
    "    return sum(len(path[0]) for paths in shortest_paths[user_id].values())"
   ]
  },
  {
   "cell_type": "code",
   "execution_count": null,
   "metadata": {},
   "outputs": [],
   "source": [
    "closeness_centrality = {user.id: 1 / farness(user.id) for user in users}"
   ]
  },
  {
   "source": [
    "## Matrics Mulitiplication"
   ],
   "cell_type": "markdown",
   "metadata": {}
  },
  {
   "cell_type": "code",
   "execution_count": 81,
   "metadata": {},
   "outputs": [],
   "source": [
    "from linearalgebra import Matrix, make_matrix, shape"
   ]
  },
  {
   "cell_type": "code",
   "execution_count": 82,
   "metadata": {},
   "outputs": [],
   "source": [
    "def matrix_times_matrix(m1: Matrix, m2: Matrix) -> Matrix:\n",
    "    nr1, nc1 = shape(m1)\n",
    "    nr2, nc2 = shape(m2)\n",
    "    assert nc1 == nr2, \" \"\n",
    "    \n",
    "    def entry_fn(i: int, j: int) -> float:\n",
    "        return sum(m1[i][k] * m2[k][j] for k in range(nc1))\n",
    "    \n",
    "    return make_matrix(nr1, nc2, entry_fn)"
   ]
  },
  {
   "cell_type": "code",
   "execution_count": 83,
   "metadata": {},
   "outputs": [],
   "source": [
    "from linearalgebra import Vector, dot"
   ]
  },
  {
   "cell_type": "code",
   "execution_count": 84,
   "metadata": {},
   "outputs": [],
   "source": [
    "def matrix_times_vector(m: Matrix, v: Vector) -> Vector:\n",
    "    nr, nc = shape(m)\n",
    "    n = len(v)\n",
    "\n",
    "    assert nc == n, \" \"\n",
    "\n",
    "    return [dot(row, v) for row in m]"
   ]
  },
  {
   "cell_type": "code",
   "execution_count": 85,
   "metadata": {},
   "outputs": [],
   "source": [
    "from typing import Tuple\n",
    "import random\n",
    "from linearalgebra import magnitude, distance"
   ]
  },
  {
   "cell_type": "code",
   "execution_count": 86,
   "metadata": {},
   "outputs": [],
   "source": [
    "def find_eigenvector(m: Matrix, tolerance: float = .00001) -> Tuple[Vector, float]:\n",
    "\n",
    "    guess =  [random.random() for _ in m]\n",
    "\n",
    "    while True:\n",
    "        result = matrix_times_vector(m, guess)\n",
    "\n",
    "        norm = magnitude(result)\n",
    "\n",
    "        next_guess = [x / norm for x in result]\n",
    "\n",
    "        if distance(guess, next_guess) < tolerance:\n",
    "            return next_guess, norm\n",
    "        guess = next_guess"
   ]
  },
  {
   "source": [
    "## Centrality"
   ],
   "cell_type": "markdown",
   "metadata": {}
  },
  {
   "cell_type": "code",
   "execution_count": 90,
   "metadata": {},
   "outputs": [],
   "source": [
    "def entry_fn(i: int, j: int):\n",
    "    return 1 if (i, j) in friends_pairs or (j, i) in friends_pairs else 0\n"
   ]
  },
  {
   "cell_type": "code",
   "execution_count": 91,
   "metadata": {},
   "outputs": [],
   "source": [
    "n = len(users)"
   ]
  },
  {
   "cell_type": "code",
   "execution_count": 92,
   "metadata": {},
   "outputs": [],
   "source": [
    "adjacency_matrix = make_matrix(n, n, entry_fn)"
   ]
  },
  {
   "cell_type": "code",
   "execution_count": 93,
   "metadata": {},
   "outputs": [],
   "source": [
    "eigen_vector_centralities, _ = find_eigenvector(adjacency_matrix)"
   ]
  },
  {
   "source": [
    "## Directed Graphs and page rank"
   ],
   "cell_type": "markdown",
   "metadata": {}
  },
  {
   "cell_type": "code",
   "execution_count": 97,
   "metadata": {},
   "outputs": [],
   "source": [
    "endorsements = [(0, 1), (1, 0), (0, 2), (2, 0), (1, 2), (2, 1), (1, 3),(2, 3), (3, 4), (5, 4), (5, 6), (7, 5), (6, 8), (8, 7), (8, 9)]"
   ]
  },
  {
   "cell_type": "code",
   "execution_count": 98,
   "metadata": {},
   "outputs": [],
   "source": [
    "from collections import Counter"
   ]
  },
  {
   "cell_type": "code",
   "execution_count": 99,
   "metadata": {},
   "outputs": [],
   "source": [
    "endorsement_counts = Counter(target for source, target in endorsements)"
   ]
  },
  {
   "cell_type": "code",
   "execution_count": null,
   "metadata": {},
   "outputs": [],
   "source": []
  },
  {
   "cell_type": "code",
   "execution_count": 103,
   "metadata": {},
   "outputs": [],
   "source": [
    "import tqdm\n",
    "\n",
    "def page_rank(users: List[User], \n",
    "              endorsements: List[Tuple[int, int]],\n",
    "              damping: float = 0.85,\n",
    "              num_iter: int = 100) -> Dict[int, float]:\n",
    "\n",
    "              outgoing_counts = Counter(target for source, target in endorsements)\n",
    "\n",
    "              num_users = len(users)\n",
    "\n",
    "              pr = {user.id : 1/num_users for user in users}\n",
    "\n",
    "              base_pr = (1-damping) / num_users\n",
    "\n",
    "              for iter in tqdm.trange(num_iter):\n",
    "                  next_pr = {user.id: base_pr for user in users}\n",
    "                  for source, target in endorsements:\n",
    "                      next_pr[target] += damping * pr[source]/outgoing_counts[source]\n",
    "                    \n",
    "                  pr = next_pr\n",
    "\n",
    "                \n",
    "              return pr"
   ]
  },
  {
   "cell_type": "code",
   "execution_count": 104,
   "metadata": {},
   "outputs": [
    {
     "output_type": "stream",
     "name": "stderr",
     "text": [
      "100%|██████████| 100/100 [00:00<00:00, 20055.01it/s]\n"
     ]
    }
   ],
   "source": [
    "pr = page_rank(users, endorsements)"
   ]
  },
  {
   "cell_type": "code",
   "execution_count": 105,
   "metadata": {},
   "outputs": [
    {
     "output_type": "execute_result",
     "data": {
      "text/plain": [
       "0.14250000000000002"
      ]
     },
     "metadata": {},
     "execution_count": 105
    }
   ],
   "source": [
    "pr[4]"
   ]
  },
  {
   "cell_type": "code",
   "execution_count": null,
   "metadata": {},
   "outputs": [],
   "source": []
  }
 ]
}